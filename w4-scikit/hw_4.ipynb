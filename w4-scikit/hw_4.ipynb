{
 "cells": [
  {
   "cell_type": "markdown",
   "metadata": {},
   "source": [
    "# Praca domowa tydzień 4 - część techniczna\n",
    "\n",
    "W pracy domowej będziesz pracować na 3 plikach, które znajdziesz w repo w folderze `data/housing/*`:\n",
    "\n",
    "1. `housing_train.csv` - plik z danymi do treningu\n",
    "2. `housing_validation.csv` - plik na którym dokonasz predykcji\n",
    "3. `housing_example_submission.csv` - która będzie miała taki format\n",
    "\n",
    "Praca danymi podzielona jest na dwie części.\n",
    "\n",
    "## Wytrenuj określony model regresji liniowej\n",
    "\n",
    "W pierwszej części musisz dokładnie podążać za poniższym przepisem.\n",
    "\n",
    "Dokonaj następującego preprocessingu pracując na całym `housing_train.csv`:\n",
    "\n",
    "1. Kolumny które mają powyżej 70% NA zamień po prostu na kolumnę `NA_in_col_*` zgodnie z tym jak pokazałem w prezentacji, **usuwając jednocześnie oryginalną kolumnę** (w prezentacji oryginalna kolumna zostawała).\n",
    "2. Resztę kolumn z brakami uzupełnij **medianą** z danej kolumny.\n",
    "\n",
    "Na takiej ramce danych wytrenuj model regresji liniowej który będzie przewidywać kolumnę `MEDV`.\n",
    "**Korzystając z tego modelu odpowiedz na pytania w formularzu google.**\n",
    "\n",
    "Obserwacja dla jakiej należy podać predykcję poniżej.\n",
    "\n",
    "## Wytrenuj najlepszy model jaki zdołasz\n",
    "\n",
    "Teraz stajesz przed prawdziwym zadaniem MLowym.\n",
    "Korzystając ze zdobytej wiedzy i (wspaniale napisanej) [dokumentacji scikit-learna](https://scikit-learn.org/stable/) zmierzysz się w konkursie MLowym!\n",
    "\n",
    "Korzystając ze zbioru `housing_train.csv` wytrenuj najlepszy model jaki zdołasz zgodnie z metryką **Mean Square Error**, a następnie dokonaj predykcji na `housing_validation.csv`.\n",
    "Predykcję zapisz do pliku tak aby miała format taki sam jak plik `housing_example_submission.csv` (to znaczy na przykład odpowiedni nagłówek, brak indeksu t.j. `s.to_csv(filename, index=False)`).\n",
    "Oczywiście w pliku `housing_validation.csv` nie ma kolumny, `MEDV`, ją mam ja, a Ty masz przewidzieć.\n",
    "\n",
    "Plik który otrzymasz zapisz na dysku i miej przygotowany na następne zajęcia, będzie trzeba go wgrać do aplikacji - sprawdzarki.\n",
    "\n",
    "Za najlepsze rozwiązania przewidziane są następujące nagrody:\n",
    "\n",
    "1. Miejsca 1-2 -> 5pkt dodatkowych punktów ponad limit z prac domowych\n",
    "2. Miejsca 3-4 -> 4pkt dodatkowych punktów ponad limit z prac domowych\n",
    "3. Miejsca 5-6 -> 3pkt dodatkowych punktów ponad limit z prac domowych\n",
    "4. Miejsca 7-8 -> 2pkt dodatkowych punktów ponad limit z prac domowych\n",
    "5. Miejsca 9-10 -> 1pkt dodatkowy punkt ponad limit z prac domowych\n",
    "\n",
    "**Niezależnie od powyższych, dodatkowych nagród, 2 pkt w pracy domowej zostanie przyznany za wgranie swoich predykcji (choćby na podstawie wytrenowanego w części pierwszej modelu liniowego) do sprawdzarki konkursowej.**\n",
    "\n",
    "### Podpowiedzi\n",
    "\n",
    "Gdy będziesz uzupełniać braki medianą, popatrz jak robiłem to w notebooku wykładowym.\n",
    "\n",
    "W części konkursowej możesz eksperymentować zarówno z innym preprocessingiem jak i z innymi modelami.\n",
    "\n",
    "Pamiętaj, że trenowanie na `housing_train.csv` i sprawdzanie na tym samym zbiorze danych performance'u modelu może być bardzo złudne!\n",
    "Prawdopodobnie zechcesz podzielić dataset `housing_train.csv` na train i test (niezależnie od `housing_validation.csv`).\n",
    "Na tych dwóch zbiorach danych wybrać najlepszy model i dopiero wtedy dokonać predykcji na `housing_validation.csv`.\n",
    "Może czujesz, że warto poznać czym jest [kross-walidacja](https://scikit-learn.org/stable/modules/cross_validation.html)?\n",
    "\n",
    "Oprócz modeli z biblioteki `sklearn` możesz również spróbować [xgboost](https://xgboost.readthedocs.io/en/stable/python/python_api.html#module-xgboost.sklearn) oraz [lightgbm](https://lightgbm.readthedocs.io/en/latest/pythonapi/lightgbm.LGBMRegressor.html), powinny zadziałać bez problemu jako drop-in replacement.\n",
    "\n",
    "### Kontekst\n",
    "\n",
    "Na stronach takich jak [kaggle](https://www.kaggle.com/) możesz zmierzyć się w umiejętnościach MLowych.\n",
    "Z reguły tam praca wygląda dokładnie tak samo, trenujesz model na jednych danych i dokonujesz predykcji na innych.\n",
    "\n",
    "## Informacje dodatkowe na temat data strenuous\n",
    "\n",
    "Jest to zmodyfikowany dataset Boston housing, klasyczny do nauki MLa.\n",
    "\n",
    "Informacje na temat kolumn (nie do końca prawdziwe po moich edycjach ;) ):\n",
    "\n",
    "```\n",
    "1. CRIM      per capita crime rate by town\n",
    "2. ZN        proportion of residential land zoned for lots over 25,000 sq.ft.\n",
    "3. INDUS     proportion of non-retail business acres per town\n",
    "4. CHAS      Charles River dummy variable (= 1 if tract bounds \n",
    "        river; 0 otherwise)\n",
    "5. NOX       nitric oxides concentration (parts per 10 million)\n",
    "6. RM        average number of rooms per dwelling\n",
    "7. AGE       proportion of owner-occupied units built prior to 1940\n",
    "8. DIS       weighted distances to five Boston employment centres\n",
    "9. RAD       index of accessibility to radial highways\n",
    "10. TAX      full-value property-tax rate per $10,000\n",
    "11. PTRATIO  pupil-teacher ratio by town\n",
    "12. B        1000(Bk - 0.63)^2 where Bk is the proportion of blacks by town\n",
    "13. LSTAT    % lower status of the population\n",
    "14. MEDV     Median value of owner-occupied homes in $1000's\n",
    "```\n",
    "\n"
   ]
  },
  {
   "cell_type": "markdown",
   "metadata": {},
   "source": [
    "# Rozwiązanie - pierwsze"
   ]
  },
  {
   "cell_type": "code",
   "execution_count": 45,
   "metadata": {},
   "outputs": [],
   "source": [
    "import pandas as pd\n",
    "import numpy as np\n",
    "from sklearn.impute import SimpleImputer\n",
    "from sklearn.linear_model import LinearRegression\n",
    "from sklearn.metrics import mean_squared_error, mean_absolute_error"
   ]
  },
  {
   "cell_type": "code",
   "execution_count": 21,
   "metadata": {},
   "outputs": [],
   "source": [
    "df_train = pd.read_csv(\"./../data/housing/housing_train.csv\")\n",
    "df_test = pd.read_csv(\"./../data/housing/housing_validation.csv\")\n",
    "df_test.drop(columns=['PTRATIO'], inplace=True)"
   ]
  },
  {
   "cell_type": "code",
   "execution_count": 23,
   "metadata": {},
   "outputs": [
    {
     "data": {
      "text/html": [
       "<div>\n",
       "<style scoped>\n",
       "    .dataframe tbody tr th:only-of-type {\n",
       "        vertical-align: middle;\n",
       "    }\n",
       "\n",
       "    .dataframe tbody tr th {\n",
       "        vertical-align: top;\n",
       "    }\n",
       "\n",
       "    .dataframe thead th {\n",
       "        text-align: right;\n",
       "    }\n",
       "</style>\n",
       "<table border=\"1\" class=\"dataframe\">\n",
       "  <thead>\n",
       "    <tr style=\"text-align: right;\">\n",
       "      <th></th>\n",
       "      <th>CRIM</th>\n",
       "      <th>ZN</th>\n",
       "      <th>INDUS</th>\n",
       "      <th>CHAS</th>\n",
       "      <th>NOX</th>\n",
       "      <th>RM</th>\n",
       "      <th>AGE</th>\n",
       "      <th>DIS</th>\n",
       "      <th>RAD</th>\n",
       "      <th>TAX</th>\n",
       "      <th>PTRATIO</th>\n",
       "      <th>B</th>\n",
       "      <th>LSTAT</th>\n",
       "      <th>MEDV</th>\n",
       "    </tr>\n",
       "  </thead>\n",
       "  <tbody>\n",
       "    <tr>\n",
       "      <th>0</th>\n",
       "      <td>0.13960</td>\n",
       "      <td>0.0</td>\n",
       "      <td>8.56</td>\n",
       "      <td>0.0</td>\n",
       "      <td>NaN</td>\n",
       "      <td>6.167</td>\n",
       "      <td>90.0</td>\n",
       "      <td>2.4210</td>\n",
       "      <td>5</td>\n",
       "      <td>384.0</td>\n",
       "      <td>NaN</td>\n",
       "      <td>392.69</td>\n",
       "      <td>NaN</td>\n",
       "      <td>86.066034</td>\n",
       "    </tr>\n",
       "    <tr>\n",
       "      <th>1</th>\n",
       "      <td>0.03510</td>\n",
       "      <td>95.0</td>\n",
       "      <td>2.68</td>\n",
       "      <td>0.0</td>\n",
       "      <td>NaN</td>\n",
       "      <td>7.853</td>\n",
       "      <td>33.2</td>\n",
       "      <td>5.1180</td>\n",
       "      <td>4</td>\n",
       "      <td>224.0</td>\n",
       "      <td>NaN</td>\n",
       "      <td>392.78</td>\n",
       "      <td>NaN</td>\n",
       "      <td>207.700057</td>\n",
       "    </tr>\n",
       "    <tr>\n",
       "      <th>2</th>\n",
       "      <td>15.87440</td>\n",
       "      <td>0.0</td>\n",
       "      <td>18.10</td>\n",
       "      <td>0.0</td>\n",
       "      <td>NaN</td>\n",
       "      <td>6.545</td>\n",
       "      <td>99.1</td>\n",
       "      <td>1.5192</td>\n",
       "      <td>24</td>\n",
       "      <td>666.0</td>\n",
       "      <td>NaN</td>\n",
       "      <td>396.90</td>\n",
       "      <td>21.08</td>\n",
       "      <td>46.689349</td>\n",
       "    </tr>\n",
       "    <tr>\n",
       "      <th>3</th>\n",
       "      <td>0.18337</td>\n",
       "      <td>0.0</td>\n",
       "      <td>27.74</td>\n",
       "      <td>0.0</td>\n",
       "      <td>NaN</td>\n",
       "      <td>5.414</td>\n",
       "      <td>98.3</td>\n",
       "      <td>1.7554</td>\n",
       "      <td>4</td>\n",
       "      <td>711.0</td>\n",
       "      <td>NaN</td>\n",
       "      <td>344.05</td>\n",
       "      <td>23.97</td>\n",
       "      <td>29.980669</td>\n",
       "    </tr>\n",
       "    <tr>\n",
       "      <th>4</th>\n",
       "      <td>0.12816</td>\n",
       "      <td>12.5</td>\n",
       "      <td>6.07</td>\n",
       "      <td>0.0</td>\n",
       "      <td>NaN</td>\n",
       "      <td>5.885</td>\n",
       "      <td>33.0</td>\n",
       "      <td>6.4980</td>\n",
       "      <td>4</td>\n",
       "      <td>345.0</td>\n",
       "      <td>NaN</td>\n",
       "      <td>396.90</td>\n",
       "      <td>NaN</td>\n",
       "      <td>89.461275</td>\n",
       "    </tr>\n",
       "  </tbody>\n",
       "</table>\n",
       "</div>"
      ],
      "text/plain": [
       "       CRIM    ZN  INDUS  CHAS  NOX     RM   AGE     DIS  RAD    TAX  PTRATIO  \\\n",
       "0   0.13960   0.0   8.56   0.0  NaN  6.167  90.0  2.4210    5  384.0      NaN   \n",
       "1   0.03510  95.0   2.68   0.0  NaN  7.853  33.2  5.1180    4  224.0      NaN   \n",
       "2  15.87440   0.0  18.10   0.0  NaN  6.545  99.1  1.5192   24  666.0      NaN   \n",
       "3   0.18337   0.0  27.74   0.0  NaN  5.414  98.3  1.7554    4  711.0      NaN   \n",
       "4   0.12816  12.5   6.07   0.0  NaN  5.885  33.0  6.4980    4  345.0      NaN   \n",
       "\n",
       "        B  LSTAT        MEDV  \n",
       "0  392.69    NaN   86.066034  \n",
       "1  392.78    NaN  207.700057  \n",
       "2  396.90  21.08   46.689349  \n",
       "3  344.05  23.97   29.980669  \n",
       "4  396.90    NaN   89.461275  "
      ]
     },
     "execution_count": 23,
     "metadata": {},
     "output_type": "execute_result"
    }
   ],
   "source": [
    "df_train.head()"
   ]
  },
  {
   "cell_type": "code",
   "execution_count": 24,
   "metadata": {},
   "outputs": [
    {
     "data": {
      "text/html": [
       "<div>\n",
       "<style scoped>\n",
       "    .dataframe tbody tr th:only-of-type {\n",
       "        vertical-align: middle;\n",
       "    }\n",
       "\n",
       "    .dataframe tbody tr th {\n",
       "        vertical-align: top;\n",
       "    }\n",
       "\n",
       "    .dataframe thead th {\n",
       "        text-align: right;\n",
       "    }\n",
       "</style>\n",
       "<table border=\"1\" class=\"dataframe\">\n",
       "  <thead>\n",
       "    <tr style=\"text-align: right;\">\n",
       "      <th></th>\n",
       "      <th>CRIM</th>\n",
       "      <th>ZN</th>\n",
       "      <th>INDUS</th>\n",
       "      <th>CHAS</th>\n",
       "      <th>NOX</th>\n",
       "      <th>RM</th>\n",
       "      <th>AGE</th>\n",
       "      <th>DIS</th>\n",
       "      <th>RAD</th>\n",
       "      <th>TAX</th>\n",
       "      <th>PTRATIO</th>\n",
       "      <th>B</th>\n",
       "      <th>LSTAT</th>\n",
       "      <th>MEDV</th>\n",
       "    </tr>\n",
       "  </thead>\n",
       "  <tbody>\n",
       "    <tr>\n",
       "      <th>count</th>\n",
       "      <td>430.000000</td>\n",
       "      <td>430.000000</td>\n",
       "      <td>430.000000</td>\n",
       "      <td>408.000000</td>\n",
       "      <td>52.000000</td>\n",
       "      <td>430.000000</td>\n",
       "      <td>430.000000</td>\n",
       "      <td>430.000000</td>\n",
       "      <td>430.000000</td>\n",
       "      <td>420.000000</td>\n",
       "      <td>420.000000</td>\n",
       "      <td>430.000000</td>\n",
       "      <td>88.000000</td>\n",
       "      <td>430.000000</td>\n",
       "    </tr>\n",
       "    <tr>\n",
       "      <th>mean</th>\n",
       "      <td>3.694840</td>\n",
       "      <td>11.370930</td>\n",
       "      <td>11.157209</td>\n",
       "      <td>0.073529</td>\n",
       "      <td>0.772442</td>\n",
       "      <td>6.298342</td>\n",
       "      <td>68.916744</td>\n",
       "      <td>3.772554</td>\n",
       "      <td>9.504651</td>\n",
       "      <td>410.959524</td>\n",
       "      <td>18.371429</td>\n",
       "      <td>354.476256</td>\n",
       "      <td>23.902386</td>\n",
       "      <td>97.222903</td>\n",
       "    </tr>\n",
       "    <tr>\n",
       "      <th>std</th>\n",
       "      <td>8.789114</td>\n",
       "      <td>23.197997</td>\n",
       "      <td>6.934849</td>\n",
       "      <td>0.261324</td>\n",
       "      <td>0.065919</td>\n",
       "      <td>0.717532</td>\n",
       "      <td>28.019891</td>\n",
       "      <td>2.131754</td>\n",
       "      <td>8.680752</td>\n",
       "      <td>168.251675</td>\n",
       "      <td>2.214768</td>\n",
       "      <td>93.897035</td>\n",
       "      <td>4.756535</td>\n",
       "      <td>40.155983</td>\n",
       "    </tr>\n",
       "    <tr>\n",
       "      <th>min</th>\n",
       "      <td>0.009060</td>\n",
       "      <td>0.000000</td>\n",
       "      <td>0.740000</td>\n",
       "      <td>0.000000</td>\n",
       "      <td>0.713000</td>\n",
       "      <td>3.561000</td>\n",
       "      <td>2.900000</td>\n",
       "      <td>1.129600</td>\n",
       "      <td>1.000000</td>\n",
       "      <td>188.000000</td>\n",
       "      <td>12.600000</td>\n",
       "      <td>0.320000</td>\n",
       "      <td>17.930000</td>\n",
       "      <td>21.445934</td>\n",
       "    </tr>\n",
       "    <tr>\n",
       "      <th>25%</th>\n",
       "      <td>0.081900</td>\n",
       "      <td>0.000000</td>\n",
       "      <td>5.130000</td>\n",
       "      <td>0.000000</td>\n",
       "      <td>0.713000</td>\n",
       "      <td>5.888250</td>\n",
       "      <td>45.450000</td>\n",
       "      <td>2.063900</td>\n",
       "      <td>4.000000</td>\n",
       "      <td>283.250000</td>\n",
       "      <td>16.900000</td>\n",
       "      <td>374.597500</td>\n",
       "      <td>19.910000</td>\n",
       "      <td>72.899822</td>\n",
       "    </tr>\n",
       "    <tr>\n",
       "      <th>50%</th>\n",
       "      <td>0.274475</td>\n",
       "      <td>0.000000</td>\n",
       "      <td>9.125000</td>\n",
       "      <td>0.000000</td>\n",
       "      <td>0.740000</td>\n",
       "      <td>6.210000</td>\n",
       "      <td>78.200000</td>\n",
       "      <td>3.107300</td>\n",
       "      <td>5.000000</td>\n",
       "      <td>332.000000</td>\n",
       "      <td>18.800000</td>\n",
       "      <td>391.305000</td>\n",
       "      <td>23.255000</td>\n",
       "      <td>91.648354</td>\n",
       "    </tr>\n",
       "    <tr>\n",
       "      <th>75%</th>\n",
       "      <td>3.560263</td>\n",
       "      <td>12.500000</td>\n",
       "      <td>18.100000</td>\n",
       "      <td>0.000000</td>\n",
       "      <td>0.871000</td>\n",
       "      <td>6.630750</td>\n",
       "      <td>93.975000</td>\n",
       "      <td>5.269125</td>\n",
       "      <td>24.000000</td>\n",
       "      <td>666.000000</td>\n",
       "      <td>20.200000</td>\n",
       "      <td>395.935000</td>\n",
       "      <td>26.930000</td>\n",
       "      <td>108.098012</td>\n",
       "    </tr>\n",
       "    <tr>\n",
       "      <th>max</th>\n",
       "      <td>88.976200</td>\n",
       "      <td>100.000000</td>\n",
       "      <td>27.740000</td>\n",
       "      <td>1.000000</td>\n",
       "      <td>0.871000</td>\n",
       "      <td>8.780000</td>\n",
       "      <td>100.000000</td>\n",
       "      <td>12.126500</td>\n",
       "      <td>24.000000</td>\n",
       "      <td>711.000000</td>\n",
       "      <td>22.000000</td>\n",
       "      <td>396.900000</td>\n",
       "      <td>37.970000</td>\n",
       "      <td>214.412960</td>\n",
       "    </tr>\n",
       "  </tbody>\n",
       "</table>\n",
       "</div>"
      ],
      "text/plain": [
       "             CRIM          ZN       INDUS        CHAS        NOX          RM  \\\n",
       "count  430.000000  430.000000  430.000000  408.000000  52.000000  430.000000   \n",
       "mean     3.694840   11.370930   11.157209    0.073529   0.772442    6.298342   \n",
       "std      8.789114   23.197997    6.934849    0.261324   0.065919    0.717532   \n",
       "min      0.009060    0.000000    0.740000    0.000000   0.713000    3.561000   \n",
       "25%      0.081900    0.000000    5.130000    0.000000   0.713000    5.888250   \n",
       "50%      0.274475    0.000000    9.125000    0.000000   0.740000    6.210000   \n",
       "75%      3.560263   12.500000   18.100000    0.000000   0.871000    6.630750   \n",
       "max     88.976200  100.000000   27.740000    1.000000   0.871000    8.780000   \n",
       "\n",
       "              AGE         DIS         RAD         TAX     PTRATIO           B  \\\n",
       "count  430.000000  430.000000  430.000000  420.000000  420.000000  430.000000   \n",
       "mean    68.916744    3.772554    9.504651  410.959524   18.371429  354.476256   \n",
       "std     28.019891    2.131754    8.680752  168.251675    2.214768   93.897035   \n",
       "min      2.900000    1.129600    1.000000  188.000000   12.600000    0.320000   \n",
       "25%     45.450000    2.063900    4.000000  283.250000   16.900000  374.597500   \n",
       "50%     78.200000    3.107300    5.000000  332.000000   18.800000  391.305000   \n",
       "75%     93.975000    5.269125   24.000000  666.000000   20.200000  395.935000   \n",
       "max    100.000000   12.126500   24.000000  711.000000   22.000000  396.900000   \n",
       "\n",
       "           LSTAT        MEDV  \n",
       "count  88.000000  430.000000  \n",
       "mean   23.902386   97.222903  \n",
       "std     4.756535   40.155983  \n",
       "min    17.930000   21.445934  \n",
       "25%    19.910000   72.899822  \n",
       "50%    23.255000   91.648354  \n",
       "75%    26.930000  108.098012  \n",
       "max    37.970000  214.412960  "
      ]
     },
     "execution_count": 24,
     "metadata": {},
     "output_type": "execute_result"
    }
   ],
   "source": [
    "df_train.describe()"
   ]
  },
  {
   "cell_type": "code",
   "execution_count": 25,
   "metadata": {},
   "outputs": [
    {
     "name": "stdout",
     "output_type": "stream",
     "text": [
      "<class 'pandas.core.frame.DataFrame'>\n",
      "RangeIndex: 430 entries, 0 to 429\n",
      "Data columns (total 14 columns):\n",
      " #   Column   Non-Null Count  Dtype  \n",
      "---  ------   --------------  -----  \n",
      " 0   CRIM     430 non-null    float64\n",
      " 1   ZN       430 non-null    float64\n",
      " 2   INDUS    430 non-null    float64\n",
      " 3   CHAS     408 non-null    float64\n",
      " 4   NOX      52 non-null     float64\n",
      " 5   RM       430 non-null    float64\n",
      " 6   AGE      430 non-null    float64\n",
      " 7   DIS      430 non-null    float64\n",
      " 8   RAD      430 non-null    int64  \n",
      " 9   TAX      420 non-null    float64\n",
      " 10  PTRATIO  420 non-null    float64\n",
      " 11  B        430 non-null    float64\n",
      " 12  LSTAT    88 non-null     float64\n",
      " 13  MEDV     430 non-null    float64\n",
      "dtypes: float64(13), int64(1)\n",
      "memory usage: 47.2 KB\n"
     ]
    }
   ],
   "source": [
    "df_train.info()"
   ]
  },
  {
   "cell_type": "markdown",
   "metadata": {},
   "source": [
    "+ Zamienienie kolumn, których NULL_RATIO > 70%"
   ]
  },
  {
   "cell_type": "code",
   "execution_count": 26,
   "metadata": {},
   "outputs": [
    {
     "name": "stdout",
     "output_type": "stream",
     "text": [
      "TRAIN:\n",
      "\tCRIM | 0.0%\n",
      "\tZN | 0.0%\n",
      "\tINDUS | 0.0%\n",
      "\tCHAS | 5.1%\n",
      "\tNOX | 87.9%\n",
      "\tRM | 0.0%\n",
      "\tAGE | 0.0%\n",
      "\tDIS | 0.0%\n",
      "\tRAD | 0.0%\n",
      "\tTAX | 2.3%\n",
      "\tPTRATIO | 2.3%\n",
      "\tB | 0.0%\n",
      "\tLSTAT | 79.5%\n",
      "\tMEDV | 0.0%\n",
      "TEST:\n",
      "\tCRIM | 0.0%\n",
      "\tZN | 0.0%\n",
      "\tINDUS | 0.0%\n",
      "\tCHAS | 3.9%\n",
      "\tNOX | 88.2%\n",
      "\tRM | 0.0%\n",
      "\tAGE | 0.0%\n",
      "\tDIS | 0.0%\n",
      "\tRAD | 0.0%\n",
      "\tTAX | 0.0%\n",
      "\tB | 0.0%\n",
      "\tLSTAT | 75.0%\n"
     ]
    }
   ],
   "source": [
    "print(\"TRAIN:\")\n",
    "for col in df_train.columns:\n",
    "  print(\"\\t{} | {:.1f}%\".format(col, (df_train[col].isna().sum()/df_train[col].shape[0])*100))\n",
    "print(\"TEST:\")\n",
    "for col in df_test.columns:\n",
    "  print(\"\\t{} | {:.1f}%\".format(col, (df_test[col].isna().sum()/df_test[col].shape[0])*100))"
   ]
  },
  {
   "cell_type": "code",
   "execution_count": 28,
   "metadata": {},
   "outputs": [],
   "source": [
    "df_train['NA_in_col_NOX'] = df_train['NOX'].isna().apply(lambda x: 1 if x==True else 0)\n",
    "df_train.drop(columns=['NOX'], inplace=True)\n",
    "df_train['NA_in_col_LSTAT'] = df_train['LSTAT'].isna().apply(lambda x: 1 if x==True else 0)\n",
    "df_train.drop(columns=['LSTAT'], inplace=True)"
   ]
  },
  {
   "cell_type": "code",
   "execution_count": 42,
   "metadata": {},
   "outputs": [],
   "source": [
    "df_y = df_train['MEDV']\n",
    "df_x = df_train.drop(columns=[\"MEDV\"])"
   ]
  },
  {
   "cell_type": "code",
   "execution_count": 43,
   "metadata": {},
   "outputs": [],
   "source": [
    "median_imputer = SimpleImputer(missing_values=pd.NA, strategy=\"median\")\n",
    "X = median_imputer.fit_transform(df_x)"
   ]
  },
  {
   "cell_type": "code",
   "execution_count": 39,
   "metadata": {},
   "outputs": [],
   "source": [
    "df_not_na = pd.DataFrame(X, columns=df_train.columns)"
   ]
  },
  {
   "cell_type": "code",
   "execution_count": 46,
   "metadata": {},
   "outputs": [
    {
     "name": "stdout",
     "output_type": "stream",
     "text": [
      "Model on one variable\n",
      "Model MSE: 499.1946381391015\n",
      "Model RMSE: 22.342664078822416\n",
      "Model MAD: 15.329853228913281\n"
     ]
    }
   ],
   "source": [
    "model = LinearRegression()\n",
    "model.fit(X, df_y.to_numpy())\n",
    "y_pred = model.predict(X)\n",
    "\n",
    "print(\"Model on one variable\")\n",
    "print(f\"Model MSE: {mean_squared_error(df_y.to_numpy(), y_pred)}\")\n",
    "print(f\"Model RMSE: {np.sqrt(mean_squared_error(df_y.to_numpy(), y_pred))}\")\n",
    "print(f\"Model MAD: {mean_absolute_error(df_y.to_numpy(), y_pred)}\")"
   ]
  },
  {
   "cell_type": "code",
   "execution_count": 48,
   "metadata": {},
   "outputs": [
    {
     "data": {
      "text/plain": [
       "Index(['CRIM', 'ZN', 'INDUS', 'CHAS', 'RM', 'AGE', 'DIS', 'RAD', 'TAX',\n",
       "       'PTRATIO', 'B', 'NA_in_col_NOX', 'NA_in_col_LSTAT'],\n",
       "      dtype='object')"
      ]
     },
     "execution_count": 48,
     "metadata": {},
     "output_type": "execute_result"
    }
   ],
   "source": [
    "df_x.columns"
   ]
  },
  {
   "cell_type": "code",
   "execution_count": 47,
   "metadata": {},
   "outputs": [
    {
     "data": {
      "text/plain": [
       "array([-0.69300824,  0.2101418 , -0.15905733, 13.85183992, 25.28052686,\n",
       "       -0.16047165, -5.30145659,  1.42144569, -0.05719222, -3.67961898,\n",
       "        0.05511439, 20.61987047, 20.98939283])"
      ]
     },
     "execution_count": 47,
     "metadata": {},
     "output_type": "execute_result"
    }
   ],
   "source": [
    "model.coef_"
   ]
  },
  {
   "cell_type": "code",
   "execution_count": 49,
   "metadata": {},
   "outputs": [
    {
     "data": {
      "text/plain": [
       "CRIM               -0.693008\n",
       "ZN                  0.210142\n",
       "INDUS              -0.159057\n",
       "CHAS               13.851840\n",
       "RM                 25.280527\n",
       "AGE                -0.160472\n",
       "DIS                -5.301457\n",
       "RAD                 1.421446\n",
       "TAX                -0.057192\n",
       "PTRATIO            -3.679619\n",
       "B                   0.055114\n",
       "NA_in_col_NOX      20.619870\n",
       "NA_in_col_LSTAT    20.989393\n",
       "Intercept          -6.796092\n",
       "dtype: float64"
      ]
     },
     "execution_count": 49,
     "metadata": {},
     "output_type": "execute_result"
    }
   ],
   "source": [
    "s = pd.Series(model.coef_, df_x.columns)\n",
    "s['Intercept'] = model.intercept_\n",
    "s"
   ]
  },
  {
   "cell_type": "markdown",
   "metadata": {},
   "source": [
    "obserwacje modyfikujemy :)"
   ]
  },
  {
   "cell_type": "code",
   "execution_count": 50,
   "metadata": {},
   "outputs": [
    {
     "data": {
      "text/html": [
       "<div>\n",
       "<style scoped>\n",
       "    .dataframe tbody tr th:only-of-type {\n",
       "        vertical-align: middle;\n",
       "    }\n",
       "\n",
       "    .dataframe tbody tr th {\n",
       "        vertical-align: top;\n",
       "    }\n",
       "\n",
       "    .dataframe thead th {\n",
       "        text-align: right;\n",
       "    }\n",
       "</style>\n",
       "<table border=\"1\" class=\"dataframe\">\n",
       "  <thead>\n",
       "    <tr style=\"text-align: right;\">\n",
       "      <th></th>\n",
       "      <th>CRIM</th>\n",
       "      <th>ZN</th>\n",
       "      <th>INDUS</th>\n",
       "      <th>CHAS</th>\n",
       "      <th>NOX</th>\n",
       "      <th>RM</th>\n",
       "      <th>AGE</th>\n",
       "      <th>DIS</th>\n",
       "      <th>RAD</th>\n",
       "      <th>TAX</th>\n",
       "      <th>PTRATIO</th>\n",
       "      <th>B</th>\n",
       "      <th>LSTAT</th>\n",
       "    </tr>\n",
       "  </thead>\n",
       "  <tbody>\n",
       "    <tr>\n",
       "      <th>0</th>\n",
       "      <td>3.69</td>\n",
       "      <td>11.37</td>\n",
       "      <td>11.15</td>\n",
       "      <td>0.07</td>\n",
       "      <td>0.87</td>\n",
       "      <td>6.29</td>\n",
       "      <td>68.91</td>\n",
       "      <td>3.77</td>\n",
       "      <td>9.5</td>\n",
       "      <td>410.95</td>\n",
       "      <td>18.37</td>\n",
       "      <td>354.47</td>\n",
       "      <td>0.79</td>\n",
       "    </tr>\n",
       "  </tbody>\n",
       "</table>\n",
       "</div>"
      ],
      "text/plain": [
       "   CRIM     ZN  INDUS  CHAS   NOX    RM    AGE   DIS  RAD     TAX  PTRATIO  \\\n",
       "0  3.69  11.37  11.15  0.07  0.87  6.29  68.91  3.77  9.5  410.95    18.37   \n",
       "\n",
       "        B  LSTAT  \n",
       "0  354.47   0.79  "
      ]
     },
     "execution_count": 50,
     "metadata": {},
     "output_type": "execute_result"
    }
   ],
   "source": [
    "obs = pd.DataFrame({\n",
    "    'CRIM': [3.69],\n",
    "    'ZN': [11.37],\n",
    "    'INDUS': [11.15],\n",
    "    'CHAS': [0.07],\n",
    "    'NOX': [0.87],\n",
    "    'RM': [6.29],\n",
    "    'AGE': [68.91],\n",
    "    'DIS': [3.77],\n",
    "    'RAD': [9.50],\n",
    "    'TAX': [410.95],\n",
    "    'PTRATIO': [18.37],\n",
    "    'B': [354.47],\n",
    "    'LSTAT': [0.79],\n",
    "})\n",
    "obs"
   ]
  },
  {
   "cell_type": "code",
   "execution_count": 51,
   "metadata": {},
   "outputs": [
    {
     "data": {
      "text/html": [
       "<div>\n",
       "<style scoped>\n",
       "    .dataframe tbody tr th:only-of-type {\n",
       "        vertical-align: middle;\n",
       "    }\n",
       "\n",
       "    .dataframe tbody tr th {\n",
       "        vertical-align: top;\n",
       "    }\n",
       "\n",
       "    .dataframe thead th {\n",
       "        text-align: right;\n",
       "    }\n",
       "</style>\n",
       "<table border=\"1\" class=\"dataframe\">\n",
       "  <thead>\n",
       "    <tr style=\"text-align: right;\">\n",
       "      <th></th>\n",
       "      <th>CRIM</th>\n",
       "      <th>ZN</th>\n",
       "      <th>INDUS</th>\n",
       "      <th>CHAS</th>\n",
       "      <th>RM</th>\n",
       "      <th>AGE</th>\n",
       "      <th>DIS</th>\n",
       "      <th>RAD</th>\n",
       "      <th>TAX</th>\n",
       "      <th>PTRATIO</th>\n",
       "      <th>B</th>\n",
       "      <th>NA_in_col_NOX</th>\n",
       "      <th>NA_in_col_LSTAT</th>\n",
       "    </tr>\n",
       "  </thead>\n",
       "  <tbody>\n",
       "    <tr>\n",
       "      <th>0</th>\n",
       "      <td>3.69</td>\n",
       "      <td>11.37</td>\n",
       "      <td>11.15</td>\n",
       "      <td>0.07</td>\n",
       "      <td>6.29</td>\n",
       "      <td>68.91</td>\n",
       "      <td>3.77</td>\n",
       "      <td>9.5</td>\n",
       "      <td>410.95</td>\n",
       "      <td>18.37</td>\n",
       "      <td>354.47</td>\n",
       "      <td>0.0</td>\n",
       "      <td>0.0</td>\n",
       "    </tr>\n",
       "  </tbody>\n",
       "</table>\n",
       "</div>"
      ],
      "text/plain": [
       "   CRIM     ZN  INDUS  CHAS    RM    AGE   DIS  RAD     TAX  PTRATIO       B  \\\n",
       "0  3.69  11.37  11.15  0.07  6.29  68.91  3.77  9.5  410.95    18.37  354.47   \n",
       "\n",
       "   NA_in_col_NOX  NA_in_col_LSTAT  \n",
       "0            0.0              0.0  "
      ]
     },
     "execution_count": 51,
     "metadata": {},
     "output_type": "execute_result"
    }
   ],
   "source": [
    "obs = pd.DataFrame({\n",
    "    'CRIM': [3.69],\n",
    "    'ZN': [11.37],\n",
    "    'INDUS': [11.15],\n",
    "    'CHAS': [0.07],\n",
    "    'RM': [6.29],\n",
    "    'AGE': [68.91],\n",
    "    'DIS': [3.77],\n",
    "    'RAD': [9.50],\n",
    "    'TAX': [410.95],\n",
    "    'PTRATIO': [18.37],\n",
    "    'B': [354.47],\n",
    "    'NA_in_col_NOX': [0.0],\n",
    "    'NA_in_col_LSTAT': [0.0],\n",
    "})\n",
    "obs"
   ]
  },
  {
   "cell_type": "code",
   "execution_count": 52,
   "metadata": {},
   "outputs": [
    {
     "data": {
      "text/plain": [
       "array([62.14446917])"
      ]
     },
     "execution_count": 52,
     "metadata": {},
     "output_type": "execute_result"
    }
   ],
   "source": [
    "model.predict(obs.to_numpy())"
   ]
  },
  {
   "cell_type": "code",
   "execution_count": 53,
   "metadata": {},
   "outputs": [
    {
     "data": {
      "text/html": [
       "<div>\n",
       "<style scoped>\n",
       "    .dataframe tbody tr th:only-of-type {\n",
       "        vertical-align: middle;\n",
       "    }\n",
       "\n",
       "    .dataframe tbody tr th {\n",
       "        vertical-align: top;\n",
       "    }\n",
       "\n",
       "    .dataframe thead th {\n",
       "        text-align: right;\n",
       "    }\n",
       "</style>\n",
       "<table border=\"1\" class=\"dataframe\">\n",
       "  <thead>\n",
       "    <tr style=\"text-align: right;\">\n",
       "      <th></th>\n",
       "      <th>CRIM</th>\n",
       "      <th>ZN</th>\n",
       "      <th>INDUS</th>\n",
       "      <th>CHAS</th>\n",
       "      <th>RM</th>\n",
       "      <th>AGE</th>\n",
       "      <th>DIS</th>\n",
       "      <th>RAD</th>\n",
       "      <th>TAX</th>\n",
       "      <th>PTRATIO</th>\n",
       "      <th>B</th>\n",
       "      <th>NA_in_col_NOX</th>\n",
       "      <th>NA_in_col_LSTAT</th>\n",
       "    </tr>\n",
       "  </thead>\n",
       "  <tbody>\n",
       "    <tr>\n",
       "      <th>0</th>\n",
       "      <td>3.69</td>\n",
       "      <td>11.37</td>\n",
       "      <td>11.15</td>\n",
       "      <td>0.07</td>\n",
       "      <td>8.29</td>\n",
       "      <td>68.91</td>\n",
       "      <td>3.77</td>\n",
       "      <td>9.5</td>\n",
       "      <td>410.95</td>\n",
       "      <td>18.37</td>\n",
       "      <td>354.47</td>\n",
       "      <td>0.0</td>\n",
       "      <td>0.0</td>\n",
       "    </tr>\n",
       "  </tbody>\n",
       "</table>\n",
       "</div>"
      ],
      "text/plain": [
       "   CRIM     ZN  INDUS  CHAS    RM    AGE   DIS  RAD     TAX  PTRATIO       B  \\\n",
       "0  3.69  11.37  11.15  0.07  8.29  68.91  3.77  9.5  410.95    18.37  354.47   \n",
       "\n",
       "   NA_in_col_NOX  NA_in_col_LSTAT  \n",
       "0            0.0              0.0  "
      ]
     },
     "execution_count": 53,
     "metadata": {},
     "output_type": "execute_result"
    }
   ],
   "source": [
    "obs2 = pd.DataFrame({\n",
    "    'CRIM': [3.69],\n",
    "    'ZN': [11.37],\n",
    "    'INDUS': [11.15],\n",
    "    'CHAS': [0.07],\n",
    "    'RM': [8.29],\n",
    "    'AGE': [68.91],\n",
    "    'DIS': [3.77],\n",
    "    'RAD': [9.50],\n",
    "    'TAX': [410.95],\n",
    "    'PTRATIO': [18.37],\n",
    "    'B': [354.47],\n",
    "    'NA_in_col_NOX': [0.0],\n",
    "    'NA_in_col_LSTAT': [0.0],\n",
    "})\n",
    "obs2"
   ]
  },
  {
   "cell_type": "code",
   "execution_count": 54,
   "metadata": {},
   "outputs": [
    {
     "data": {
      "text/plain": [
       "array([112.70552289])"
      ]
     },
     "execution_count": 54,
     "metadata": {},
     "output_type": "execute_result"
    }
   ],
   "source": [
    "model.predict(obs2.to_numpy())"
   ]
  },
  {
   "cell_type": "markdown",
   "metadata": {},
   "source": [
    "# IV. Zadanie - konkurs\n",
    "### 1. Importy, seedy"
   ]
  },
  {
   "cell_type": "code",
   "execution_count": 106,
   "metadata": {},
   "outputs": [],
   "source": [
    "import pandas as pd\n",
    "import numpy as np\n",
    "from sklearn.impute import SimpleImputer\n",
    "from sklearn.linear_model import LinearRegression\n",
    "from sklearn.metrics import mean_squared_error, mean_absolute_error\n",
    "import seaborn as sn\n",
    "import matplotlib.pyplot as plt\n",
    "from sklearn.preprocessing import MinMaxScaler\n",
    "from sklearn.model_selection import cross_val_score\n",
    "from sklearn.model_selection import KFold\n",
    "from xgboost import XGBRegressor"
   ]
  },
  {
   "cell_type": "code",
   "execution_count": 107,
   "metadata": {},
   "outputs": [],
   "source": [
    "SEED = 42"
   ]
  },
  {
   "cell_type": "markdown",
   "metadata": {},
   "source": [
    "### 2. Data preprocessing"
   ]
  },
  {
   "cell_type": "code",
   "execution_count": 108,
   "metadata": {},
   "outputs": [],
   "source": [
    "df_train = pd.read_csv(\"./../data/housing/housing_train.csv\")\n",
    "df_test = pd.read_csv(\"./../data/housing/housing_validation.csv\")"
   ]
  },
  {
   "cell_type": "code",
   "execution_count": 109,
   "metadata": {},
   "outputs": [
    {
     "data": {
      "image/png": "[encoded data removed]",
      "text/plain": [
       "<Figure size 1440x1440 with 2 Axes>"
      ]
     },
     "metadata": {
      "needs_background": "light"
     },
     "output_type": "display_data"
    }
   ],
   "source": [
    "plt.figure(figsize=(20, 20))\n",
    "corrMatrix = df_train.corr()\n",
    "sn.heatmap(corrMatrix, annot=True)\n",
    "plt.show()"
   ]
  },
  {
   "cell_type": "code",
   "execution_count": 110,
   "metadata": {},
   "outputs": [],
   "source": [
    "df_train.drop(columns=['PTRATIO', 'NOX'], inplace=True)\n",
    "df_test.drop(columns=['PTRATIO', 'NOX'], inplace=True)"
   ]
  },
  {
   "cell_type": "code",
   "execution_count": 111,
   "metadata": {},
   "outputs": [],
   "source": [
    "df_y_train = df_train['MEDV']\n",
    "df_train.drop(columns=['MEDV'], inplace=True)"
   ]
  },
  {
   "cell_type": "code",
   "execution_count": 112,
   "metadata": {},
   "outputs": [],
   "source": [
    "df_train['NA_in_LSTAT'] = df_train['LSTAT'].isna().apply(lambda x: 1 if x else 0)\n",
    "df_test['NA_in_LSTAT'] = df_test['LSTAT'].isna().apply(lambda x: 1 if x else 0)\n",
    "df_train.drop(columns=['LSTAT'], inplace=True)\n",
    "df_test.drop(columns=['LSTAT'], inplace=True)"
   ]
  },
  {
   "cell_type": "code",
   "execution_count": 113,
   "metadata": {},
   "outputs": [
    {
     "name": "stdout",
     "output_type": "stream",
     "text": [
      "<class 'pandas.core.frame.DataFrame'>\n",
      "RangeIndex: 430 entries, 0 to 429\n",
      "Data columns (total 11 columns):\n",
      " #   Column       Non-Null Count  Dtype  \n",
      "---  ------       --------------  -----  \n",
      " 0   CRIM         430 non-null    float64\n",
      " 1   ZN           430 non-null    float64\n",
      " 2   INDUS        430 non-null    float64\n",
      " 3   CHAS         408 non-null    float64\n",
      " 4   RM           430 non-null    float64\n",
      " 5   AGE          430 non-null    float64\n",
      " 6   DIS          430 non-null    float64\n",
      " 7   RAD          430 non-null    int64  \n",
      " 8   TAX          420 non-null    float64\n",
      " 9   B            430 non-null    float64\n",
      " 10  NA_in_LSTAT  430 non-null    int64  \n",
      "dtypes: float64(9), int64(2)\n",
      "memory usage: 37.1 KB\n"
     ]
    }
   ],
   "source": [
    "df_train.info()"
   ]
  },
  {
   "cell_type": "code",
   "execution_count": 114,
   "metadata": {},
   "outputs": [
    {
     "name": "stdout",
     "output_type": "stream",
     "text": [
      "<class 'pandas.core.frame.DataFrame'>\n",
      "RangeIndex: 76 entries, 0 to 75\n",
      "Data columns (total 11 columns):\n",
      " #   Column       Non-Null Count  Dtype  \n",
      "---  ------       --------------  -----  \n",
      " 0   CRIM         76 non-null     float64\n",
      " 1   ZN           76 non-null     float64\n",
      " 2   INDUS        76 non-null     float64\n",
      " 3   CHAS         73 non-null     float64\n",
      " 4   RM           76 non-null     float64\n",
      " 5   AGE          76 non-null     float64\n",
      " 6   DIS          76 non-null     float64\n",
      " 7   RAD          76 non-null     int64  \n",
      " 8   TAX          76 non-null     float64\n",
      " 9   B            76 non-null     float64\n",
      " 10  NA_in_LSTAT  76 non-null     int64  \n",
      "dtypes: float64(9), int64(2)\n",
      "memory usage: 6.7 KB\n"
     ]
    }
   ],
   "source": [
    "df_test.info()"
   ]
  },
  {
   "cell_type": "code",
   "execution_count": 115,
   "metadata": {},
   "outputs": [],
   "source": [
    "median_imputer = SimpleImputer(missing_values=pd.NA, strategy=\"median\")"
   ]
  },
  {
   "cell_type": "code",
   "execution_count": 116,
   "metadata": {},
   "outputs": [],
   "source": [
    "arr_train = median_imputer.fit_transform(df_train)\n",
    "arr_test = median_imputer.transform(df_test)"
   ]
  },
  {
   "cell_type": "code",
   "execution_count": 117,
   "metadata": {},
   "outputs": [],
   "source": [
    "df_train_new = pd.DataFrame(arr_train, columns=df_train.columns)\n",
    "df_test_new = pd.DataFrame(arr_test, columns=df_test.columns)"
   ]
  },
  {
   "cell_type": "code",
   "execution_count": 118,
   "metadata": {},
   "outputs": [
    {
     "data": {
      "text/plain": [
       "array([[<AxesSubplot:title={'center':'CRIM'}>,\n",
       "        <AxesSubplot:title={'center':'ZN'}>,\n",
       "        <AxesSubplot:title={'center':'INDUS'}>],\n",
       "       [<AxesSubplot:title={'center':'CHAS'}>,\n",
       "        <AxesSubplot:title={'center':'RM'}>,\n",
       "        <AxesSubplot:title={'center':'AGE'}>],\n",
       "       [<AxesSubplot:title={'center':'DIS'}>,\n",
       "        <AxesSubplot:title={'center':'RAD'}>,\n",
       "        <AxesSubplot:title={'center':'TAX'}>],\n",
       "       [<AxesSubplot:title={'center':'B'}>,\n",
       "        <AxesSubplot:title={'center':'NA_in_LSTAT'}>, <AxesSubplot:>]],\n",
       "      dtype=object)"
      ]
     },
     "execution_count": 118,
     "metadata": {},
     "output_type": "execute_result"
    },
    {
     "data": {
      "image/png": "[encoded data removed]",
      "text/plain": [
       "<Figure size 1080x720 with 12 Axes>"
      ]
     },
     "metadata": {
      "needs_background": "light"
     },
     "output_type": "display_data"
    }
   ],
   "source": [
    "df_train_new.hist(bins=30, figsize=(15,10))"
   ]
  },
  {
   "cell_type": "code",
   "execution_count": 119,
   "metadata": {},
   "outputs": [
    {
     "data": {
      "text/plain": [
       "Index(['CRIM', 'ZN', 'INDUS', 'CHAS', 'RM', 'AGE', 'DIS', 'RAD', 'TAX', 'B',\n",
       "       'NA_in_LSTAT'],\n",
       "      dtype='object')"
      ]
     },
     "execution_count": 119,
     "metadata": {},
     "output_type": "execute_result"
    }
   ],
   "source": [
    "df_train_new.columns"
   ]
  },
  {
   "cell_type": "code",
   "execution_count": 120,
   "metadata": {},
   "outputs": [],
   "source": [
    "df_train_rm = df_train_new['RM']\n",
    "df_test_rm = df_test_new['RM']\n",
    "df_train_new.drop(columns=['RM'], inplace=True)\n",
    "df_test_new.drop(columns=['RM'], inplace=True)"
   ]
  },
  {
   "cell_type": "code",
   "execution_count": 121,
   "metadata": {},
   "outputs": [],
   "source": [
    "scaler=MinMaxScaler(feature_range=(0,1))\n",
    "train_X = scaler.fit_transform(df_train_new)\n",
    "test_X = scaler.transform(df_test_new)"
   ]
  },
  {
   "cell_type": "code",
   "execution_count": 122,
   "metadata": {},
   "outputs": [],
   "source": [
    "std_rm = df_train_rm.std()\n",
    "mean_rm = df_train_rm.mean()\n",
    "df_train_rm = (df_train_rm - mean_rm) / std_rm\n",
    "df_test_rm = (df_test_rm - mean_rm) / std_rm"
   ]
  },
  {
   "cell_type": "code",
   "execution_count": 123,
   "metadata": {},
   "outputs": [],
   "source": [
    "df_train = pd.DataFrame(train_X, columns=df_train_new.columns)\n",
    "df_test = pd.DataFrame(test_X, columns=df_test_new.columns)\n",
    "df_train['RM'] = df_train_rm\n",
    "df_test['RM'] = df_test_rm"
   ]
  },
  {
   "cell_type": "markdown",
   "metadata": {},
   "source": [
    "### 3. Modeling"
   ]
  },
  {
   "cell_type": "code",
   "execution_count": 136,
   "metadata": {},
   "outputs": [],
   "source": [
    "from sklearn.metrics import mean_squared_error, make_scorer\n",
    "from sklearn.svm import SVR\n",
    "from sklearn.tree import DecisionTreeRegressor\n",
    "from sklearn.model_selection import train_test_split,GridSearchCV"
   ]
  },
  {
   "cell_type": "code",
   "execution_count": 130,
   "metadata": {},
   "outputs": [],
   "source": [
    "from sklearn.linear_model import LinearRegression, Lasso, ElasticNet, Ridge\n",
    "from sklearn.tree import DecisionTreeRegressor\n",
    "from sklearn.neighbors import KNeighborsRegressor\n",
    "from sklearn.svm import SVR\n",
    "from sklearn.ensemble import RandomForestRegressor, BaggingRegressor, AdaBoostRegressor, GradientBoostingRegressor, ExtraTreesRegressor\n",
    "from xgboost.sklearn import XGBRegressor\n",
    "from lightgbm.sklearn import LGBMRegressor"
   ]
  },
  {
   "cell_type": "code",
   "execution_count": 141,
   "metadata": {},
   "outputs": [
    {
     "name": "stdout",
     "output_type": "stream",
     "text": [
      "(430, 11)\n",
      "(430,)\n"
     ]
    }
   ],
   "source": [
    "X_train, y_train = df_train.to_numpy(), df_y_train.to_numpy()\n",
    "print(X_train.shape)\n",
    "print(y_train.shape)\n"
   ]
  },
  {
   "cell_type": "code",
   "execution_count": 142,
   "metadata": {},
   "outputs": [],
   "source": [
    "seed = 5\n",
    "folds = 10\n",
    "metric = \"neg_mean_squared_error\"\n",
    "\n",
    "# hold different regression models in a single dictionary\n",
    "models = {}\n",
    "\n",
    "# Linear algorithms\n",
    "models['Linear'] = LinearRegression()\n",
    "models['Lasso'] = Lasso()\n",
    "models['ElasticNet'] = ElasticNet()\n",
    "models['Ridge'] = Ridge()\n",
    "\n",
    "# Nonlinear algorithms\n",
    "models['KNN'] = KNeighborsRegressor()\n",
    "models['SVR'] = SVR(gamma='auto')\n",
    "models['DecisionTree'] = DecisionTreeRegressor()\n",
    "models['BaggedDTree'] = BaggingRegressor(n_estimators=100, max_features=4)\n",
    "models['RandomForest'] = RandomForestRegressor(n_estimators=100, max_features=4)\n",
    "models['ExtraTrees'] = ExtraTreesRegressor(n_estimators=100, max_features=4)\n",
    "models['AdaBoost'] = AdaBoostRegressor(n_estimators=100)\n",
    "models['GradientBoost'] = GradientBoostingRegressor(n_estimators=100, max_features=4)\n",
    "models['XGBoost'] = XGBRegressor(n_estimators=100)\n",
    "models['LightGBM'] = LGBMRegressor(n_estimators=200)"
   ]
  },
  {
   "cell_type": "code",
   "execution_count": 143,
   "metadata": {},
   "outputs": [
    {
     "name": "stdout",
     "output_type": "stream",
     "text": [
      "Linear: -613.809, 297.801\n",
      "Lasso: -709.637, 384.17\n",
      "ElasticNet: -825.061, 317.386\n",
      "Ridge: -616.808, 315.221\n",
      "KNN: -501.651, 300.238\n",
      "SVR: -884.867, 268.889\n",
      "DecisionTree: -636.423, 360.911\n",
      "BaggedDTree: -496.971, 213.978\n",
      "RandomForest: -302.199, 119.465\n",
      "ExtraTrees: -291.16, 140.266\n",
      "AdaBoost: -387.67, 153.503\n",
      "GradientBoost: -294.648, 113.947\n",
      "XGBoost: -300.545, 136.303\n",
      "LightGBM: -380.484, 158.784\n"
     ]
    }
   ],
   "source": [
    "# 10-fold cross validation for each model\n",
    "model_results = []\n",
    "model_names = []\n",
    "\n",
    "for model_name in models:\n",
    "    model = models[model_name]\n",
    "    k_fold = KFold(n_splits=folds, shuffle=True, random_state=seed)\n",
    "    results = cross_val_score(model, X_train, y_train, cv=k_fold, scoring=metric)\n",
    "    \n",
    "    model_results.append(results)\n",
    "    model_names.append(model_name)\n",
    "    print(\"{}: {}, {}\".format(model_name, round(results.mean(), 3), round(results.std(), 3)))"
   ]
  },
  {
   "cell_type": "code",
   "execution_count": 146,
   "metadata": {},
   "outputs": [
    {
     "name": "stdout",
     "output_type": "stream",
     "text": [
      "\n",
      "GridSearch result: Best MSE: -325.416 using {'max_features': 3, 'n_estimators': 100}\n"
     ]
    },
    {
     "data": {
      "text/html": [
       "<style>#sk-container-id-3 {color: black;background-color: white;}#sk-container-id-3 pre{padding: 0;}#sk-container-id-3 div.sk-toggleable {background-color: white;}#sk-container-id-3 label.sk-toggleable__label {cursor: pointer;display: block;width: 100%;margin-bottom: 0;padding: 0.3em;box-sizing: border-box;text-align: center;}#sk-container-id-3 label.sk-toggleable__label-arrow:before {content: \"▸\";float: left;margin-right: 0.25em;color: #696969;}#sk-container-id-3 label.sk-toggleable__label-arrow:hover:before {color: black;}#sk-container-id-3 div.sk-estimator:hover label.sk-toggleable__label-arrow:before {color: black;}#sk-container-id-3 div.sk-toggleable__content {max-height: 0;max-width: 0;overflow: hidden;text-align: left;background-color: #f0f8ff;}#sk-container-id-3 div.sk-toggleable__content pre {margin: 0.2em;color: black;border-radius: 0.25em;background-color: #f0f8ff;}#sk-container-id-3 input.sk-toggleable__control:checked~div.sk-toggleable__content {max-height: 200px;max-width: 100%;overflow: auto;}#sk-container-id-3 input.sk-toggleable__control:checked~label.sk-toggleable__label-arrow:before {content: \"▾\";}#sk-container-id-3 div.sk-estimator input.sk-toggleable__control:checked~label.sk-toggleable__label {background-color: #d4ebff;}#sk-container-id-3 div.sk-label input.sk-toggleable__control:checked~label.sk-toggleable__label {background-color: #d4ebff;}#sk-container-id-3 input.sk-hidden--visually {border: 0;clip: rect(1px 1px 1px 1px);clip: rect(1px, 1px, 1px, 1px);height: 1px;margin: -1px;overflow: hidden;padding: 0;position: absolute;width: 1px;}#sk-container-id-3 div.sk-estimator {font-family: monospace;background-color: #f0f8ff;border: 1px dotted black;border-radius: 0.25em;box-sizing: border-box;margin-bottom: 0.5em;}#sk-container-id-3 div.sk-estimator:hover {background-color: #d4ebff;}#sk-container-id-3 div.sk-parallel-item::after {content: \"\";width: 100%;border-bottom: 1px solid gray;flex-grow: 1;}#sk-container-id-3 div.sk-label:hover label.sk-toggleable__label {background-color: #d4ebff;}#sk-container-id-3 div.sk-serial::before {content: \"\";position: absolute;border-left: 1px solid gray;box-sizing: border-box;top: 0;bottom: 0;left: 50%;z-index: 0;}#sk-container-id-3 div.sk-serial {display: flex;flex-direction: column;align-items: center;background-color: white;padding-right: 0.2em;padding-left: 0.2em;position: relative;}#sk-container-id-3 div.sk-item {position: relative;z-index: 1;}#sk-container-id-3 div.sk-parallel {display: flex;align-items: stretch;justify-content: center;background-color: white;position: relative;}#sk-container-id-3 div.sk-item::before, #sk-container-id-3 div.sk-parallel-item::before {content: \"\";position: absolute;border-left: 1px solid gray;box-sizing: border-box;top: 0;bottom: 0;left: 50%;z-index: -1;}#sk-container-id-3 div.sk-parallel-item {display: flex;flex-direction: column;z-index: 1;position: relative;background-color: white;}#sk-container-id-3 div.sk-parallel-item:first-child::after {align-self: flex-end;width: 50%;}#sk-container-id-3 div.sk-parallel-item:last-child::after {align-self: flex-start;width: 50%;}#sk-container-id-3 div.sk-parallel-item:only-child::after {width: 0;}#sk-container-id-3 div.sk-dashed-wrapped {border: 1px dashed gray;margin: 0 0.4em 0.5em 0.4em;box-sizing: border-box;padding-bottom: 0.4em;background-color: white;}#sk-container-id-3 div.sk-label label {font-family: monospace;font-weight: bold;display: inline-block;line-height: 1.2em;}#sk-container-id-3 div.sk-label-container {text-align: center;}#sk-container-id-3 div.sk-container {/* jupyter's `normalize.less` sets `[hidden] { display: none; }` but bootstrap.min.css set `[hidden] { display: none !important; }` so we also need the `!important` here to be able to override the default hidden behavior on the sphinx rendered scikit-learn.org. See: https://github.com/scikit-learn/scikit-learn/issues/21755 */display: inline-block !important;position: relative;}#sk-container-id-3 div.sk-text-repr-fallback {display: none;}</style><div id=\"sk-container-id-3\" class=\"sk-top-container\"><div class=\"sk-text-repr-fallback\"><pre>RandomForestRegressor(max_features=3)</pre><b>In a Jupyter environment, please rerun this cell to show the HTML representation or trust the notebook. <br />On GitHub, the HTML representation is unable to render, please try loading this page with nbviewer.org.</b></div><div class=\"sk-container\" hidden><div class=\"sk-item\"><div class=\"sk-estimator sk-toggleable\"><input class=\"sk-toggleable__control sk-hidden--visually\" id=\"sk-estimator-id-3\" type=\"checkbox\" checked><label for=\"sk-estimator-id-3\" class=\"sk-toggleable__label sk-toggleable__label-arrow\">RandomForestRegressor</label><div class=\"sk-toggleable__content\"><pre>RandomForestRegressor(max_features=3)</pre></div></div></div></div></div>"
      ],
      "text/plain": [
       "RandomForestRegressor(max_features=3)"
      ]
     },
     "execution_count": 146,
     "metadata": {},
     "output_type": "execute_result"
    }
   ],
   "source": [
    "rf = RandomForestRegressor(random_state=seed)  \n",
    "\n",
    "\n",
    "param_grid={\n",
    "            'n_estimators': range(100, 500, 50),\n",
    "            'max_features': range(2, 5, 1)   \n",
    "            }\n",
    "\n",
    "gsc = GridSearchCV(estimator=rf, param_grid=param_grid, scoring='neg_mean_squared_error', cv=5)\n",
    "\n",
    "grid_result = gsc.fit(X_train, y_train)\n",
    "\n",
    "print(\"\\nGridSearch result: Best MSE: %.3f using %s\" % (grid_result.best_score_, grid_result.best_params_))\n",
    "\n",
    "#create and fit the best regression model\n",
    "best_model = RandomForestRegressor(**grid_result.best_params_)\n",
    "\n",
    "best_model.fit(X_train, y_train)"
   ]
  },
  {
   "cell_type": "code",
   "execution_count": 145,
   "metadata": {},
   "outputs": [
    {
     "name": "stdout",
     "output_type": "stream",
     "text": [
      "\n",
      "GridSearch result: Best MSE: -337.638 using {'learning_rate': 0.1, 'n_estimators': 150}\n"
     ]
    },
    {
     "data": {
      "text/html": [
       "<style>#sk-container-id-2 {color: black;background-color: white;}#sk-container-id-2 pre{padding: 0;}#sk-container-id-2 div.sk-toggleable {background-color: white;}#sk-container-id-2 label.sk-toggleable__label {cursor: pointer;display: block;width: 100%;margin-bottom: 0;padding: 0.3em;box-sizing: border-box;text-align: center;}#sk-container-id-2 label.sk-toggleable__label-arrow:before {content: \"▸\";float: left;margin-right: 0.25em;color: #696969;}#sk-container-id-2 label.sk-toggleable__label-arrow:hover:before {color: black;}#sk-container-id-2 div.sk-estimator:hover label.sk-toggleable__label-arrow:before {color: black;}#sk-container-id-2 div.sk-toggleable__content {max-height: 0;max-width: 0;overflow: hidden;text-align: left;background-color: #f0f8ff;}#sk-container-id-2 div.sk-toggleable__content pre {margin: 0.2em;color: black;border-radius: 0.25em;background-color: #f0f8ff;}#sk-container-id-2 input.sk-toggleable__control:checked~div.sk-toggleable__content {max-height: 200px;max-width: 100%;overflow: auto;}#sk-container-id-2 input.sk-toggleable__control:checked~label.sk-toggleable__label-arrow:before {content: \"▾\";}#sk-container-id-2 div.sk-estimator input.sk-toggleable__control:checked~label.sk-toggleable__label {background-color: #d4ebff;}#sk-container-id-2 div.sk-label input.sk-toggleable__control:checked~label.sk-toggleable__label {background-color: #d4ebff;}#sk-container-id-2 input.sk-hidden--visually {border: 0;clip: rect(1px 1px 1px 1px);clip: rect(1px, 1px, 1px, 1px);height: 1px;margin: -1px;overflow: hidden;padding: 0;position: absolute;width: 1px;}#sk-container-id-2 div.sk-estimator {font-family: monospace;background-color: #f0f8ff;border: 1px dotted black;border-radius: 0.25em;box-sizing: border-box;margin-bottom: 0.5em;}#sk-container-id-2 div.sk-estimator:hover {background-color: #d4ebff;}#sk-container-id-2 div.sk-parallel-item::after {content: \"\";width: 100%;border-bottom: 1px solid gray;flex-grow: 1;}#sk-container-id-2 div.sk-label:hover label.sk-toggleable__label {background-color: #d4ebff;}#sk-container-id-2 div.sk-serial::before {content: \"\";position: absolute;border-left: 1px solid gray;box-sizing: border-box;top: 0;bottom: 0;left: 50%;z-index: 0;}#sk-container-id-2 div.sk-serial {display: flex;flex-direction: column;align-items: center;background-color: white;padding-right: 0.2em;padding-left: 0.2em;position: relative;}#sk-container-id-2 div.sk-item {position: relative;z-index: 1;}#sk-container-id-2 div.sk-parallel {display: flex;align-items: stretch;justify-content: center;background-color: white;position: relative;}#sk-container-id-2 div.sk-item::before, #sk-container-id-2 div.sk-parallel-item::before {content: \"\";position: absolute;border-left: 1px solid gray;box-sizing: border-box;top: 0;bottom: 0;left: 50%;z-index: -1;}#sk-container-id-2 div.sk-parallel-item {display: flex;flex-direction: column;z-index: 1;position: relative;background-color: white;}#sk-container-id-2 div.sk-parallel-item:first-child::after {align-self: flex-end;width: 50%;}#sk-container-id-2 div.sk-parallel-item:last-child::after {align-self: flex-start;width: 50%;}#sk-container-id-2 div.sk-parallel-item:only-child::after {width: 0;}#sk-container-id-2 div.sk-dashed-wrapped {border: 1px dashed gray;margin: 0 0.4em 0.5em 0.4em;box-sizing: border-box;padding-bottom: 0.4em;background-color: white;}#sk-container-id-2 div.sk-label label {font-family: monospace;font-weight: bold;display: inline-block;line-height: 1.2em;}#sk-container-id-2 div.sk-label-container {text-align: center;}#sk-container-id-2 div.sk-container {/* jupyter's `normalize.less` sets `[hidden] { display: none; }` but bootstrap.min.css set `[hidden] { display: none !important; }` so we also need the `!important` here to be able to override the default hidden behavior on the sphinx rendered scikit-learn.org. See: https://github.com/scikit-learn/scikit-learn/issues/21755 */display: inline-block !important;position: relative;}#sk-container-id-2 div.sk-text-repr-fallback {display: none;}</style><div id=\"sk-container-id-2\" class=\"sk-top-container\"><div class=\"sk-text-repr-fallback\"><pre>RandomForestRegressor(max_features=3)</pre><b>In a Jupyter environment, please rerun this cell to show the HTML representation or trust the notebook. <br />On GitHub, the HTML representation is unable to render, please try loading this page with nbviewer.org.</b></div><div class=\"sk-container\" hidden><div class=\"sk-item\"><div class=\"sk-estimator sk-toggleable\"><input class=\"sk-toggleable__control sk-hidden--visually\" id=\"sk-estimator-id-2\" type=\"checkbox\" checked><label for=\"sk-estimator-id-2\" class=\"sk-toggleable__label sk-toggleable__label-arrow\">RandomForestRegressor</label><div class=\"sk-toggleable__content\"><pre>RandomForestRegressor(max_features=3)</pre></div></div></div></div></div>"
      ],
      "text/plain": [
       "RandomForestRegressor(max_features=3)"
      ]
     },
     "execution_count": 145,
     "metadata": {},
     "output_type": "execute_result"
    }
   ],
   "source": [
    "mod = GradientBoostingRegressor(random_state=seed)  \n",
    "\n",
    "\n",
    "param_grid={\n",
    "            'n_estimators': range(100, 500, 50),\n",
    "            'learning_rate': [0.0001, 0.0005, 0.001, 0.005, 0.01, 0.05, 0.1, 0.5]   \n",
    "            }\n",
    "\n",
    "gsc = GridSearchCV(estimator=mod, param_grid=param_grid, scoring='neg_mean_squared_error', cv=5)\n",
    "\n",
    "grid_result = gsc.fit(X_train, y_train)\n",
    "\n",
    "print(\"\\nGridSearch result: Best MSE: %.3f using %s\" % (grid_result.best_score_, grid_result.best_params_))\n",
    "\n",
    "#create and fit the best regression model\n",
    "best_model_gb = GradientBoostingRegressor(**grid_result.best_params_)\n",
    "\n",
    "best_model.fit(X_train, y_train)"
   ]
  },
  {
   "cell_type": "markdown",
   "metadata": {},
   "source": [
    "### 4. Predykcje"
   ]
  },
  {
   "cell_type": "code",
   "execution_count": 148,
   "metadata": {},
   "outputs": [
    {
     "name": "stderr",
     "output_type": "stream",
     "text": [
      "c:\\Users\\01149762\\Anaconda3\\envs\\daftacademy-ds\\lib\\site-packages\\sklearn\\base.py:443: UserWarning: X has feature names, but RandomForestRegressor was fitted without feature names\n",
      "  warnings.warn(\n"
     ]
    }
   ],
   "source": [
    "preds = best_model.predict(df_test)"
   ]
  },
  {
   "cell_type": "code",
   "execution_count": 149,
   "metadata": {},
   "outputs": [],
   "source": [
    "df_preds = pd.DataFrame({'MEDV': preds})"
   ]
  },
  {
   "cell_type": "code",
   "execution_count": 150,
   "metadata": {},
   "outputs": [
    {
     "data": {
      "text/html": [
       "<div>\n",
       "<style scoped>\n",
       "    .dataframe tbody tr th:only-of-type {\n",
       "        vertical-align: middle;\n",
       "    }\n",
       "\n",
       "    .dataframe tbody tr th {\n",
       "        vertical-align: top;\n",
       "    }\n",
       "\n",
       "    .dataframe thead th {\n",
       "        text-align: right;\n",
       "    }\n",
       "</style>\n",
       "<table border=\"1\" class=\"dataframe\">\n",
       "  <thead>\n",
       "    <tr style=\"text-align: right;\">\n",
       "      <th></th>\n",
       "      <th>MEDV</th>\n",
       "    </tr>\n",
       "  </thead>\n",
       "  <tbody>\n",
       "    <tr>\n",
       "      <th>0</th>\n",
       "      <td>104.144447</td>\n",
       "    </tr>\n",
       "    <tr>\n",
       "      <th>1</th>\n",
       "      <td>131.743135</td>\n",
       "    </tr>\n",
       "    <tr>\n",
       "      <th>2</th>\n",
       "      <td>58.405988</td>\n",
       "    </tr>\n",
       "    <tr>\n",
       "      <th>3</th>\n",
       "      <td>96.780549</td>\n",
       "    </tr>\n",
       "    <tr>\n",
       "      <th>4</th>\n",
       "      <td>85.621906</td>\n",
       "    </tr>\n",
       "    <tr>\n",
       "      <th>...</th>\n",
       "      <td>...</td>\n",
       "    </tr>\n",
       "    <tr>\n",
       "      <th>71</th>\n",
       "      <td>95.482750</td>\n",
       "    </tr>\n",
       "    <tr>\n",
       "      <th>72</th>\n",
       "      <td>48.022553</td>\n",
       "    </tr>\n",
       "    <tr>\n",
       "      <th>73</th>\n",
       "      <td>91.579533</td>\n",
       "    </tr>\n",
       "    <tr>\n",
       "      <th>74</th>\n",
       "      <td>93.957472</td>\n",
       "    </tr>\n",
       "    <tr>\n",
       "      <th>75</th>\n",
       "      <td>43.158829</td>\n",
       "    </tr>\n",
       "  </tbody>\n",
       "</table>\n",
       "<p>76 rows × 1 columns</p>\n",
       "</div>"
      ],
      "text/plain": [
       "          MEDV\n",
       "0   104.144447\n",
       "1   131.743135\n",
       "2    58.405988\n",
       "3    96.780549\n",
       "4    85.621906\n",
       "..         ...\n",
       "71   95.482750\n",
       "72   48.022553\n",
       "73   91.579533\n",
       "74   93.957472\n",
       "75   43.158829\n",
       "\n",
       "[76 rows x 1 columns]"
      ]
     },
     "execution_count": 150,
     "metadata": {},
     "output_type": "execute_result"
    }
   ],
   "source": [
    "df_preds"
   ]
  },
  {
   "cell_type": "code",
   "execution_count": 151,
   "metadata": {},
   "outputs": [],
   "source": [
    "df_preds.to_csv(\"./preds.csv\", index=False)"
   ]
  },
  {
   "cell_type": "code",
   "execution_count": null,
   "metadata": {},
   "outputs": [],
   "source": []
  }
 ],
 "metadata": {
  "interpreter": {
   "hash": "2b56681616f27f202e060e59de23dd05ac914dc6b3a6ae9be14abcccd2a677e8"
  },
  "kernelspec": {
   "display_name": "Python 3.10.4 ('daftacademy-ds')",
   "language": "python",
   "name": "python3"
  },
  "language_info": {
   "codemirror_mode": {
    "name": "ipython",
    "version": 3
   },
   "file_extension": ".py",
   "mimetype": "text/x-python",
   "name": "python",
   "nbconvert_exporter": "python",
   "pygments_lexer": "ipython3",
   "version": "3.10.4"
  },
  "orig_nbformat": 4
 },
 "nbformat": 4,
 "nbformat_minor": 2
}
