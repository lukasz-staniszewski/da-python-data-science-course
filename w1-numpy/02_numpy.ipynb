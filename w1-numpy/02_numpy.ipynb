{
 "cells": [
  {
   "cell_type": "markdown",
   "metadata": {},
   "source": [
    "**Tydzień 1 - Numpy (ale najpierw listy)**"
   ]
  },
  {
   "cell_type": "code",
   "execution_count": 1,
   "metadata": {},
   "outputs": [],
   "source": [
    "import numpy as np"
   ]
  },
  {
   "cell_type": "code",
   "execution_count": 2,
   "metadata": {},
   "outputs": [],
   "source": [
    "x = np.arange(10).reshape((2, 5))"
   ]
  },
  {
   "cell_type": "code",
   "execution_count": 3,
   "metadata": {},
   "outputs": [],
   "source": [
    "y = x.reshape((5,2))"
   ]
  },
  {
   "cell_type": "code",
   "execution_count": 4,
   "metadata": {},
   "outputs": [
    {
     "data": {
      "text/plain": [
       "array([[0, 1, 2, 3, 4],\n",
       "       [5, 6, 7, 8, 9]])"
      ]
     },
     "execution_count": 4,
     "metadata": {},
     "output_type": "execute_result"
    }
   ],
   "source": [
    "x"
   ]
  },
  {
   "cell_type": "code",
   "execution_count": 5,
   "metadata": {},
   "outputs": [],
   "source": [
    "y[0] = 12"
   ]
  },
  {
   "cell_type": "code",
   "execution_count": 6,
   "metadata": {},
   "outputs": [
    {
     "data": {
      "text/plain": [
       "array([[12, 12],\n",
       "       [ 2,  3],\n",
       "       [ 4,  5],\n",
       "       [ 6,  7],\n",
       "       [ 8,  9]])"
      ]
     },
     "execution_count": 6,
     "metadata": {},
     "output_type": "execute_result"
    }
   ],
   "source": [
    "y"
   ]
  },
  {
   "cell_type": "code",
   "execution_count": 7,
   "metadata": {},
   "outputs": [
    {
     "data": {
      "text/plain": [
       "array([[12, 12,  2,  3,  4],\n",
       "       [ 5,  6,  7,  8,  9]])"
      ]
     },
     "execution_count": 7,
     "metadata": {},
     "output_type": "execute_result"
    }
   ],
   "source": [
    "x"
   ]
  },
  {
   "cell_type": "markdown",
   "metadata": {},
   "source": [
    "Podstawą wszystkich obliczeń na komputerze są... liczby.\n",
    "Rzadko kiedy operujemy jednak na pojedynczych liczbach, z reguły pracujemy na całych tablicach/wektorach liczb.\n",
    "Do tego właśnie służy `numpy`.\n",
    "\n",
    "Ktoś mógłby zapytać _co złego jest w wbudowanym typie `list`_.\n",
    "Zacznijmy od przyjrzenia mu się bliżej."
   ]
  },
  {
   "cell_type": "markdown",
   "metadata": {},
   "source": [
    "## Listy przypomnienie"
   ]
  },
  {
   "cell_type": "markdown",
   "metadata": {},
   "source": [
    "### Tworzenie listy"
   ]
  },
  {
   "cell_type": "code",
   "execution_count": 8,
   "metadata": {},
   "outputs": [
    {
     "data": {
      "text/plain": [
       "[1, 2, 3]"
      ]
     },
     "execution_count": 8,
     "metadata": {},
     "output_type": "execute_result"
    }
   ],
   "source": [
    "l = [1, 2, 3] \n",
    "l"
   ]
  },
  {
   "cell_type": "code",
   "execution_count": 9,
   "metadata": {},
   "outputs": [
    {
     "data": {
      "text/plain": [
       "(list, 1, 3, 3, 6)"
      ]
     },
     "execution_count": 9,
     "metadata": {},
     "output_type": "execute_result"
    }
   ],
   "source": [
    "type(l), l[0], l[-1], len(l), sum(l)"
   ]
  },
  {
   "cell_type": "markdown",
   "metadata": {},
   "source": [
    "Lista może mieć w sobie elementy różnych typów: "
   ]
  },
  {
   "cell_type": "code",
   "execution_count": 10,
   "metadata": {},
   "outputs": [],
   "source": [
    "l2 = [1, \"a\", \"0\"]"
   ]
  },
  {
   "cell_type": "markdown",
   "metadata": {},
   "source": [
    "Indeksowanie elementów listy"
   ]
  },
  {
   "cell_type": "code",
   "execution_count": 11,
   "metadata": {},
   "outputs": [
    {
     "data": {
      "text/plain": [
       "(1, [1, 'a', '0'], '0')"
      ]
     },
     "execution_count": 11,
     "metadata": {},
     "output_type": "execute_result"
    }
   ],
   "source": [
    "l2[0], l2[:], l2[-1]"
   ]
  },
  {
   "cell_type": "markdown",
   "metadata": {},
   "source": [
    "Z racji, że w liście są elementy które nie wiadomo jak do siebie dodać to `sum(l2)` _rzuci_ błędem."
   ]
  },
  {
   "cell_type": "code",
   "execution_count": 12,
   "metadata": {},
   "outputs": [
    {
     "ename": "TypeError",
     "evalue": "unsupported operand type(s) for +: 'int' and 'str'",
     "output_type": "error",
     "traceback": [
      "\u001b[1;31m---------------------------------------------------------------------------\u001b[0m",
      "\u001b[1;31mTypeError\u001b[0m                                 Traceback (most recent call last)",
      "\u001b[1;32mc:\\Users\\01149762\\Documents\\AI\\daftcode-ds\\w1-numpy\\02_numpy.ipynb Cell 19'\u001b[0m in \u001b[0;36m<cell line: 1>\u001b[1;34m()\u001b[0m\n\u001b[1;32m----> <a href='vscode-notebook-cell:/c%3A/Users/01149762/Documents/AI/daftcode-ds/w1-numpy/02_numpy.ipynb#ch0000020?line=0'>1</a>\u001b[0m \u001b[39msum\u001b[39;49m(l2)\n",
      "\u001b[1;31mTypeError\u001b[0m: unsupported operand type(s) for +: 'int' and 'str'"
     ]
    }
   ],
   "source": [
    "sum(l2)"
   ]
  },
  {
   "cell_type": "markdown",
   "metadata": {},
   "source": [
    "Dodatkowa uwaga.\n",
    "(Choć nie powinniśmy) to python pozwoli zrobić `sum([1, 2.5, 3j])`, czyli policzyć sumę listy złożonej z elementów różnych typów."
   ]
  },
  {
   "cell_type": "code",
   "execution_count": 13,
   "metadata": {},
   "outputs": [
    {
     "name": "stdout",
     "output_type": "stream",
     "text": [
      "Element 1 jest typu <class 'int'>\n",
      "Element 2.5 jest typu <class 'float'>\n",
      "Element 3j jest typu <class 'complex'>\n"
     ]
    },
    {
     "data": {
      "text/plain": [
       "(3.5+3j)"
      ]
     },
     "execution_count": 13,
     "metadata": {},
     "output_type": "execute_result"
    }
   ],
   "source": [
    "l3 = [1, 2.5, 3j]\n",
    "for e in l3:\n",
    "    print(f\"Element {e} jest typu {type(e)}\")\n",
    "sum(l3)\n"
   ]
  },
  {
   "cell_type": "markdown",
   "metadata": {},
   "source": [
    "Warto pamiętać, że pomnożenie listy przez liczbę `int` powiela listę."
   ]
  },
  {
   "cell_type": "code",
   "execution_count": 14,
   "metadata": {},
   "outputs": [
    {
     "data": {
      "text/plain": [
       "[0, 0, 0, 0, 0]"
      ]
     },
     "execution_count": 14,
     "metadata": {},
     "output_type": "execute_result"
    }
   ],
   "source": [
    "[0] * 5"
   ]
  },
  {
   "cell_type": "code",
   "execution_count": 15,
   "metadata": {},
   "outputs": [
    {
     "data": {
      "text/plain": [
       "[1, 2, 3, 1, 2, 3, 1, 2, 3, 1, 2, 3]"
      ]
     },
     "execution_count": 15,
     "metadata": {},
     "output_type": "execute_result"
    }
   ],
   "source": [
    "[1, 2, 3] * 4"
   ]
  },
  {
   "cell_type": "markdown",
   "metadata": {},
   "source": [
    "W tym przypadku warto zauważyć pewną subtelność, która może powodować problemy w przyszłości.\n",
    "Elementami powiększonej listy będę _płytkie kopie_ elementów.\n",
    "\n",
    "Przykład więcej pokaże:"
   ]
  },
  {
   "cell_type": "code",
   "execution_count": 16,
   "metadata": {},
   "outputs": [
    {
     "data": {
      "text/plain": [
       "[[], [], []]"
      ]
     },
     "execution_count": 16,
     "metadata": {},
     "output_type": "execute_result"
    }
   ],
   "source": [
    "ll = [[]] * 3  # lista z trzema pustymi listami\n",
    "ll"
   ]
  },
  {
   "cell_type": "code",
   "execution_count": 17,
   "metadata": {},
   "outputs": [
    {
     "data": {
      "text/plain": [
       "[42]"
      ]
     },
     "execution_count": 17,
     "metadata": {},
     "output_type": "execute_result"
    }
   ],
   "source": [
    "ll[0].append(42)  # do pierwszej listy dodajemy 42\n",
    "ll[0]"
   ]
  },
  {
   "cell_type": "code",
   "execution_count": 18,
   "metadata": {},
   "outputs": [
    {
     "data": {
      "text/plain": [
       "[[42], [42], [42]]"
      ]
     },
     "execution_count": 18,
     "metadata": {},
     "output_type": "execute_result"
    }
   ],
   "source": [
    "ll  # okazuje się, że wszystkie listy to tak naprawdę ta sama lista!"
   ]
  },
  {
   "cell_type": "markdown",
   "metadata": {},
   "source": [
    "W tym kontekście polecam zapoznać się z tymi dwoma wątkami na Stack Overflow:\n",
    "\n",
    "- [least-astonishment-and-the-mutable-default-argument](https://stackoverflow.com/questions/1132941/least-astonishment-and-the-mutable-default-argument)\n",
    "- [what-is-the-pythonic-way-to-avoid-default-parameters-that-are-empty-lists](https://stackoverflow.com/questions/366422/what-is-the-pythonic-way-to-avoid-default-parameters-that-are-empty-lists)"
   ]
  },
  {
   "cell_type": "markdown",
   "metadata": {},
   "source": [
    "### Iterowanie po liście"
   ]
  },
  {
   "cell_type": "code",
   "execution_count": 19,
   "metadata": {},
   "outputs": [
    {
     "name": "stdout",
     "output_type": "stream",
     "text": [
      "[1, 2, 3]\n",
      "1\n",
      "4\n",
      "9\n"
     ]
    }
   ],
   "source": [
    "print(l)\n",
    "\n",
    "for e in l:\n",
    "    print(e**2)"
   ]
  },
  {
   "cell_type": "code",
   "execution_count": 20,
   "metadata": {},
   "outputs": [
    {
     "name": "stdout",
     "output_type": "stream",
     "text": [
      "0 1\n",
      "1 4\n",
      "2 9\n"
     ]
    }
   ],
   "source": [
    "for i, e in enumerate(l):\n",
    "    print(i, e**2)"
   ]
  },
  {
   "cell_type": "markdown",
   "metadata": {},
   "source": [
    "Warto zaprzyjaźniać się z _list comprehension_, jest niezwykle przydatne."
   ]
  },
  {
   "cell_type": "code",
   "execution_count": 21,
   "metadata": {},
   "outputs": [
    {
     "data": {
      "text/plain": [
       "[0, 1, 4, 9, 16, 25, 36, 49, 64, 81]"
      ]
     },
     "execution_count": 21,
     "metadata": {},
     "output_type": "execute_result"
    }
   ],
   "source": [
    "l3 = [i**2 for i in range(10)]\n",
    "l3"
   ]
  },
  {
   "cell_type": "markdown",
   "metadata": {},
   "source": [
    "### Indeksowanie listy"
   ]
  },
  {
   "cell_type": "markdown",
   "metadata": {},
   "source": [
    "Elementy od trzeciego do końca listy"
   ]
  },
  {
   "cell_type": "code",
   "execution_count": 22,
   "metadata": {},
   "outputs": [
    {
     "data": {
      "text/plain": [
       "[4, 9, 16, 25, 36, 49, 64, 81]"
      ]
     },
     "execution_count": 22,
     "metadata": {},
     "output_type": "execute_result"
    }
   ],
   "source": [
    "l3[2:]"
   ]
  },
  {
   "cell_type": "markdown",
   "metadata": {},
   "source": [
    "Elementy o indeksach od dwa (włącznie) do trzy (wyłącznie).\n",
    "Warto zwrócić uwagę, że ponieważ indeksowanie `l[i:j]` zwraca listę to dostajemy **listę** jedno elementową, a nie pojedynczy element `l3[2]`."
   ]
  },
  {
   "cell_type": "code",
   "execution_count": 23,
   "metadata": {},
   "outputs": [
    {
     "data": {
      "text/plain": [
       "[4]"
      ]
     },
     "execution_count": 23,
     "metadata": {},
     "output_type": "execute_result"
    }
   ],
   "source": [
    "l3[2:3]"
   ]
  },
  {
   "cell_type": "markdown",
   "metadata": {},
   "source": [
    "W pythonie istnieją indeksy ujemne, idą od końca.\n",
    "W tym przypadku dostaniemy całą listę oprócz ostatniego elementu."
   ]
  },
  {
   "cell_type": "code",
   "execution_count": 24,
   "metadata": {},
   "outputs": [
    {
     "data": {
      "text/plain": [
       "[0, 1, 4, 9, 16, 25, 36, 49, 64]"
      ]
     },
     "execution_count": 24,
     "metadata": {},
     "output_type": "execute_result"
    }
   ],
   "source": [
    "l3[:-1]"
   ]
  },
  {
   "cell_type": "markdown",
   "metadata": {},
   "source": [
    "Warto pomijać redundantne indeksy jak w przypadku poniżej gdzie chcemy wziąć elementy o indeksach mniejszych od 4."
   ]
  },
  {
   "cell_type": "code",
   "execution_count": 25,
   "metadata": {},
   "outputs": [
    {
     "data": {
      "text/plain": [
       "True"
      ]
     },
     "execution_count": 25,
     "metadata": {},
     "output_type": "execute_result"
    }
   ],
   "source": [
    "l3[0:4] == l3[:4]"
   ]
  },
  {
   "cell_type": "markdown",
   "metadata": {},
   "source": [
    "Domyśle indeksowanie pozwala również na branie co któregoś elementu oraz na odwracanie listy."
   ]
  },
  {
   "cell_type": "code",
   "execution_count": 26,
   "metadata": {},
   "outputs": [
    {
     "data": {
      "text/plain": [
       "[0, 4, 16, 36, 64]"
      ]
     },
     "execution_count": 26,
     "metadata": {},
     "output_type": "execute_result"
    }
   ],
   "source": [
    "l3[::2]"
   ]
  },
  {
   "cell_type": "code",
   "execution_count": 27,
   "metadata": {},
   "outputs": [
    {
     "data": {
      "text/plain": [
       "[9, 25, 49]"
      ]
     },
     "execution_count": 27,
     "metadata": {},
     "output_type": "execute_result"
    }
   ],
   "source": [
    "l3[3:8:2]  # Od elementu o indeksie do elementu o indeksie mniejszym od 8, co dwa czyli indeksy 3, 5, 7"
   ]
  },
  {
   "cell_type": "code",
   "execution_count": 28,
   "metadata": {},
   "outputs": [
    {
     "data": {
      "text/plain": [
       "[81, 64, 49, 36, 25, 16, 9, 4, 1, 0]"
      ]
     },
     "execution_count": 28,
     "metadata": {},
     "output_type": "execute_result"
    }
   ],
   "source": [
    "l3[::-1]  # Wszystkie elementy co -1 czyli odwrócenie listy."
   ]
  },
  {
   "cell_type": "markdown",
   "metadata": {},
   "source": [
    "## Numpy\n",
    "\n",
    "Przypomnieliśmy sobie działanie list w pythonie.\n",
    "W numpy'u podstawową _jednostką_ na jakiej będziemy operować jest `np.ndarray`, czyli _n-dimensional array_.\n",
    "Możemy więc myśleć o `ndarray`'u jak o n-wymiarowej tablicy/wektorze.\n",
    "Dla $n=1$ będzie to wektor, a dla $n=2$ macierz.\n",
    "W ogólności takie twory nazywane są z reguły **tensorami**, ale my będziemy nazywać je arrayami, bo z tą nazwą spotkacie się częściej.\n",
    "\n",
    "Za każdym razem gdy masz jakiś problem, zanim napiszesz na Slacku, pogoogluj. Prawdopodobnie na stack'u (StackOverflow) ktoś już miał to pytanie...\n",
    "Przykładowe frazy do googla:\n",
    "\n",
    "- _concat array horizontally numpy_\n",
    "- _reverse sort numpy_\n",
    "- _add dimension in front numpy_\n",
    "- _zeros bool array numba_"
   ]
  },
  {
   "cell_type": "markdown",
   "metadata": {},
   "source": [
    "\n",
    "### Podstawowe tworzenie i indeksowanie array'i\n",
    "\n",
    "Na początku zobaczymy, że wszystko co znamy z list tutaj również zadziała.\n",
    "\n",
    "[Dodatkowo patrz tworzenie array'i](https://numpy.org/doc/stable/user/basics.creation.html)"
   ]
  },
  {
   "cell_type": "markdown",
   "metadata": {},
   "source": [
    "![](images/import_numpy.png)"
   ]
  },
  {
   "cell_type": "code",
   "execution_count": 29,
   "metadata": {},
   "outputs": [],
   "source": [
    "import numpy as np"
   ]
  },
  {
   "cell_type": "code",
   "execution_count": 30,
   "metadata": {},
   "outputs": [
    {
     "data": {
      "text/plain": [
       "array([1, 2, 3])"
      ]
     },
     "execution_count": 30,
     "metadata": {},
     "output_type": "execute_result"
    }
   ],
   "source": [
    "x = np.array([1, 2, 3])  # w ten sposób tworzymy array na podstawie pythonowej listy\n",
    "x"
   ]
  },
  {
   "cell_type": "code",
   "execution_count": 31,
   "metadata": {},
   "outputs": [
    {
     "data": {
      "text/plain": [
       "(1, 3, 3)"
      ]
     },
     "execution_count": 31,
     "metadata": {},
     "output_type": "execute_result"
    }
   ],
   "source": [
    "x[0], x[-1], len(x)"
   ]
  },
  {
   "cell_type": "code",
   "execution_count": 32,
   "metadata": {},
   "outputs": [
    {
     "data": {
      "text/plain": [
       "array([2, 3])"
      ]
     },
     "execution_count": 32,
     "metadata": {},
     "output_type": "execute_result"
    }
   ],
   "source": [
    "x[1:]"
   ]
  },
  {
   "cell_type": "code",
   "execution_count": 33,
   "metadata": {},
   "outputs": [
    {
     "data": {
      "text/plain": [
       "array([3])"
      ]
     },
     "execution_count": 33,
     "metadata": {},
     "output_type": "execute_result"
    }
   ],
   "source": [
    "x[2:]"
   ]
  },
  {
   "cell_type": "code",
   "execution_count": 34,
   "metadata": {},
   "outputs": [
    {
     "data": {
      "text/plain": [
       "array([3, 2, 1])"
      ]
     },
     "execution_count": 34,
     "metadata": {},
     "output_type": "execute_result"
    }
   ],
   "source": [
    "x[::-1]"
   ]
  },
  {
   "cell_type": "code",
   "execution_count": 35,
   "metadata": {},
   "outputs": [
    {
     "data": {
      "text/plain": [
       "True"
      ]
     },
     "execution_count": 35,
     "metadata": {},
     "output_type": "execute_result"
    }
   ],
   "source": [
    "3 in x"
   ]
  },
  {
   "cell_type": "markdown",
   "metadata": {},
   "source": [
    "### Przydatne pola\n",
    "\n",
    "Array ma też kilka przydatnych pól:"
   ]
  },
  {
   "cell_type": "code",
   "execution_count": 36,
   "metadata": {},
   "outputs": [
    {
     "data": {
      "text/plain": [
       "(dtype('int32'), 1)"
      ]
     },
     "execution_count": 36,
     "metadata": {},
     "output_type": "execute_result"
    }
   ],
   "source": [
    "x.dtype, x.ndim  # typ danych w array'u oraz liczba wymiarów"
   ]
  },
  {
   "cell_type": "code",
   "execution_count": 37,
   "metadata": {},
   "outputs": [
    {
     "data": {
      "text/plain": [
       "(3,)"
      ]
     },
     "execution_count": 37,
     "metadata": {},
     "output_type": "execute_result"
    }
   ],
   "source": [
    "# ilość elementów listy w każdym z wymiarów\n",
    "# zwróć uwagę, że jest to krotka jednoelementowa\n",
    "x.shape"
   ]
  },
  {
   "cell_type": "markdown",
   "metadata": {},
   "source": [
    "### Przypadek wielowymiarowy"
   ]
  },
  {
   "cell_type": "markdown",
   "metadata": {},
   "source": [
    "Teraz stwórzmy array dwuwymiarowy przez wykorzystanie funkcji [reshape](https://numpy.org/doc/stable/reference/generated/numpy.reshape.html). "
   ]
  },
  {
   "cell_type": "code",
   "execution_count": 38,
   "metadata": {},
   "outputs": [
    {
     "data": {
      "text/plain": [
       "array([ 0,  1,  2,  3,  4,  5,  6,  7,  8,  9, 10, 11])"
      ]
     },
     "execution_count": 38,
     "metadata": {},
     "output_type": "execute_result"
    }
   ],
   "source": [
    "lr = list(range(12))\n",
    "a = np.array(lr)\n",
    "a"
   ]
  },
  {
   "cell_type": "markdown",
   "metadata": {},
   "source": [
    "Zwróć uwagę, że docelowe wymiary podajemy jako krotkę"
   ]
  },
  {
   "cell_type": "code",
   "execution_count": 39,
   "metadata": {},
   "outputs": [
    {
     "data": {
      "text/plain": [
       "array([[ 0,  1,  2,  3],\n",
       "       [ 4,  5,  6,  7],\n",
       "       [ 8,  9, 10, 11]])"
      ]
     },
     "execution_count": 39,
     "metadata": {},
     "output_type": "execute_result"
    }
   ],
   "source": [
    "a2 = a.reshape((3, 4))\n",
    "a2"
   ]
  },
  {
   "cell_type": "markdown",
   "metadata": {},
   "source": [
    "Wywołanie metody `reshape` na `a` nie zmienia go:"
   ]
  },
  {
   "cell_type": "code",
   "execution_count": 40,
   "metadata": {},
   "outputs": [
    {
     "data": {
      "text/plain": [
       "array([ 0,  1,  2,  3,  4,  5,  6,  7,  8,  9, 10, 11])"
      ]
     },
     "execution_count": 40,
     "metadata": {},
     "output_type": "execute_result"
    }
   ],
   "source": [
    "a"
   ]
  },
  {
   "cell_type": "code",
   "execution_count": 41,
   "metadata": {},
   "outputs": [
    {
     "data": {
      "text/plain": [
       "array([0, 1, 2, 3])"
      ]
     },
     "execution_count": 41,
     "metadata": {},
     "output_type": "execute_result"
    }
   ],
   "source": [
    "a2[0, :]  # pierwszy wiersz"
   ]
  },
  {
   "cell_type": "code",
   "execution_count": 42,
   "metadata": {},
   "outputs": [
    {
     "data": {
      "text/plain": [
       "array([0, 1, 2, 3])"
      ]
     },
     "execution_count": 42,
     "metadata": {},
     "output_type": "execute_result"
    }
   ],
   "source": [
    "a2[0, :]  # pierwsza kolumna"
   ]
  },
  {
   "cell_type": "code",
   "execution_count": 43,
   "metadata": {},
   "outputs": [
    {
     "data": {
      "text/plain": [
       "11"
      ]
     },
     "execution_count": 43,
     "metadata": {},
     "output_type": "execute_result"
    }
   ],
   "source": [
    "a2[2, 3]  # Element z 3-go wiersza i 4-tej kolumny"
   ]
  },
  {
   "cell_type": "code",
   "execution_count": 44,
   "metadata": {},
   "outputs": [
    {
     "data": {
      "text/plain": [
       "array([[ 0,  2],\n",
       "       [ 4,  6],\n",
       "       [ 8, 10]])"
      ]
     },
     "execution_count": 44,
     "metadata": {},
     "output_type": "execute_result"
    }
   ],
   "source": [
    "a2[:, ::2]  # wszystkie wiersze i co druga kolumna"
   ]
  },
  {
   "cell_type": "code",
   "execution_count": 45,
   "metadata": {},
   "outputs": [
    {
     "data": {
      "text/plain": [
       "array([[ 1,  3],\n",
       "       [ 5,  7],\n",
       "       [ 9, 11]])"
      ]
     },
     "execution_count": 45,
     "metadata": {},
     "output_type": "execute_result"
    }
   ],
   "source": [
    "a2[:, 1::2]  # wszystkie wiersze i co druga kolumna od tej o indeksie 1"
   ]
  },
  {
   "cell_type": "markdown",
   "metadata": {},
   "source": [
    "### Typowe sposoby tworzenia array'i\n",
    "\n",
    "W praktyce rzadko kiedy tworzymy array'e z list pythonowych, bo to oznacza, że najpierw musimy stworzyć listę, żeby dopiero później zamienić ją na array.\n",
    "\n",
    "Teraz poznamy najczęściej używane funkcje do tworzenia array'i."
   ]
  },
  {
   "cell_type": "code",
   "execution_count": 46,
   "metadata": {},
   "outputs": [
    {
     "data": {
      "text/plain": [
       "array([[0., 0., 0., 0.],\n",
       "       [0., 0., 0., 0.]])"
      ]
     },
     "execution_count": 46,
     "metadata": {},
     "output_type": "execute_result"
    }
   ],
   "source": [
    "np.zeros((2, 4))"
   ]
  },
  {
   "cell_type": "code",
   "execution_count": 47,
   "metadata": {},
   "outputs": [
    {
     "data": {
      "text/plain": [
       "array([[1., 1., 1.],\n",
       "       [1., 1., 1.]])"
      ]
     },
     "execution_count": 47,
     "metadata": {},
     "output_type": "execute_result"
    }
   ],
   "source": [
    "np.ones((2, 3))"
   ]
  },
  {
   "cell_type": "code",
   "execution_count": 48,
   "metadata": {},
   "outputs": [
    {
     "data": {
      "text/plain": [
       "array([0, 1, 2, 3, 4, 5, 6, 7, 8, 9])"
      ]
     },
     "execution_count": 48,
     "metadata": {},
     "output_type": "execute_result"
    }
   ],
   "source": [
    "np.arange(10)  # zwróć uwagę, że w ostatnia liczba jest mniejsza od 10"
   ]
  },
  {
   "cell_type": "code",
   "execution_count": 49,
   "metadata": {},
   "outputs": [
    {
     "data": {
      "text/plain": [
       "array([[0, 1, 2, 3, 4],\n",
       "       [5, 6, 7, 8, 9]])"
      ]
     },
     "execution_count": 49,
     "metadata": {},
     "output_type": "execute_result"
    }
   ],
   "source": [
    "np.arange(10).reshape((2, 5))"
   ]
  },
  {
   "cell_type": "code",
   "execution_count": 50,
   "metadata": {},
   "outputs": [
    {
     "data": {
      "text/plain": [
       "array([2, 5, 8])"
      ]
     },
     "execution_count": 50,
     "metadata": {},
     "output_type": "execute_result"
    }
   ],
   "source": [
    "np.arange(2, 10, 3)  # od, do, co ile"
   ]
  },
  {
   "cell_type": "code",
   "execution_count": 51,
   "metadata": {},
   "outputs": [
    {
     "data": {
      "text/plain": [
       "array([0.        , 0.10204082, 0.20408163, 0.30612245, 0.40816327,\n",
       "       0.51020408, 0.6122449 , 0.71428571, 0.81632653, 0.91836735,\n",
       "       1.02040816, 1.12244898, 1.2244898 , 1.32653061, 1.42857143,\n",
       "       1.53061224, 1.63265306, 1.73469388, 1.83673469, 1.93877551,\n",
       "       2.04081633, 2.14285714, 2.24489796, 2.34693878, 2.44897959,\n",
       "       2.55102041, 2.65306122, 2.75510204, 2.85714286, 2.95918367,\n",
       "       3.06122449, 3.16326531, 3.26530612, 3.36734694, 3.46938776,\n",
       "       3.57142857, 3.67346939, 3.7755102 , 3.87755102, 3.97959184,\n",
       "       4.08163265, 4.18367347, 4.28571429, 4.3877551 , 4.48979592,\n",
       "       4.59183673, 4.69387755, 4.79591837, 4.89795918, 5.        ])"
      ]
     },
     "execution_count": 51,
     "metadata": {},
     "output_type": "execute_result"
    }
   ],
   "source": [
    "np.linspace(0, 5)  # koniec jest również _włączony_"
   ]
  },
  {
   "cell_type": "code",
   "execution_count": 52,
   "metadata": {},
   "outputs": [
    {
     "data": {
      "text/plain": [
       "array([0.  , 1.25, 2.5 , 3.75, 5.  ])"
      ]
     },
     "execution_count": 52,
     "metadata": {},
     "output_type": "execute_result"
    }
   ],
   "source": [
    "np.linspace(0, 5, 5)"
   ]
  },
  {
   "cell_type": "code",
   "execution_count": 53,
   "metadata": {},
   "outputs": [
    {
     "data": {
      "text/plain": [
       "array([1, 1, 1, 2, 2, 2, 3, 3, 3])"
      ]
     },
     "execution_count": 53,
     "metadata": {},
     "output_type": "execute_result"
    }
   ],
   "source": [
    "np.array([1, 2, 3]).repeat(3)"
   ]
  },
  {
   "cell_type": "code",
   "execution_count": 54,
   "metadata": {},
   "outputs": [
    {
     "data": {
      "text/plain": [
       "array([1, 2, 3, 1, 2, 3, 1, 2, 3])"
      ]
     },
     "execution_count": 54,
     "metadata": {},
     "output_type": "execute_result"
    }
   ],
   "source": [
    "np.tile(np.array([1, 2, 3]), 3)"
   ]
  },
  {
   "cell_type": "code",
   "execution_count": 55,
   "metadata": {},
   "outputs": [
    {
     "data": {
      "text/plain": [
       "array([0.0937669 , 0.84341194, 0.39200927, 0.56079913, 0.94195183,\n",
       "       0.20836819, 0.55401533, 0.94823213, 0.81617803, 0.56100777])"
      ]
     },
     "execution_count": 55,
     "metadata": {},
     "output_type": "execute_result"
    }
   ],
   "source": [
    "np.random.rand(10)  # 10 liczb losowych z przedziału [0, 1)"
   ]
  },
  {
   "cell_type": "markdown",
   "metadata": {},
   "source": [
    "### Typy elementów w array'u\n",
    "\n",
    "Choć nie padło to jeszcze wprost to widać, że wszystkie elementy array'a **są tego samego typu**, a przez to zajmuje tyle samo miejsca na dysku.\n",
    "Jeżeli bardzo się postaramy to może to być najogólniejszy typ `object`, który trzyma referencje do obiektów, ale z reguły oznacza to, że gdzieś popełniliśmy błąd, przykład niżej.\n",
    "\n",
    "Poniżej przykłady jak zmieniać typ array'a bądź wybrać go przy tworzeniu. Z reguły domyślnie jest to `int`, bądź `float`.\n",
    "Kropeczka przy liczbie zawsze oznacza zmiennoprzecinkowość.\n",
    "\n",
    "[Patrz dtype, czyli data types](https://numpy.org/doc/stable/user/basics.types.html)"
   ]
  },
  {
   "cell_type": "code",
   "execution_count": 56,
   "metadata": {},
   "outputs": [
    {
     "data": {
      "text/plain": [
       "(array([0., 0., 0.]),\n",
       " array([0, 0, 0]),\n",
       " array([False, False, False]),\n",
       " array([0, 0, 0], dtype=uint16),\n",
       " array([0.+0.j, 0.+0.j, 0.+0.j]))"
      ]
     },
     "execution_count": 56,
     "metadata": {},
     "output_type": "execute_result"
    }
   ],
   "source": [
    "(np.zeros(3), \n",
    "np.zeros(3, dtype=int), \n",
    "np.zeros(3, dtype=bool), \n",
    "np.zeros(3, dtype=np.uint16), \n",
    "np.zeros(3, dtype=complex))"
   ]
  },
  {
   "cell_type": "code",
   "execution_count": 57,
   "metadata": {},
   "outputs": [
    {
     "data": {
      "text/plain": [
       "array([12.,  0., -1.], dtype=float16)"
      ]
     },
     "execution_count": 57,
     "metadata": {},
     "output_type": "execute_result"
    }
   ],
   "source": [
    "x = np.zeros(3)\n",
    "x[0] = 12\n",
    "x[2] = -1\n",
    "x.astype(np.float16)"
   ]
  },
  {
   "cell_type": "markdown",
   "metadata": {},
   "source": [
    "Znowu, oryginalny `x` nie został zmodyfikowany."
   ]
  },
  {
   "cell_type": "code",
   "execution_count": 58,
   "metadata": {},
   "outputs": [
    {
     "data": {
      "text/plain": [
       "array([12.,  0., -1.])"
      ]
     },
     "execution_count": 58,
     "metadata": {},
     "output_type": "execute_result"
    }
   ],
   "source": [
    "x"
   ]
  },
  {
   "cell_type": "markdown",
   "metadata": {},
   "source": [
    "Zwróć uwagę, że takie działanie może powodować [klasyczny overflow](https://pl.wikipedia.org/wiki/Przekroczenie_zakresu_liczb_ca%C5%82kowitych)!"
   ]
  },
  {
   "cell_type": "code",
   "execution_count": 59,
   "metadata": {},
   "outputs": [
    {
     "data": {
      "text/plain": [
       "array([ 12,   0, 255], dtype=uint8)"
      ]
     },
     "execution_count": 59,
     "metadata": {},
     "output_type": "execute_result"
    }
   ],
   "source": [
    "x.astype(np.uint8)"
   ]
  },
  {
   "cell_type": "code",
   "execution_count": 60,
   "metadata": {},
   "outputs": [
    {
     "data": {
      "text/plain": [
       "(array([1.e+100]), array([inf], dtype=float16))"
      ]
     },
     "execution_count": 60,
     "metadata": {},
     "output_type": "execute_result"
    }
   ],
   "source": [
    "x = np.array([1e100])\n",
    "x, x.astype(np.float16)"
   ]
  },
  {
   "cell_type": "code",
   "execution_count": 61,
   "metadata": {},
   "outputs": [
    {
     "data": {
      "text/plain": [
       "array(['ala', 2, <class 'int'>], dtype=object)"
      ]
     },
     "execution_count": 61,
     "metadata": {},
     "output_type": "execute_result"
    }
   ],
   "source": [
    "np.array([\"ala\", 2, int])"
   ]
  },
  {
   "cell_type": "markdown",
   "metadata": {},
   "source": [
    "### Nibyliczby specjalne\n",
    "\n",
    "Warto wiedzieć, że taki powyższy `np.inf` (ang. infinity) też jest liczbą tylko specjalną.\n",
    "Oprócz niego jest jeszcze `np.nan` czyli _not a number_.\n",
    "W ogólności jest to część standardu IEEE 754 mówiącego o tym jak powinny zachowywać się liczby zmiennoprzecinkowe. Takie same zachowania dostaniesz w każdym innym języku programowania (no tak mniej więcej)."
   ]
  },
  {
   "cell_type": "code",
   "execution_count": 62,
   "metadata": {},
   "outputs": [
    {
     "data": {
      "text/plain": [
       "(inf, inf, inf, nan, -inf, inf, nan)"
      ]
     },
     "execution_count": 62,
     "metadata": {},
     "output_type": "execute_result"
    }
   ],
   "source": [
    "a = np.inf\n",
    "a, a*5, a-4, a*0, -a, a+2, a-a"
   ]
  },
  {
   "cell_type": "markdown",
   "metadata": {},
   "source": [
    "**Uwaga!!!** Nan nanowi nie równy\n",
    "\n",
    "[Tu miał być mem z kaszką NAN ale nes*** nie wyszło z rosji]"
   ]
  },
  {
   "cell_type": "code",
   "execution_count": 63,
   "metadata": {},
   "outputs": [
    {
     "data": {
      "text/plain": [
       "(False, True, False, False)"
      ]
     },
     "execution_count": 63,
     "metadata": {},
     "output_type": "execute_result"
    }
   ],
   "source": [
    "np.nan == np.nan, np.nan != np.nan, np.nan < np.nan, np.nan >= np.nan"
   ]
  },
  {
   "cell_type": "markdown",
   "metadata": {},
   "source": [
    "### Array'e z napisami\n",
    "\n",
    "Przykład poniżej. Zwróć uwagę, na `dtype='<U4'`. Oznacza to stringa o długości 4 lub mniej.\n",
    "Oznacza to, że każdy element array'a zabiera tyle miejsca co string o długości 4.\n",
    "Z reguły jest to pożądane, bo na takich obiektach dobrze się komputerowi operuje, ale czasem gdy będziemy array stringów o długości 2-5 z jednym o długości 10000 znaków, wszystkie zaczną zajmować tyle miejsca co najdłuższy!!!"
   ]
  },
  {
   "cell_type": "code",
   "execution_count": 64,
   "metadata": {},
   "outputs": [
    {
     "data": {
      "text/plain": [
       "array(['Ala', 'ma', 'kota'], dtype='<U4')"
      ]
     },
     "execution_count": 64,
     "metadata": {},
     "output_type": "execute_result"
    }
   ],
   "source": [
    "vala = np.array([\"Ala\", \"ma\", \"kota\"])\n",
    "vala"
   ]
  },
  {
   "cell_type": "code",
   "execution_count": 65,
   "metadata": {},
   "outputs": [
    {
     "data": {
      "text/plain": [
       "(True, False)"
      ]
     },
     "execution_count": 65,
     "metadata": {},
     "output_type": "execute_result"
    }
   ],
   "source": [
    "# Tylko ostatni element jest inny\n",
    "vala1 = np.array([\"Ala\", \"ma\", \"kota\"] * 100)\n",
    "vala2 = np.array([\"Ala\", \"ma\", \"kota\"] * 99 + [\"Ala\", \"ma\", \"kotaaaaaaaaaaaaaaaaaaaaaaaaaaaaa\"])\n",
    "np.array_equal(vala1[:-1], vala2[:-1]), vala1[-1] == vala2[-1]"
   ]
  },
  {
   "cell_type": "markdown",
   "metadata": {},
   "source": [
    "Rozmiar pojedynczego elementu oraz rozmiar całej tablicy w pamięci:"
   ]
  },
  {
   "cell_type": "code",
   "execution_count": 66,
   "metadata": {},
   "outputs": [
    {
     "data": {
      "text/plain": [
       "(16, 4800)"
      ]
     },
     "execution_count": 66,
     "metadata": {},
     "output_type": "execute_result"
    }
   ],
   "source": [
    "vala1.itemsize, vala1.itemsize * vala1.size"
   ]
  },
  {
   "cell_type": "code",
   "execution_count": 67,
   "metadata": {},
   "outputs": [
    {
     "data": {
      "text/plain": [
       "(128, 38400)"
      ]
     },
     "execution_count": 67,
     "metadata": {},
     "output_type": "execute_result"
    }
   ],
   "source": [
    "vala2.itemsize, vala2.itemsize * vala2.size"
   ]
  },
  {
   "cell_type": "code",
   "execution_count": 68,
   "metadata": {},
   "outputs": [
    {
     "data": {
      "text/plain": [
       "8.0"
      ]
     },
     "execution_count": 68,
     "metadata": {},
     "output_type": "execute_result"
    }
   ],
   "source": [
    "38400 / 4800"
   ]
  },
  {
   "cell_type": "markdown",
   "metadata": {},
   "source": [
    "Drugi array zajmuje 8 razy więcej miejsca, mimo różnicy tylko w jednym elemencie!"
   ]
  },
  {
   "cell_type": "markdown",
   "metadata": {},
   "source": [
    "### Operacje na array'ach\n",
    "\n",
    "Ok, umiemy tworzyć i indeksować array'e, ale po co?\n",
    "Otóż żeby coś na nich liczyć!\n",
    "\n",
    "To co odróżnia array'e od list to ich **zwektoryzowanie**!\n",
    "To oznacza, że zapominamy o pętlach i od teraz dokonujemy operacji na całych array'ach!\n"
   ]
  },
  {
   "cell_type": "code",
   "execution_count": 69,
   "metadata": {},
   "outputs": [
    {
     "data": {
      "text/plain": [
       "array([0, 1, 2, 3])"
      ]
     },
     "execution_count": 69,
     "metadata": {},
     "output_type": "execute_result"
    }
   ],
   "source": [
    "x = np.arange(4)\n",
    "x"
   ]
  },
  {
   "cell_type": "code",
   "execution_count": 70,
   "metadata": {},
   "outputs": [
    {
     "data": {
      "text/plain": [
       "array([0, 2, 4, 6])"
      ]
     },
     "execution_count": 70,
     "metadata": {},
     "output_type": "execute_result"
    }
   ],
   "source": [
    "x * 2"
   ]
  },
  {
   "cell_type": "code",
   "execution_count": 71,
   "metadata": {},
   "outputs": [
    {
     "data": {
      "text/plain": [
       "array([0, 1, 4, 9], dtype=int32)"
      ]
     },
     "execution_count": 71,
     "metadata": {},
     "output_type": "execute_result"
    }
   ],
   "source": [
    "x ** 2"
   ]
  },
  {
   "cell_type": "code",
   "execution_count": 72,
   "metadata": {},
   "outputs": [
    {
     "data": {
      "text/plain": [
       "array([0.        , 0.84147098, 0.90929743, 0.14112001])"
      ]
     },
     "execution_count": 72,
     "metadata": {},
     "output_type": "execute_result"
    }
   ],
   "source": [
    "np.sin(x)"
   ]
  },
  {
   "cell_type": "markdown",
   "metadata": {},
   "source": [
    "Co ważne (z punktu widzenia wydajności) to array'e numpy'owe _żyją_ jako tablice w C.\n",
    "Wykonanie operacji `y = x * 2` oznacza wymnożenie tablicy przez 2 w C i dopiero później przekazanie wyniku do pythona.\n",
    "\n",
    "Dzięki temu numpy jest równie szybki jakby napisać:\n",
    "\n",
    "```c\n",
    "int x[10];\n",
    "int y[10];\n",
    "for (int i=0; i<10; i++)\n",
    "    x[i] = i;\n",
    "for (int i=0; i<10; i++)\n",
    "    y[i] = x[i] * 2;\n",
    "```\n",
    "\n",
    "Tylko _troszkę_ bardziej przyjemny w obsłudze :)"
   ]
  },
  {
   "cell_type": "markdown",
   "metadata": {},
   "source": [
    "![](images/cpp_numpy.jpg)"
   ]
  },
  {
   "cell_type": "markdown",
   "metadata": {},
   "source": [
    "![](images/behind_scenes.webp)"
   ]
  },
  {
   "cell_type": "code",
   "execution_count": 73,
   "metadata": {},
   "outputs": [
    {
     "data": {
      "text/plain": [
       "(array([0, 1, 2, 3]), array([4, 1, 2, 1]))"
      ]
     },
     "execution_count": 73,
     "metadata": {},
     "output_type": "execute_result"
    }
   ],
   "source": [
    "y = np.array([4, 1, 2, 1])\n",
    "x, y"
   ]
  },
  {
   "cell_type": "markdown",
   "metadata": {},
   "source": [
    "Mnożenie element po elemencie dwóch wektorów jest bajecznie proste:"
   ]
  },
  {
   "cell_type": "code",
   "execution_count": 74,
   "metadata": {},
   "outputs": [
    {
     "data": {
      "text/plain": [
       "(array([0, 1, 4, 3]),\n",
       " array([0., 1., 1., 3.]),\n",
       " array([4, 2, 4, 4]),\n",
       " array([-4,  0,  0,  2]))"
      ]
     },
     "execution_count": 74,
     "metadata": {},
     "output_type": "execute_result"
    }
   ],
   "source": [
    "x*y, x/y, x+y, x-y"
   ]
  },
  {
   "cell_type": "code",
   "execution_count": 75,
   "metadata": {},
   "outputs": [
    {
     "data": {
      "text/plain": [
       "array([0, 1, 0, 1], dtype=int32)"
      ]
     },
     "execution_count": 75,
     "metadata": {},
     "output_type": "execute_result"
    }
   ],
   "source": [
    "x % 2  # reszta z dzielenia przez 2"
   ]
  },
  {
   "cell_type": "markdown",
   "metadata": {},
   "source": [
    "Podobnie jak zadanie\n",
    "\n",
    "> Dla wektorów x i y znajdź maksymalną wartość kwadratu sinusa ich iloczynu element po elemencie"
   ]
  },
  {
   "cell_type": "code",
   "execution_count": 76,
   "metadata": {},
   "outputs": [
    {
     "data": {
      "text/plain": [
       "0.7080734182735712"
      ]
     },
     "execution_count": 76,
     "metadata": {},
     "output_type": "execute_result"
    }
   ],
   "source": [
    "z1 = x * y  # iloczyn element po elemencie\n",
    "z2 = np.sin(z1)  # sinus iloczynu\n",
    "z3 = z2 ** 2  # jego kwadrat\n",
    "z4 = np.max(z3)  # maksymalny element array'a\n",
    "z4"
   ]
  },
  {
   "cell_type": "markdown",
   "metadata": {},
   "source": [
    "Oczywiście można to zrobić w jednej linijce"
   ]
  },
  {
   "cell_type": "code",
   "execution_count": 77,
   "metadata": {},
   "outputs": [
    {
     "data": {
      "text/plain": [
       "0.7080734182735712"
      ]
     },
     "execution_count": 77,
     "metadata": {},
     "output_type": "execute_result"
    }
   ],
   "source": [
    "(np.sin(x * y) ** 2).max()"
   ]
  },
  {
   "cell_type": "markdown",
   "metadata": {},
   "source": [
    "### Operacje logiczne\n",
    "\n",
    "Podobnie jak powyżej, te też są zwektoryzowane!"
   ]
  },
  {
   "cell_type": "code",
   "execution_count": 78,
   "metadata": {},
   "outputs": [
    {
     "data": {
      "text/plain": [
       "(array([0, 1, 2, 3]), array([False, False,  True,  True]))"
      ]
     },
     "execution_count": 78,
     "metadata": {},
     "output_type": "execute_result"
    }
   ],
   "source": [
    "x, x > 1"
   ]
  },
  {
   "cell_type": "code",
   "execution_count": 79,
   "metadata": {},
   "outputs": [
    {
     "data": {
      "text/plain": [
       "array([ True, False,  True,  True])"
      ]
     },
     "execution_count": 79,
     "metadata": {},
     "output_type": "execute_result"
    }
   ],
   "source": [
    "x != 1"
   ]
  },
  {
   "cell_type": "code",
   "execution_count": 80,
   "metadata": {},
   "outputs": [
    {
     "data": {
      "text/plain": [
       "array([False, False, False,  True])"
      ]
     },
     "execution_count": 80,
     "metadata": {},
     "output_type": "execute_result"
    }
   ],
   "source": [
    "x == 3"
   ]
  },
  {
   "cell_type": "code",
   "execution_count": 81,
   "metadata": {},
   "outputs": [
    {
     "data": {
      "text/plain": [
       "array([ True, False, False,  True,  True])"
      ]
     },
     "execution_count": 81,
     "metadata": {},
     "output_type": "execute_result"
    }
   ],
   "source": [
    "xb1 = np.array([True, False, False, True, True])\n",
    "xb1"
   ]
  },
  {
   "cell_type": "code",
   "execution_count": 82,
   "metadata": {},
   "outputs": [
    {
     "data": {
      "text/plain": [
       "array([False,  True,  True, False, False])"
      ]
     },
     "execution_count": 82,
     "metadata": {},
     "output_type": "execute_result"
    }
   ],
   "source": [
    "~xb1"
   ]
  },
  {
   "cell_type": "code",
   "execution_count": 83,
   "metadata": {},
   "outputs": [
    {
     "data": {
      "text/plain": [
       "array([ True, False, False, False,  True])"
      ]
     },
     "execution_count": 83,
     "metadata": {},
     "output_type": "execute_result"
    }
   ],
   "source": [
    "xb2 = np.array([True, False, True, False, True])\n",
    "# Logiczne i\n",
    "xb1 & xb2"
   ]
  },
  {
   "cell_type": "code",
   "execution_count": 84,
   "metadata": {},
   "outputs": [
    {
     "data": {
      "text/plain": [
       "array([ True, False,  True,  True,  True])"
      ]
     },
     "execution_count": 84,
     "metadata": {},
     "output_type": "execute_result"
    }
   ],
   "source": [
    "# Logiczne lub\n",
    "xb1 | xb2"
   ]
  },
  {
   "cell_type": "markdown",
   "metadata": {},
   "source": [
    "Zwróć szczególną uwagę gdy łączysz `!=` / `==` itp. z `&`/`|`!!!\n",
    "Trzeba dostawiać nawiasy dookoła `!=` / `==` itp.\n",
    "\n",
    "Jest to spowodowane priorytetem operatorów, trochę tak jak trzeba dostawić nawias, żeby $2 + 2 * 2 == 8$"
   ]
  },
  {
   "cell_type": "code",
   "execution_count": 85,
   "metadata": {},
   "outputs": [
    {
     "ename": "ValueError",
     "evalue": "The truth value of an array with more than one element is ambiguous. Use a.any() or a.all()",
     "output_type": "error",
     "traceback": [
      "\u001b[1;31m---------------------------------------------------------------------------\u001b[0m",
      "\u001b[1;31mValueError\u001b[0m                                Traceback (most recent call last)",
      "\u001b[1;32mc:\\Users\\01149762\\Documents\\AI\\daftcode-ds\\w1-numpy\\02_numpy.ipynb Cell 130'\u001b[0m in \u001b[0;36m<cell line: 1>\u001b[1;34m()\u001b[0m\n\u001b[1;32m----> <a href='vscode-notebook-cell:/c%3A/Users/01149762/Documents/AI/daftcode-ds/w1-numpy/02_numpy.ipynb#ch0000131?line=0'>1</a>\u001b[0m x \u001b[39m>\u001b[39m \u001b[39m1\u001b[39m \u001b[39m&\u001b[39m x \u001b[39m<\u001b[39m \u001b[39m3\u001b[39m\n",
      "\u001b[1;31mValueError\u001b[0m: The truth value of an array with more than one element is ambiguous. Use a.any() or a.all()"
     ]
    }
   ],
   "source": [
    "x > 1 & x < 3"
   ]
  },
  {
   "cell_type": "code",
   "execution_count": 86,
   "metadata": {},
   "outputs": [
    {
     "data": {
      "text/plain": [
       "array([False, False,  True, False])"
      ]
     },
     "execution_count": 86,
     "metadata": {},
     "output_type": "execute_result"
    }
   ],
   "source": [
    "(x > 1) & (x < 3)"
   ]
  },
  {
   "cell_type": "markdown",
   "metadata": {},
   "source": [
    "### Operacje macierzowe\n",
    "\n",
    "Skoro `x * y` mnoży wektory element po elemencie to w jaki sposób w numpy'u reprezentowane jest mnożenie wektorowe?"
   ]
  },
  {
   "cell_type": "code",
   "execution_count": 87,
   "metadata": {},
   "outputs": [
    {
     "data": {
      "text/plain": [
       "(array([0, 1, 2, 3]), array([4, 1, 2, 1]))"
      ]
     },
     "execution_count": 87,
     "metadata": {},
     "output_type": "execute_result"
    }
   ],
   "source": [
    "x, y"
   ]
  },
  {
   "cell_type": "markdown",
   "metadata": {},
   "source": [
    "Iloczyn skalarny:\n",
    "\n",
    "Zwróć uwagę na to, że numpy nie jest za bardzo _strict_ jak chodzi o pionowość/poziomość wektorów w tym przypadku.\n",
    "W wielu językach (i matematyce) żeby ta operacja miała sens to $y$ powinien być wektorem pionowym"
   ]
  },
  {
   "cell_type": "code",
   "execution_count": 88,
   "metadata": {},
   "outputs": [
    {
     "data": {
      "text/plain": [
       "True"
      ]
     },
     "execution_count": 88,
     "metadata": {},
     "output_type": "execute_result"
    }
   ],
   "source": [
    "x @ y == (x * y).sum()"
   ]
  },
  {
   "cell_type": "code",
   "execution_count": 89,
   "metadata": {},
   "outputs": [],
   "source": [
    "M1 = np.arange(12).reshape((3, 4))\n",
    "v1 = np.array([0, 1, 2, 3])"
   ]
  },
  {
   "cell_type": "markdown",
   "metadata": {},
   "source": [
    "Gdy _ma to sens_ numpy wymnoży każdy wiersz macierzy przez drugi array, tak długo jak mają odpowiednie rozmiary. [Patrz broadcasting](https://numpy.org/doc/stable/user/basics.broadcasting.html)"
   ]
  },
  {
   "cell_type": "code",
   "execution_count": 90,
   "metadata": {},
   "outputs": [
    {
     "data": {
      "text/plain": [
       "array([[ 0,  1,  4,  9],\n",
       "       [ 0,  5, 12, 21],\n",
       "       [ 0,  9, 20, 33]])"
      ]
     },
     "execution_count": 90,
     "metadata": {},
     "output_type": "execute_result"
    }
   ],
   "source": [
    "M1 * v1"
   ]
  },
  {
   "cell_type": "code",
   "execution_count": 91,
   "metadata": {},
   "outputs": [
    {
     "data": {
      "text/plain": [
       "array([14, 38, 62])"
      ]
     },
     "execution_count": 91,
     "metadata": {},
     "output_type": "execute_result"
    }
   ],
   "source": [
    "M1 @ v1"
   ]
  },
  {
   "cell_type": "code",
   "execution_count": 92,
   "metadata": {},
   "outputs": [
    {
     "ename": "ValueError",
     "evalue": "matmul: Input operand 1 has a mismatch in its core dimension 0, with gufunc signature (n?,k),(k,m?)->(n?,m?) (size 3 is different from 4)",
     "output_type": "error",
     "traceback": [
      "\u001b[1;31m---------------------------------------------------------------------------\u001b[0m",
      "\u001b[1;31mValueError\u001b[0m                                Traceback (most recent call last)",
      "\u001b[1;32mc:\\Users\\01149762\\Documents\\AI\\daftcode-ds\\w1-numpy\\02_numpy.ipynb Cell 140'\u001b[0m in \u001b[0;36m<cell line: 1>\u001b[1;34m()\u001b[0m\n\u001b[1;32m----> <a href='vscode-notebook-cell:/c%3A/Users/01149762/Documents/AI/daftcode-ds/w1-numpy/02_numpy.ipynb#ch0000141?line=0'>1</a>\u001b[0m v1 \u001b[39m@\u001b[39;49m M1\n",
      "\u001b[1;31mValueError\u001b[0m: matmul: Input operand 1 has a mismatch in its core dimension 0, with gufunc signature (n?,k),(k,m?)->(n?,m?) (size 3 is different from 4)"
     ]
    }
   ],
   "source": [
    "v1 @ M1"
   ]
  },
  {
   "cell_type": "code",
   "execution_count": 93,
   "metadata": {},
   "outputs": [],
   "source": [
    "M2 = np.arange(9).reshape((3, 3))\n",
    "v2 = np.array([0, 1, 2])"
   ]
  },
  {
   "cell_type": "code",
   "execution_count": 94,
   "metadata": {},
   "outputs": [
    {
     "data": {
      "text/plain": [
       "array([15, 18, 21])"
      ]
     },
     "execution_count": 94,
     "metadata": {},
     "output_type": "execute_result"
    }
   ],
   "source": [
    "v2 @ M2"
   ]
  },
  {
   "cell_type": "markdown",
   "metadata": {},
   "source": [
    "Nie zawsze jednak numpy łyknie co popadnie i aż takich herezji uprawiać nie można:"
   ]
  },
  {
   "cell_type": "code",
   "execution_count": 95,
   "metadata": {},
   "outputs": [
    {
     "ename": "ValueError",
     "evalue": "matmul: Input operand 1 has a mismatch in its core dimension 0, with gufunc signature (n?,k),(k,m?)->(n?,m?) (size 3 is different from 1)",
     "output_type": "error",
     "traceback": [
      "\u001b[1;31m---------------------------------------------------------------------------\u001b[0m",
      "\u001b[1;31mValueError\u001b[0m                                Traceback (most recent call last)",
      "\u001b[1;32mc:\\Users\\01149762\\Documents\\AI\\daftcode-ds\\w1-numpy\\02_numpy.ipynb Cell 144'\u001b[0m in \u001b[0;36m<cell line: 1>\u001b[1;34m()\u001b[0m\n\u001b[1;32m----> <a href='vscode-notebook-cell:/c%3A/Users/01149762/Documents/AI/daftcode-ds/w1-numpy/02_numpy.ipynb#ch0000145?line=0'>1</a>\u001b[0m v2\u001b[39m.\u001b[39;49mreshape((\u001b[39m3\u001b[39;49m, \u001b[39m1\u001b[39;49m)) \u001b[39m@\u001b[39;49m M2\n",
      "\u001b[1;31mValueError\u001b[0m: matmul: Input operand 1 has a mismatch in its core dimension 0, with gufunc signature (n?,k),(k,m?)->(n?,m?) (size 3 is different from 1)"
     ]
    }
   ],
   "source": [
    "v2.reshape((3, 1)) @ M2"
   ]
  },
  {
   "cell_type": "markdown",
   "metadata": {},
   "source": [
    "Poniższa operacja nie ma sensu w matematyce. Wynikiem jest matematyczne $v_2 M_2 v_2^T$."
   ]
  },
  {
   "cell_type": "markdown",
   "metadata": {},
   "source": [
    "$$\n",
    "x = [12, 42, 32, 41]\n",
    "M =\n",
    "$$"
   ]
  },
  {
   "cell_type": "code",
   "execution_count": 96,
   "metadata": {},
   "outputs": [
    {
     "data": {
      "text/plain": [
       "60"
      ]
     },
     "execution_count": 96,
     "metadata": {},
     "output_type": "execute_result"
    }
   ],
   "source": [
    "v2 @ M2 @ v2"
   ]
  },
  {
   "cell_type": "markdown",
   "metadata": {},
   "source": [
    "Czasem potrafi powodować to dziwne i nieoczekiwane problemy..."
   ]
  },
  {
   "cell_type": "markdown",
   "metadata": {},
   "source": [
    "### Łączenie array'ów\n",
    "\n",
    "Nie jest niczym wymyślnym żeby chcieć połączyć ze sobą dwa array'e, zobacz poniżej jak możesz to zrobić."
   ]
  },
  {
   "cell_type": "code",
   "execution_count": 97,
   "metadata": {},
   "outputs": [
    {
     "data": {
      "text/plain": [
       "array([0, 1, 2, 3, 4, 5])"
      ]
     },
     "execution_count": 97,
     "metadata": {},
     "output_type": "execute_result"
    }
   ],
   "source": [
    "x1 = np.array([0, 1, 2])\n",
    "x2 = np.array([3, 4, 5])\n",
    "np.hstack([x1, x2])"
   ]
  },
  {
   "cell_type": "code",
   "execution_count": 98,
   "metadata": {},
   "outputs": [
    {
     "data": {
      "text/plain": [
       "array([[0, 1, 2],\n",
       "       [3, 4, 5]])"
      ]
     },
     "execution_count": 98,
     "metadata": {},
     "output_type": "execute_result"
    }
   ],
   "source": [
    "np.vstack([x1, x2])"
   ]
  },
  {
   "cell_type": "markdown",
   "metadata": {},
   "source": [
    "W machine learningu przydatne jest również łączenie po konkretnym wymiarze.\n",
    "Często operując na obrazkach mamy jeden tensor z wieloma obrazkami i wtedy mówimy o 4 wymiarach `(B, C, H, W)`:\n",
    "\n",
    "- B -- ilość obrazków w tzw. batchu\n",
    "- C -- ilość kanałów, z reguły 3 dla RGB, 1 dla czarno-białych obrazków, 4 dla obrazków z przeźroczystością. Co ciekawe zdjęcia satelitarne często mają jeszcze więcej kanałów.\n",
    "- H -- wysokość obrazka\n",
    "- W -- szerokość obrazka\n",
    "\n",
    "Warto zauważyć, że wszystkie obrazki muszą mieć wtedy stały rozmiar, wrócimy do tego na 4. spotkaniu."
   ]
  },
  {
   "cell_type": "code",
   "execution_count": 99,
   "metadata": {},
   "outputs": [],
   "source": [
    "M1 = np.arange(9).reshape((1, 1, 9, 1))\n",
    "M2 = np.arange(9, 18).reshape((1, 1, 9, 1))"
   ]
  },
  {
   "cell_type": "code",
   "execution_count": 100,
   "metadata": {},
   "outputs": [
    {
     "data": {
      "text/plain": [
       "(2, 1, 9, 1)"
      ]
     },
     "execution_count": 100,
     "metadata": {},
     "output_type": "execute_result"
    }
   ],
   "source": [
    "np.concatenate((M1, M2), axis=0).shape"
   ]
  },
  {
   "cell_type": "code",
   "execution_count": 101,
   "metadata": {},
   "outputs": [
    {
     "data": {
      "text/plain": [
       "(1, 2, 9, 1)"
      ]
     },
     "execution_count": 101,
     "metadata": {},
     "output_type": "execute_result"
    }
   ],
   "source": [
    "np.concatenate((M1, M2), axis=1).shape"
   ]
  },
  {
   "cell_type": "code",
   "execution_count": 102,
   "metadata": {},
   "outputs": [
    {
     "data": {
      "text/plain": [
       "(1, 1, 18, 1)"
      ]
     },
     "execution_count": 102,
     "metadata": {},
     "output_type": "execute_result"
    }
   ],
   "source": [
    "np.concatenate((M1, M2), axis=2).shape"
   ]
  },
  {
   "cell_type": "code",
   "execution_count": 103,
   "metadata": {},
   "outputs": [
    {
     "data": {
      "text/plain": [
       "(1, 1, 9, 2)"
      ]
     },
     "execution_count": 103,
     "metadata": {},
     "output_type": "execute_result"
    }
   ],
   "source": [
    "np.concatenate((M1, M2), axis=3).shape"
   ]
  },
  {
   "cell_type": "markdown",
   "metadata": {},
   "source": [
    "### Metody na array'ach\n",
    "\n",
    "Jak możesz zauważyć powyżej, zamiast pisać `np.max(x)`, napisałem `x.max()` korzystając z obiektowości pythona.\n",
    "Poniżej pokażę kilka z dostępnych metod array'a."
   ]
  },
  {
   "cell_type": "code",
   "execution_count": 104,
   "metadata": {},
   "outputs": [
    {
     "data": {
      "text/plain": [
       "array([[ 0,  1,  2,  3],\n",
       "       [ 4,  5,  6,  7],\n",
       "       [ 8,  9, 10, 11]])"
      ]
     },
     "execution_count": 104,
     "metadata": {},
     "output_type": "execute_result"
    }
   ],
   "source": [
    "a2"
   ]
  },
  {
   "cell_type": "code",
   "execution_count": 105,
   "metadata": {},
   "outputs": [
    {
     "data": {
      "text/plain": [
       "(0, 11, 66)"
      ]
     },
     "execution_count": 105,
     "metadata": {},
     "output_type": "execute_result"
    }
   ],
   "source": [
    "a2.min(), a2.max(), a2.sum()"
   ]
  },
  {
   "cell_type": "code",
   "execution_count": 106,
   "metadata": {},
   "outputs": [
    {
     "data": {
      "text/plain": [
       "array([0.13669211, 0.57807813, 0.53900693, 0.27559846, 0.389938  ,\n",
       "       0.64725516, 0.7738507 , 0.83661497, 0.47026047, 0.90224406])"
      ]
     },
     "execution_count": 106,
     "metadata": {},
     "output_type": "execute_result"
    }
   ],
   "source": [
    "xr = np.random.rand(10) \n",
    "xr"
   ]
  },
  {
   "cell_type": "code",
   "execution_count": 107,
   "metadata": {},
   "outputs": [
    {
     "data": {
      "text/plain": [
       "(0, 9)"
      ]
     },
     "execution_count": 107,
     "metadata": {},
     "output_type": "execute_result"
    }
   ],
   "source": [
    "xr.argmin(), xr.argmax()"
   ]
  },
  {
   "cell_type": "code",
   "execution_count": 108,
   "metadata": {},
   "outputs": [
    {
     "data": {
      "text/plain": [
       "array([0.14, 0.58, 0.54, 0.28, 0.39, 0.65, 0.77, 0.84, 0.47, 0.9 ])"
      ]
     },
     "execution_count": 108,
     "metadata": {},
     "output_type": "execute_result"
    }
   ],
   "source": [
    "xr.round(2)"
   ]
  },
  {
   "cell_type": "markdown",
   "metadata": {},
   "source": [
    "Dodatkowo wiele z tych operacji posiada parametr `axis` który pozwala wybrać oś względem której dokonana ma być operacja.\n",
    "W przypadku macierzy możemy wybrać czy chcemy policzyć sumę po całości `axis=None` (domyślnie), czy po kolumnach `axis=0`, czy po wierszach `axis=1`."
   ]
  },
  {
   "cell_type": "code",
   "execution_count": 109,
   "metadata": {},
   "outputs": [
    {
     "data": {
      "text/plain": [
       "(array([0, 1, 2, 3]), array([ 8,  9, 10, 11]), array([12, 15, 18, 21]))"
      ]
     },
     "execution_count": 109,
     "metadata": {},
     "output_type": "execute_result"
    }
   ],
   "source": [
    "a2.min(axis=0), a2.max(axis=0), a2.sum(axis=0)"
   ]
  },
  {
   "cell_type": "code",
   "execution_count": 110,
   "metadata": {},
   "outputs": [
    {
     "data": {
      "text/plain": [
       "(array([0, 4, 8]), array([ 3,  7, 11]), array([ 6, 22, 38]))"
      ]
     },
     "execution_count": 110,
     "metadata": {},
     "output_type": "execute_result"
    }
   ],
   "source": [
    "a2.min(axis=1), a2.max(axis=1), a2.sum(axis=1)"
   ]
  },
  {
   "cell_type": "markdown",
   "metadata": {},
   "source": [
    "### Operacje na array'ach boolowych\n",
    "Okaże się, że bardzo często będziemy korzystać z array'ów boolowych.\n",
    "Warto zwróć szczególną uwagę na takie dwa przypadki:"
   ]
  },
  {
   "cell_type": "code",
   "execution_count": 111,
   "metadata": {},
   "outputs": [
    {
     "data": {
      "text/plain": [
       "(0.682, 682)"
      ]
     },
     "execution_count": 111,
     "metadata": {},
     "output_type": "execute_result"
    }
   ],
   "source": [
    "x = np.random.rand(1000)\n",
    "y = x > 0.3\n",
    "y.mean(), y.sum()  # procent oraz ilość elementów spełniających warunek\n"
   ]
  },
  {
   "cell_type": "markdown",
   "metadata": {},
   "source": [
    "### O dwóch sumach\n",
    "\n",
    "Wprawne oko zauważy, że najpierw (przy listach) korzystałem z `sum` wbudowanego w pythona, podczas gdy teraz korzystałem z `np.sum` lub `x.sum()`.\n",
    "Jaka jest między różnica? Otóż fundamentalna!\n",
    "Stwórzmy duży array z liczbami losowymi i porównajmy czasy sumowania tymi różnymi metodami."
   ]
  },
  {
   "cell_type": "code",
   "execution_count": 112,
   "metadata": {},
   "outputs": [
    {
     "data": {
      "text/plain": [
       "(499453.9590043463, 499453.95900435763, 499453.95900435763)"
      ]
     },
     "execution_count": 112,
     "metadata": {},
     "output_type": "execute_result"
    }
   ],
   "source": [
    "n = 1_000_000\n",
    "x_sum = np.random.rand(n)\n",
    "sum(x_sum), np.sum(x_sum), x_sum.sum()"
   ]
  },
  {
   "cell_type": "code",
   "execution_count": 113,
   "metadata": {},
   "outputs": [
    {
     "name": "stdout",
     "output_type": "stream",
     "text": [
      "82 ms ± 2.6 ms per loop (mean ± std. dev. of 7 runs, 10 loops each)\n"
     ]
    }
   ],
   "source": [
    "%timeit sum(x_sum)"
   ]
  },
  {
   "cell_type": "code",
   "execution_count": 114,
   "metadata": {},
   "outputs": [
    {
     "name": "stdout",
     "output_type": "stream",
     "text": [
      "855 µs ± 57 µs per loop (mean ± std. dev. of 7 runs, 1,000 loops each)\n"
     ]
    }
   ],
   "source": [
    "%timeit np.sum(x_sum)"
   ]
  },
  {
   "cell_type": "code",
   "execution_count": 115,
   "metadata": {},
   "outputs": [
    {
     "name": "stdout",
     "output_type": "stream",
     "text": [
      "730 µs ± 89.2 µs per loop (mean ± std. dev. of 7 runs, 1,000 loops each)\n"
     ]
    }
   ],
   "source": [
    "%timeit x_sum.sum()"
   ]
  },
  {
   "cell_type": "markdown",
   "metadata": {},
   "source": [
    "Jak widzimy wykorzystanie numpy'owego `np.sum` jest **160 razy szybsze!!!**\n",
    "To nie przypadek.\n",
    "Wbudowane `sum(x)` działa na pythonowych listach, nie korzystając z tego, że `x` jest array'em w `C`.\n",
    "Różnicy pomiędzy `np.sum(x)` i `x.sum()` właściwie nie ma i można korzystać z tego które jest dla Ciebie bardziej naturalne, lepiej pasuje do kontekstu.\n",
    "\n",
    "Teraz popatrzmy jeszcze co by się stało gdybyśmy samemu napisali funkcję sumującą przy pomocy pętli."
   ]
  },
  {
   "cell_type": "code",
   "execution_count": 116,
   "metadata": {},
   "outputs": [
    {
     "data": {
      "text/plain": [
       "504.5035992135311"
      ]
     },
     "execution_count": 116,
     "metadata": {},
     "output_type": "execute_result"
    }
   ],
   "source": [
    "def loop_sum(x):\n",
    "    c = 0.0\n",
    "    for e in x:\n",
    "        c += e\n",
    "    return c\n",
    "loop_sum(x)"
   ]
  },
  {
   "cell_type": "code",
   "execution_count": 117,
   "metadata": {},
   "outputs": [
    {
     "name": "stdout",
     "output_type": "stream",
     "text": [
      "97.5 ms ± 1.71 ms per loop (mean ± std. dev. of 7 runs, 10 loops each)\n"
     ]
    }
   ],
   "source": [
    "%timeit loop_sum(x_sum)"
   ]
  },
  {
   "cell_type": "markdown",
   "metadata": {},
   "source": [
    "Wynik jest troszkę wolniejszy lecz podobny do **wbudowanego** `sum`."
   ]
  },
  {
   "cell_type": "markdown",
   "metadata": {},
   "source": [
    "![](images/voting.png)"
   ]
  },
  {
   "cell_type": "markdown",
   "metadata": {},
   "source": [
    "### Dlaczego różne sumy dały różne wyniki czyli o precyzji liczb zmiennoprzecinkowych\n",
    "\n",
    "Czujne oko powinno zauważyć, że suma policzona na różne sposoby daje... różne wyniki.\n",
    "W ogólności w informatyce możemy mówić albo o liczbach całkowitych typu `int` albo o zmiennoprzecinkowych typu `float`.\n",
    "Następujące rozważania dotyczą liczb `float`."
   ]
  },
  {
   "cell_type": "code",
   "execution_count": 118,
   "metadata": {},
   "outputs": [
    {
     "data": {
      "text/plain": [
       "-1.1350493878126144e-08"
      ]
     },
     "execution_count": 118,
     "metadata": {},
     "output_type": "execute_result"
    }
   ],
   "source": [
    "sum(x_sum) - np.sum(x_sum)"
   ]
  },
  {
   "cell_type": "markdown",
   "metadata": {},
   "source": [
    "Zapis np. `3.1415e-3` oznacza liczbę $3.1415 \\cdot 10^{-3}$ czyli `0.0031415`, jest to tzw. zapis inżynierski.\n",
    "Ewidentnie widzimy więc, że różnica nie jest 0...\n",
    "\n",
    "To tak jakby jakby wynik a + b + c zależał od tego czy policzę (a + b) + c czy a + (b + c)."
   ]
  },
  {
   "cell_type": "code",
   "execution_count": 119,
   "metadata": {},
   "outputs": [
    {
     "data": {
      "text/plain": [
       "(5.551115123125783e-17, 2.7755575615628914e-17)"
      ]
     },
     "execution_count": 119,
     "metadata": {},
     "output_type": "execute_result"
    }
   ],
   "source": [
    "a = 0.1\n",
    "b = 0.2\n",
    "c = -0.3\n",
    "(a + b) + c, a + (b + c)"
   ]
  },
  {
   "cell_type": "markdown",
   "metadata": {},
   "source": [
    "![](images/areyoukidding.gif)"
   ]
  },
  {
   "cell_type": "markdown",
   "metadata": {},
   "source": [
    "Cóż, dziwne. Otóż może być jeszcze dziwniej."
   ]
  },
  {
   "cell_type": "code",
   "execution_count": 120,
   "metadata": {},
   "outputs": [
    {
     "data": {
      "text/plain": [
       "False"
      ]
     },
     "execution_count": 120,
     "metadata": {},
     "output_type": "execute_result"
    }
   ],
   "source": [
    "a + b + c == a + c + b"
   ]
  },
  {
   "cell_type": "markdown",
   "metadata": {},
   "source": [
    "![](images/rly.gif)"
   ]
  },
  {
   "cell_type": "markdown",
   "metadata": {},
   "source": [
    "No więc o co chodzi?\n",
    "Otóż zmienne typu `float` w pamięci reprezentowane są analogicznie do wcześniejszego przykładu $3.1415 \\cdot 10^{-3}$ z tym że komputer zapisuje jedynie liczby `31415` oraz `-3`.\n",
    "Dodatkowo komputer nie operuje na liczbach dziesiętnych tak jak my, a na binarnych zapisując zmienną float jako $M \\cdot 2^C$ oraz zapisując znak liczby dodatnia/ujemna.\n",
    "\n",
    "Oderwijmy się na chwilę od tego przykładu i pomyślmy ile wynosi dla nas $1/3 \\cdot 3$.\n",
    "No tylko nie możemy korzystać ze zmiennej ułamkowej, a musimy zapisać liczbę z kropką.\n",
    "Mamy więc $0.33333333 \\cdot 3$ (więcej trójek nie mieści nam się na kartce).\n",
    "W efekcie dostajemy liczbę $0.99999999 \\neq 1$.\n",
    "Na analogiczny problem natrafia komputer tylko dla niego problematyczne są $0.1, 0.2, 0.3$, bo operuje w systemie binarnym."
   ]
  },
  {
   "cell_type": "markdown",
   "metadata": {},
   "source": [
    "Jakie są tego konsekwencje? **Nigdy nie porównuj dwóch floatów przez `==`!!!**\n",
    "\n",
    "Czemu? No dlatego..."
   ]
  },
  {
   "cell_type": "code",
   "execution_count": 121,
   "metadata": {},
   "outputs": [
    {
     "data": {
      "text/plain": [
       "False"
      ]
     },
     "execution_count": 121,
     "metadata": {},
     "output_type": "execute_result"
    }
   ],
   "source": [
    "0.2 + 0.1 == 0.3"
   ]
  },
  {
   "cell_type": "markdown",
   "metadata": {},
   "source": [
    "Więc jak żyć?\n",
    "\n",
    "No tak:"
   ]
  },
  {
   "cell_type": "code",
   "execution_count": 122,
   "metadata": {},
   "outputs": [
    {
     "data": {
      "text/plain": [
       "(True, True)"
      ]
     },
     "execution_count": 122,
     "metadata": {},
     "output_type": "execute_result"
    }
   ],
   "source": [
    "np.isclose(0.2 + 0.1, 0.3), np.isclose(sum(x_sum), np.sum(x_sum))"
   ]
  },
  {
   "cell_type": "markdown",
   "metadata": {},
   "source": [
    "Oraz w przypadku wektorowym:"
   ]
  },
  {
   "cell_type": "code",
   "execution_count": 123,
   "metadata": {},
   "outputs": [
    {
     "data": {
      "text/plain": [
       "(False, True)"
      ]
     },
     "execution_count": 123,
     "metadata": {},
     "output_type": "execute_result"
    }
   ],
   "source": [
    "x = np.random.rand(1000)\n",
    "x2 = (x * x) / x\n",
    "np.array_equal(x, x2), np.allclose(x, x2)"
   ]
  },
  {
   "cell_type": "markdown",
   "metadata": {},
   "source": [
    "### Indeksowanie odwiedzone ponownie\n",
    "\n",
    "Otóż array'e możemy indeksować tak jak listy, ale nie tylko!\n",
    "Możemy je również indeksować innymi array'ami z intami i boolami. Może to brzmieć dziwnie ale spójrz na przykład:\n",
    "\n",
    "[Patrz indeksowanie](https://numpy.org/doc/stable/user/basics.indexing.html)"
   ]
  },
  {
   "cell_type": "code",
   "execution_count": 124,
   "metadata": {},
   "outputs": [],
   "source": [
    "x = np.array([10, 42, 1337, -1])\n",
    "indexer1 = np.array([False, True, True, False])\n",
    "indexer2 = np.array([0, 0, 3, 2, 1, 3, 1])"
   ]
  },
  {
   "cell_type": "code",
   "execution_count": 125,
   "metadata": {},
   "outputs": [
    {
     "data": {
      "text/plain": [
       "array([  42, 1337])"
      ]
     },
     "execution_count": 125,
     "metadata": {},
     "output_type": "execute_result"
    }
   ],
   "source": [
    "x[indexer1]"
   ]
  },
  {
   "cell_type": "code",
   "execution_count": 126,
   "metadata": {},
   "outputs": [
    {
     "data": {
      "text/plain": [
       "array([  10,   10,   -1, 1337,   42,   -1,   42])"
      ]
     },
     "execution_count": 126,
     "metadata": {},
     "output_type": "execute_result"
    }
   ],
   "source": [
    "x[indexer2]"
   ]
  },
  {
   "cell_type": "markdown",
   "metadata": {},
   "source": [
    "Pozwala to na bardzo ciekawe _combosy_ jak na przykład:"
   ]
  },
  {
   "cell_type": "code",
   "execution_count": 127,
   "metadata": {},
   "outputs": [
    {
     "data": {
      "text/plain": [
       "array([[0.91728632, 0.98948969, 0.92073683, 0.97691095],\n",
       "       [0.60514551, 0.14043905, 0.82938072, 0.3702215 ],\n",
       "       [0.64205606, 0.63506512, 0.57001133, 0.34164965],\n",
       "       [0.09629992, 0.76886889, 0.61966995, 0.02146743],\n",
       "       [0.30492436, 0.23806887, 0.89983492, 0.53553493]])"
      ]
     },
     "execution_count": 127,
     "metadata": {},
     "output_type": "execute_result"
    }
   ],
   "source": [
    "M = np.random.rand(20).reshape((5, 4))\n",
    "M"
   ]
  },
  {
   "cell_type": "code",
   "execution_count": 128,
   "metadata": {},
   "outputs": [
    {
     "data": {
      "text/plain": [
       "array([[ True,  True,  True,  True],\n",
       "       [ True, False,  True,  True],\n",
       "       [ True,  True,  True,  True],\n",
       "       [False,  True,  True, False],\n",
       "       [ True, False,  True,  True]])"
      ]
     },
     "execution_count": 128,
     "metadata": {},
     "output_type": "execute_result"
    }
   ],
   "source": [
    "indexer = M > 0.3\n",
    "indexer"
   ]
  },
  {
   "cell_type": "code",
   "execution_count": 129,
   "metadata": {},
   "outputs": [
    {
     "data": {
      "text/plain": [
       "array([0.91728632, 0.98948969, 0.92073683, 0.97691095, 0.60514551,\n",
       "       0.82938072, 0.3702215 , 0.64205606, 0.63506512, 0.57001133,\n",
       "       0.34164965, 0.76886889, 0.61966995, 0.30492436, 0.89983492,\n",
       "       0.53553493])"
      ]
     },
     "execution_count": 129,
     "metadata": {},
     "output_type": "execute_result"
    }
   ],
   "source": [
    "M[indexer]"
   ]
  },
  {
   "cell_type": "code",
   "execution_count": 130,
   "metadata": {},
   "outputs": [
    {
     "data": {
      "text/plain": [
       "True"
      ]
     },
     "execution_count": 130,
     "metadata": {},
     "output_type": "execute_result"
    }
   ],
   "source": [
    "np.array_equal(M[M>0.3], M[indexer])"
   ]
  },
  {
   "cell_type": "markdown",
   "metadata": {},
   "source": [
    "### Sortowanie array'i\n",
    "\n",
    "(Prawie) Nic zaskakującego tutaj.\n",
    "Możemy posortować i zwrócić kopię albo posortować _w miejscu_."
   ]
  },
  {
   "cell_type": "code",
   "execution_count": 131,
   "metadata": {},
   "outputs": [
    {
     "data": {
      "text/plain": [
       "(array([0.49654011, 0.6988124 , 0.99746864, 0.75464766, 0.43917351]),\n",
       " array([0.43917351, 0.49654011, 0.6988124 , 0.75464766, 0.99746864]))"
      ]
     },
     "execution_count": 131,
     "metadata": {},
     "output_type": "execute_result"
    }
   ],
   "source": [
    "x = np.random.rand(5)\n",
    "y = np.sort(x)\n",
    "x, y"
   ]
  },
  {
   "cell_type": "markdown",
   "metadata": {},
   "source": [
    "Sortowanie malejąco?"
   ]
  },
  {
   "cell_type": "code",
   "execution_count": 132,
   "metadata": {},
   "outputs": [
    {
     "data": {
      "text/plain": [
       "array([0.99746864, 0.75464766, 0.6988124 , 0.49654011, 0.43917351])"
      ]
     },
     "execution_count": 132,
     "metadata": {},
     "output_type": "execute_result"
    }
   ],
   "source": [
    "np.sort(x)[::-1]"
   ]
  },
  {
   "cell_type": "code",
   "execution_count": 133,
   "metadata": {},
   "outputs": [
    {
     "name": "stdout",
     "output_type": "stream",
     "text": [
      "None\n"
     ]
    }
   ],
   "source": [
    "z = x.sort()  # Zwraca None\n",
    "print(z)"
   ]
  },
  {
   "cell_type": "code",
   "execution_count": 134,
   "metadata": {},
   "outputs": [
    {
     "data": {
      "text/plain": [
       "array([0.43917351, 0.49654011, 0.6988124 , 0.75464766, 0.99746864])"
      ]
     },
     "execution_count": 134,
     "metadata": {},
     "output_type": "execute_result"
    }
   ],
   "source": [
    "x"
   ]
  },
  {
   "cell_type": "markdown",
   "metadata": {},
   "source": [
    "### Zwektoryzowany ifelse\n",
    "\n",
    "`np.where` to często używana funkcja, warto o niej pamiętać.\n",
    "Drugi argument może być pojedynczym elementem jak i array'em."
   ]
  },
  {
   "cell_type": "code",
   "execution_count": 135,
   "metadata": {},
   "outputs": [
    {
     "data": {
      "text/plain": [
       "array(['Mało', 'Mało', 'Mało', 'Mało', 'Mało', 'Mało', 'Dużo', 'Dużo',\n",
       "       'Dużo', 'Dużo'], dtype='<U4')"
      ]
     },
     "execution_count": 135,
     "metadata": {},
     "output_type": "execute_result"
    }
   ],
   "source": [
    "x = np.arange(10)\n",
    "np.where(x > 5, \"Dużo\", \"Mało\")"
   ]
  },
  {
   "cell_type": "code",
   "execution_count": 136,
   "metadata": {},
   "outputs": [
    {
     "data": {
      "text/plain": [
       "['l_0', 'l_1', 'l_2', 'l_3', 'l_4', 'l_5', 'l_6', 'l_7', 'l_8', 'l_9']"
      ]
     },
     "execution_count": 136,
     "metadata": {},
     "output_type": "execute_result"
    }
   ],
   "source": [
    "labels = [f\"l_{i}\" for i in range(10)]\n",
    "labels"
   ]
  },
  {
   "cell_type": "code",
   "execution_count": 137,
   "metadata": {},
   "outputs": [
    {
     "data": {
      "text/plain": [
       "array(['Mało', 'Mało', 'Mało', 'Mało', 'Mało', 'Mało', 'l_6', 'l_7',\n",
       "       'l_8', 'l_9'], dtype='<U4')"
      ]
     },
     "execution_count": 137,
     "metadata": {},
     "output_type": "execute_result"
    }
   ],
   "source": [
    "np.where(x > 5, labels, \"Mało\")"
   ]
  },
  {
   "cell_type": "code",
   "execution_count": 138,
   "metadata": {},
   "outputs": [
    {
     "data": {
      "text/plain": [
       "array(['Mało', 'Mało', 'Mało', 'Mało', 'Mało', 'Mało', 'Dużo', 'Dużo',\n",
       "       'Bardzo Dużo', 'Bardzo Dużo'], dtype='<U11')"
      ]
     },
     "execution_count": 138,
     "metadata": {},
     "output_type": "execute_result"
    }
   ],
   "source": [
    "np.where(x > 5, np.where(x>7, \"Bardzo Dużo\", \"Dużo\"), \"Mało\")"
   ]
  },
  {
   "cell_type": "markdown",
   "metadata": {},
   "source": [
    "## Zaawansowane tricki i sztuczki\n",
    "\n",
    "Domyślam się, że nie jesteś na tym kursie żeby poznać same podstawy, na pewno interesują Cię jakieś smaczki i subtelności które pokażą, że jesteś sprawnym użytkownikiem numpy'ia!"
   ]
  },
  {
   "cell_type": "markdown",
   "metadata": {},
   "source": [
    "### `np.r[]` czyli nie chce pamiętać `np.array`, `np.arange`, `np.linspace` i innych.\n",
    "\n",
    "Gdy piszesz dużo w numpy, starasz się znajdywać skróty, jednym z nich jest `np.r_[]` oraz `np.c_[]` (od row i column).\n",
    "\n",
    "W podstawowej formie zastępuje `np.array`:"
   ]
  },
  {
   "cell_type": "code",
   "execution_count": 139,
   "metadata": {},
   "outputs": [
    {
     "data": {
      "text/plain": [
       "array([0, 1, 2], dtype=int32)"
      ]
     },
     "execution_count": 139,
     "metadata": {},
     "output_type": "execute_result"
    }
   ],
   "source": [
    "np.r_[0, 1, 2]"
   ]
  },
  {
   "cell_type": "markdown",
   "metadata": {},
   "source": [
    "Ale również arange:"
   ]
  },
  {
   "cell_type": "code",
   "execution_count": 140,
   "metadata": {},
   "outputs": [
    {
     "data": {
      "text/plain": [
       "(array([0, 1, 2]), array([3, 5]))"
      ]
     },
     "execution_count": 140,
     "metadata": {},
     "output_type": "execute_result"
    }
   ],
   "source": [
    "np.r_[:3], np.r_[3:7:2]"
   ]
  },
  {
   "cell_type": "markdown",
   "metadata": {},
   "source": [
    "Oraz linspace! Zwróć uwagę, że technicznie rzecz biorąc, ostatnia liczba w range'u to `n` jednostek urojonych :D"
   ]
  },
  {
   "cell_type": "code",
   "execution_count": 141,
   "metadata": {},
   "outputs": [
    {
     "data": {
      "text/plain": [
       "(array([0.        , 1.66666667, 3.33333333, 5.        ]),\n",
       " array([0. , 0.5, 1. , 1.5, 2. , 2.5, 3. , 3.5, 4. , 4.5, 5. ]))"
      ]
     },
     "execution_count": 141,
     "metadata": {},
     "output_type": "execute_result"
    }
   ],
   "source": [
    "np.r_[0:5:4j], np.r_[0:5:11j]"
   ]
  },
  {
   "cell_type": "markdown",
   "metadata": {},
   "source": [
    "To nie wszystko, możemy od razu łatwo tworzyć macierze!"
   ]
  },
  {
   "cell_type": "code",
   "execution_count": 142,
   "metadata": {},
   "outputs": [
    {
     "data": {
      "text/plain": [
       "array([[0, 2],\n",
       "       [1, 3]])"
      ]
     },
     "execution_count": 142,
     "metadata": {},
     "output_type": "execute_result"
    }
   ],
   "source": [
    "np.c_[[0, 1], [2, 3]]"
   ]
  },
  {
   "cell_type": "markdown",
   "metadata": {},
   "source": [
    "hstack"
   ]
  },
  {
   "cell_type": "code",
   "execution_count": 143,
   "metadata": {},
   "outputs": [
    {
     "data": {
      "text/plain": [
       "(array([0, 1, 2, 0, 1, 2]),\n",
       " array([[0, 0],\n",
       "        [1, 1],\n",
       "        [2, 2]]))"
      ]
     },
     "execution_count": 143,
     "metadata": {},
     "output_type": "execute_result"
    }
   ],
   "source": [
    "x = np.r_[:3]\n",
    "np.r_[x, x], np.c_[x, x]"
   ]
  },
  {
   "cell_type": "code",
   "execution_count": 144,
   "metadata": {},
   "outputs": [
    {
     "data": {
      "text/plain": [
       "array([0, 1, 2, 0, 1, 2, 3, 4, 0, 1, 2])"
      ]
     },
     "execution_count": 144,
     "metadata": {},
     "output_type": "execute_result"
    }
   ],
   "source": [
    "np.r_[:3, :5, :3]"
   ]
  },
  {
   "cell_type": "markdown",
   "metadata": {},
   "source": [
    "### Nie chce mi się liczyć ostatniego wymiaru...\n",
    "\n",
    "Czasem przy reshapowaniu nie chce nam się liczyć ostatniego wymiaru, który jest _oczywisty_ , bo wychodzi z innych. Na to też jest trick."
   ]
  },
  {
   "cell_type": "code",
   "execution_count": 145,
   "metadata": {},
   "outputs": [
    {
     "data": {
      "text/plain": [
       "array([[  0,   1,   2,   3,   4,   5,   6,   7,   8,   9,  10,  11,  12,\n",
       "         13,  14,  15,  16,  17,  18,  19,  20,  21,  22,  23,  24,  25,\n",
       "         26,  27,  28,  29,  30,  31,  32,  33,  34,  35,  36],\n",
       "       [ 37,  38,  39,  40,  41,  42,  43,  44,  45,  46,  47,  48,  49,\n",
       "         50,  51,  52,  53,  54,  55,  56,  57,  58,  59,  60,  61,  62,\n",
       "         63,  64,  65,  66,  67,  68,  69,  70,  71,  72,  73],\n",
       "       [ 74,  75,  76,  77,  78,  79,  80,  81,  82,  83,  84,  85,  86,\n",
       "         87,  88,  89,  90,  91,  92,  93,  94,  95,  96,  97,  98,  99,\n",
       "        100, 101, 102, 103, 104, 105, 106, 107, 108, 109, 110]])"
      ]
     },
     "execution_count": 145,
     "metadata": {},
     "output_type": "execute_result"
    }
   ],
   "source": [
    "# automatycznie zostało wyliczone 111//3 == 37 i wstawione za -1\n",
    "np.arange(111).reshape((3, -1)) "
   ]
  },
  {
   "cell_type": "markdown",
   "metadata": {},
   "source": [
    "## Numba czyli jak wygrać z pętlami\n",
    "\n",
    "W wielu symulacjach fizycznych, chemicznych, ekonomicznych nie możemy _obyć się_ bez pętli.\n",
    "Jak już jednak ustaliliśmy pętle w pythonie są bardzo wolne.\n",
    "\n",
    "Na szczęście i na to jest sposób"
   ]
  },
  {
   "cell_type": "markdown",
   "metadata": {},
   "source": [
    "### Suma z numbą\n",
    "\n",
    "Rozważmy sumę, którą liczyliśmy jakiś czas temu wcześniej."
   ]
  },
  {
   "cell_type": "code",
   "execution_count": 146,
   "metadata": {},
   "outputs": [],
   "source": [
    "from numba import jit"
   ]
  },
  {
   "cell_type": "code",
   "execution_count": 147,
   "metadata": {},
   "outputs": [
    {
     "data": {
      "text/plain": [
       "499453.9590043463"
      ]
     },
     "execution_count": 147,
     "metadata": {},
     "output_type": "execute_result"
    }
   ],
   "source": [
    "@jit\n",
    "def loop_sum2(x):\n",
    "    c = 0.0\n",
    "    for e in x:\n",
    "        c += e\n",
    "    return c\n",
    "loop_sum2(x_sum)"
   ]
  },
  {
   "cell_type": "markdown",
   "metadata": {},
   "source": [
    "Dla przypomnienia czasy wersji bez jit oraz numpyowej sumy"
   ]
  },
  {
   "cell_type": "code",
   "execution_count": 148,
   "metadata": {},
   "outputs": [
    {
     "name": "stdout",
     "output_type": "stream",
     "text": [
      "99.4 ms ± 5.29 ms per loop (mean ± std. dev. of 7 runs, 10 loops each)\n"
     ]
    }
   ],
   "source": [
    "%timeit loop_sum(x_sum)"
   ]
  },
  {
   "cell_type": "code",
   "execution_count": 149,
   "metadata": {},
   "outputs": [
    {
     "name": "stdout",
     "output_type": "stream",
     "text": [
      "648 µs ± 35.1 µs per loop (mean ± std. dev. of 7 runs, 1,000 loops each)\n"
     ]
    }
   ],
   "source": [
    "%timeit x_sum.sum()"
   ]
  },
  {
   "cell_type": "code",
   "execution_count": 150,
   "metadata": {},
   "outputs": [
    {
     "name": "stdout",
     "output_type": "stream",
     "text": [
      "1.09 ms ± 8.68 µs per loop (mean ± std. dev. of 7 runs, 1,000 loops each)\n"
     ]
    }
   ],
   "source": [
    "%timeit loop_sum2(x_sum)"
   ]
  },
  {
   "cell_type": "markdown",
   "metadata": {},
   "source": [
    "Jak widzimy nasze rozwiązanie jest wolniejsze od implementacji numpy'a, ale tylko 2 razy!!!"
   ]
  },
  {
   "cell_type": "markdown",
   "metadata": {},
   "source": [
    "### Symulacja stochastycznego równania różniczkowego -- coś z SGH\n",
    "\n",
    "Częstym przypadkiem gdzie nie da się zwektoryzować operacji jest symulacja stochastycznego równania różniczkowego.\n",
    "\n",
    "Popatrzmy na zadanie:\n",
    "\n",
    "> Masz na początku 100zł. Dywersyfikujesz ryzyko i obierasz 2 strategie jednocześnie. Każdego dnia inwestujesz:\n",
    "> 1. 10% swojego majątku w inwestycję która z prawdopodobieństwem 10% daje Ci 10 razy zainwestowane 10%.\n",
    "> 2. 50% swojego majątku w inwestycję która daje Ci zainwestowane 50% plus 2% zainwestowanej kwoty.\n",
    "> \n",
    "> Dokonaj 10000 symulacji i sprawdź w ilu przypadkach i po ilu dniach docierasz do 10 000zł, a w ilu przypadkach i po ilu dniach spadasz poniżej 10zł.\n",
    "\n"
   ]
  },
  {
   "cell_type": "code",
   "execution_count": 151,
   "metadata": {},
   "outputs": [],
   "source": [
    "def simulation1(n):\n",
    "    days = np.zeros(n)\n",
    "    wins = np.zeros(n, dtype=bool)\n",
    "    for i in range(n):\n",
    "        d = 1\n",
    "        M = 100\n",
    "        while True:\n",
    "            inv1 = 0.1 * M\n",
    "            inv2 = 0.5 * M\n",
    "            if np.random.rand() < 0.1:\n",
    "                M += inv1 * 9\n",
    "            else:\n",
    "                M -= inv1\n",
    "            M += inv2 * 0.02\n",
    "            if M > 10_000:\n",
    "                days[i] = d\n",
    "                wins[i] = True\n",
    "                break\n",
    "            if M < 10:\n",
    "                days[i] = d\n",
    "                break\n",
    "            d += 1\n",
    "    return days, wins\n",
    "\n"
   ]
  },
  {
   "cell_type": "code",
   "execution_count": 152,
   "metadata": {},
   "outputs": [],
   "source": [
    "days, wins = simulation1(100_000)"
   ]
  },
  {
   "cell_type": "code",
   "execution_count": 153,
   "metadata": {},
   "outputs": [
    {
     "name": "stdout",
     "output_type": "stream",
     "text": [
      "6.75 s ± 214 ms per loop (mean ± std. dev. of 7 runs, 1 loop each)\n"
     ]
    }
   ],
   "source": [
    "%timeit simulation1(100_000)"
   ]
  },
  {
   "cell_type": "code",
   "execution_count": 154,
   "metadata": {},
   "outputs": [
    {
     "data": {
      "text/plain": [
       "(2669, 14.0, 165.55339078306483, 139.0, 978.0)"
      ]
     },
     "execution_count": 154,
     "metadata": {},
     "output_type": "execute_result"
    }
   ],
   "source": [
    "# Wygrane\n",
    "wins.sum(), days[wins].min(), days[wins].mean(), np.median(days[wins]), days[wins].max()"
   ]
  },
  {
   "cell_type": "code",
   "execution_count": 155,
   "metadata": {},
   "outputs": [
    {
     "data": {
      "text/plain": [
       "(97331, 25.0, 105.88315130842177, 72.0, 1110.0)"
      ]
     },
     "execution_count": 155,
     "metadata": {},
     "output_type": "execute_result"
    }
   ],
   "source": [
    "# Przegrane :(\n",
    "(~wins).sum(), days[~wins].min(), days[~wins].mean(), np.median(days[~wins]), days[~wins].max()"
   ]
  },
  {
   "cell_type": "code",
   "execution_count": 156,
   "metadata": {},
   "outputs": [],
   "source": [
    "import matplotlib.pyplot as plt"
   ]
  },
  {
   "cell_type": "code",
   "execution_count": 157,
   "metadata": {},
   "outputs": [
    {
     "data": {
      "text/plain": [
       "Text(0.5, 1.0, 'Wygrane')"
      ]
     },
     "execution_count": 157,
     "metadata": {},
     "output_type": "execute_result"
    },
    {
     "data": {
      "image/png": "[encoded data removed]",
      "text/plain": [
       "<Figure size 432x288 with 1 Axes>"
      ]
     },
     "metadata": {
      "needs_background": "light"
     },
     "output_type": "display_data"
    }
   ],
   "source": [
    "# Ładniejsze wykresy za 2 tygodnie ^^\n",
    "plt.hist(days[wins], bins=50)\n",
    "plt.title(\"Wygrane\")"
   ]
  },
  {
   "cell_type": "code",
   "execution_count": 158,
   "metadata": {},
   "outputs": [
    {
     "data": {
      "text/plain": [
       "Text(0.5, 1.0, 'Przegrane')"
      ]
     },
     "execution_count": 158,
     "metadata": {},
     "output_type": "execute_result"
    },
    {
     "data": {
      "image/png": "[encoded data removed]",
      "text/plain": [
       "<Figure size 432x288 with 1 Axes>"
      ]
     },
     "metadata": {
      "needs_background": "light"
     },
     "output_type": "display_data"
    }
   ],
   "source": [
    "plt.hist(days[~wins], bins=50)\n",
    "plt.title(\"Przegrane\")"
   ]
  },
  {
   "cell_type": "markdown",
   "metadata": {},
   "source": [
    "Teraz wykonanie kodu trwało kilka sekund ale co jeżeli potrzebujemy dłuższych symulacji, jak wykorzystać tutaj numbę?"
   ]
  },
  {
   "cell_type": "code",
   "execution_count": 159,
   "metadata": {},
   "outputs": [],
   "source": [
    "@jit\n",
    "def simulation2(n):\n",
    "    days = np.zeros(n)\n",
    "    wins = np.zeros(n, dtype=np.bool_)  # tutaj trzeba wprowadzić poprawkę, żeby działało\n",
    "    for i in range(n):\n",
    "        d = 1\n",
    "        M = 100\n",
    "        while True:\n",
    "            inv1 = 0.1 * M\n",
    "            inv2 = 0.5 * M\n",
    "            if np.random.rand() < 0.1:\n",
    "                M += inv1 * 9\n",
    "            else:\n",
    "                M -= inv1\n",
    "            M += inv2 * 0.02\n",
    "            if M > 10_000.0:\n",
    "                days[i] = d\n",
    "                wins[i] = True\n",
    "                break\n",
    "            if M < 10.0:\n",
    "                days[i] = d\n",
    "                break\n",
    "            d += 1\n",
    "    return days, wins\n",
    "_ = simulation2(100_000)"
   ]
  },
  {
   "cell_type": "code",
   "execution_count": 160,
   "metadata": {},
   "outputs": [
    {
     "name": "stdout",
     "output_type": "stream",
     "text": [
      "788 ms ± 14.7 ms per loop (mean ± std. dev. of 7 runs, 1 loop each)\n"
     ]
    }
   ],
   "source": [
    "%timeit simulation2(n)"
   ]
  },
  {
   "cell_type": "markdown",
   "metadata": {},
   "source": [
    "Ponad 100 razy krócej...\n",
    "Potencjalne skrócenie czasu eksperymentu z jednego dnia do 15minut, to dużo!\n",
    "\n",
    "Ale czy można jeszcze bardziej? Czasem można wykorzystując paralelizm i gpu, zainteresowanych odsyłam [do dokumentacji](https://numba.pydata.org/) i [przykładów](https://numba.pydata.org/numba-doc/latest/user/examples.html). "
   ]
  },
  {
   "cell_type": "markdown",
   "metadata": {},
   "source": [
    "## Nie weszło na sprint ale może się przydać...\n",
    "\n",
    "Oczywiście nie jest to pełny opis możliwości numpy'a, ale warto sprawdzić w razie potrzeb:\n",
    "\n",
    "- [Widoki vs kopie](https://numpy.org/doc/stable/user/basics.copies.html)\n",
    "- Operacje inplace, zmieniające array'a\n",
    "- `np.linalg` - rozkłady macierzy, wartości własne itd.\n",
    "- `np.fft` - szybka transformata Fouriera\n",
    "- `np.random` - różne rozkłady oraz generatory liczb losowych\n",
    "- `np.polynomial` - praca z wielomianami\n",
    "- `np.histogram` - histogram ale same liczby\n",
    "- `np.einsum` - **super** sprytne obliczenia na tensorach\n",
    "- [Praca z plikami](https://numpy.org/doc/stable/user/how-to-io.html)\n",
    "- [Poradnik dla matlabowców](https://numpy.org/doc/stable/user/numpy-for-matlab-users.html)"
   ]
  },
  {
   "cell_type": "markdown",
   "metadata": {},
   "source": [
    "## Do pracy domowej\n",
    "\n",
    "W przypadku zadania z Monte Carlo zacznij od oszacowania liczby $\\pi$ :)\n",
    "\n",
    "Kilka linków które mogą się przydać:\n",
    "\n",
    "- https://www.geeksforgeeks.org/estimating-value-pi-using-monte-carlo/\n",
    "- https://www.youtube.com/watch?v=WAf0rqwAvgg"
   ]
  },
  {
   "cell_type": "markdown",
   "metadata": {},
   "source": [
    "Poniżej znajdziesz więcej zdań do poćwiczenia.\n",
    "Odpowiedzi z podpunktów 5 i 9 umieść w google formsie.\n",
    "\n",
    "Korzystając z następującego array'a:"
   ]
  },
  {
   "cell_type": "code",
   "execution_count": 250,
   "metadata": {},
   "outputs": [
    {
     "data": {
      "text/plain": [
       "array([-0.7 , -0.49, -0.32, -1.76,  0.21, -2.01, -0.56,  0.34,  1.55,\n",
       "       -1.37,  1.43, -0.28, -0.56,  1.19,  1.7 , -1.69, -0.7 ,  0.58,\n",
       "        0.98, -1.22, -1.33, -0.  , -1.31, -0.38,  1.27,  0.12,  0.15,\n",
       "       -2.75, -0.36,  0.01])"
      ]
     },
     "execution_count": 250,
     "metadata": {},
     "output_type": "execute_result"
    }
   ],
   "source": [
    "np.random.seed(1337)\n",
    "x = np.round(np.random.normal(size=30), 2)\n",
    "y = x + np.round(np.random.normal(size=30) * 0.1, 2)\n",
    "x"
   ]
  },
  {
   "cell_type": "markdown",
   "metadata": {},
   "source": [
    "Wyznacz/policz:\n",
    "\n",
    "1. Średnią z `x`\n",
    "2. Sumę `x`\n",
    "3. Średnią z wartości bezwzględnych z `x`\n",
    "4. Element najbardziej odległy od $0$ z `x`\n",
    "5. Element najbardziej odległy od $2$ z `x`\n",
    "6. Array który ustawi elementy mniejsze od $-1$ na $-1$, a większe od $1$ na $1$\n",
    "7. Średni błąd między (ERR) `x` i `y`\n",
    "8. Średni błąd bezwzględny (MAD) między `x` i `y`\n",
    "9. Średni błąd kwadratowy (MSE) między `x` i `y`\n",
    "10. Pierwiastek ze średniego błędu kwadratowego (RMSE) między `x` i `y`\n",
    "\n",
    "Napisz funkcję `standardize(X)`, która unormuje każdą kolumnę macierzy `X` (każdą oddzielnie).\n",
    "Średnia z każdej kolumny powinna być równa $0$, a odchylenie standardowe równe $1$.\n",
    "Jest to procedura bardzo często stosowana w MLu."
   ]
  },
  {
   "cell_type": "code",
   "execution_count": 251,
   "metadata": {},
   "outputs": [
    {
     "data": {
      "text/plain": [
       "-0.2753333333333333"
      ]
     },
     "execution_count": 251,
     "metadata": {},
     "output_type": "execute_result"
    }
   ],
   "source": [
    "np.mean(x)"
   ]
  },
  {
   "cell_type": "code",
   "execution_count": 252,
   "metadata": {},
   "outputs": [
    {
     "data": {
      "text/plain": [
       "-8.26"
      ]
     },
     "execution_count": 252,
     "metadata": {},
     "output_type": "execute_result"
    }
   ],
   "source": [
    "np.sum(x)"
   ]
  },
  {
   "cell_type": "code",
   "execution_count": 253,
   "metadata": {},
   "outputs": [
    {
     "data": {
      "text/plain": [
       "0.9106666666666666"
      ]
     },
     "execution_count": 253,
     "metadata": {},
     "output_type": "execute_result"
    }
   ],
   "source": [
    "np.mean(np.abs(x))"
   ]
  },
  {
   "cell_type": "code",
   "execution_count": 254,
   "metadata": {},
   "outputs": [
    {
     "data": {
      "text/plain": [
       "-2.75"
      ]
     },
     "execution_count": 254,
     "metadata": {},
     "output_type": "execute_result"
    }
   ],
   "source": [
    "x[np.argmax(np.abs(x-0))]"
   ]
  },
  {
   "cell_type": "code",
   "execution_count": 255,
   "metadata": {},
   "outputs": [
    {
     "data": {
      "text/plain": [
       "-2.75"
      ]
     },
     "execution_count": 255,
     "metadata": {},
     "output_type": "execute_result"
    }
   ],
   "source": [
    "x[np.argmax(np.abs(x-2))]"
   ]
  },
  {
   "cell_type": "code",
   "execution_count": 256,
   "metadata": {},
   "outputs": [
    {
     "data": {
      "text/plain": [
       "array([-0.7 , -0.49, -0.32, -1.  ,  0.21, -1.  , -0.56,  0.34,  1.  ,\n",
       "       -1.  ,  1.  , -0.28, -0.56,  1.  ,  1.  , -1.  , -0.7 ,  0.58,\n",
       "        0.98, -1.  , -1.  , -0.  , -1.  , -0.38,  1.  ,  0.12,  0.15,\n",
       "       -1.  , -0.36,  0.01])"
      ]
     },
     "execution_count": 256,
     "metadata": {},
     "output_type": "execute_result"
    }
   ],
   "source": [
    "np.where(x>1,1,np.where(x<-1, -1, x))"
   ]
  },
  {
   "cell_type": "code",
   "execution_count": 257,
   "metadata": {},
   "outputs": [
    {
     "data": {
      "text/plain": [
       "-0.005333333333333344"
      ]
     },
     "execution_count": 257,
     "metadata": {},
     "output_type": "execute_result"
    }
   ],
   "source": [
    "np.mean(x-y)"
   ]
  },
  {
   "cell_type": "code",
   "execution_count": 258,
   "metadata": {},
   "outputs": [
    {
     "data": {
      "text/plain": [
       "0.08266666666666665"
      ]
     },
     "execution_count": 258,
     "metadata": {},
     "output_type": "execute_result"
    }
   ],
   "source": [
    "np.mean(np.abs(x-y))"
   ]
  },
  {
   "cell_type": "code",
   "execution_count": 259,
   "metadata": {},
   "outputs": [
    {
     "data": {
      "text/plain": [
       "0.009780000000000002"
      ]
     },
     "execution_count": 259,
     "metadata": {},
     "output_type": "execute_result"
    }
   ],
   "source": [
    "np.mean((x-y)**2)"
   ]
  },
  {
   "cell_type": "code",
   "execution_count": 260,
   "metadata": {},
   "outputs": [
    {
     "data": {
      "text/plain": [
       "0.099"
      ]
     },
     "execution_count": 260,
     "metadata": {},
     "output_type": "execute_result"
    }
   ],
   "source": [
    "np.sqrt(np.mean((x-y)**2)).round(3)"
   ]
  },
  {
   "cell_type": "markdown",
   "metadata": {},
   "source": [
    "standarize"
   ]
  },
  {
   "cell_type": "code",
   "execution_count": 185,
   "metadata": {},
   "outputs": [],
   "source": [
    "test_x = np.random.random(size=(10,5))*np.random.randint(-20, 20,5)"
   ]
  },
  {
   "cell_type": "code",
   "execution_count": 222,
   "metadata": {},
   "outputs": [],
   "source": [
    "def standarize(X):\n",
    "    means = np.mean(X, axis=0)\n",
    "    stdds = np.std(X, axis=0)\n",
    "    return (X - means) / stdds"
   ]
  },
  {
   "cell_type": "code",
   "execution_count": 223,
   "metadata": {},
   "outputs": [
    {
     "data": {
      "text/plain": [
       "array([[ 1.02487273,  0.54879493, -0.60366244,  0.89769154,  0.52678219],\n",
       "       [ 0.23979578,  1.67621188, -0.88369516, -0.15042237, -1.74485223],\n",
       "       [ 1.00324514, -0.82888999, -0.59936672,  1.96177927, -1.08500554],\n",
       "       [-0.16045537, -0.81592475, -1.27281666, -0.02599494,  1.27736925],\n",
       "       [ 0.68684819, -0.17458587,  0.97151269, -1.40196339, -1.52746707],\n",
       "       [-0.68077532,  1.77035091, -1.00414447, -1.038745  ,  0.47447805],\n",
       "       [-1.94763559, -0.83671338, -0.31489026, -1.33583561,  0.27958554],\n",
       "       [ 0.49160019, -0.57335514,  1.60261918,  0.56812496,  0.74446666],\n",
       "       [ 0.82744549, -1.10737697,  0.90844659,  0.3902556 ,  0.28007457],\n",
       "       [-1.48494124,  0.34148839,  1.19599726,  0.13510993,  0.77456858]])"
      ]
     },
     "execution_count": 223,
     "metadata": {},
     "output_type": "execute_result"
    }
   ],
   "source": [
    "ans = standarize(test_x)\n",
    "ans"
   ]
  },
  {
   "cell_type": "code",
   "execution_count": 227,
   "metadata": {},
   "outputs": [
    {
     "data": {
      "text/plain": [
       "(0.0, 1.0)"
      ]
     },
     "execution_count": 227,
     "metadata": {},
     "output_type": "execute_result"
    }
   ],
   "source": [
    "ans[:,0].mean(), ans[:,0].std()"
   ]
  },
  {
   "cell_type": "markdown",
   "metadata": {},
   "source": [
    "Monte Carlo"
   ]
  },
  {
   "cell_type": "markdown",
   "metadata": {},
   "source": [
    "+ Dla $\\pi$:"
   ]
  },
  {
   "cell_type": "code",
   "execution_count": 244,
   "metadata": {},
   "outputs": [],
   "source": [
    "def sim_mc_pi(n_sim, sq_len=2):\n",
    "    x, y = np.random.random(n_sim), np.random.random(n_sim)\n",
    "    x, y = x - 0.5, y - 0.5     # make 0 as center, then range is <-0.5, 0.5>\n",
    "    x, y = x * sq_len, y * sq_len   # make numbers in range of square\n",
    "    radius = sq_len / 2     \n",
    "    n_in_circ = np.sum(np.where(np.sqrt(x**2+y**2)<=radius,1, 0))\n",
    "    return 4 * n_in_circ / n_sim"
   ]
  },
  {
   "cell_type": "code",
   "execution_count": 247,
   "metadata": {},
   "outputs": [
    {
     "data": {
      "text/plain": [
       "3.1412472"
      ]
     },
     "execution_count": 247,
     "metadata": {},
     "output_type": "execute_result"
    }
   ],
   "source": [
    "sim_mc_pi(10_000_000)"
   ]
  },
  {
   "cell_type": "markdown",
   "metadata": {},
   "source": [
    "+ dla całki:"
   ]
  },
  {
   "cell_type": "code",
   "execution_count": 248,
   "metadata": {},
   "outputs": [],
   "source": [
    "from matplotlib import pyplot as plt"
   ]
  },
  {
   "cell_type": "code",
   "execution_count": 249,
   "metadata": {},
   "outputs": [
    {
     "data": {
      "text/plain": [
       "[<matplotlib.lines.Line2D at 0x23d548e8a60>]"
      ]
     },
     "execution_count": 249,
     "metadata": {},
     "output_type": "execute_result"
    },
    {
     "data": {
      "image/png": "[encoded data removed]",
      "text/plain": [
       "<Figure size 432x288 with 1 Axes>"
      ]
     },
     "metadata": {
      "needs_background": "light"
     },
     "output_type": "display_data"
    }
   ],
   "source": [
    "x = np.linspace(-2, 2, 10000)\n",
    "plt.plot(x, np.exp(-x**2))"
   ]
  },
  {
   "cell_type": "code",
   "execution_count": 261,
   "metadata": {},
   "outputs": [],
   "source": [
    "def sim_mc_pi(n_sim):\n",
    "    x, y = np.random.random(n_sim), np.random.random(n_sim)\n",
    "    x = x - 0.5     # make 0 as center, then range is <-0.5, 0.5>\n",
    "    x = x * 4   # make numbers in range of square     \n",
    "    n_in_circ = np.sum(np.where(y <= np.exp(-x**2),1, 0))\n",
    "    return 4 * n_in_circ / n_sim"
   ]
  },
  {
   "cell_type": "code",
   "execution_count": 263,
   "metadata": {},
   "outputs": [
    {
     "data": {
      "text/plain": [
       "1.76"
      ]
     },
     "execution_count": 263,
     "metadata": {},
     "output_type": "execute_result"
    }
   ],
   "source": [
    "sim_mc_pi(10_000_000).round(2)"
   ]
  },
  {
   "cell_type": "code",
   "execution_count": null,
   "metadata": {},
   "outputs": [],
   "source": []
  }
 ],
 "metadata": {
  "interpreter": {
   "hash": "2b56681616f27f202e060e59de23dd05ac914dc6b3a6ae9be14abcccd2a677e8"
  },
  "kernelspec": {
   "display_name": "Python 3.10.4 ('daftacademy-ds')",
   "language": "python",
   "name": "python3"
  },
  "language_info": {
   "codemirror_mode": {
    "name": "ipython",
    "version": 3
   },
   "file_extension": ".py",
   "mimetype": "text/x-python",
   "name": "python",
   "nbconvert_exporter": "python",
   "pygments_lexer": "ipython3",
   "version": "3.10.4"
  },
  "orig_nbformat": 4
 },
 "nbformat": 4,
 "nbformat_minor": 2
}
