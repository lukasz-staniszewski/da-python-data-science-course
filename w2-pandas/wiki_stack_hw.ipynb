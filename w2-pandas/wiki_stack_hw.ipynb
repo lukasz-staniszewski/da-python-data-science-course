{
 "cells": [
  {
   "cell_type": "code",
   "execution_count": 2,
   "metadata": {},
   "outputs": [],
   "source": [
    "import pandas as pd\n",
    "import numpy as np"
   ]
  },
  {
   "cell_type": "markdown",
   "metadata": {},
   "source": [
    "# I. Wiki"
   ]
  },
  {
   "cell_type": "code",
   "execution_count": 3,
   "metadata": {},
   "outputs": [],
   "source": [
    "columns_wiki = ['prev', 'curr', 'type', 'n']\n",
    "df_wiki_de = pd.read_csv('data/wiki/clickstream-dewiki-2022-03.tsv/clickstream-dewiki-2022-03.tsv', delim_whitespace=True, names=columns_wiki, quoting=3)\n",
    "df_wiki_pl = pd.read_csv('data/wiki/clickstream-plwiki-2022-03.tsv/clickstream-plwiki-2022-03.tsv', delim_whitespace=True, names=columns_wiki, quoting=3)\n",
    "df_wiki_en = pd.read_csv('data/wiki/clickstream-enwiki-2022-03.tsv/clickstream-enwiki-2022-03.tsv', delim_whitespace=True, names=columns_wiki, quoting=3)\n"
   ]
  },
  {
   "cell_type": "code",
   "execution_count": 4,
   "metadata": {},
   "outputs": [
    {
     "data": {
      "text/html": [
       "<div>\n",
       "<style scoped>\n",
       "    .dataframe tbody tr th:only-of-type {\n",
       "        vertical-align: middle;\n",
       "    }\n",
       "\n",
       "    .dataframe tbody tr th {\n",
       "        vertical-align: top;\n",
       "    }\n",
       "\n",
       "    .dataframe thead th {\n",
       "        text-align: right;\n",
       "    }\n",
       "</style>\n",
       "<table border=\"1\" class=\"dataframe\">\n",
       "  <thead>\n",
       "    <tr style=\"text-align: right;\">\n",
       "      <th></th>\n",
       "      <th>prev</th>\n",
       "      <th>curr</th>\n",
       "      <th>type</th>\n",
       "      <th>n</th>\n",
       "    </tr>\n",
       "  </thead>\n",
       "  <tbody>\n",
       "    <tr>\n",
       "      <th>0</th>\n",
       "      <td>other-empty</td>\n",
       "      <td>Lichtröhre</td>\n",
       "      <td>external</td>\n",
       "      <td>53</td>\n",
       "    </tr>\n",
       "    <tr>\n",
       "      <th>1</th>\n",
       "      <td>Lichtleiter</td>\n",
       "      <td>Lichtröhre</td>\n",
       "      <td>link</td>\n",
       "      <td>12</td>\n",
       "    </tr>\n",
       "    <tr>\n",
       "      <th>2</th>\n",
       "      <td>Wohnhöhle</td>\n",
       "      <td>Lichtröhre</td>\n",
       "      <td>link</td>\n",
       "      <td>19</td>\n",
       "    </tr>\n",
       "    <tr>\n",
       "      <th>3</th>\n",
       "      <td>other-search</td>\n",
       "      <td>Lichtröhre</td>\n",
       "      <td>external</td>\n",
       "      <td>76</td>\n",
       "    </tr>\n",
       "    <tr>\n",
       "      <th>4</th>\n",
       "      <td>other-internal</td>\n",
       "      <td>Lichtröhre</td>\n",
       "      <td>external</td>\n",
       "      <td>11</td>\n",
       "    </tr>\n",
       "  </tbody>\n",
       "</table>\n",
       "</div>"
      ],
      "text/plain": [
       "             prev        curr      type   n\n",
       "0     other-empty  Lichtröhre  external  53\n",
       "1     Lichtleiter  Lichtröhre      link  12\n",
       "2       Wohnhöhle  Lichtröhre      link  19\n",
       "3    other-search  Lichtröhre  external  76\n",
       "4  other-internal  Lichtröhre  external  11"
      ]
     },
     "execution_count": 4,
     "metadata": {},
     "output_type": "execute_result"
    }
   ],
   "source": [
    "df_wiki_de.head()"
   ]
  },
  {
   "cell_type": "markdown",
   "metadata": {},
   "source": [
    "Na jaki artykuł najczęściej wchodzili w marcu użytkownicy Wikipedii niemieckiej?"
   ]
  },
  {
   "cell_type": "code",
   "execution_count": 5,
   "metadata": {},
   "outputs": [
    {
     "data": {
      "text/html": [
       "<div>\n",
       "<style scoped>\n",
       "    .dataframe tbody tr th:only-of-type {\n",
       "        vertical-align: middle;\n",
       "    }\n",
       "\n",
       "    .dataframe tbody tr th {\n",
       "        vertical-align: top;\n",
       "    }\n",
       "\n",
       "    .dataframe thead th {\n",
       "        text-align: right;\n",
       "    }\n",
       "</style>\n",
       "<table border=\"1\" class=\"dataframe\">\n",
       "  <thead>\n",
       "    <tr style=\"text-align: right;\">\n",
       "      <th></th>\n",
       "      <th>n</th>\n",
       "    </tr>\n",
       "    <tr>\n",
       "      <th>curr</th>\n",
       "      <th></th>\n",
       "    </tr>\n",
       "  </thead>\n",
       "  <tbody>\n",
       "    <tr>\n",
       "      <th>Ukraine</th>\n",
       "      <td>1979272</td>\n",
       "    </tr>\n",
       "  </tbody>\n",
       "</table>\n",
       "</div>"
      ],
      "text/plain": [
       "               n\n",
       "curr            \n",
       "Ukraine  1979272"
      ]
     },
     "execution_count": 5,
     "metadata": {},
     "output_type": "execute_result"
    }
   ],
   "source": [
    "df_wiki_de.groupby('curr').agg({'n': 'sum'}).sort_values(by='n', ascending=False).head(1)"
   ]
  },
  {
   "cell_type": "markdown",
   "metadata": {},
   "source": [
    "Na jaki artykuł najczęściej wchodzili w marcu użytkownicy Wikipedii polskiej?\n"
   ]
  },
  {
   "cell_type": "code",
   "execution_count": 6,
   "metadata": {},
   "outputs": [
    {
     "data": {
      "text/html": [
       "<div>\n",
       "<style scoped>\n",
       "    .dataframe tbody tr th:only-of-type {\n",
       "        vertical-align: middle;\n",
       "    }\n",
       "\n",
       "    .dataframe tbody tr th {\n",
       "        vertical-align: top;\n",
       "    }\n",
       "\n",
       "    .dataframe thead th {\n",
       "        text-align: right;\n",
       "    }\n",
       "</style>\n",
       "<table border=\"1\" class=\"dataframe\">\n",
       "  <thead>\n",
       "    <tr style=\"text-align: right;\">\n",
       "      <th></th>\n",
       "      <th>n</th>\n",
       "    </tr>\n",
       "    <tr>\n",
       "      <th>curr</th>\n",
       "      <th></th>\n",
       "    </tr>\n",
       "  </thead>\n",
       "  <tbody>\n",
       "    <tr>\n",
       "      <th>Ukraina</th>\n",
       "      <td>944630</td>\n",
       "    </tr>\n",
       "  </tbody>\n",
       "</table>\n",
       "</div>"
      ],
      "text/plain": [
       "              n\n",
       "curr           \n",
       "Ukraina  944630"
      ]
     },
     "execution_count": 6,
     "metadata": {},
     "output_type": "execute_result"
    }
   ],
   "source": [
    "df_wiki_pl.groupby('curr').agg({'n': 'sum'}).sort_values(by='n', ascending=False).head(1)"
   ]
  },
  {
   "cell_type": "markdown",
   "metadata": {},
   "source": [
    "# II. StackExchange"
   ]
  },
  {
   "cell_type": "code",
   "execution_count": 8,
   "metadata": {},
   "outputs": [],
   "source": [
    "df_badges = pd.read_xml(\"data/travel.stackexchange.com/Badges.xml\")\n",
    "df_users = pd.read_xml(\"data/travel.stackexchange.com/Users.xml\")\n",
    "df_posts = pd.read_xml(\"data/travel.stackexchange.com/Posts.xml\")\n",
    "df_votes = pd.read_xml(\"data/travel.stackexchange.com/Votes.xml\")\n",
    "df_tags = pd.read_xml(\"data/travel.stackexchange.com/Tags.xml\")\n",
    "df_postlinks = pd.read_xml(\"data/travel.stackexchange.com/PostLinks.xml\")\n",
    "df_posthistory = pd.read_xml(\"data/travel.stackexchange.com/PostHistory.xml\")\n",
    "df_comments = pd.read_xml(\"data/travel.stackexchange.com/Comments.xml\")"
   ]
  },
  {
   "cell_type": "markdown",
   "metadata": {},
   "source": [
    "Jaka jest DisplayName użytkownika który zebrał najwięcej badge'y na Travel.StackExchange?"
   ]
  },
  {
   "cell_type": "code",
   "execution_count": 9,
   "metadata": {},
   "outputs": [],
   "source": [
    "df_badges2 = df_badges.groupby(\"UserId\").size().reset_index(name=\"cnt\").sort_values(\"cnt\", ascending=False).reset_index(drop=True)"
   ]
  },
  {
   "cell_type": "code",
   "execution_count": 10,
   "metadata": {},
   "outputs": [
    {
     "data": {
      "text/html": [
       "<div>\n",
       "<style scoped>\n",
       "    .dataframe tbody tr th:only-of-type {\n",
       "        vertical-align: middle;\n",
       "    }\n",
       "\n",
       "    .dataframe tbody tr th {\n",
       "        vertical-align: top;\n",
       "    }\n",
       "\n",
       "    .dataframe thead th {\n",
       "        text-align: right;\n",
       "    }\n",
       "</style>\n",
       "<table border=\"1\" class=\"dataframe\">\n",
       "  <thead>\n",
       "    <tr style=\"text-align: right;\">\n",
       "      <th></th>\n",
       "      <th>UserId</th>\n",
       "      <th>cnt</th>\n",
       "      <th>Id</th>\n",
       "      <th>Reputation</th>\n",
       "      <th>CreationDate</th>\n",
       "      <th>DisplayName</th>\n",
       "      <th>LastAccessDate</th>\n",
       "      <th>WebsiteUrl</th>\n",
       "      <th>Location</th>\n",
       "      <th>AboutMe</th>\n",
       "      <th>Views</th>\n",
       "      <th>UpVotes</th>\n",
       "      <th>DownVotes</th>\n",
       "      <th>AccountId</th>\n",
       "      <th>ProfileImageUrl</th>\n",
       "    </tr>\n",
       "  </thead>\n",
       "  <tbody>\n",
       "    <tr>\n",
       "      <th>0</th>\n",
       "      <td>101</td>\n",
       "      <td>2202</td>\n",
       "      <td>101</td>\n",
       "      <td>156215</td>\n",
       "      <td>2011-06-22T05:46:39.603</td>\n",
       "      <td>Mark Mayo</td>\n",
       "      <td>2022-03-06T03:56:23.300</td>\n",
       "      <td>http://www.beatthatflight.com.au</td>\n",
       "      <td>Christchurch, New Zealand</td>\n",
       "      <td>&lt;p&gt;Follow me on &lt;a href=\"https://twitter.com/#...</td>\n",
       "      <td>23822</td>\n",
       "      <td>16076</td>\n",
       "      <td>1650</td>\n",
       "      <td>58469.0</td>\n",
       "      <td>None</td>\n",
       "    </tr>\n",
       "    <tr>\n",
       "      <th>1</th>\n",
       "      <td>1893</td>\n",
       "      <td>1197</td>\n",
       "      <td>1893</td>\n",
       "      <td>97544</td>\n",
       "      <td>2012-02-12T22:24:02.820</td>\n",
       "      <td>lambshaanxy</td>\n",
       "      <td>2022-03-06T00:00:51.060</td>\n",
       "      <td>http://gyrovague.com</td>\n",
       "      <td>None</td>\n",
       "      <td>&lt;p&gt;Jack of all trades, master of none.&lt;/p&gt;\\n\\n...</td>\n",
       "      <td>8422</td>\n",
       "      <td>14121</td>\n",
       "      <td>260</td>\n",
       "      <td>76198.0</td>\n",
       "      <td>https://i.stack.imgur.com/b7qJk.gif</td>\n",
       "    </tr>\n",
       "    <tr>\n",
       "      <th>2</th>\n",
       "      <td>9009</td>\n",
       "      <td>1037</td>\n",
       "      <td>9009</td>\n",
       "      <td>78844</td>\n",
       "      <td>2013-11-04T10:24:33.297</td>\n",
       "      <td>JonathanReez</td>\n",
       "      <td>2022-03-06T01:07:09.760</td>\n",
       "      <td>None</td>\n",
       "      <td>None</td>\n",
       "      <td>None</td>\n",
       "      <td>15597</td>\n",
       "      <td>12928</td>\n",
       "      <td>750</td>\n",
       "      <td>484995.0</td>\n",
       "      <td>https://www.gravatar.com/avatar/06effda2fb8b9b...</td>\n",
       "    </tr>\n",
       "    <tr>\n",
       "      <th>3</th>\n",
       "      <td>140</td>\n",
       "      <td>894</td>\n",
       "      <td>140</td>\n",
       "      <td>74984</td>\n",
       "      <td>2011-06-23T09:07:20.373</td>\n",
       "      <td>hippietrail</td>\n",
       "      <td>2022-03-04T04:25:15.450</td>\n",
       "      <td>http://en.wiktionary.org/wiki/User:Hippietrail</td>\n",
       "      <td>Sunshine Coast QLD, Australia</td>\n",
       "      <td>&lt;p&gt;Backpacking since Christmas Day, 1989. Hitc...</td>\n",
       "      <td>17146</td>\n",
       "      <td>6294</td>\n",
       "      <td>164</td>\n",
       "      <td>250783.0</td>\n",
       "      <td>https://i.stack.imgur.com/TgTIa.jpg?s=128&amp;g=1</td>\n",
       "    </tr>\n",
       "    <tr>\n",
       "      <th>4</th>\n",
       "      <td>10051</td>\n",
       "      <td>752</td>\n",
       "      <td>10051</td>\n",
       "      <td>93064</td>\n",
       "      <td>2014-01-21T10:43:55.937</td>\n",
       "      <td>Nean Der Thal</td>\n",
       "      <td>2022-03-05T23:48:59.827</td>\n",
       "      <td>http://www.bing.com</td>\n",
       "      <td>Arabian Gulf</td>\n",
       "      <td>&lt;img src=\"https://www.traveltip.org/pix/user_c...</td>\n",
       "      <td>13826</td>\n",
       "      <td>3843</td>\n",
       "      <td>28</td>\n",
       "      <td>550702.0</td>\n",
       "      <td>https://i.stack.imgur.com/3u7oz.png?s=128&amp;g=1</td>\n",
       "    </tr>\n",
       "  </tbody>\n",
       "</table>\n",
       "</div>"
      ],
      "text/plain": [
       "   UserId   cnt     Id  Reputation             CreationDate    DisplayName  \\\n",
       "0     101  2202    101      156215  2011-06-22T05:46:39.603      Mark Mayo   \n",
       "1    1893  1197   1893       97544  2012-02-12T22:24:02.820    lambshaanxy   \n",
       "2    9009  1037   9009       78844  2013-11-04T10:24:33.297   JonathanReez   \n",
       "3     140   894    140       74984  2011-06-23T09:07:20.373    hippietrail   \n",
       "4   10051   752  10051       93064  2014-01-21T10:43:55.937  Nean Der Thal   \n",
       "\n",
       "            LastAccessDate                                      WebsiteUrl  \\\n",
       "0  2022-03-06T03:56:23.300                http://www.beatthatflight.com.au   \n",
       "1  2022-03-06T00:00:51.060                            http://gyrovague.com   \n",
       "2  2022-03-06T01:07:09.760                                            None   \n",
       "3  2022-03-04T04:25:15.450  http://en.wiktionary.org/wiki/User:Hippietrail   \n",
       "4  2022-03-05T23:48:59.827                             http://www.bing.com   \n",
       "\n",
       "                        Location  \\\n",
       "0      Christchurch, New Zealand   \n",
       "1                           None   \n",
       "2                           None   \n",
       "3  Sunshine Coast QLD, Australia   \n",
       "4                   Arabian Gulf   \n",
       "\n",
       "                                             AboutMe  Views  UpVotes  \\\n",
       "0  <p>Follow me on <a href=\"https://twitter.com/#...  23822    16076   \n",
       "1  <p>Jack of all trades, master of none.</p>\\n\\n...   8422    14121   \n",
       "2                                               None  15597    12928   \n",
       "3  <p>Backpacking since Christmas Day, 1989. Hitc...  17146     6294   \n",
       "4  <img src=\"https://www.traveltip.org/pix/user_c...  13826     3843   \n",
       "\n",
       "   DownVotes  AccountId                                    ProfileImageUrl  \n",
       "0       1650    58469.0                                               None  \n",
       "1        260    76198.0                https://i.stack.imgur.com/b7qJk.gif  \n",
       "2        750   484995.0  https://www.gravatar.com/avatar/06effda2fb8b9b...  \n",
       "3        164   250783.0      https://i.stack.imgur.com/TgTIa.jpg?s=128&g=1  \n",
       "4         28   550702.0      https://i.stack.imgur.com/3u7oz.png?s=128&g=1  "
      ]
     },
     "execution_count": 10,
     "metadata": {},
     "output_type": "execute_result"
    }
   ],
   "source": [
    "df_merged = df_badges2.merge(df_users,left_on=\"UserId\", right_on=\"Id\")\n",
    "df_merged.head()"
   ]
  },
  {
   "cell_type": "code",
   "execution_count": 11,
   "metadata": {},
   "outputs": [
    {
     "data": {
      "text/plain": [
       "'Mark Mayo'"
      ]
     },
     "execution_count": 11,
     "metadata": {},
     "output_type": "execute_result"
    }
   ],
   "source": [
    "df_merged.iloc[0,:]['DisplayName']"
   ]
  },
  {
   "cell_type": "markdown",
   "metadata": {},
   "source": [
    "(Kontynuacja powyższego) Ile było wejść na stronę poświęconą miastu (nie całemu Location) z którego jest ten użytkownik na angielskiej Wikipedii?"
   ]
  },
  {
   "cell_type": "code",
   "execution_count": 12,
   "metadata": {},
   "outputs": [
    {
     "data": {
      "text/plain": [
       "'Christchurch, New Zealand'"
      ]
     },
     "execution_count": 12,
     "metadata": {},
     "output_type": "execute_result"
    }
   ],
   "source": [
    "best_man = df_merged.iloc[0,:]\n",
    "best_man['Location']"
   ]
  },
  {
   "cell_type": "code",
   "execution_count": 13,
   "metadata": {},
   "outputs": [
    {
     "data": {
      "text/html": [
       "<div>\n",
       "<style scoped>\n",
       "    .dataframe tbody tr th:only-of-type {\n",
       "        vertical-align: middle;\n",
       "    }\n",
       "\n",
       "    .dataframe tbody tr th {\n",
       "        vertical-align: top;\n",
       "    }\n",
       "\n",
       "    .dataframe thead th {\n",
       "        text-align: right;\n",
       "    }\n",
       "</style>\n",
       "<table border=\"1\" class=\"dataframe\">\n",
       "  <thead>\n",
       "    <tr style=\"text-align: right;\">\n",
       "      <th></th>\n",
       "      <th>prev</th>\n",
       "      <th>curr</th>\n",
       "      <th>type</th>\n",
       "      <th>n</th>\n",
       "    </tr>\n",
       "  </thead>\n",
       "  <tbody>\n",
       "    <tr>\n",
       "      <th>0</th>\n",
       "      <td>Robert_Loggia</td>\n",
       "      <td>Tim_and_Eric's_Billion_Dollar_Movie</td>\n",
       "      <td>link</td>\n",
       "      <td>136</td>\n",
       "    </tr>\n",
       "    <tr>\n",
       "      <th>1</th>\n",
       "      <td>2929_Entertainment</td>\n",
       "      <td>Tim_and_Eric's_Billion_Dollar_Movie</td>\n",
       "      <td>link</td>\n",
       "      <td>24</td>\n",
       "    </tr>\n",
       "    <tr>\n",
       "      <th>2</th>\n",
       "      <td>Ray_Wise</td>\n",
       "      <td>Tim_and_Eric's_Billion_Dollar_Movie</td>\n",
       "      <td>link</td>\n",
       "      <td>15</td>\n",
       "    </tr>\n",
       "    <tr>\n",
       "      <th>3</th>\n",
       "      <td>Check_It_Out!_with_Dr._Steve_Brule</td>\n",
       "      <td>Tim_and_Eric's_Billion_Dollar_Movie</td>\n",
       "      <td>link</td>\n",
       "      <td>70</td>\n",
       "    </tr>\n",
       "    <tr>\n",
       "      <th>4</th>\n",
       "      <td>other-empty</td>\n",
       "      <td>Tim_and_Eric's_Billion_Dollar_Movie</td>\n",
       "      <td>external</td>\n",
       "      <td>552</td>\n",
       "    </tr>\n",
       "  </tbody>\n",
       "</table>\n",
       "</div>"
      ],
      "text/plain": [
       "                                 prev                                 curr  \\\n",
       "0                       Robert_Loggia  Tim_and_Eric's_Billion_Dollar_Movie   \n",
       "1                  2929_Entertainment  Tim_and_Eric's_Billion_Dollar_Movie   \n",
       "2                            Ray_Wise  Tim_and_Eric's_Billion_Dollar_Movie   \n",
       "3  Check_It_Out!_with_Dr._Steve_Brule  Tim_and_Eric's_Billion_Dollar_Movie   \n",
       "4                         other-empty  Tim_and_Eric's_Billion_Dollar_Movie   \n",
       "\n",
       "       type    n  \n",
       "0      link  136  \n",
       "1      link   24  \n",
       "2      link   15  \n",
       "3      link   70  \n",
       "4  external  552  "
      ]
     },
     "execution_count": 13,
     "metadata": {},
     "output_type": "execute_result"
    }
   ],
   "source": [
    "df_wiki_en.head()"
   ]
  },
  {
   "cell_type": "code",
   "execution_count": 14,
   "metadata": {},
   "outputs": [
    {
     "data": {
      "text/plain": [
       "25804"
      ]
     },
     "execution_count": 14,
     "metadata": {},
     "output_type": "execute_result"
    }
   ],
   "source": [
    "df_wiki_en.loc[df_wiki_en['curr'] == \"Christchurch\"]['n'].sum()"
   ]
  },
  {
   "cell_type": "code",
   "execution_count": 15,
   "metadata": {},
   "outputs": [
    {
     "data": {
      "text/html": [
       "<div>\n",
       "<style scoped>\n",
       "    .dataframe tbody tr th:only-of-type {\n",
       "        vertical-align: middle;\n",
       "    }\n",
       "\n",
       "    .dataframe tbody tr th {\n",
       "        vertical-align: top;\n",
       "    }\n",
       "\n",
       "    .dataframe thead th {\n",
       "        text-align: right;\n",
       "    }\n",
       "</style>\n",
       "<table border=\"1\" class=\"dataframe\">\n",
       "  <thead>\n",
       "    <tr style=\"text-align: right;\">\n",
       "      <th></th>\n",
       "      <th>Id</th>\n",
       "      <th>PostId</th>\n",
       "      <th>VoteTypeId</th>\n",
       "      <th>CreationDate</th>\n",
       "      <th>UserId</th>\n",
       "      <th>BountyAmount</th>\n",
       "    </tr>\n",
       "  </thead>\n",
       "  <tbody>\n",
       "    <tr>\n",
       "      <th>0</th>\n",
       "      <td>1</td>\n",
       "      <td>1</td>\n",
       "      <td>2</td>\n",
       "      <td>2011-06-21T00:00:00.000</td>\n",
       "      <td>NaN</td>\n",
       "      <td>NaN</td>\n",
       "    </tr>\n",
       "    <tr>\n",
       "      <th>1</th>\n",
       "      <td>2</td>\n",
       "      <td>1</td>\n",
       "      <td>2</td>\n",
       "      <td>2011-06-21T00:00:00.000</td>\n",
       "      <td>NaN</td>\n",
       "      <td>NaN</td>\n",
       "    </tr>\n",
       "    <tr>\n",
       "      <th>8</th>\n",
       "      <td>9</td>\n",
       "      <td>1</td>\n",
       "      <td>2</td>\n",
       "      <td>2011-06-21T00:00:00.000</td>\n",
       "      <td>NaN</td>\n",
       "      <td>NaN</td>\n",
       "    </tr>\n",
       "    <tr>\n",
       "      <th>145</th>\n",
       "      <td>159</td>\n",
       "      <td>1</td>\n",
       "      <td>2</td>\n",
       "      <td>2011-06-21T00:00:00.000</td>\n",
       "      <td>NaN</td>\n",
       "      <td>NaN</td>\n",
       "    </tr>\n",
       "    <tr>\n",
       "      <th>266</th>\n",
       "      <td>285</td>\n",
       "      <td>1</td>\n",
       "      <td>16</td>\n",
       "      <td>2011-06-21T00:00:00.000</td>\n",
       "      <td>NaN</td>\n",
       "      <td>NaN</td>\n",
       "    </tr>\n",
       "    <tr>\n",
       "      <th>269</th>\n",
       "      <td>289</td>\n",
       "      <td>1</td>\n",
       "      <td>16</td>\n",
       "      <td>2011-06-21T00:00:00.000</td>\n",
       "      <td>NaN</td>\n",
       "      <td>NaN</td>\n",
       "    </tr>\n",
       "    <tr>\n",
       "      <th>270</th>\n",
       "      <td>290</td>\n",
       "      <td>1</td>\n",
       "      <td>3</td>\n",
       "      <td>2011-06-21T00:00:00.000</td>\n",
       "      <td>NaN</td>\n",
       "      <td>NaN</td>\n",
       "    </tr>\n",
       "    <tr>\n",
       "      <th>994</th>\n",
       "      <td>1122</td>\n",
       "      <td>1</td>\n",
       "      <td>2</td>\n",
       "      <td>2011-06-23T00:00:00.000</td>\n",
       "      <td>NaN</td>\n",
       "      <td>NaN</td>\n",
       "    </tr>\n",
       "    <tr>\n",
       "      <th>1389</th>\n",
       "      <td>1557</td>\n",
       "      <td>1</td>\n",
       "      <td>2</td>\n",
       "      <td>2011-06-25T00:00:00.000</td>\n",
       "      <td>NaN</td>\n",
       "      <td>NaN</td>\n",
       "    </tr>\n",
       "    <tr>\n",
       "      <th>1817</th>\n",
       "      <td>2020</td>\n",
       "      <td>1</td>\n",
       "      <td>15</td>\n",
       "      <td>2011-06-27T00:00:00.000</td>\n",
       "      <td>NaN</td>\n",
       "      <td>NaN</td>\n",
       "    </tr>\n",
       "  </tbody>\n",
       "</table>\n",
       "</div>"
      ],
      "text/plain": [
       "        Id  PostId  VoteTypeId             CreationDate  UserId  BountyAmount\n",
       "0        1       1           2  2011-06-21T00:00:00.000     NaN           NaN\n",
       "1        2       1           2  2011-06-21T00:00:00.000     NaN           NaN\n",
       "8        9       1           2  2011-06-21T00:00:00.000     NaN           NaN\n",
       "145    159       1           2  2011-06-21T00:00:00.000     NaN           NaN\n",
       "266    285       1          16  2011-06-21T00:00:00.000     NaN           NaN\n",
       "269    289       1          16  2011-06-21T00:00:00.000     NaN           NaN\n",
       "270    290       1           3  2011-06-21T00:00:00.000     NaN           NaN\n",
       "994   1122       1           2  2011-06-23T00:00:00.000     NaN           NaN\n",
       "1389  1557       1           2  2011-06-25T00:00:00.000     NaN           NaN\n",
       "1817  2020       1          15  2011-06-27T00:00:00.000     NaN           NaN"
      ]
     },
     "execution_count": 15,
     "metadata": {},
     "output_type": "execute_result"
    }
   ],
   "source": [
    "df_votes.loc[df_votes['PostId']==1].head(10)"
   ]
  },
  {
   "cell_type": "markdown",
   "metadata": {},
   "source": [
    "+ Upvotes:"
   ]
  },
  {
   "cell_type": "code",
   "execution_count": 16,
   "metadata": {},
   "outputs": [],
   "source": [
    "df_upvotes = df_votes.loc[df_votes['VoteTypeId'] == 2].groupby('PostId').size().reset_index(name=\"CountUpVotes\")"
   ]
  },
  {
   "cell_type": "code",
   "execution_count": 17,
   "metadata": {},
   "outputs": [
    {
     "data": {
      "text/html": [
       "<div>\n",
       "<style scoped>\n",
       "    .dataframe tbody tr th:only-of-type {\n",
       "        vertical-align: middle;\n",
       "    }\n",
       "\n",
       "    .dataframe tbody tr th {\n",
       "        vertical-align: top;\n",
       "    }\n",
       "\n",
       "    .dataframe thead th {\n",
       "        text-align: right;\n",
       "    }\n",
       "</style>\n",
       "<table border=\"1\" class=\"dataframe\">\n",
       "  <thead>\n",
       "    <tr style=\"text-align: right;\">\n",
       "      <th></th>\n",
       "      <th>PostId</th>\n",
       "      <th>CountUpVotes</th>\n",
       "    </tr>\n",
       "  </thead>\n",
       "  <tbody>\n",
       "    <tr>\n",
       "      <th>0</th>\n",
       "      <td>1</td>\n",
       "      <td>10</td>\n",
       "    </tr>\n",
       "    <tr>\n",
       "      <th>1</th>\n",
       "      <td>2</td>\n",
       "      <td>43</td>\n",
       "    </tr>\n",
       "    <tr>\n",
       "      <th>2</th>\n",
       "      <td>3</td>\n",
       "      <td>16</td>\n",
       "    </tr>\n",
       "    <tr>\n",
       "      <th>3</th>\n",
       "      <td>4</td>\n",
       "      <td>9</td>\n",
       "    </tr>\n",
       "    <tr>\n",
       "      <th>4</th>\n",
       "      <td>5</td>\n",
       "      <td>14</td>\n",
       "    </tr>\n",
       "  </tbody>\n",
       "</table>\n",
       "</div>"
      ],
      "text/plain": [
       "   PostId  CountUpVotes\n",
       "0       1            10\n",
       "1       2            43\n",
       "2       3            16\n",
       "3       4             9\n",
       "4       5            14"
      ]
     },
     "execution_count": 17,
     "metadata": {},
     "output_type": "execute_result"
    }
   ],
   "source": [
    "df_upvotes.head()"
   ]
  },
  {
   "cell_type": "markdown",
   "metadata": {},
   "source": [
    "+ DownVotes:"
   ]
  },
  {
   "cell_type": "code",
   "execution_count": 18,
   "metadata": {},
   "outputs": [],
   "source": [
    "df_downvotes = df_votes.loc[df_votes['VoteTypeId'] == 3].groupby('PostId').size().reset_index(name=\"CountDownVotes\")"
   ]
  },
  {
   "cell_type": "code",
   "execution_count": 19,
   "metadata": {},
   "outputs": [
    {
     "data": {
      "text/html": [
       "<div>\n",
       "<style scoped>\n",
       "    .dataframe tbody tr th:only-of-type {\n",
       "        vertical-align: middle;\n",
       "    }\n",
       "\n",
       "    .dataframe tbody tr th {\n",
       "        vertical-align: top;\n",
       "    }\n",
       "\n",
       "    .dataframe thead th {\n",
       "        text-align: right;\n",
       "    }\n",
       "</style>\n",
       "<table border=\"1\" class=\"dataframe\">\n",
       "  <thead>\n",
       "    <tr style=\"text-align: right;\">\n",
       "      <th></th>\n",
       "      <th>PostId</th>\n",
       "      <th>CountDownVotes</th>\n",
       "    </tr>\n",
       "  </thead>\n",
       "  <tbody>\n",
       "    <tr>\n",
       "      <th>0</th>\n",
       "      <td>1</td>\n",
       "      <td>2</td>\n",
       "    </tr>\n",
       "    <tr>\n",
       "      <th>1</th>\n",
       "      <td>3</td>\n",
       "      <td>1</td>\n",
       "    </tr>\n",
       "    <tr>\n",
       "      <th>2</th>\n",
       "      <td>4</td>\n",
       "      <td>1</td>\n",
       "    </tr>\n",
       "    <tr>\n",
       "      <th>3</th>\n",
       "      <td>7</td>\n",
       "      <td>3</td>\n",
       "    </tr>\n",
       "    <tr>\n",
       "      <th>4</th>\n",
       "      <td>8</td>\n",
       "      <td>1</td>\n",
       "    </tr>\n",
       "  </tbody>\n",
       "</table>\n",
       "</div>"
      ],
      "text/plain": [
       "   PostId  CountDownVotes\n",
       "0       1               2\n",
       "1       3               1\n",
       "2       4               1\n",
       "3       7               3\n",
       "4       8               1"
      ]
     },
     "execution_count": 19,
     "metadata": {},
     "output_type": "execute_result"
    }
   ],
   "source": [
    "df_downvotes.head()"
   ]
  },
  {
   "cell_type": "markdown",
   "metadata": {},
   "source": [
    "+ Łączenie:"
   ]
  },
  {
   "cell_type": "code",
   "execution_count": 20,
   "metadata": {},
   "outputs": [],
   "source": [
    "df_posts_users = df_posts.loc[:,['Id','OwnerUserId']].rename(columns={'Id':'post_id'})"
   ]
  },
  {
   "cell_type": "code",
   "execution_count": 21,
   "metadata": {},
   "outputs": [
    {
     "data": {
      "text/html": [
       "<div>\n",
       "<style scoped>\n",
       "    .dataframe tbody tr th:only-of-type {\n",
       "        vertical-align: middle;\n",
       "    }\n",
       "\n",
       "    .dataframe tbody tr th {\n",
       "        vertical-align: top;\n",
       "    }\n",
       "\n",
       "    .dataframe thead th {\n",
       "        text-align: right;\n",
       "    }\n",
       "</style>\n",
       "<table border=\"1\" class=\"dataframe\">\n",
       "  <thead>\n",
       "    <tr style=\"text-align: right;\">\n",
       "      <th></th>\n",
       "      <th>post_id</th>\n",
       "      <th>OwnerUserId</th>\n",
       "    </tr>\n",
       "  </thead>\n",
       "  <tbody>\n",
       "    <tr>\n",
       "      <th>0</th>\n",
       "      <td>1</td>\n",
       "      <td>9.0</td>\n",
       "    </tr>\n",
       "    <tr>\n",
       "      <th>1</th>\n",
       "      <td>2</td>\n",
       "      <td>13.0</td>\n",
       "    </tr>\n",
       "    <tr>\n",
       "      <th>2</th>\n",
       "      <td>3</td>\n",
       "      <td>9.0</td>\n",
       "    </tr>\n",
       "    <tr>\n",
       "      <th>3</th>\n",
       "      <td>4</td>\n",
       "      <td>24.0</td>\n",
       "    </tr>\n",
       "    <tr>\n",
       "      <th>4</th>\n",
       "      <td>5</td>\n",
       "      <td>13.0</td>\n",
       "    </tr>\n",
       "  </tbody>\n",
       "</table>\n",
       "</div>"
      ],
      "text/plain": [
       "   post_id  OwnerUserId\n",
       "0        1          9.0\n",
       "1        2         13.0\n",
       "2        3          9.0\n",
       "3        4         24.0\n",
       "4        5         13.0"
      ]
     },
     "execution_count": 21,
     "metadata": {},
     "output_type": "execute_result"
    }
   ],
   "source": [
    "df_posts_users.head()"
   ]
  },
  {
   "cell_type": "code",
   "execution_count": 23,
   "metadata": {},
   "outputs": [],
   "source": [
    "df_merged = df_posts_users.merge(df_upvotes, left_on=\"post_id\", right_on=\"PostId\", how=\"left\").fillna(0)\n",
    "df_merged = df_merged.merge(df_downvotes, left_on=\"post_id\", right_on=\"PostId\", how=\"left\").fillna(0)"
   ]
  },
  {
   "cell_type": "code",
   "execution_count": 24,
   "metadata": {},
   "outputs": [
    {
     "data": {
      "text/html": [
       "<div>\n",
       "<style scoped>\n",
       "    .dataframe tbody tr th:only-of-type {\n",
       "        vertical-align: middle;\n",
       "    }\n",
       "\n",
       "    .dataframe tbody tr th {\n",
       "        vertical-align: top;\n",
       "    }\n",
       "\n",
       "    .dataframe thead th {\n",
       "        text-align: right;\n",
       "    }\n",
       "</style>\n",
       "<table border=\"1\" class=\"dataframe\">\n",
       "  <thead>\n",
       "    <tr style=\"text-align: right;\">\n",
       "      <th></th>\n",
       "      <th>post_id</th>\n",
       "      <th>OwnerUserId</th>\n",
       "      <th>CountUpVotes</th>\n",
       "      <th>CountDownVotes</th>\n",
       "    </tr>\n",
       "  </thead>\n",
       "  <tbody>\n",
       "    <tr>\n",
       "      <th>0</th>\n",
       "      <td>1</td>\n",
       "      <td>9.0</td>\n",
       "      <td>10.0</td>\n",
       "      <td>2.0</td>\n",
       "    </tr>\n",
       "    <tr>\n",
       "      <th>1</th>\n",
       "      <td>2</td>\n",
       "      <td>13.0</td>\n",
       "      <td>43.0</td>\n",
       "      <td>0.0</td>\n",
       "    </tr>\n",
       "    <tr>\n",
       "      <th>2</th>\n",
       "      <td>3</td>\n",
       "      <td>9.0</td>\n",
       "      <td>16.0</td>\n",
       "      <td>1.0</td>\n",
       "    </tr>\n",
       "    <tr>\n",
       "      <th>3</th>\n",
       "      <td>4</td>\n",
       "      <td>24.0</td>\n",
       "      <td>9.0</td>\n",
       "      <td>1.0</td>\n",
       "    </tr>\n",
       "    <tr>\n",
       "      <th>4</th>\n",
       "      <td>5</td>\n",
       "      <td>13.0</td>\n",
       "      <td>14.0</td>\n",
       "      <td>0.0</td>\n",
       "    </tr>\n",
       "  </tbody>\n",
       "</table>\n",
       "</div>"
      ],
      "text/plain": [
       "   post_id  OwnerUserId  CountUpVotes  CountDownVotes\n",
       "0        1          9.0          10.0             2.0\n",
       "1        2         13.0          43.0             0.0\n",
       "2        3          9.0          16.0             1.0\n",
       "3        4         24.0           9.0             1.0\n",
       "4        5         13.0          14.0             0.0"
      ]
     },
     "execution_count": 24,
     "metadata": {},
     "output_type": "execute_result"
    }
   ],
   "source": [
    "df_merged.drop(columns=['PostId_x', 'PostId_y'], inplace=True)\n",
    "df_merged.head()"
   ]
  },
  {
   "cell_type": "code",
   "execution_count": 25,
   "metadata": {},
   "outputs": [],
   "source": [
    "df_merged['diff'] = df_merged.apply(lambda x: x['CountUpVotes']-x['CountDownVotes'], axis=1)"
   ]
  },
  {
   "cell_type": "code",
   "execution_count": 26,
   "metadata": {},
   "outputs": [
    {
     "data": {
      "text/html": [
       "<div>\n",
       "<style scoped>\n",
       "    .dataframe tbody tr th:only-of-type {\n",
       "        vertical-align: middle;\n",
       "    }\n",
       "\n",
       "    .dataframe tbody tr th {\n",
       "        vertical-align: top;\n",
       "    }\n",
       "\n",
       "    .dataframe thead th {\n",
       "        text-align: right;\n",
       "    }\n",
       "</style>\n",
       "<table border=\"1\" class=\"dataframe\">\n",
       "  <thead>\n",
       "    <tr style=\"text-align: right;\">\n",
       "      <th></th>\n",
       "      <th>Id</th>\n",
       "      <th>Reputation</th>\n",
       "      <th>CreationDate</th>\n",
       "      <th>DisplayName</th>\n",
       "      <th>LastAccessDate</th>\n",
       "      <th>WebsiteUrl</th>\n",
       "      <th>Location</th>\n",
       "      <th>AboutMe</th>\n",
       "      <th>Views</th>\n",
       "      <th>UpVotes</th>\n",
       "      <th>DownVotes</th>\n",
       "      <th>AccountId</th>\n",
       "      <th>ProfileImageUrl</th>\n",
       "    </tr>\n",
       "  </thead>\n",
       "  <tbody>\n",
       "    <tr>\n",
       "      <th>0</th>\n",
       "      <td>-1</td>\n",
       "      <td>1</td>\n",
       "      <td>2011-06-21T15:16:44.253</td>\n",
       "      <td>Community</td>\n",
       "      <td>2011-06-21T15:16:44.253</td>\n",
       "      <td>http://meta.stackexchange.com/</td>\n",
       "      <td>on the server farm</td>\n",
       "      <td>&lt;p&gt;Hi, I'm not really a person.&lt;/p&gt;\\n\\n&lt;p&gt;I'm ...</td>\n",
       "      <td>465</td>\n",
       "      <td>6309</td>\n",
       "      <td>24756</td>\n",
       "      <td>-1.0</td>\n",
       "      <td>None</td>\n",
       "    </tr>\n",
       "    <tr>\n",
       "      <th>1</th>\n",
       "      <td>2</td>\n",
       "      <td>101</td>\n",
       "      <td>2011-06-21T20:10:03.720</td>\n",
       "      <td>Geoff Dalgas</td>\n",
       "      <td>2017-10-09T14:25:03.613</td>\n",
       "      <td>http://stackoverflow.com</td>\n",
       "      <td>Corvallis, OR</td>\n",
       "      <td>&lt;p&gt;Dev #2 who helped create Stack Overflow cur...</td>\n",
       "      <td>41</td>\n",
       "      <td>1</td>\n",
       "      <td>0</td>\n",
       "      <td>2.0</td>\n",
       "      <td>https://i.stack.imgur.com/nDllk.png?s=128&amp;g=1</td>\n",
       "    </tr>\n",
       "    <tr>\n",
       "      <th>2</th>\n",
       "      <td>3</td>\n",
       "      <td>101</td>\n",
       "      <td>2011-06-21T20:11:02.490</td>\n",
       "      <td>Nick Craver</td>\n",
       "      <td>2019-11-13T23:54:04.630</td>\n",
       "      <td>https://nickcraver.com/blog/</td>\n",
       "      <td>Winston-Salem, NC</td>\n",
       "      <td>&lt;p&gt;I am a Principal Software Engineer at Micro...</td>\n",
       "      <td>22</td>\n",
       "      <td>1</td>\n",
       "      <td>0</td>\n",
       "      <td>7598.0</td>\n",
       "      <td>https://i.stack.imgur.com/nGCYr.jpg?s=128&amp;g=1</td>\n",
       "    </tr>\n",
       "    <tr>\n",
       "      <th>3</th>\n",
       "      <td>4</td>\n",
       "      <td>101</td>\n",
       "      <td>2011-06-21T20:12:21.223</td>\n",
       "      <td>Emmett</td>\n",
       "      <td>2019-09-05T02:57:12.997</td>\n",
       "      <td>http://minesweeperonline.com</td>\n",
       "      <td>San Francisco, CA</td>\n",
       "      <td>&lt;p&gt;co-founder of &lt;a href=\"https://airtable.com...</td>\n",
       "      <td>16</td>\n",
       "      <td>1</td>\n",
       "      <td>0</td>\n",
       "      <td>1998.0</td>\n",
       "      <td>https://i.stack.imgur.com/d1oHX.jpg?s=128&amp;g=1</td>\n",
       "    </tr>\n",
       "    <tr>\n",
       "      <th>4</th>\n",
       "      <td>5</td>\n",
       "      <td>101</td>\n",
       "      <td>2011-06-21T20:15:31.410</td>\n",
       "      <td>Kevin Montrose</td>\n",
       "      <td>2019-05-21T18:43:29.443</td>\n",
       "      <td>https://kevinmontrose.com</td>\n",
       "      <td>New York, NY, United States</td>\n",
       "      <td>&lt;p&gt;&lt;a href=\"http://blog.stackoverflow.com/2010...</td>\n",
       "      <td>14</td>\n",
       "      <td>3</td>\n",
       "      <td>0</td>\n",
       "      <td>29738.0</td>\n",
       "      <td>None</td>\n",
       "    </tr>\n",
       "  </tbody>\n",
       "</table>\n",
       "</div>"
      ],
      "text/plain": [
       "   Id  Reputation             CreationDate     DisplayName  \\\n",
       "0  -1           1  2011-06-21T15:16:44.253       Community   \n",
       "1   2         101  2011-06-21T20:10:03.720    Geoff Dalgas   \n",
       "2   3         101  2011-06-21T20:11:02.490     Nick Craver   \n",
       "3   4         101  2011-06-21T20:12:21.223          Emmett   \n",
       "4   5         101  2011-06-21T20:15:31.410  Kevin Montrose   \n",
       "\n",
       "            LastAccessDate                      WebsiteUrl  \\\n",
       "0  2011-06-21T15:16:44.253  http://meta.stackexchange.com/   \n",
       "1  2017-10-09T14:25:03.613        http://stackoverflow.com   \n",
       "2  2019-11-13T23:54:04.630    https://nickcraver.com/blog/   \n",
       "3  2019-09-05T02:57:12.997    http://minesweeperonline.com   \n",
       "4  2019-05-21T18:43:29.443       https://kevinmontrose.com   \n",
       "\n",
       "                      Location  \\\n",
       "0           on the server farm   \n",
       "1                Corvallis, OR   \n",
       "2            Winston-Salem, NC   \n",
       "3            San Francisco, CA   \n",
       "4  New York, NY, United States   \n",
       "\n",
       "                                             AboutMe  Views  UpVotes  \\\n",
       "0  <p>Hi, I'm not really a person.</p>\\n\\n<p>I'm ...    465     6309   \n",
       "1  <p>Dev #2 who helped create Stack Overflow cur...     41        1   \n",
       "2  <p>I am a Principal Software Engineer at Micro...     22        1   \n",
       "3  <p>co-founder of <a href=\"https://airtable.com...     16        1   \n",
       "4  <p><a href=\"http://blog.stackoverflow.com/2010...     14        3   \n",
       "\n",
       "   DownVotes  AccountId                                ProfileImageUrl  \n",
       "0      24756       -1.0                                           None  \n",
       "1          0        2.0  https://i.stack.imgur.com/nDllk.png?s=128&g=1  \n",
       "2          0     7598.0  https://i.stack.imgur.com/nGCYr.jpg?s=128&g=1  \n",
       "3          0     1998.0  https://i.stack.imgur.com/d1oHX.jpg?s=128&g=1  \n",
       "4          0    29738.0                                           None  "
      ]
     },
     "execution_count": 26,
     "metadata": {},
     "output_type": "execute_result"
    }
   ],
   "source": [
    "df_users.head()"
   ]
  },
  {
   "cell_type": "code",
   "execution_count": 27,
   "metadata": {},
   "outputs": [],
   "source": [
    "df_merged = df_merged.merge(df_users, left_on=\"OwnerUserId\", right_on=\"Id\")"
   ]
  },
  {
   "cell_type": "code",
   "execution_count": 34,
   "metadata": {},
   "outputs": [
    {
     "data": {
      "text/html": [
       "<div>\n",
       "<style scoped>\n",
       "    .dataframe tbody tr th:only-of-type {\n",
       "        vertical-align: middle;\n",
       "    }\n",
       "\n",
       "    .dataframe tbody tr th {\n",
       "        vertical-align: top;\n",
       "    }\n",
       "\n",
       "    .dataframe thead th {\n",
       "        text-align: right;\n",
       "    }\n",
       "</style>\n",
       "<table border=\"1\" class=\"dataframe\">\n",
       "  <thead>\n",
       "    <tr style=\"text-align: right;\">\n",
       "      <th></th>\n",
       "      <th>post_id</th>\n",
       "      <th>OwnerUserId</th>\n",
       "      <th>CountUpVotes</th>\n",
       "      <th>CountDownVotes</th>\n",
       "      <th>diff</th>\n",
       "      <th>Id</th>\n",
       "      <th>Reputation</th>\n",
       "      <th>CreationDate</th>\n",
       "      <th>DisplayName</th>\n",
       "      <th>LastAccessDate</th>\n",
       "      <th>WebsiteUrl</th>\n",
       "      <th>Location</th>\n",
       "      <th>AboutMe</th>\n",
       "      <th>Views</th>\n",
       "      <th>UpVotes</th>\n",
       "      <th>DownVotes</th>\n",
       "      <th>AccountId</th>\n",
       "      <th>ProfileImageUrl</th>\n",
       "    </tr>\n",
       "  </thead>\n",
       "  <tbody>\n",
       "    <tr>\n",
       "      <th>52385</th>\n",
       "      <td>98374</td>\n",
       "      <td>18431.0</td>\n",
       "      <td>547.0</td>\n",
       "      <td>0.0</td>\n",
       "      <td>547.0</td>\n",
       "      <td>18431</td>\n",
       "      <td>14222</td>\n",
       "      <td>2014-07-15T19:42:02.633</td>\n",
       "      <td>Andrew Lazarus</td>\n",
       "      <td>2022-02-26T10:32:53.460</td>\n",
       "      <td>None</td>\n",
       "      <td>California</td>\n",
       "      <td>&lt;p&gt;Mathematician, programmer, polymath.&lt;/p&gt;\\n</td>\n",
       "      <td>1269</td>\n",
       "      <td>1493</td>\n",
       "      <td>49</td>\n",
       "      <td>370140.0</td>\n",
       "      <td>None</td>\n",
       "    </tr>\n",
       "  </tbody>\n",
       "</table>\n",
       "</div>"
      ],
      "text/plain": [
       "       post_id  OwnerUserId  CountUpVotes  CountDownVotes   diff     Id  \\\n",
       "52385    98374      18431.0         547.0             0.0  547.0  18431   \n",
       "\n",
       "       Reputation             CreationDate     DisplayName  \\\n",
       "52385       14222  2014-07-15T19:42:02.633  Andrew Lazarus   \n",
       "\n",
       "                LastAccessDate WebsiteUrl    Location  \\\n",
       "52385  2022-02-26T10:32:53.460       None  California   \n",
       "\n",
       "                                             AboutMe  Views  UpVotes  \\\n",
       "52385  <p>Mathematician, programmer, polymath.</p>\\n   1269     1493   \n",
       "\n",
       "       DownVotes  AccountId ProfileImageUrl  \n",
       "52385         49   370140.0            None  "
      ]
     },
     "execution_count": 34,
     "metadata": {},
     "output_type": "execute_result"
    }
   ],
   "source": [
    "df_merged.sort_values(\"diff\", ascending=False).head(1)"
   ]
  },
  {
   "cell_type": "markdown",
   "metadata": {},
   "source": [
    "W jakim miesiącu oddano najwięcej głosów?\n"
   ]
  },
  {
   "cell_type": "code",
   "execution_count": 59,
   "metadata": {},
   "outputs": [],
   "source": [
    "df_votes['CreationDate'] = pd.to_datetime(df_votes['CreationDate'])"
   ]
  },
  {
   "cell_type": "code",
   "execution_count": 60,
   "metadata": {},
   "outputs": [
    {
     "data": {
      "text/html": [
       "<div>\n",
       "<style scoped>\n",
       "    .dataframe tbody tr th:only-of-type {\n",
       "        vertical-align: middle;\n",
       "    }\n",
       "\n",
       "    .dataframe tbody tr th {\n",
       "        vertical-align: top;\n",
       "    }\n",
       "\n",
       "    .dataframe thead th {\n",
       "        text-align: right;\n",
       "    }\n",
       "</style>\n",
       "<table border=\"1\" class=\"dataframe\">\n",
       "  <thead>\n",
       "    <tr style=\"text-align: right;\">\n",
       "      <th></th>\n",
       "      <th>Id</th>\n",
       "      <th>PostId</th>\n",
       "      <th>VoteTypeId</th>\n",
       "      <th>CreationDate</th>\n",
       "      <th>UserId</th>\n",
       "      <th>BountyAmount</th>\n",
       "      <th>yr_month</th>\n",
       "    </tr>\n",
       "  </thead>\n",
       "  <tbody>\n",
       "    <tr>\n",
       "      <th>0</th>\n",
       "      <td>1</td>\n",
       "      <td>1</td>\n",
       "      <td>2</td>\n",
       "      <td>2011-06-21</td>\n",
       "      <td>NaN</td>\n",
       "      <td>NaN</td>\n",
       "      <td>2011-06</td>\n",
       "    </tr>\n",
       "    <tr>\n",
       "      <th>1</th>\n",
       "      <td>2</td>\n",
       "      <td>1</td>\n",
       "      <td>2</td>\n",
       "      <td>2011-06-21</td>\n",
       "      <td>NaN</td>\n",
       "      <td>NaN</td>\n",
       "      <td>2011-06</td>\n",
       "    </tr>\n",
       "    <tr>\n",
       "      <th>2</th>\n",
       "      <td>3</td>\n",
       "      <td>2</td>\n",
       "      <td>2</td>\n",
       "      <td>2011-06-21</td>\n",
       "      <td>NaN</td>\n",
       "      <td>NaN</td>\n",
       "      <td>2011-06</td>\n",
       "    </tr>\n",
       "    <tr>\n",
       "      <th>3</th>\n",
       "      <td>4</td>\n",
       "      <td>3</td>\n",
       "      <td>2</td>\n",
       "      <td>2011-06-21</td>\n",
       "      <td>NaN</td>\n",
       "      <td>NaN</td>\n",
       "      <td>2011-06</td>\n",
       "    </tr>\n",
       "    <tr>\n",
       "      <th>4</th>\n",
       "      <td>5</td>\n",
       "      <td>5</td>\n",
       "      <td>5</td>\n",
       "      <td>2011-06-21</td>\n",
       "      <td>13.0</td>\n",
       "      <td>NaN</td>\n",
       "      <td>2011-06</td>\n",
       "    </tr>\n",
       "  </tbody>\n",
       "</table>\n",
       "</div>"
      ],
      "text/plain": [
       "   Id  PostId  VoteTypeId CreationDate  UserId  BountyAmount yr_month\n",
       "0   1       1           2   2011-06-21     NaN           NaN  2011-06\n",
       "1   2       1           2   2011-06-21     NaN           NaN  2011-06\n",
       "2   3       2           2   2011-06-21     NaN           NaN  2011-06\n",
       "3   4       3           2   2011-06-21     NaN           NaN  2011-06\n",
       "4   5       5           5   2011-06-21    13.0           NaN  2011-06"
      ]
     },
     "execution_count": 60,
     "metadata": {},
     "output_type": "execute_result"
    }
   ],
   "source": [
    "df_votes.head()"
   ]
  },
  {
   "cell_type": "code",
   "execution_count": 61,
   "metadata": {},
   "outputs": [],
   "source": [
    "df_votes['yr_month'] = df_votes['CreationDate'].apply(lambda x: x.strftime(\"%Y-%m\"))"
   ]
  },
  {
   "cell_type": "code",
   "execution_count": 62,
   "metadata": {},
   "outputs": [],
   "source": [
    "df_gr_votes = df_votes.groupby(\"yr_month\").size().reset_index(name=\"cnt\").sort_values(\"cnt\", ascending=False)"
   ]
  },
  {
   "cell_type": "code",
   "execution_count": 63,
   "metadata": {},
   "outputs": [
    {
     "data": {
      "text/html": [
       "<div>\n",
       "<style scoped>\n",
       "    .dataframe tbody tr th:only-of-type {\n",
       "        vertical-align: middle;\n",
       "    }\n",
       "\n",
       "    .dataframe tbody tr th {\n",
       "        vertical-align: top;\n",
       "    }\n",
       "\n",
       "    .dataframe thead th {\n",
       "        text-align: right;\n",
       "    }\n",
       "</style>\n",
       "<table border=\"1\" class=\"dataframe\">\n",
       "  <thead>\n",
       "    <tr style=\"text-align: right;\">\n",
       "      <th></th>\n",
       "      <th>yr_month</th>\n",
       "      <th>cnt</th>\n",
       "    </tr>\n",
       "  </thead>\n",
       "  <tbody>\n",
       "    <tr>\n",
       "      <th>62</th>\n",
       "      <td>2016-08</td>\n",
       "      <td>19591</td>\n",
       "    </tr>\n",
       "    <tr>\n",
       "      <th>63</th>\n",
       "      <td>2016-09</td>\n",
       "      <td>18186</td>\n",
       "    </tr>\n",
       "    <tr>\n",
       "      <th>61</th>\n",
       "      <td>2016-07</td>\n",
       "      <td>17242</td>\n",
       "    </tr>\n",
       "    <tr>\n",
       "      <th>60</th>\n",
       "      <td>2016-06</td>\n",
       "      <td>17201</td>\n",
       "    </tr>\n",
       "    <tr>\n",
       "      <th>64</th>\n",
       "      <td>2016-10</td>\n",
       "      <td>16718</td>\n",
       "    </tr>\n",
       "    <tr>\n",
       "      <th>...</th>\n",
       "      <td>...</td>\n",
       "      <td>...</td>\n",
       "    </tr>\n",
       "    <tr>\n",
       "      <th>10</th>\n",
       "      <td>2012-04</td>\n",
       "      <td>2523</td>\n",
       "    </tr>\n",
       "    <tr>\n",
       "      <th>113</th>\n",
       "      <td>2020-11</td>\n",
       "      <td>2500</td>\n",
       "    </tr>\n",
       "    <tr>\n",
       "      <th>17</th>\n",
       "      <td>2012-11</td>\n",
       "      <td>2492</td>\n",
       "    </tr>\n",
       "    <tr>\n",
       "      <th>116</th>\n",
       "      <td>2021-02</td>\n",
       "      <td>2382</td>\n",
       "    </tr>\n",
       "    <tr>\n",
       "      <th>129</th>\n",
       "      <td>2022-03</td>\n",
       "      <td>424</td>\n",
       "    </tr>\n",
       "  </tbody>\n",
       "</table>\n",
       "<p>130 rows × 2 columns</p>\n",
       "</div>"
      ],
      "text/plain": [
       "    yr_month    cnt\n",
       "62   2016-08  19591\n",
       "63   2016-09  18186\n",
       "61   2016-07  17242\n",
       "60   2016-06  17201\n",
       "64   2016-10  16718\n",
       "..       ...    ...\n",
       "10   2012-04   2523\n",
       "113  2020-11   2500\n",
       "17   2012-11   2492\n",
       "116  2021-02   2382\n",
       "129  2022-03    424\n",
       "\n",
       "[130 rows x 2 columns]"
      ]
     },
     "execution_count": 63,
     "metadata": {},
     "output_type": "execute_result"
    }
   ],
   "source": [
    "df_gr_votes"
   ]
  },
  {
   "cell_type": "markdown",
   "metadata": {},
   "source": [
    "Na przełomie jakich dwóch miesiecy nastąpił największy spadek ilości oddanych głosów?"
   ]
  },
  {
   "cell_type": "code",
   "execution_count": 39,
   "metadata": {},
   "outputs": [],
   "source": [
    "df_gr_votes.sort_values(\"yr_month\",inplace=True)"
   ]
  },
  {
   "cell_type": "code",
   "execution_count": 40,
   "metadata": {},
   "outputs": [],
   "source": [
    "df_gr_votes_first = df_gr_votes.drop([0])"
   ]
  },
  {
   "cell_type": "code",
   "execution_count": 41,
   "metadata": {},
   "outputs": [],
   "source": [
    "df_gr_votes_second = df_gr_votes.drop(df_gr_votes.index[-1])"
   ]
  },
  {
   "cell_type": "code",
   "execution_count": 42,
   "metadata": {},
   "outputs": [],
   "source": [
    "df_gr_votes_first.reset_index(inplace=True)\n",
    "df_gr_votes_second.reset_index(inplace=True)"
   ]
  },
  {
   "cell_type": "code",
   "execution_count": 43,
   "metadata": {},
   "outputs": [],
   "source": [
    "df_gr_votes_joined = df_gr_votes_first.join(df_gr_votes_second,lsuffix=\"_second\", rsuffix=\"_first\").loc[:,[\"yr_month_first\", \"yr_month_second\", \"cnt_first\", \"cnt_second\"]]"
   ]
  },
  {
   "cell_type": "code",
   "execution_count": 44,
   "metadata": {},
   "outputs": [],
   "source": [
    "df_gr_votes_joined['diff'] = df_gr_votes_joined['cnt_second'] - df_gr_votes_joined['cnt_first']"
   ]
  },
  {
   "cell_type": "code",
   "execution_count": 45,
   "metadata": {},
   "outputs": [
    {
     "data": {
      "text/html": [
       "<div>\n",
       "<style scoped>\n",
       "    .dataframe tbody tr th:only-of-type {\n",
       "        vertical-align: middle;\n",
       "    }\n",
       "\n",
       "    .dataframe tbody tr th {\n",
       "        vertical-align: top;\n",
       "    }\n",
       "\n",
       "    .dataframe thead th {\n",
       "        text-align: right;\n",
       "    }\n",
       "</style>\n",
       "<table border=\"1\" class=\"dataframe\">\n",
       "  <thead>\n",
       "    <tr style=\"text-align: right;\">\n",
       "      <th></th>\n",
       "      <th>yr_month_first</th>\n",
       "      <th>yr_month_second</th>\n",
       "      <th>cnt_first</th>\n",
       "      <th>cnt_second</th>\n",
       "      <th>diff</th>\n",
       "    </tr>\n",
       "  </thead>\n",
       "  <tbody>\n",
       "    <tr>\n",
       "      <th>0</th>\n",
       "      <td>2011-06</td>\n",
       "      <td>2011-07</td>\n",
       "      <td>2817</td>\n",
       "      <td>3388</td>\n",
       "      <td>571</td>\n",
       "    </tr>\n",
       "    <tr>\n",
       "      <th>1</th>\n",
       "      <td>2011-07</td>\n",
       "      <td>2011-08</td>\n",
       "      <td>3388</td>\n",
       "      <td>2922</td>\n",
       "      <td>-466</td>\n",
       "    </tr>\n",
       "    <tr>\n",
       "      <th>2</th>\n",
       "      <td>2011-08</td>\n",
       "      <td>2011-09</td>\n",
       "      <td>2922</td>\n",
       "      <td>3551</td>\n",
       "      <td>629</td>\n",
       "    </tr>\n",
       "    <tr>\n",
       "      <th>3</th>\n",
       "      <td>2011-09</td>\n",
       "      <td>2011-10</td>\n",
       "      <td>3551</td>\n",
       "      <td>4358</td>\n",
       "      <td>807</td>\n",
       "    </tr>\n",
       "    <tr>\n",
       "      <th>4</th>\n",
       "      <td>2011-10</td>\n",
       "      <td>2011-11</td>\n",
       "      <td>4358</td>\n",
       "      <td>4543</td>\n",
       "      <td>185</td>\n",
       "    </tr>\n",
       "  </tbody>\n",
       "</table>\n",
       "</div>"
      ],
      "text/plain": [
       "  yr_month_first yr_month_second  cnt_first  cnt_second  diff\n",
       "0        2011-06         2011-07       2817        3388   571\n",
       "1        2011-07         2011-08       3388        2922  -466\n",
       "2        2011-08         2011-09       2922        3551   629\n",
       "3        2011-09         2011-10       3551        4358   807\n",
       "4        2011-10         2011-11       4358        4543   185"
      ]
     },
     "execution_count": 45,
     "metadata": {},
     "output_type": "execute_result"
    }
   ],
   "source": [
    "df_gr_votes_joined.head()"
   ]
  },
  {
   "cell_type": "code",
   "execution_count": 46,
   "metadata": {},
   "outputs": [
    {
     "data": {
      "text/html": [
       "<div>\n",
       "<style scoped>\n",
       "    .dataframe tbody tr th:only-of-type {\n",
       "        vertical-align: middle;\n",
       "    }\n",
       "\n",
       "    .dataframe tbody tr th {\n",
       "        vertical-align: top;\n",
       "    }\n",
       "\n",
       "    .dataframe thead th {\n",
       "        text-align: right;\n",
       "    }\n",
       "</style>\n",
       "<table border=\"1\" class=\"dataframe\">\n",
       "  <thead>\n",
       "    <tr style=\"text-align: right;\">\n",
       "      <th></th>\n",
       "      <th>yr_month_first</th>\n",
       "      <th>yr_month_second</th>\n",
       "      <th>cnt_first</th>\n",
       "      <th>cnt_second</th>\n",
       "      <th>diff</th>\n",
       "    </tr>\n",
       "  </thead>\n",
       "  <tbody>\n",
       "    <tr>\n",
       "      <th>51</th>\n",
       "      <td>2015-09</td>\n",
       "      <td>2015-10</td>\n",
       "      <td>12686</td>\n",
       "      <td>6485</td>\n",
       "      <td>-6201</td>\n",
       "    </tr>\n",
       "    <tr>\n",
       "      <th>69</th>\n",
       "      <td>2017-03</td>\n",
       "      <td>2017-04</td>\n",
       "      <td>13271</td>\n",
       "      <td>9190</td>\n",
       "      <td>-4081</td>\n",
       "    </tr>\n",
       "    <tr>\n",
       "      <th>99</th>\n",
       "      <td>2019-09</td>\n",
       "      <td>2019-10</td>\n",
       "      <td>13478</td>\n",
       "      <td>9871</td>\n",
       "      <td>-3607</td>\n",
       "    </tr>\n",
       "    <tr>\n",
       "      <th>67</th>\n",
       "      <td>2017-01</td>\n",
       "      <td>2017-02</td>\n",
       "      <td>16095</td>\n",
       "      <td>12501</td>\n",
       "      <td>-3594</td>\n",
       "    </tr>\n",
       "    <tr>\n",
       "      <th>64</th>\n",
       "      <td>2016-10</td>\n",
       "      <td>2016-11</td>\n",
       "      <td>16718</td>\n",
       "      <td>13157</td>\n",
       "      <td>-3561</td>\n",
       "    </tr>\n",
       "    <tr>\n",
       "      <th>...</th>\n",
       "      <td>...</td>\n",
       "      <td>...</td>\n",
       "      <td>...</td>\n",
       "      <td>...</td>\n",
       "      <td>...</td>\n",
       "    </tr>\n",
       "    <tr>\n",
       "      <th>84</th>\n",
       "      <td>2018-06</td>\n",
       "      <td>2018-07</td>\n",
       "      <td>10177</td>\n",
       "      <td>13426</td>\n",
       "      <td>3249</td>\n",
       "    </tr>\n",
       "    <tr>\n",
       "      <th>50</th>\n",
       "      <td>2015-08</td>\n",
       "      <td>2015-09</td>\n",
       "      <td>9396</td>\n",
       "      <td>12686</td>\n",
       "      <td>3290</td>\n",
       "    </tr>\n",
       "    <tr>\n",
       "      <th>34</th>\n",
       "      <td>2014-04</td>\n",
       "      <td>2014-05</td>\n",
       "      <td>5270</td>\n",
       "      <td>8808</td>\n",
       "      <td>3538</td>\n",
       "    </tr>\n",
       "    <tr>\n",
       "      <th>53</th>\n",
       "      <td>2015-11</td>\n",
       "      <td>2015-12</td>\n",
       "      <td>7325</td>\n",
       "      <td>10882</td>\n",
       "      <td>3557</td>\n",
       "    </tr>\n",
       "    <tr>\n",
       "      <th>59</th>\n",
       "      <td>2016-05</td>\n",
       "      <td>2016-06</td>\n",
       "      <td>12294</td>\n",
       "      <td>17201</td>\n",
       "      <td>4907</td>\n",
       "    </tr>\n",
       "  </tbody>\n",
       "</table>\n",
       "<p>129 rows × 5 columns</p>\n",
       "</div>"
      ],
      "text/plain": [
       "   yr_month_first yr_month_second  cnt_first  cnt_second  diff\n",
       "51        2015-09         2015-10      12686        6485 -6201\n",
       "69        2017-03         2017-04      13271        9190 -4081\n",
       "99        2019-09         2019-10      13478        9871 -3607\n",
       "67        2017-01         2017-02      16095       12501 -3594\n",
       "64        2016-10         2016-11      16718       13157 -3561\n",
       "..            ...             ...        ...         ...   ...\n",
       "84        2018-06         2018-07      10177       13426  3249\n",
       "50        2015-08         2015-09       9396       12686  3290\n",
       "34        2014-04         2014-05       5270        8808  3538\n",
       "53        2015-11         2015-12       7325       10882  3557\n",
       "59        2016-05         2016-06      12294       17201  4907\n",
       "\n",
       "[129 rows x 5 columns]"
      ]
     },
     "execution_count": 46,
     "metadata": {},
     "output_type": "execute_result"
    }
   ],
   "source": [
    "df_gr_votes_joined.sort_values(\"diff\")"
   ]
  },
  {
   "cell_type": "markdown",
   "metadata": {},
   "source": [
    "Jaki tag (patrzymy tylko na Posts) jest najpopularniejszy wśród użytkowników z Polski?"
   ]
  },
  {
   "cell_type": "code",
   "execution_count": 48,
   "metadata": {},
   "outputs": [],
   "source": [
    "df_poles = df_users.loc[(df_users['Location'].str.contains(\"Polska\") == True)|(df_users['Location'].str.contains(\"Poland\") == True)].loc[:,['Id','Location']]"
   ]
  },
  {
   "cell_type": "code",
   "execution_count": 49,
   "metadata": {},
   "outputs": [],
   "source": [
    "df_pl_tags = df_posts.merge(df_poles, left_on=\"OwnerUserId\", right_on=\"Id\").loc[:,['Id_x', 'Location', 'Tags']]"
   ]
  },
  {
   "cell_type": "code",
   "execution_count": 50,
   "metadata": {},
   "outputs": [
    {
     "data": {
      "text/plain": [
       "10"
      ]
     },
     "execution_count": 50,
     "metadata": {},
     "output_type": "execute_result"
    }
   ],
   "source": [
    "df_pl_tags.loc[df_pl_tags['Tags'].str.contains(\"<luggage>\")==True].shape[0]"
   ]
  },
  {
   "cell_type": "code",
   "execution_count": 51,
   "metadata": {},
   "outputs": [],
   "source": [
    "df_tags[\"cnt_pl\"] = df_tags[\"TagName\"].apply(lambda x: df_pl_tags.loc[df_pl_tags['Tags'].str.contains(x)==True].shape[0])"
   ]
  },
  {
   "cell_type": "code",
   "execution_count": 52,
   "metadata": {},
   "outputs": [
    {
     "data": {
      "text/html": [
       "<div>\n",
       "<style scoped>\n",
       "    .dataframe tbody tr th:only-of-type {\n",
       "        vertical-align: middle;\n",
       "    }\n",
       "\n",
       "    .dataframe tbody tr th {\n",
       "        vertical-align: top;\n",
       "    }\n",
       "\n",
       "    .dataframe thead th {\n",
       "        text-align: right;\n",
       "    }\n",
       "</style>\n",
       "<table border=\"1\" class=\"dataframe\">\n",
       "  <thead>\n",
       "    <tr style=\"text-align: right;\">\n",
       "      <th></th>\n",
       "      <th>Id</th>\n",
       "      <th>TagName</th>\n",
       "      <th>Count</th>\n",
       "      <th>ExcerptPostId</th>\n",
       "      <th>WikiPostId</th>\n",
       "      <th>cnt_pl</th>\n",
       "    </tr>\n",
       "  </thead>\n",
       "  <tbody>\n",
       "    <tr>\n",
       "      <th>34</th>\n",
       "      <td>46</td>\n",
       "      <td>air-travel</td>\n",
       "      <td>4557</td>\n",
       "      <td>255.0</td>\n",
       "      <td>254.0</td>\n",
       "      <td>34</td>\n",
       "    </tr>\n",
       "    <tr>\n",
       "      <th>1461</th>\n",
       "      <td>4319</td>\n",
       "      <td>sport</td>\n",
       "      <td>15</td>\n",
       "      <td>83683.0</td>\n",
       "      <td>83682.0</td>\n",
       "      <td>27</td>\n",
       "    </tr>\n",
       "    <tr>\n",
       "      <th>283</th>\n",
       "      <td>546</td>\n",
       "      <td>eu</td>\n",
       "      <td>445</td>\n",
       "      <td>2004.0</td>\n",
       "      <td>2003.0</td>\n",
       "      <td>24</td>\n",
       "    </tr>\n",
       "    <tr>\n",
       "      <th>1374</th>\n",
       "      <td>4109</td>\n",
       "      <td>bud</td>\n",
       "      <td>8</td>\n",
       "      <td>82272.0</td>\n",
       "      <td>82271.0</td>\n",
       "      <td>21</td>\n",
       "    </tr>\n",
       "  </tbody>\n",
       "</table>\n",
       "</div>"
      ],
      "text/plain": [
       "        Id     TagName  Count  ExcerptPostId  WikiPostId  cnt_pl\n",
       "34      46  air-travel   4557          255.0       254.0      34\n",
       "1461  4319       sport     15        83683.0     83682.0      27\n",
       "283    546          eu    445         2004.0      2003.0      24\n",
       "1374  4109         bud      8        82272.0     82271.0      21"
      ]
     },
     "execution_count": 52,
     "metadata": {},
     "output_type": "execute_result"
    }
   ],
   "source": [
    "df_tags.sort_values(\"cnt_pl\", ascending=False).head(4)"
   ]
  },
  {
   "cell_type": "markdown",
   "metadata": {},
   "source": [
    "Jakie słowo o długości powyżej 7 znaków pojawia się najczęściej w treści (Body) postów?"
   ]
  },
  {
   "cell_type": "code",
   "execution_count": 53,
   "metadata": {},
   "outputs": [],
   "source": [
    "regex_websites = r\"(?i)(https?://|www.|\\w+\\.)[^(\\s><)]+\"\n",
    "regex_tags = r\"<[=/\\w\\s\\\\\\\"-]*>\""
   ]
  },
  {
   "cell_type": "code",
   "execution_count": 54,
   "metadata": {},
   "outputs": [
    {
     "data": {
      "text/plain": [
       "'<p>One way would be to go through an Adventure travel company that offers trips in the region. They\\'ll have their own trained guides that have extensive knowledge of the area and will generally have lots of reviews so you can get an idea of whether or not the trip is good.</p>\\n\\n<p><strong>Examples</strong></p>\\n\\n<p><a href=\"http://www.gapadventures.com/\">http://www.gapadventures.com/</a> - Great trips through the <a href=\"http://www.gapadventures.com/trips/?q=Amazon&amp;ref=finder\">amazon</a></p>\\n\\n<p><a href=\"http://contiki.com\">http://contiki.com</a></p>\\n\\n<p><a href=\"http://www.adventure-life.com/\">http://www.adventure-life.com/</a></p>\\n'"
      ]
     },
     "execution_count": 54,
     "metadata": {},
     "output_type": "execute_result"
    }
   ],
   "source": [
    "df_posts['Body'][2]"
   ]
  },
  {
   "cell_type": "code",
   "execution_count": 55,
   "metadata": {},
   "outputs": [],
   "source": [
    "df_good_posts = (\n",
    "  df_posts['Body']\n",
    "  .str.replace(pat=regex_websites, repl=\"\", regex=True)\n",
    "  .str.replace(pat=\"&quot;\", repl=\"\", regex=True)\n",
    "  .str.replace(pat=\"&[0-9#]*;\", repl=\"\", regex=True)\n",
    "  .str.replace(pat=regex_tags, repl=\"\", regex=True)\n",
    "  .str.replace(pat=\"\\\\n\",repl=\"\", regex=True)\n",
    "  .str.replace(pat=\"[.,-;><%/?\\(\\)”“\\\"\\[\\]` #]\", repl=\" \", regex=True)\n",
    "  .str.lower()\n",
    "  .str.split(\" \")\n",
    "  .dropna()\n",
    "  .apply(lambda x: list(filter(lambda y: len(y)>7, x)))\n",
    "  .explode()\n",
    "  .value_counts()\n",
    ")"
   ]
  },
  {
   "cell_type": "code",
   "execution_count": 56,
   "metadata": {},
   "outputs": [
    {
     "data": {
      "text/plain": [
       "passport       36701\n",
       "schengen       18754\n",
       "countries      15477\n",
       "application    14443\n",
       "question       13982\n",
       "Name: Body, dtype: int64"
      ]
     },
     "execution_count": 56,
     "metadata": {},
     "output_type": "execute_result"
    }
   ],
   "source": [
    "df_good_posts.head()"
   ]
  },
  {
   "cell_type": "markdown",
   "metadata": {},
   "source": [
    "(Do powyższego) Ile razy ktoś wszedł na angielską stronę Wikipedii na temat tego słowa?"
   ]
  },
  {
   "cell_type": "code",
   "execution_count": 57,
   "metadata": {},
   "outputs": [
    {
     "data": {
      "text/plain": [
       "31631"
      ]
     },
     "execution_count": 57,
     "metadata": {},
     "output_type": "execute_result"
    }
   ],
   "source": [
    "df_wiki_en.loc[df_wiki_en['curr']==\"Passport\"]['n'].sum()"
   ]
  },
  {
   "cell_type": "code",
   "execution_count": null,
   "metadata": {},
   "outputs": [],
   "source": []
  }
 ],
 "metadata": {
  "interpreter": {
   "hash": "2b56681616f27f202e060e59de23dd05ac914dc6b3a6ae9be14abcccd2a677e8"
  },
  "kernelspec": {
   "display_name": "Python 3.10.4 ('daftacademy-ds')",
   "language": "python",
   "name": "python3"
  },
  "language_info": {
   "codemirror_mode": {
    "name": "ipython",
    "version": 3
   },
   "file_extension": ".py",
   "mimetype": "text/x-python",
   "name": "python",
   "nbconvert_exporter": "python",
   "pygments_lexer": "ipython3",
   "version": "3.10.4"
  },
  "orig_nbformat": 4
 },
 "nbformat": 4,
 "nbformat_minor": 2
}
