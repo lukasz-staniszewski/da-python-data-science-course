{
 "cells": [
  {
   "cell_type": "markdown",
   "metadata": {},
   "source": [
    "## Training the first ML model\n",
    "\n",
    "We got the introduction.\n",
    "Now we should dp the hands-on experiments!"
   ]
  },
  {
   "cell_type": "code",
   "execution_count": 1,
   "metadata": {},
   "outputs": [],
   "source": [
    "import matplotlib.pyplot as plt\n",
    "import numpy as np\n",
    "import pandas as pd\n",
    "import plotly.express as px"
   ]
  },
  {
   "cell_type": "markdown",
   "metadata": {},
   "source": [
    "We will work with an interesting dataset on [Life Expectancy from WHO](https://www.kaggle.com/datasets/kumarajarshi/life-expectancy-who).\n",
    "Our task will be to predict the `Life expectancy` based on other columns."
   ]
  },
  {
   "cell_type": "code",
   "execution_count": 2,
   "metadata": {},
   "outputs": [
    {
     "data": {
      "text/html": [
       "<div>\n",
       "<style scoped>\n",
       "    .dataframe tbody tr th:only-of-type {\n",
       "        vertical-align: middle;\n",
       "    }\n",
       "\n",
       "    .dataframe tbody tr th {\n",
       "        vertical-align: top;\n",
       "    }\n",
       "\n",
       "    .dataframe thead th {\n",
       "        text-align: right;\n",
       "    }\n",
       "</style>\n",
       "<table border=\"1\" class=\"dataframe\">\n",
       "  <thead>\n",
       "    <tr style=\"text-align: right;\">\n",
       "      <th></th>\n",
       "      <th>Country</th>\n",
       "      <th>Year</th>\n",
       "      <th>Status</th>\n",
       "      <th>Life expectancy</th>\n",
       "      <th>Adult Mortality</th>\n",
       "      <th>infant deaths</th>\n",
       "      <th>Alcohol</th>\n",
       "      <th>percentage expenditure</th>\n",
       "      <th>Hepatitis B</th>\n",
       "      <th>Measles</th>\n",
       "      <th>...</th>\n",
       "      <th>Polio</th>\n",
       "      <th>Total expenditure</th>\n",
       "      <th>Diphtheria</th>\n",
       "      <th>HIV/AIDS</th>\n",
       "      <th>GDP</th>\n",
       "      <th>Population</th>\n",
       "      <th>thinness  1-19 years</th>\n",
       "      <th>thinness 5-9 years</th>\n",
       "      <th>Income composition of resources</th>\n",
       "      <th>Schooling</th>\n",
       "    </tr>\n",
       "  </thead>\n",
       "  <tbody>\n",
       "    <tr>\n",
       "      <th>0</th>\n",
       "      <td>Afghanistan</td>\n",
       "      <td>2015</td>\n",
       "      <td>Developing</td>\n",
       "      <td>65.0</td>\n",
       "      <td>263.0</td>\n",
       "      <td>62</td>\n",
       "      <td>0.01</td>\n",
       "      <td>71.279624</td>\n",
       "      <td>65.0</td>\n",
       "      <td>1154</td>\n",
       "      <td>...</td>\n",
       "      <td>6.0</td>\n",
       "      <td>8.16</td>\n",
       "      <td>65.0</td>\n",
       "      <td>0.1</td>\n",
       "      <td>584.259210</td>\n",
       "      <td>33736494.0</td>\n",
       "      <td>17.2</td>\n",
       "      <td>17.3</td>\n",
       "      <td>0.479</td>\n",
       "      <td>10.1</td>\n",
       "    </tr>\n",
       "    <tr>\n",
       "      <th>1</th>\n",
       "      <td>Afghanistan</td>\n",
       "      <td>2014</td>\n",
       "      <td>Developing</td>\n",
       "      <td>59.9</td>\n",
       "      <td>271.0</td>\n",
       "      <td>64</td>\n",
       "      <td>0.01</td>\n",
       "      <td>73.523582</td>\n",
       "      <td>62.0</td>\n",
       "      <td>492</td>\n",
       "      <td>...</td>\n",
       "      <td>58.0</td>\n",
       "      <td>8.18</td>\n",
       "      <td>62.0</td>\n",
       "      <td>0.1</td>\n",
       "      <td>612.696514</td>\n",
       "      <td>327582.0</td>\n",
       "      <td>17.5</td>\n",
       "      <td>17.5</td>\n",
       "      <td>0.476</td>\n",
       "      <td>10.0</td>\n",
       "    </tr>\n",
       "    <tr>\n",
       "      <th>2</th>\n",
       "      <td>Afghanistan</td>\n",
       "      <td>2013</td>\n",
       "      <td>Developing</td>\n",
       "      <td>59.9</td>\n",
       "      <td>268.0</td>\n",
       "      <td>66</td>\n",
       "      <td>0.01</td>\n",
       "      <td>73.219243</td>\n",
       "      <td>64.0</td>\n",
       "      <td>430</td>\n",
       "      <td>...</td>\n",
       "      <td>62.0</td>\n",
       "      <td>8.13</td>\n",
       "      <td>64.0</td>\n",
       "      <td>0.1</td>\n",
       "      <td>631.744976</td>\n",
       "      <td>31731688.0</td>\n",
       "      <td>17.7</td>\n",
       "      <td>17.7</td>\n",
       "      <td>0.470</td>\n",
       "      <td>9.9</td>\n",
       "    </tr>\n",
       "    <tr>\n",
       "      <th>3</th>\n",
       "      <td>Afghanistan</td>\n",
       "      <td>2012</td>\n",
       "      <td>Developing</td>\n",
       "      <td>59.5</td>\n",
       "      <td>272.0</td>\n",
       "      <td>69</td>\n",
       "      <td>0.01</td>\n",
       "      <td>78.184215</td>\n",
       "      <td>67.0</td>\n",
       "      <td>2787</td>\n",
       "      <td>...</td>\n",
       "      <td>67.0</td>\n",
       "      <td>8.52</td>\n",
       "      <td>67.0</td>\n",
       "      <td>0.1</td>\n",
       "      <td>669.959000</td>\n",
       "      <td>3696958.0</td>\n",
       "      <td>17.9</td>\n",
       "      <td>18.0</td>\n",
       "      <td>0.463</td>\n",
       "      <td>9.8</td>\n",
       "    </tr>\n",
       "    <tr>\n",
       "      <th>4</th>\n",
       "      <td>Afghanistan</td>\n",
       "      <td>2011</td>\n",
       "      <td>Developing</td>\n",
       "      <td>59.2</td>\n",
       "      <td>275.0</td>\n",
       "      <td>71</td>\n",
       "      <td>0.01</td>\n",
       "      <td>7.097109</td>\n",
       "      <td>68.0</td>\n",
       "      <td>3013</td>\n",
       "      <td>...</td>\n",
       "      <td>68.0</td>\n",
       "      <td>7.87</td>\n",
       "      <td>68.0</td>\n",
       "      <td>0.1</td>\n",
       "      <td>63.537231</td>\n",
       "      <td>2978599.0</td>\n",
       "      <td>18.2</td>\n",
       "      <td>18.2</td>\n",
       "      <td>0.454</td>\n",
       "      <td>9.5</td>\n",
       "    </tr>\n",
       "    <tr>\n",
       "      <th>...</th>\n",
       "      <td>...</td>\n",
       "      <td>...</td>\n",
       "      <td>...</td>\n",
       "      <td>...</td>\n",
       "      <td>...</td>\n",
       "      <td>...</td>\n",
       "      <td>...</td>\n",
       "      <td>...</td>\n",
       "      <td>...</td>\n",
       "      <td>...</td>\n",
       "      <td>...</td>\n",
       "      <td>...</td>\n",
       "      <td>...</td>\n",
       "      <td>...</td>\n",
       "      <td>...</td>\n",
       "      <td>...</td>\n",
       "      <td>...</td>\n",
       "      <td>...</td>\n",
       "      <td>...</td>\n",
       "      <td>...</td>\n",
       "      <td>...</td>\n",
       "    </tr>\n",
       "    <tr>\n",
       "      <th>2933</th>\n",
       "      <td>Zimbabwe</td>\n",
       "      <td>2004</td>\n",
       "      <td>Developing</td>\n",
       "      <td>44.3</td>\n",
       "      <td>723.0</td>\n",
       "      <td>27</td>\n",
       "      <td>4.36</td>\n",
       "      <td>0.000000</td>\n",
       "      <td>68.0</td>\n",
       "      <td>31</td>\n",
       "      <td>...</td>\n",
       "      <td>67.0</td>\n",
       "      <td>7.13</td>\n",
       "      <td>65.0</td>\n",
       "      <td>33.6</td>\n",
       "      <td>454.366654</td>\n",
       "      <td>12777511.0</td>\n",
       "      <td>9.4</td>\n",
       "      <td>9.4</td>\n",
       "      <td>0.407</td>\n",
       "      <td>9.2</td>\n",
       "    </tr>\n",
       "    <tr>\n",
       "      <th>2934</th>\n",
       "      <td>Zimbabwe</td>\n",
       "      <td>2003</td>\n",
       "      <td>Developing</td>\n",
       "      <td>44.5</td>\n",
       "      <td>715.0</td>\n",
       "      <td>26</td>\n",
       "      <td>4.06</td>\n",
       "      <td>0.000000</td>\n",
       "      <td>7.0</td>\n",
       "      <td>998</td>\n",
       "      <td>...</td>\n",
       "      <td>7.0</td>\n",
       "      <td>6.52</td>\n",
       "      <td>68.0</td>\n",
       "      <td>36.7</td>\n",
       "      <td>453.351155</td>\n",
       "      <td>12633897.0</td>\n",
       "      <td>9.8</td>\n",
       "      <td>9.9</td>\n",
       "      <td>0.418</td>\n",
       "      <td>9.5</td>\n",
       "    </tr>\n",
       "    <tr>\n",
       "      <th>2935</th>\n",
       "      <td>Zimbabwe</td>\n",
       "      <td>2002</td>\n",
       "      <td>Developing</td>\n",
       "      <td>44.8</td>\n",
       "      <td>73.0</td>\n",
       "      <td>25</td>\n",
       "      <td>4.43</td>\n",
       "      <td>0.000000</td>\n",
       "      <td>73.0</td>\n",
       "      <td>304</td>\n",
       "      <td>...</td>\n",
       "      <td>73.0</td>\n",
       "      <td>6.53</td>\n",
       "      <td>71.0</td>\n",
       "      <td>39.8</td>\n",
       "      <td>57.348340</td>\n",
       "      <td>125525.0</td>\n",
       "      <td>1.2</td>\n",
       "      <td>1.3</td>\n",
       "      <td>0.427</td>\n",
       "      <td>10.0</td>\n",
       "    </tr>\n",
       "    <tr>\n",
       "      <th>2936</th>\n",
       "      <td>Zimbabwe</td>\n",
       "      <td>2001</td>\n",
       "      <td>Developing</td>\n",
       "      <td>45.3</td>\n",
       "      <td>686.0</td>\n",
       "      <td>25</td>\n",
       "      <td>1.72</td>\n",
       "      <td>0.000000</td>\n",
       "      <td>76.0</td>\n",
       "      <td>529</td>\n",
       "      <td>...</td>\n",
       "      <td>76.0</td>\n",
       "      <td>6.16</td>\n",
       "      <td>75.0</td>\n",
       "      <td>42.1</td>\n",
       "      <td>548.587312</td>\n",
       "      <td>12366165.0</td>\n",
       "      <td>1.6</td>\n",
       "      <td>1.7</td>\n",
       "      <td>0.427</td>\n",
       "      <td>9.8</td>\n",
       "    </tr>\n",
       "    <tr>\n",
       "      <th>2937</th>\n",
       "      <td>Zimbabwe</td>\n",
       "      <td>2000</td>\n",
       "      <td>Developing</td>\n",
       "      <td>46.0</td>\n",
       "      <td>665.0</td>\n",
       "      <td>24</td>\n",
       "      <td>1.68</td>\n",
       "      <td>0.000000</td>\n",
       "      <td>79.0</td>\n",
       "      <td>1483</td>\n",
       "      <td>...</td>\n",
       "      <td>78.0</td>\n",
       "      <td>7.10</td>\n",
       "      <td>78.0</td>\n",
       "      <td>43.5</td>\n",
       "      <td>547.358878</td>\n",
       "      <td>12222251.0</td>\n",
       "      <td>11.0</td>\n",
       "      <td>11.2</td>\n",
       "      <td>0.434</td>\n",
       "      <td>9.8</td>\n",
       "    </tr>\n",
       "  </tbody>\n",
       "</table>\n",
       "<p>2938 rows × 22 columns</p>\n",
       "</div>"
      ],
      "text/plain": [
       "          Country  Year      Status  Life expectancy   Adult Mortality  \\\n",
       "0     Afghanistan  2015  Developing              65.0            263.0   \n",
       "1     Afghanistan  2014  Developing              59.9            271.0   \n",
       "2     Afghanistan  2013  Developing              59.9            268.0   \n",
       "3     Afghanistan  2012  Developing              59.5            272.0   \n",
       "4     Afghanistan  2011  Developing              59.2            275.0   \n",
       "...           ...   ...         ...               ...              ...   \n",
       "2933     Zimbabwe  2004  Developing              44.3            723.0   \n",
       "2934     Zimbabwe  2003  Developing              44.5            715.0   \n",
       "2935     Zimbabwe  2002  Developing              44.8             73.0   \n",
       "2936     Zimbabwe  2001  Developing              45.3            686.0   \n",
       "2937     Zimbabwe  2000  Developing              46.0            665.0   \n",
       "\n",
       "      infant deaths  Alcohol  percentage expenditure  Hepatitis B  Measles   \\\n",
       "0                62     0.01               71.279624         65.0      1154   \n",
       "1                64     0.01               73.523582         62.0       492   \n",
       "2                66     0.01               73.219243         64.0       430   \n",
       "3                69     0.01               78.184215         67.0      2787   \n",
       "4                71     0.01                7.097109         68.0      3013   \n",
       "...             ...      ...                     ...          ...       ...   \n",
       "2933             27     4.36                0.000000         68.0        31   \n",
       "2934             26     4.06                0.000000          7.0       998   \n",
       "2935             25     4.43                0.000000         73.0       304   \n",
       "2936             25     1.72                0.000000         76.0       529   \n",
       "2937             24     1.68                0.000000         79.0      1483   \n",
       "\n",
       "      ...  Polio  Total expenditure  Diphtheria    HIV/AIDS         GDP  \\\n",
       "0     ...    6.0               8.16         65.0        0.1  584.259210   \n",
       "1     ...   58.0               8.18         62.0        0.1  612.696514   \n",
       "2     ...   62.0               8.13         64.0        0.1  631.744976   \n",
       "3     ...   67.0               8.52         67.0        0.1  669.959000   \n",
       "4     ...   68.0               7.87         68.0        0.1   63.537231   \n",
       "...   ...    ...                ...          ...        ...         ...   \n",
       "2933  ...   67.0               7.13         65.0       33.6  454.366654   \n",
       "2934  ...    7.0               6.52         68.0       36.7  453.351155   \n",
       "2935  ...   73.0               6.53         71.0       39.8   57.348340   \n",
       "2936  ...   76.0               6.16         75.0       42.1  548.587312   \n",
       "2937  ...   78.0               7.10         78.0       43.5  547.358878   \n",
       "\n",
       "      Population   thinness  1-19 years   thinness 5-9 years  \\\n",
       "0     33736494.0                   17.2                 17.3   \n",
       "1       327582.0                   17.5                 17.5   \n",
       "2     31731688.0                   17.7                 17.7   \n",
       "3      3696958.0                   17.9                 18.0   \n",
       "4      2978599.0                   18.2                 18.2   \n",
       "...          ...                    ...                  ...   \n",
       "2933  12777511.0                    9.4                  9.4   \n",
       "2934  12633897.0                    9.8                  9.9   \n",
       "2935    125525.0                    1.2                  1.3   \n",
       "2936  12366165.0                    1.6                  1.7   \n",
       "2937  12222251.0                   11.0                 11.2   \n",
       "\n",
       "      Income composition of resources  Schooling  \n",
       "0                               0.479       10.1  \n",
       "1                               0.476       10.0  \n",
       "2                               0.470        9.9  \n",
       "3                               0.463        9.8  \n",
       "4                               0.454        9.5  \n",
       "...                               ...        ...  \n",
       "2933                            0.407        9.2  \n",
       "2934                            0.418        9.5  \n",
       "2935                            0.427       10.0  \n",
       "2936                            0.427        9.8  \n",
       "2937                            0.434        9.8  \n",
       "\n",
       "[2938 rows x 22 columns]"
      ]
     },
     "execution_count": 2,
     "metadata": {},
     "output_type": "execute_result"
    }
   ],
   "source": [
    "df = pd.read_csv(\"../data/Life Expectancy Data.csv\")\n",
    "df"
   ]
  },
  {
   "cell_type": "code",
   "execution_count": 3,
   "metadata": {},
   "outputs": [
    {
     "name": "stdout",
     "output_type": "stream",
     "text": [
      "<class 'pandas.core.frame.DataFrame'>\n",
      "RangeIndex: 2938 entries, 0 to 2937\n",
      "Data columns (total 22 columns):\n",
      " #   Column                           Non-Null Count  Dtype  \n",
      "---  ------                           --------------  -----  \n",
      " 0   Country                          2938 non-null   object \n",
      " 1   Year                             2938 non-null   int64  \n",
      " 2   Status                           2938 non-null   object \n",
      " 3   Life expectancy                  2928 non-null   float64\n",
      " 4   Adult Mortality                  2928 non-null   float64\n",
      " 5   infant deaths                    2938 non-null   int64  \n",
      " 6   Alcohol                          2744 non-null   float64\n",
      " 7   percentage expenditure           2938 non-null   float64\n",
      " 8   Hepatitis B                      2385 non-null   float64\n",
      " 9   Measles                          2938 non-null   int64  \n",
      " 10   BMI                             2904 non-null   float64\n",
      " 11  under-five deaths                2938 non-null   int64  \n",
      " 12  Polio                            2919 non-null   float64\n",
      " 13  Total expenditure                2712 non-null   float64\n",
      " 14  Diphtheria                       2919 non-null   float64\n",
      " 15   HIV/AIDS                        2938 non-null   float64\n",
      " 16  GDP                              2490 non-null   float64\n",
      " 17  Population                       2286 non-null   float64\n",
      " 18   thinness  1-19 years            2904 non-null   float64\n",
      " 19   thinness 5-9 years              2904 non-null   float64\n",
      " 20  Income composition of resources  2771 non-null   float64\n",
      " 21  Schooling                        2775 non-null   float64\n",
      "dtypes: float64(16), int64(4), object(2)\n",
      "memory usage: 505.1+ KB\n"
     ]
    }
   ],
   "source": [
    "df.info()"
   ]
  },
  {
   "cell_type": "markdown",
   "metadata": {},
   "source": [
    "We have some `NA` in `Life expectancy`, we must drop them since it doesn't make sense to create model without a target."
   ]
  },
  {
   "cell_type": "code",
   "execution_count": 8,
   "metadata": {},
   "outputs": [],
   "source": [
    "df = df.loc[~df['Life expectancy '].isna(), :]"
   ]
  },
  {
   "cell_type": "code",
   "execution_count": 9,
   "metadata": {},
   "outputs": [
    {
     "data": {
      "text/html": [
       "<div>\n",
       "<style scoped>\n",
       "    .dataframe tbody tr th:only-of-type {\n",
       "        vertical-align: middle;\n",
       "    }\n",
       "\n",
       "    .dataframe tbody tr th {\n",
       "        vertical-align: top;\n",
       "    }\n",
       "\n",
       "    .dataframe thead th {\n",
       "        text-align: right;\n",
       "    }\n",
       "</style>\n",
       "<table border=\"1\" class=\"dataframe\">\n",
       "  <thead>\n",
       "    <tr style=\"text-align: right;\">\n",
       "      <th></th>\n",
       "      <th>Country</th>\n",
       "      <th>Year</th>\n",
       "      <th>Status</th>\n",
       "      <th>Life expectancy</th>\n",
       "      <th>Adult Mortality</th>\n",
       "      <th>infant deaths</th>\n",
       "      <th>Alcohol</th>\n",
       "      <th>percentage expenditure</th>\n",
       "      <th>Hepatitis B</th>\n",
       "      <th>Measles</th>\n",
       "      <th>...</th>\n",
       "      <th>Polio</th>\n",
       "      <th>Total expenditure</th>\n",
       "      <th>Diphtheria</th>\n",
       "      <th>HIV/AIDS</th>\n",
       "      <th>GDP</th>\n",
       "      <th>Population</th>\n",
       "      <th>thinness  1-19 years</th>\n",
       "      <th>thinness 5-9 years</th>\n",
       "      <th>Income composition of resources</th>\n",
       "      <th>Schooling</th>\n",
       "    </tr>\n",
       "  </thead>\n",
       "  <tbody>\n",
       "    <tr>\n",
       "      <th>0</th>\n",
       "      <td>Afghanistan</td>\n",
       "      <td>2015</td>\n",
       "      <td>Developing</td>\n",
       "      <td>65.0</td>\n",
       "      <td>263.0</td>\n",
       "      <td>62</td>\n",
       "      <td>0.01</td>\n",
       "      <td>71.279624</td>\n",
       "      <td>65.0</td>\n",
       "      <td>1154</td>\n",
       "      <td>...</td>\n",
       "      <td>6.0</td>\n",
       "      <td>8.16</td>\n",
       "      <td>65.0</td>\n",
       "      <td>0.1</td>\n",
       "      <td>584.259210</td>\n",
       "      <td>33736494.0</td>\n",
       "      <td>17.2</td>\n",
       "      <td>17.3</td>\n",
       "      <td>0.479</td>\n",
       "      <td>10.1</td>\n",
       "    </tr>\n",
       "    <tr>\n",
       "      <th>1</th>\n",
       "      <td>Afghanistan</td>\n",
       "      <td>2014</td>\n",
       "      <td>Developing</td>\n",
       "      <td>59.9</td>\n",
       "      <td>271.0</td>\n",
       "      <td>64</td>\n",
       "      <td>0.01</td>\n",
       "      <td>73.523582</td>\n",
       "      <td>62.0</td>\n",
       "      <td>492</td>\n",
       "      <td>...</td>\n",
       "      <td>58.0</td>\n",
       "      <td>8.18</td>\n",
       "      <td>62.0</td>\n",
       "      <td>0.1</td>\n",
       "      <td>612.696514</td>\n",
       "      <td>327582.0</td>\n",
       "      <td>17.5</td>\n",
       "      <td>17.5</td>\n",
       "      <td>0.476</td>\n",
       "      <td>10.0</td>\n",
       "    </tr>\n",
       "    <tr>\n",
       "      <th>2</th>\n",
       "      <td>Afghanistan</td>\n",
       "      <td>2013</td>\n",
       "      <td>Developing</td>\n",
       "      <td>59.9</td>\n",
       "      <td>268.0</td>\n",
       "      <td>66</td>\n",
       "      <td>0.01</td>\n",
       "      <td>73.219243</td>\n",
       "      <td>64.0</td>\n",
       "      <td>430</td>\n",
       "      <td>...</td>\n",
       "      <td>62.0</td>\n",
       "      <td>8.13</td>\n",
       "      <td>64.0</td>\n",
       "      <td>0.1</td>\n",
       "      <td>631.744976</td>\n",
       "      <td>31731688.0</td>\n",
       "      <td>17.7</td>\n",
       "      <td>17.7</td>\n",
       "      <td>0.470</td>\n",
       "      <td>9.9</td>\n",
       "    </tr>\n",
       "    <tr>\n",
       "      <th>3</th>\n",
       "      <td>Afghanistan</td>\n",
       "      <td>2012</td>\n",
       "      <td>Developing</td>\n",
       "      <td>59.5</td>\n",
       "      <td>272.0</td>\n",
       "      <td>69</td>\n",
       "      <td>0.01</td>\n",
       "      <td>78.184215</td>\n",
       "      <td>67.0</td>\n",
       "      <td>2787</td>\n",
       "      <td>...</td>\n",
       "      <td>67.0</td>\n",
       "      <td>8.52</td>\n",
       "      <td>67.0</td>\n",
       "      <td>0.1</td>\n",
       "      <td>669.959000</td>\n",
       "      <td>3696958.0</td>\n",
       "      <td>17.9</td>\n",
       "      <td>18.0</td>\n",
       "      <td>0.463</td>\n",
       "      <td>9.8</td>\n",
       "    </tr>\n",
       "    <tr>\n",
       "      <th>4</th>\n",
       "      <td>Afghanistan</td>\n",
       "      <td>2011</td>\n",
       "      <td>Developing</td>\n",
       "      <td>59.2</td>\n",
       "      <td>275.0</td>\n",
       "      <td>71</td>\n",
       "      <td>0.01</td>\n",
       "      <td>7.097109</td>\n",
       "      <td>68.0</td>\n",
       "      <td>3013</td>\n",
       "      <td>...</td>\n",
       "      <td>68.0</td>\n",
       "      <td>7.87</td>\n",
       "      <td>68.0</td>\n",
       "      <td>0.1</td>\n",
       "      <td>63.537231</td>\n",
       "      <td>2978599.0</td>\n",
       "      <td>18.2</td>\n",
       "      <td>18.2</td>\n",
       "      <td>0.454</td>\n",
       "      <td>9.5</td>\n",
       "    </tr>\n",
       "  </tbody>\n",
       "</table>\n",
       "<p>5 rows × 22 columns</p>\n",
       "</div>"
      ],
      "text/plain": [
       "       Country  Year      Status  Life expectancy   Adult Mortality  \\\n",
       "0  Afghanistan  2015  Developing              65.0            263.0   \n",
       "1  Afghanistan  2014  Developing              59.9            271.0   \n",
       "2  Afghanistan  2013  Developing              59.9            268.0   \n",
       "3  Afghanistan  2012  Developing              59.5            272.0   \n",
       "4  Afghanistan  2011  Developing              59.2            275.0   \n",
       "\n",
       "   infant deaths  Alcohol  percentage expenditure  Hepatitis B  Measles   ...  \\\n",
       "0             62     0.01               71.279624         65.0      1154  ...   \n",
       "1             64     0.01               73.523582         62.0       492  ...   \n",
       "2             66     0.01               73.219243         64.0       430  ...   \n",
       "3             69     0.01               78.184215         67.0      2787  ...   \n",
       "4             71     0.01                7.097109         68.0      3013  ...   \n",
       "\n",
       "   Polio  Total expenditure  Diphtheria    HIV/AIDS         GDP  Population  \\\n",
       "0    6.0               8.16         65.0        0.1  584.259210  33736494.0   \n",
       "1   58.0               8.18         62.0        0.1  612.696514    327582.0   \n",
       "2   62.0               8.13         64.0        0.1  631.744976  31731688.0   \n",
       "3   67.0               8.52         67.0        0.1  669.959000   3696958.0   \n",
       "4   68.0               7.87         68.0        0.1   63.537231   2978599.0   \n",
       "\n",
       "    thinness  1-19 years   thinness 5-9 years  \\\n",
       "0                   17.2                 17.3   \n",
       "1                   17.5                 17.5   \n",
       "2                   17.7                 17.7   \n",
       "3                   17.9                 18.0   \n",
       "4                   18.2                 18.2   \n",
       "\n",
       "   Income composition of resources  Schooling  \n",
       "0                            0.479       10.1  \n",
       "1                            0.476       10.0  \n",
       "2                            0.470        9.9  \n",
       "3                            0.463        9.8  \n",
       "4                            0.454        9.5  \n",
       "\n",
       "[5 rows x 22 columns]"
      ]
     },
     "execution_count": 9,
     "metadata": {},
     "output_type": "execute_result"
    }
   ],
   "source": [
    "df.head()"
   ]
  },
  {
   "cell_type": "markdown",
   "metadata": {},
   "source": [
    "We see some `NA`, some and `Country` and `Status` columns are strings.\n",
    "Let's drop all of them for now and divide data into `X` and `y`.\n",
    "Then, divide into train and test."
   ]
  },
  {
   "cell_type": "code",
   "execution_count": 10,
   "metadata": {},
   "outputs": [],
   "source": [
    "from sklearn.model_selection import train_test_split\n",
    "df2 = df.dropna().drop(columns=[\"Country\", \"Status\"])\n",
    "\n",
    "X = df2.drop(columns=['Life expectancy '])\n",
    "y = df2['Life expectancy ']\n",
    "X_train, X_test, y_train, y_test = train_test_split(X, y, random_state=42)"
   ]
  },
  {
   "cell_type": "markdown",
   "metadata": {},
   "source": [
    "And train the linear regression model!"
   ]
  },
  {
   "cell_type": "code",
   "execution_count": 11,
   "metadata": {},
   "outputs": [],
   "source": [
    "from sklearn.linear_model import LinearRegression"
   ]
  },
  {
   "cell_type": "code",
   "execution_count": 12,
   "metadata": {},
   "outputs": [
    {
     "data": {
      "text/html": [
       "<style>#sk-container-id-1 {color: black;background-color: white;}#sk-container-id-1 pre{padding: 0;}#sk-container-id-1 div.sk-toggleable {background-color: white;}#sk-container-id-1 label.sk-toggleable__label {cursor: pointer;display: block;width: 100%;margin-bottom: 0;padding: 0.3em;box-sizing: border-box;text-align: center;}#sk-container-id-1 label.sk-toggleable__label-arrow:before {content: \"▸\";float: left;margin-right: 0.25em;color: #696969;}#sk-container-id-1 label.sk-toggleable__label-arrow:hover:before {color: black;}#sk-container-id-1 div.sk-estimator:hover label.sk-toggleable__label-arrow:before {color: black;}#sk-container-id-1 div.sk-toggleable__content {max-height: 0;max-width: 0;overflow: hidden;text-align: left;background-color: #f0f8ff;}#sk-container-id-1 div.sk-toggleable__content pre {margin: 0.2em;color: black;border-radius: 0.25em;background-color: #f0f8ff;}#sk-container-id-1 input.sk-toggleable__control:checked~div.sk-toggleable__content {max-height: 200px;max-width: 100%;overflow: auto;}#sk-container-id-1 input.sk-toggleable__control:checked~label.sk-toggleable__label-arrow:before {content: \"▾\";}#sk-container-id-1 div.sk-estimator input.sk-toggleable__control:checked~label.sk-toggleable__label {background-color: #d4ebff;}#sk-container-id-1 div.sk-label input.sk-toggleable__control:checked~label.sk-toggleable__label {background-color: #d4ebff;}#sk-container-id-1 input.sk-hidden--visually {border: 0;clip: rect(1px 1px 1px 1px);clip: rect(1px, 1px, 1px, 1px);height: 1px;margin: -1px;overflow: hidden;padding: 0;position: absolute;width: 1px;}#sk-container-id-1 div.sk-estimator {font-family: monospace;background-color: #f0f8ff;border: 1px dotted black;border-radius: 0.25em;box-sizing: border-box;margin-bottom: 0.5em;}#sk-container-id-1 div.sk-estimator:hover {background-color: #d4ebff;}#sk-container-id-1 div.sk-parallel-item::after {content: \"\";width: 100%;border-bottom: 1px solid gray;flex-grow: 1;}#sk-container-id-1 div.sk-label:hover label.sk-toggleable__label {background-color: #d4ebff;}#sk-container-id-1 div.sk-serial::before {content: \"\";position: absolute;border-left: 1px solid gray;box-sizing: border-box;top: 0;bottom: 0;left: 50%;z-index: 0;}#sk-container-id-1 div.sk-serial {display: flex;flex-direction: column;align-items: center;background-color: white;padding-right: 0.2em;padding-left: 0.2em;position: relative;}#sk-container-id-1 div.sk-item {position: relative;z-index: 1;}#sk-container-id-1 div.sk-parallel {display: flex;align-items: stretch;justify-content: center;background-color: white;position: relative;}#sk-container-id-1 div.sk-item::before, #sk-container-id-1 div.sk-parallel-item::before {content: \"\";position: absolute;border-left: 1px solid gray;box-sizing: border-box;top: 0;bottom: 0;left: 50%;z-index: -1;}#sk-container-id-1 div.sk-parallel-item {display: flex;flex-direction: column;z-index: 1;position: relative;background-color: white;}#sk-container-id-1 div.sk-parallel-item:first-child::after {align-self: flex-end;width: 50%;}#sk-container-id-1 div.sk-parallel-item:last-child::after {align-self: flex-start;width: 50%;}#sk-container-id-1 div.sk-parallel-item:only-child::after {width: 0;}#sk-container-id-1 div.sk-dashed-wrapped {border: 1px dashed gray;margin: 0 0.4em 0.5em 0.4em;box-sizing: border-box;padding-bottom: 0.4em;background-color: white;}#sk-container-id-1 div.sk-label label {font-family: monospace;font-weight: bold;display: inline-block;line-height: 1.2em;}#sk-container-id-1 div.sk-label-container {text-align: center;}#sk-container-id-1 div.sk-container {/* jupyter's `normalize.less` sets `[hidden] { display: none; }` but bootstrap.min.css set `[hidden] { display: none !important; }` so we also need the `!important` here to be able to override the default hidden behavior on the sphinx rendered scikit-learn.org. See: https://github.com/scikit-learn/scikit-learn/issues/21755 */display: inline-block !important;position: relative;}#sk-container-id-1 div.sk-text-repr-fallback {display: none;}</style><div id=\"sk-container-id-1\" class=\"sk-top-container\"><div class=\"sk-text-repr-fallback\"><pre>LinearRegression()</pre><b>In a Jupyter environment, please rerun this cell to show the HTML representation or trust the notebook. <br />On GitHub, the HTML representation is unable to render, please try loading this page with nbviewer.org.</b></div><div class=\"sk-container\" hidden><div class=\"sk-item\"><div class=\"sk-estimator sk-toggleable\"><input class=\"sk-toggleable__control sk-hidden--visually\" id=\"sk-estimator-id-1\" type=\"checkbox\" checked><label for=\"sk-estimator-id-1\" class=\"sk-toggleable__label sk-toggleable__label-arrow\">LinearRegression</label><div class=\"sk-toggleable__content\"><pre>LinearRegression()</pre></div></div></div></div></div>"
      ],
      "text/plain": [
       "LinearRegression()"
      ]
     },
     "execution_count": 12,
     "metadata": {},
     "output_type": "execute_result"
    }
   ],
   "source": [
    "model = LinearRegression()\n",
    "model.fit(X_train, y_train)"
   ]
  },
  {
   "cell_type": "markdown",
   "metadata": {},
   "source": [
    "We have model trained, now it's time to assess it's performance!"
   ]
  },
  {
   "cell_type": "code",
   "execution_count": 13,
   "metadata": {},
   "outputs": [
    {
     "name": "stdout",
     "output_type": "stream",
     "text": [
      "Model on all variables without NA\n",
      "Model MSE: 13.516706224406501\n",
      "Model RMSE: 3.6765073404532327\n",
      "Model MAE: 2.7898832159323703\n"
     ]
    }
   ],
   "source": [
    "from sklearn.metrics import mean_squared_error, mean_absolute_error\n",
    "y_pred = model.predict(X_test)\n",
    "\n",
    "print(\"Model on all variables without NA\")\n",
    "print(f\"Model MSE: {mean_squared_error(y_test, y_pred)}\")\n",
    "print(f\"Model RMSE: {np.sqrt(mean_squared_error(y_test, y_pred))}\")\n",
    "print(f\"Model MAE: {mean_absolute_error(y_test, y_pred)}\")"
   ]
  },
  {
   "cell_type": "markdown",
   "metadata": {},
   "source": [
    "Is it good, is it bad?\n",
    "Good question, we could compare with model build only on one variable. `Adult Mortality` seems like a reasonable choice."
   ]
  },
  {
   "cell_type": "code",
   "execution_count": 9,
   "metadata": {},
   "outputs": [
    {
     "name": "stdout",
     "output_type": "stream",
     "text": [
      "Model on Adult Mortality variable\n",
      "Model MSE: 37.877043036044356\n",
      "Model RMSE: 6.154432795639607\n",
      "Model MAD: 4.480029140229395\n"
     ]
    }
   ],
   "source": [
    "X = df2[['Adult Mortality']]  # since X is supposed to be a dataframe/matrix, we must index it this way\n",
    "y = df2['Life expectancy']\n",
    "X_train, X_test, y_train, y_test = train_test_split(X, y, random_state=42)\n",
    "\n",
    "model = LinearRegression()\n",
    "model.fit(X_train, y_train)\n",
    "y_pred = model.predict(X_test)\n",
    "\n",
    "print(\"Model on Adult Mortality variable\")\n",
    "print(f\"Model MSE: {mean_squared_error(y_test, y_pred)}\")\n",
    "print(f\"Model RMSE: {np.sqrt(mean_squared_error(y_test, y_pred))}\")\n",
    "print(f\"Model MAD: {mean_absolute_error(y_test, y_pred)}\")"
   ]
  },
  {
   "cell_type": "markdown",
   "metadata": {},
   "source": [
    "Ok, so the model is a bit worse.\n"
   ]
  },
  {
   "cell_type": "markdown",
   "metadata": {},
   "source": [
    "### Improving the model by filing NA values\n",
    "\n",
    "Not so fast, we cannot use the `fillna` method!\n",
    "Why?\n",
    "\n",
    "We will **leak the information** from test set to training set.\n",
    "We should find the mean value on training set and then use it on test set. "
   ]
  },
  {
   "cell_type": "code",
   "execution_count": 14,
   "metadata": {},
   "outputs": [],
   "source": [
    "from sklearn.impute import SimpleImputer"
   ]
  },
  {
   "cell_type": "code",
   "execution_count": 16,
   "metadata": {},
   "outputs": [],
   "source": [
    "df3 = df.drop(columns=[\"Country\", \"Status\"])\n",
    "X = df3.drop(columns=['Life expectancy '])\n",
    "y = df3['Life expectancy ']\n",
    "\n",
    "X_train, X_test, y_train, y_test = train_test_split(X, y, random_state=42)"
   ]
  },
  {
   "cell_type": "code",
   "execution_count": 17,
   "metadata": {},
   "outputs": [],
   "source": [
    "imputer = SimpleImputer(strategy=\"median\")\n",
    "X_train = imputer.fit_transform(X_train)\n",
    "X_test = imputer.transform(X_test)"
   ]
  },
  {
   "cell_type": "markdown",
   "metadata": {},
   "source": [
    "And train the model:"
   ]
  },
  {
   "cell_type": "code",
   "execution_count": 18,
   "metadata": {},
   "outputs": [
    {
     "name": "stdout",
     "output_type": "stream",
     "text": [
      "Model on one variable\n",
      "Model MSE: 16.5308383945944\n",
      "Model RMSE: 4.065813374294792\n",
      "Model MAD: 2.9909115543265163\n"
     ]
    }
   ],
   "source": [
    "model = LinearRegression()\n",
    "model.fit(X_train, y_train)\n",
    "y_pred = model.predict(X_test)\n",
    "\n",
    "print(\"Model on one variable\")\n",
    "print(f\"Model MSE: {mean_squared_error(y_test, y_pred)}\")\n",
    "print(f\"Model RMSE: {np.sqrt(mean_squared_error(y_test, y_pred))}\")\n",
    "print(f\"Model MAD: {mean_absolute_error(y_test, y_pred)}\")"
   ]
  },
  {
   "cell_type": "markdown",
   "metadata": {},
   "source": [
    "One could say it wasn't helpful.\n",
    "But now we are able to handle data with missing values!\n",
    "Maybe production data will also contain some `NA`s from time to time?\n",
    "Then working on data with dropped `NA` not be reasonable at all!\n",
    "\n",
    "Now we can check the impact of changing the `Status` feature into one-hot."
   ]
  },
  {
   "cell_type": "code",
   "execution_count": 19,
   "metadata": {},
   "outputs": [
    {
     "data": {
      "text/plain": [
       "Developing    2416\n",
       "Developed      512\n",
       "Name: Status, dtype: int64"
      ]
     },
     "execution_count": 19,
     "metadata": {},
     "output_type": "execute_result"
    }
   ],
   "source": [
    "df['Status'].value_counts()"
   ]
  },
  {
   "cell_type": "code",
   "execution_count": 21,
   "metadata": {},
   "outputs": [],
   "source": [
    "df4 = df.drop(columns=\"Country\").dropna()\n",
    "df4 = pd.concat(\n",
    "    [\n",
    "        pd.get_dummies(df4['Status']),\n",
    "        df4.drop(columns=\"Status\")\n",
    "    ], axis=1\n",
    ")\n",
    "X = df4.drop(columns=['Life expectancy '])\n",
    "y = df4['Life expectancy ']\n",
    "\n",
    "X_train, X_test, y_train, y_test = train_test_split(X, y, random_state=42)"
   ]
  },
  {
   "cell_type": "code",
   "execution_count": 22,
   "metadata": {},
   "outputs": [
    {
     "name": "stdout",
     "output_type": "stream",
     "text": [
      "Model on one variable\n",
      "Model MSE: 13.452498776963258\n",
      "Model RMSE: 3.667764820290862\n",
      "Model MAD: 2.793009414329903\n"
     ]
    }
   ],
   "source": [
    "model = LinearRegression()\n",
    "model.fit(X_train, y_train)\n",
    "y_pred = model.predict(X_test)\n",
    "\n",
    "print(\"Model on one variable\")\n",
    "print(f\"Model MSE: {mean_squared_error(y_test, y_pred)}\")\n",
    "print(f\"Model RMSE: {np.sqrt(mean_squared_error(y_test, y_pred))}\")\n",
    "print(f\"Model MAD: {mean_absolute_error(y_test, y_pred)}\")"
   ]
  },
  {
   "cell_type": "markdown",
   "metadata": {},
   "source": [
    "It's hard to say whether we improved the model or is it just a fluctuation."
   ]
  },
  {
   "cell_type": "markdown",
   "metadata": {},
   "source": [
    "## How does linear regression work?"
   ]
  },
  {
   "cell_type": "markdown",
   "metadata": {},
   "source": [
    "First let's explore a 2D case."
   ]
  },
  {
   "cell_type": "code",
   "execution_count": 24,
   "metadata": {},
   "outputs": [
    {
     "data": {
      "text/plain": [
       "<AxesSubplot:xlabel='Adult Mortality', ylabel='Life expectancy '>"
      ]
     },
     "execution_count": 24,
     "metadata": {},
     "output_type": "execute_result"
    },
    {
     "data": {
      "image/png": "[encoded data removed]",
      "text/plain": [
       "<Figure size 432x288 with 1 Axes>"
      ]
     },
     "metadata": {
      "needs_background": "light"
     },
     "output_type": "display_data"
    }
   ],
   "source": [
    "df.plot(x='Adult Mortality', y='Life expectancy ', kind='scatter')"
   ]
  },
  {
   "cell_type": "markdown",
   "metadata": {},
   "source": [
    "We can hold on with linear regression for a second since we immediately see something interesting!\n",
    "There are at least two _paths_."
   ]
  },
  {
   "cell_type": "code",
   "execution_count": 26,
   "metadata": {},
   "outputs": [
    {
     "data": {
      "application/vnd.plotly.v1+json": {
       "config": {
        "plotlyServerURL": "https://plot.ly"
       },
       "data": [
        {
         "hovertemplate": "Country=Afghanistan<br>Adult Mortality=%{x}<br>Life expectancy =%{y}<extra></extra>",
         "legendgroup": "Afghanistan",
         "marker": {
          "color": "#636efa",
          "symbol": "circle"
         },
         "mode": "markers",
         "name": "Afghanistan",
         "showlegend": true,
         "type": "scattergl",
         "x": [
          263,
          271,
          268,
          272,
          275,
          279,
          281,
          287,
          295,
          295,
          291,
          293,
          295,
          3,
          316,
          321
         ],
         "xaxis": "x",
         "y": [
          65,
          59.9,
          59.9,
          59.5,
          59.2,
          58.8,
          58.6,
          58.1,
          57.5,
          57.3,
          57.3,
          57,
          56.7,
          56.2,
          55.3,
          54.8
         ],
         "yaxis": "y"
        },
        {
         "hovertemplate": "Country=Albania<br>Adult Mortality=%{x}<br>Life expectancy =%{y}<extra></extra>",
         "legendgroup": "Albania",
         "marker": {
          "color": "#EF553B",
          "symbol": "circle"
         },
         "mode": "markers",
         "name": "Albania",
         "showlegend": true,
         "type": "scattergl",
         "x": [
          74,
          8,
          84,
          86,
          88,
          91,
          91,
          1,
          9,
          99,
          15,
          17,
          18,
          15,
          14,
          11
         ],
         "xaxis": "x",
         "y": [
          77.8,
          77.5,
          77.2,
          76.9,
          76.6,
          76.2,
          76.1,
          75.3,
          75.9,
          74.2,
          73.5,
          73,
          72.8,
          73.3,
          73.6,
          72.6
         ],
         "yaxis": "y"
        },
        {
         "hovertemplate": "Country=Algeria<br>Adult Mortality=%{x}<br>Life expectancy =%{y}<extra></extra>",
         "legendgroup": "Algeria",
         "marker": {
          "color": "#00cc96",
          "symbol": "circle"
         },
         "mode": "markers",
         "name": "Algeria",
         "showlegend": true,
         "type": "scattergl",
         "x": [
          19,
          11,
          112,
          113,
          116,
          119,
          123,
          126,
          129,
          132,
          136,
          14,
          146,
          145,
          145,
          145
         ],
         "xaxis": "x",
         "y": [
          75.6,
          75.4,
          75.3,
          75.1,
          74.9,
          74.7,
          74.4,
          74.1,
          73.8,
          73.4,
          72.9,
          72.3,
          71.7,
          71.6,
          71.4,
          71.3
         ],
         "yaxis": "y"
        },
        {
         "hovertemplate": "Country=Angola<br>Adult Mortality=%{x}<br>Life expectancy =%{y}<extra></extra>",
         "legendgroup": "Angola",
         "marker": {
          "color": "#ab63fa",
          "symbol": "circle"
         },
         "mode": "markers",
         "name": "Angola",
         "showlegend": true,
         "type": "scattergl",
         "x": [
          335,
          348,
          355,
          358,
          361,
          365,
          369,
          371,
          375,
          381,
          382,
          386,
          388,
          391,
          44,
          48
         ],
         "xaxis": "x",
         "y": [
          52.4,
          51.7,
          51.1,
          56,
          51,
          49.6,
          49.1,
          48.7,
          48.2,
          47.7,
          47.4,
          47.1,
          46.8,
          46.5,
          45.7,
          45.3
         ],
         "yaxis": "y"
        },
        {
         "hovertemplate": "Country=Antigua and Barbuda<br>Adult Mortality=%{x}<br>Life expectancy =%{y}<extra></extra>",
         "legendgroup": "Antigua and Barbuda",
         "marker": {
          "color": "#FFA15A",
          "symbol": "circle"
         },
         "mode": "markers",
         "name": "Antigua and Barbuda",
         "showlegend": true,
         "type": "scattergl",
         "x": [
          13,
          131,
          133,
          134,
          136,
          138,
          14,
          142,
          144,
          145,
          147,
          149,
          151,
          153,
          154,
          156
         ],
         "xaxis": "x",
         "y": [
          76.4,
          76.2,
          76.1,
          75.9,
          75.7,
          75.6,
          75.4,
          75.2,
          75,
          74.8,
          74.6,
          74.4,
          74.2,
          74,
          73.8,
          73.6
         ],
         "yaxis": "y"
        },
        {
         "hovertemplate": "Country=Argentina<br>Adult Mortality=%{x}<br>Life expectancy =%{y}<extra></extra>",
         "legendgroup": "Argentina",
         "marker": {
          "color": "#19d3f3",
          "symbol": "circle"
         },
         "mode": "markers",
         "name": "Argentina",
         "showlegend": true,
         "type": "scattergl",
         "x": [
          116,
          118,
          119,
          12,
          12,
          121,
          126,
          126,
          129,
          127,
          127,
          13,
          137,
          138,
          138,
          137
         ],
         "xaxis": "x",
         "y": [
          76.3,
          76.2,
          76,
          75.9,
          75.7,
          75.5,
          75.6,
          75.4,
          74.8,
          75.2,
          74.9,
          74.7,
          74.1,
          74.1,
          74,
          74.1
         ],
         "yaxis": "y"
        },
        {
         "hovertemplate": "Country=Armenia<br>Adult Mortality=%{x}<br>Life expectancy =%{y}<extra></extra>",
         "legendgroup": "Armenia",
         "marker": {
          "color": "#FF6692",
          "symbol": "circle"
         },
         "mode": "markers",
         "name": "Armenia",
         "showlegend": true,
         "type": "scattergl",
         "x": [
          118,
          12,
          123,
          121,
          128,
          132,
          137,
          14,
          132,
          141,
          137,
          132,
          134,
          134,
          141,
          142
         ],
         "xaxis": "x",
         "y": [
          74.8,
          74.6,
          74.4,
          74.4,
          73.9,
          73.5,
          73.3,
          73.2,
          73.5,
          72.9,
          73,
          73,
          72.7,
          72.6,
          72.6,
          72
         ],
         "yaxis": "y"
        },
        {
         "hovertemplate": "Country=Australia<br>Adult Mortality=%{x}<br>Life expectancy =%{y}<extra></extra>",
         "legendgroup": "Australia",
         "marker": {
          "color": "#B6E880",
          "symbol": "circle"
         },
         "mode": "markers",
         "name": "Australia",
         "showlegend": true,
         "type": "scattergl",
         "x": [
          59,
          6,
          61,
          61,
          63,
          64,
          66,
          66,
          66,
          66,
          67,
          69,
          71,
          73,
          75,
          78
         ],
         "xaxis": "x",
         "y": [
          82.8,
          82.7,
          82.5,
          82.3,
          82,
          81.9,
          81.7,
          81.3,
          81.3,
          81.2,
          81,
          86,
          83,
          79.9,
          79.9,
          79.5
         ],
         "yaxis": "y"
        },
        {
         "hovertemplate": "Country=Austria<br>Adult Mortality=%{x}<br>Life expectancy =%{y}<extra></extra>",
         "legendgroup": "Austria",
         "marker": {
          "color": "#FF97FF",
          "symbol": "circle"
         },
         "mode": "markers",
         "name": "Austria",
         "showlegend": true,
         "type": "scattergl",
         "x": [
          65,
          66,
          68,
          7,
          73,
          75,
          77,
          76,
          8,
          81,
          85,
          86,
          88,
          9,
          92,
          96
         ],
         "xaxis": "x",
         "y": [
          81.5,
          81.4,
          81.1,
          88,
          88,
          84,
          82,
          84,
          81,
          79.8,
          79.4,
          79.3,
          78.8,
          78.7,
          78.6,
          78.1
         ],
         "yaxis": "y"
        },
        {
         "hovertemplate": "Country=Azerbaijan<br>Adult Mortality=%{x}<br>Life expectancy =%{y}<extra></extra>",
         "legendgroup": "Azerbaijan",
         "marker": {
          "color": "#FECB52",
          "symbol": "circle"
         },
         "mode": "markers",
         "name": "Azerbaijan",
         "showlegend": true,
         "type": "scattergl",
         "x": [
          118,
          119,
          121,
          123,
          125,
          13,
          132,
          141,
          14,
          154,
          162,
          154,
          154,
          146,
          151,
          16
         ],
         "xaxis": "x",
         "y": [
          72.7,
          72.5,
          72.2,
          71.9,
          71.6,
          71.1,
          78,
          73,
          73,
          69.2,
          68.4,
          68.4,
          67.8,
          67.8,
          67.5,
          66.6
         ],
         "yaxis": "y"
        },
        {
         "hovertemplate": "Country=Bahamas<br>Adult Mortality=%{x}<br>Life expectancy =%{y}<extra></extra>",
         "legendgroup": "Bahamas",
         "marker": {
          "color": "#636efa",
          "symbol": "circle"
         },
         "mode": "markers",
         "name": "Bahamas",
         "showlegend": true,
         "type": "scattergl",
         "x": [
          147,
          16,
          172,
          167,
          162,
          161,
          168,
          167,
          167,
          171,
          172,
          174,
          189,
          19,
          189,
          192
         ],
         "xaxis": "x",
         "y": [
          76.1,
          75.4,
          74.8,
          74.9,
          75,
          75,
          74.6,
          74.5,
          74.4,
          74.2,
          74.1,
          73.8,
          73.2,
          73.1,
          72.9,
          72.6
         ],
         "yaxis": "y"
        },
        {
         "hovertemplate": "Country=Bahrain<br>Adult Mortality=%{x}<br>Life expectancy =%{y}<extra></extra>",
         "legendgroup": "Bahrain",
         "marker": {
          "color": "#EF553B",
          "symbol": "circle"
         },
         "mode": "markers",
         "name": "Bahrain",
         "showlegend": true,
         "type": "scattergl",
         "x": [
          69,
          7,
          7,
          71,
          76,
          73,
          74,
          76,
          77,
          79,
          81,
          83,
          85,
          87,
          9,
          92
         ],
         "xaxis": "x",
         "y": [
          76.9,
          76.8,
          76.7,
          76.5,
          76.1,
          76.1,
          76,
          75.8,
          75.6,
          75.5,
          75.3,
          75.2,
          75,
          74.9,
          74.7,
          74.5
         ],
         "yaxis": "y"
        },
        {
         "hovertemplate": "Country=Bangladesh<br>Adult Mortality=%{x}<br>Life expectancy =%{y}<extra></extra>",
         "legendgroup": "Bangladesh",
         "marker": {
          "color": "#00cc96",
          "symbol": "circle"
         },
         "mode": "markers",
         "name": "Bangladesh",
         "showlegend": true,
         "type": "scattergl",
         "x": [
          129,
          132,
          135,
          137,
          14,
          142,
          144,
          147,
          151,
          152,
          155,
          158,
          161,
          164,
          168,
          173
         ],
         "xaxis": "x",
         "y": [
          71.8,
          71.4,
          71,
          77,
          73,
          69.9,
          69.5,
          69.1,
          68.6,
          68.2,
          67.8,
          67.3,
          66.8,
          66.3,
          65.8,
          65.3
         ],
         "yaxis": "y"
        },
        {
         "hovertemplate": "Country=Barbados<br>Adult Mortality=%{x}<br>Life expectancy =%{y}<extra></extra>",
         "legendgroup": "Barbados",
         "marker": {
          "color": "#ab63fa",
          "symbol": "circle"
         },
         "mode": "markers",
         "name": "Barbados",
         "showlegend": true,
         "type": "scattergl",
         "x": [
          98,
          1,
          11,
          12,
          14,
          16,
          19,
          111,
          113,
          115,
          117,
          119,
          121,
          123,
          125,
          127
         ],
         "xaxis": "x",
         "y": [
          75.5,
          75.4,
          75.2,
          75.1,
          74.9,
          74.7,
          74.6,
          74.4,
          74.2,
          74.1,
          73.9,
          73.8,
          73.7,
          73.5,
          73.4,
          73.3
         ],
         "yaxis": "y"
        },
        {
         "hovertemplate": "Country=Belarus<br>Adult Mortality=%{x}<br>Life expectancy =%{y}<extra></extra>",
         "legendgroup": "Belarus",
         "marker": {
          "color": "#FFA15A",
          "symbol": "circle"
         },
         "mode": "markers",
         "name": "Belarus",
         "showlegend": true,
         "type": "scattergl",
         "x": [
          196,
          199,
          23,
          194,
          232,
          222,
          226,
          224,
          226,
          243,
          252,
          247,
          253,
          262,
          254,
          247
         ],
         "xaxis": "x",
         "y": [
          72.3,
          72,
          71.7,
          71.9,
          72,
          73,
          70,
          70,
          69.8,
          68.9,
          68.1,
          68.2,
          67.7,
          67.2,
          67.7,
          68
         ],
         "yaxis": "y"
        },
        {
         "hovertemplate": "Country=Belgium<br>Adult Mortality=%{x}<br>Life expectancy =%{y}<extra></extra>",
         "legendgroup": "Belgium",
         "marker": {
          "color": "#19d3f3",
          "symbol": "circle"
         },
         "mode": "markers",
         "name": "Belgium",
         "showlegend": true,
         "type": "scattergl",
         "x": [
          74,
          76,
          77,
          78,
          8,
          81,
          85,
          87,
          86,
          85,
          89,
          91,
          95,
          99,
          1,
          11
         ],
         "xaxis": "x",
         "y": [
          81.1,
          89,
          87,
          83,
          83,
          80,
          79.8,
          79.5,
          79.5,
          79.4,
          78.9,
          78.8,
          78.3,
          78,
          78,
          77.6
         ],
         "yaxis": "y"
        },
        {
         "hovertemplate": "Country=Belize<br>Adult Mortality=%{x}<br>Life expectancy =%{y}<extra></extra>",
         "legendgroup": "Belize",
         "marker": {
          "color": "#FF6692",
          "symbol": "circle"
         },
         "mode": "markers",
         "name": "Belize",
         "showlegend": true,
         "type": "scattergl",
         "x": [
          175,
          177,
          18,
          189,
          188,
          186,
          184,
          181,
          181,
          184,
          191,
          197,
          21,
          199,
          21,
          196
         ],
         "xaxis": "x",
         "y": [
          71,
          70,
          69.8,
          69.4,
          69.4,
          69.5,
          69.5,
          69.6,
          69.6,
          69.4,
          69,
          68.7,
          68.4,
          68.5,
          68.2,
          68.3
         ],
         "yaxis": "y"
        },
        {
         "hovertemplate": "Country=Benin<br>Adult Mortality=%{x}<br>Life expectancy =%{y}<extra></extra>",
         "legendgroup": "Benin",
         "marker": {
          "color": "#B6E880",
          "symbol": "circle"
         },
         "mode": "markers",
         "name": "Benin",
         "showlegend": true,
         "type": "scattergl",
         "x": [
          249,
          252,
          251,
          251,
          251,
          254,
          259,
          278,
          283,
          284,
          285,
          285,
          285,
          283,
          281,
          279
         ],
         "xaxis": "x",
         "y": [
          60,
          59.7,
          59.5,
          59.3,
          59.1,
          58.7,
          58.4,
          57.6,
          57.1,
          56.8,
          56.5,
          56.1,
          55.8,
          55.6,
          55.5,
          55.4
         ],
         "yaxis": "y"
        },
        {
         "hovertemplate": "Country=Bhutan<br>Adult Mortality=%{x}<br>Life expectancy =%{y}<extra></extra>",
         "legendgroup": "Bhutan",
         "marker": {
          "color": "#FF97FF",
          "symbol": "circle"
         },
         "mode": "markers",
         "name": "Bhutan",
         "showlegend": true,
         "type": "scattergl",
         "x": [
          211,
          216,
          219,
          223,
          225,
          228,
          232,
          234,
          238,
          245,
          254,
          263,
          273,
          282,
          29,
          312
         ],
         "xaxis": "x",
         "y": [
          69.8,
          69.4,
          69.1,
          68.7,
          68.3,
          67.9,
          67.4,
          67,
          66.5,
          65.8,
          65,
          64.2,
          63.3,
          62.5,
          61.7,
          62
         ],
         "yaxis": "y"
        },
        {
         "hovertemplate": "Country=Bolivia (Plurinational State of)<br>Adult Mortality=%{x}<br>Life expectancy =%{y}<extra></extra>",
         "legendgroup": "Bolivia (Plurinational State of)",
         "marker": {
          "color": "#FECB52",
          "symbol": "circle"
         },
         "mode": "markers",
         "name": "Bolivia (Plurinational State of)",
         "showlegend": true,
         "type": "scattergl",
         "x": [
          186,
          189,
          192,
          194,
          198,
          22,
          27,
          211,
          216,
          219,
          222,
          226,
          23,
          234,
          238,
          243
         ],
         "xaxis": "x",
         "y": [
          77,
          74,
          71,
          69.8,
          69.3,
          68.7,
          68,
          67.4,
          66.8,
          66.2,
          65.7,
          65.1,
          64.5,
          63.9,
          63.3,
          62.6
         ],
         "yaxis": "y"
        },
        {
         "hovertemplate": "Country=Bosnia and Herzegovina<br>Adult Mortality=%{x}<br>Life expectancy =%{y}<extra></extra>",
         "legendgroup": "Bosnia and Herzegovina",
         "marker": {
          "color": "#636efa",
          "symbol": "circle"
         },
         "mode": "markers",
         "name": "Bosnia and Herzegovina",
         "showlegend": true,
         "type": "scattergl",
         "x": [
          88,
          89,
          9,
          92,
          92,
          94,
          97,
          98,
          16,
          1,
          12,
          99,
          12,
          11,
          113,
          116
         ],
         "xaxis": "x",
         "y": [
          77.4,
          77.2,
          77,
          76.8,
          76.9,
          76.4,
          76.1,
          76,
          75.4,
          75.7,
          75,
          75.5,
          75.2,
          75.4,
          74.9,
          74.6
         ],
         "yaxis": "y"
        },
        {
         "hovertemplate": "Country=Botswana<br>Adult Mortality=%{x}<br>Life expectancy =%{y}<extra></extra>",
         "legendgroup": "Botswana",
         "marker": {
          "color": "#EF553B",
          "symbol": "circle"
         },
         "mode": "markers",
         "name": "Botswana",
         "showlegend": true,
         "type": "scattergl",
         "x": [
          256,
          268,
          286,
          3,
          325,
          349,
          393,
          427,
          436,
          491,
          566,
          652,
          693,
          699,
          679,
          647
         ],
         "xaxis": "x",
         "y": [
          65.7,
          65.1,
          64.2,
          63.4,
          62.2,
          61.1,
          59.2,
          57.5,
          56.9,
          54.8,
          51.7,
          48.1,
          46.4,
          46,
          46.7,
          47.8
         ],
         "yaxis": "y"
        },
        {
         "hovertemplate": "Country=Brazil<br>Adult Mortality=%{x}<br>Life expectancy =%{y}<extra></extra>",
         "legendgroup": "Brazil",
         "marker": {
          "color": "#00cc96",
          "symbol": "circle"
         },
         "mode": "markers",
         "name": "Brazil",
         "showlegend": true,
         "type": "scattergl",
         "x": [
          142,
          144,
          146,
          148,
          152,
          154,
          157,
          158,
          159,
          161,
          163,
          17,
          172,
          176,
          179,
          183
         ],
         "xaxis": "x",
         "y": [
          75,
          74.8,
          74.7,
          74.5,
          74.1,
          73.8,
          73.6,
          73.4,
          73.3,
          73,
          72.7,
          72,
          71.8,
          71.4,
          71,
          75
         ],
         "yaxis": "y"
        },
        {
         "hovertemplate": "Country=Brunei Darussalam<br>Adult Mortality=%{x}<br>Life expectancy =%{y}<extra></extra>",
         "legendgroup": "Brunei Darussalam",
         "marker": {
          "color": "#ab63fa",
          "symbol": "circle"
         },
         "mode": "markers",
         "name": "Brunei Darussalam",
         "showlegend": true,
         "type": "scattergl",
         "x": [
          78,
          8,
          84,
          79,
          79,
          79,
          88,
          84,
          1,
          93,
          92,
          89,
          89,
          95,
          19,
          16
         ],
         "xaxis": "x",
         "y": [
          77.7,
          77.6,
          77.1,
          78.3,
          77.4,
          76.9,
          76.8,
          77.2,
          76,
          76.3,
          76.2,
          76.4,
          76,
          74.8,
          74.7,
          74.4
         ],
         "yaxis": "y"
        },
        {
         "hovertemplate": "Country=Bulgaria<br>Adult Mortality=%{x}<br>Life expectancy =%{y}<extra></extra>",
         "legendgroup": "Bulgaria",
         "marker": {
          "color": "#FFA15A",
          "symbol": "circle"
         },
         "mode": "markers",
         "name": "Bulgaria",
         "showlegend": true,
         "type": "scattergl",
         "x": [
          137,
          138,
          14,
          139,
          144,
          147,
          152,
          155,
          157,
          161,
          16,
          157,
          155,
          157,
          16,
          163
         ],
         "xaxis": "x",
         "y": [
          74.5,
          74.3,
          74.1,
          73.9,
          73.7,
          73.4,
          73.2,
          72.9,
          72.6,
          72.2,
          72.1,
          72.2,
          72,
          71.8,
          71.6,
          71.1
         ],
         "yaxis": "y"
        },
        {
         "hovertemplate": "Country=Burkina Faso<br>Adult Mortality=%{x}<br>Life expectancy =%{y}<extra></extra>",
         "legendgroup": "Burkina Faso",
         "marker": {
          "color": "#19d3f3",
          "symbol": "circle"
         },
         "mode": "markers",
         "name": "Burkina Faso",
         "showlegend": true,
         "type": "scattergl",
         "x": [
          26,
          268,
          27,
          271,
          275,
          279,
          283,
          288,
          293,
          32,
          313,
          323,
          332,
          338,
          344,
          348
         ],
         "xaxis": "x",
         "y": [
          59.9,
          59.3,
          59,
          58.6,
          58.1,
          57.5,
          56.9,
          56.1,
          55.3,
          54.3,
          53.3,
          52.4,
          51.6,
          51,
          56,
          51
         ],
         "yaxis": "y"
        },
        {
         "hovertemplate": "Country=Burundi<br>Adult Mortality=%{x}<br>Life expectancy =%{y}<extra></extra>",
         "legendgroup": "Burundi",
         "marker": {
          "color": "#FF6692",
          "symbol": "circle"
         },
         "mode": "markers",
         "name": "Burundi",
         "showlegend": true,
         "type": "scattergl",
         "x": [
          288,
          297,
          33,
          312,
          321,
          33,
          338,
          35,
          355,
          361,
          369,
          378,
          387,
          387,
          385,
          386
         ],
         "xaxis": "x",
         "y": [
          59.6,
          59.1,
          58.6,
          58,
          57.4,
          56.8,
          56.2,
          55.3,
          54.8,
          54.1,
          53.4,
          52.6,
          51.9,
          51.5,
          51.3,
          58
         ],
         "yaxis": "y"
        },
        {
         "hovertemplate": "Country=Côte d'Ivoire<br>Adult Mortality=%{x}<br>Life expectancy =%{y}<extra></extra>",
         "legendgroup": "Côte d'Ivoire",
         "marker": {
          "color": "#B6E880",
          "symbol": "circle"
         },
         "mode": "markers",
         "name": "Côte d'Ivoire",
         "showlegend": true,
         "type": "scattergl",
         "x": [
          397,
          47,
          412,
          415,
          419,
          417,
          426,
          437,
          443,
          452,
          466,
          472,
          473,
          473,
          467,
          461
         ],
         "xaxis": "x",
         "y": [
          53.3,
          52.8,
          52.3,
          52,
          51.7,
          51.5,
          51,
          54,
          49.9,
          49.4,
          48.7,
          48.2,
          48,
          47.7,
          47.8,
          47.9
         ],
         "yaxis": "y"
        },
        {
         "hovertemplate": "Country=Cabo Verde<br>Adult Mortality=%{x}<br>Life expectancy =%{y}<extra></extra>",
         "legendgroup": "Cabo Verde",
         "marker": {
          "color": "#FF97FF",
          "symbol": "circle"
         },
         "mode": "markers",
         "name": "Cabo Verde",
         "showlegend": true,
         "type": "scattergl",
         "x": [
          114,
          117,
          12,
          121,
          122,
          123,
          124,
          124,
          126,
          129,
          134,
          14,
          144,
          148,
          152,
          155
         ],
         "xaxis": "x",
         "y": [
          73.3,
          73,
          72.8,
          72.7,
          72.6,
          72.5,
          72.4,
          72.4,
          72.3,
          72.1,
          71.8,
          71.4,
          71.1,
          77,
          73,
          69.9
         ],
         "yaxis": "y"
        },
        {
         "hovertemplate": "Country=Cambodia<br>Adult Mortality=%{x}<br>Life expectancy =%{y}<extra></extra>",
         "legendgroup": "Cambodia",
         "marker": {
          "color": "#FECB52",
          "symbol": "circle"
         },
         "mode": "markers",
         "name": "Cambodia",
         "showlegend": true,
         "type": "scattergl",
         "x": [
          174,
          179,
          183,
          186,
          19,
          192,
          195,
          199,
          24,
          216,
          234,
          253,
          268,
          273,
          273,
          274
         ],
         "xaxis": "x",
         "y": [
          68.7,
          68.3,
          67.8,
          67.4,
          67,
          66.6,
          66.1,
          65.6,
          65,
          64.1,
          62.9,
          61.5,
          63,
          59.3,
          58.5,
          57.7
         ],
         "yaxis": "y"
        },
        {
         "hovertemplate": "Country=Cameroon<br>Adult Mortality=%{x}<br>Life expectancy =%{y}<extra></extra>",
         "legendgroup": "Cameroon",
         "marker": {
          "color": "#636efa",
          "symbol": "circle"
         },
         "mode": "markers",
         "name": "Cameroon",
         "showlegend": true,
         "type": "scattergl",
         "x": [
          357,
          366,
          364,
          369,
          371,
          37,
          373,
          382,
          395,
          394,
          4,
          412,
          412,
          47,
          41,
          394
         ],
         "xaxis": "x",
         "y": [
          57.3,
          56.7,
          56.4,
          55.9,
          55.6,
          55.3,
          54.8,
          54.2,
          53.6,
          53.3,
          52.8,
          52.1,
          51.8,
          51.6,
          51.5,
          51.4
         ],
         "yaxis": "y"
        },
        {
         "hovertemplate": "Country=Canada<br>Adult Mortality=%{x}<br>Life expectancy =%{y}<extra></extra>",
         "legendgroup": "Canada",
         "marker": {
          "color": "#EF553B",
          "symbol": "circle"
         },
         "mode": "markers",
         "name": "Canada",
         "showlegend": true,
         "type": "scattergl",
         "x": [
          64,
          65,
          67,
          68,
          68,
          7,
          72,
          74,
          74,
          75,
          76,
          77,
          78,
          79,
          8,
          82
         ],
         "xaxis": "x",
         "y": [
          82.2,
          82,
          81.8,
          81.6,
          81.5,
          81.2,
          81,
          87,
          85,
          85,
          81,
          80,
          79.7,
          79.5,
          79.4,
          79.1
         ],
         "yaxis": "y"
        },
        {
         "hovertemplate": "Country=Central African Republic<br>Adult Mortality=%{x}<br>Life expectancy =%{y}<extra></extra>",
         "legendgroup": "Central African Republic",
         "marker": {
          "color": "#00cc96",
          "symbol": "circle"
         },
         "mode": "markers",
         "name": "Central African Republic",
         "showlegend": true,
         "type": "scattergl",
         "x": [
          397,
          437,
          451,
          439,
          443,
          446,
          453,
          477,
          495,
          56,
          511,
          512,
          51,
          58,
          54,
          49
         ],
         "xaxis": "x",
         "y": [
          52.5,
          58,
          49.9,
          53,
          49.8,
          49.2,
          48.6,
          47.6,
          46.8,
          46.3,
          45.9,
          45.7,
          45.7,
          45.6,
          45.6,
          46
         ],
         "yaxis": "y"
        },
        {
         "hovertemplate": "Country=Chad<br>Adult Mortality=%{x}<br>Life expectancy =%{y}<extra></extra>",
         "legendgroup": "Chad",
         "marker": {
          "color": "#ab63fa",
          "symbol": "circle"
         },
         "mode": "markers",
         "name": "Chad",
         "showlegend": true,
         "type": "scattergl",
         "x": [
          356,
          362,
          366,
          367,
          365,
          364,
          37,
          394,
          394,
          414,
          46,
          45,
          43,
          43,
          4,
          44
         ],
         "xaxis": "x",
         "y": [
          53.1,
          52.6,
          52.2,
          51.8,
          51.6,
          51.2,
          57,
          49.6,
          49.4,
          48.5,
          48.6,
          48.5,
          48.4,
          48.1,
          48,
          47.6
         ],
         "yaxis": "y"
        },
        {
         "hovertemplate": "Country=Chile<br>Adult Mortality=%{x}<br>Life expectancy =%{y}<extra></extra>",
         "legendgroup": "Chile",
         "marker": {
          "color": "#FFA15A",
          "symbol": "circle"
         },
         "mode": "markers",
         "name": "Chile",
         "showlegend": true,
         "type": "scattergl",
         "x": [
          82,
          83,
          84,
          84,
          86,
          89,
          91,
          88,
          9,
          91,
          93,
          97,
          1,
          11,
          16,
          13
         ],
         "xaxis": "x",
         "y": [
          85,
          83,
          81,
          79.9,
          79.8,
          79.1,
          79.3,
          79.6,
          78.9,
          78.9,
          78.4,
          78,
          77.9,
          77.8,
          77.3,
          77.3
         ],
         "yaxis": "y"
        },
        {
         "hovertemplate": "Country=China<br>Adult Mortality=%{x}<br>Life expectancy =%{y}<extra></extra>",
         "legendgroup": "China",
         "marker": {
          "color": "#19d3f3",
          "symbol": "circle"
         },
         "mode": "markers",
         "name": "China",
         "showlegend": true,
         "type": "scattergl",
         "x": [
          85,
          86,
          88,
          89,
          91,
          92,
          93,
          97,
          96,
          98,
          99,
          11,
          13,
          16,
          11,
          115
         ],
         "xaxis": "x",
         "y": [
          76.1,
          75.8,
          75.6,
          75.4,
          75.2,
          75,
          74.9,
          74.5,
          74.4,
          74.2,
          73.9,
          73.5,
          73.1,
          72.7,
          72.2,
          71.7
         ],
         "yaxis": "y"
        },
        {
         "hovertemplate": "Country=Colombia<br>Adult Mortality=%{x}<br>Life expectancy =%{y}<extra></extra>",
         "legendgroup": "Colombia",
         "marker": {
          "color": "#FF6692",
          "symbol": "circle"
         },
         "mode": "markers",
         "name": "Colombia",
         "showlegend": true,
         "type": "scattergl",
         "x": [
          143,
          144,
          145,
          143,
          144,
          15,
          15,
          146,
          144,
          147,
          144,
          148,
          15,
          163,
          165,
          167
         ],
         "xaxis": "x",
         "y": [
          74.8,
          74.6,
          74.4,
          74.3,
          74.2,
          73.6,
          73.6,
          73.5,
          73.5,
          73.1,
          73.1,
          72.8,
          72.4,
          71.8,
          71.5,
          71.4
         ],
         "yaxis": "y"
        },
        {
         "hovertemplate": "Country=Comoros<br>Adult Mortality=%{x}<br>Life expectancy =%{y}<extra></extra>",
         "legendgroup": "Comoros",
         "marker": {
          "color": "#B6E880",
          "symbol": "circle"
         },
         "mode": "markers",
         "name": "Comoros",
         "showlegend": true,
         "type": "scattergl",
         "x": [
          227,
          23,
          233,
          237,
          241,
          246,
          251,
          255,
          259,
          262,
          266,
          269,
          271,
          271,
          272,
          272
         ],
         "xaxis": "x",
         "y": [
          63.5,
          63.2,
          62.9,
          62.5,
          62.2,
          61.8,
          61.3,
          61,
          66,
          63,
          60,
          59.8,
          59.6,
          59.5,
          59.5,
          59.5
         ],
         "yaxis": "y"
        },
        {
         "hovertemplate": "Country=Congo<br>Adult Mortality=%{x}<br>Life expectancy =%{y}<extra></extra>",
         "legendgroup": "Congo",
         "marker": {
          "color": "#FF97FF",
          "symbol": "circle"
         },
         "mode": "markers",
         "name": "Congo",
         "showlegend": true,
         "type": "scattergl",
         "x": [
          267,
          275,
          274,
          273,
          285,
          298,
          314,
          338,
          354,
          368,
          394,
          48,
          417,
          424,
          419,
          416
         ],
         "xaxis": "x",
         "y": [
          64.7,
          64.2,
          63.9,
          63.7,
          62.9,
          62,
          68,
          59.4,
          58.2,
          56.9,
          55.3,
          54.1,
          53.2,
          52.6,
          52.7,
          52.9
         ],
         "yaxis": "y"
        },
        {
         "hovertemplate": "Country=Costa Rica<br>Adult Mortality=%{x}<br>Life expectancy =%{y}<extra></extra>",
         "legendgroup": "Costa Rica",
         "marker": {
          "color": "#FECB52",
          "symbol": "circle"
         },
         "mode": "markers",
         "name": "Costa Rica",
         "showlegend": true,
         "type": "scattergl",
         "x": [
          95,
          96,
          96,
          97,
          98,
          16,
          96,
          99,
          93,
          16,
          97,
          12,
          1,
          99,
          1,
          98
         ],
         "xaxis": "x",
         "y": [
          79.6,
          79.5,
          79.4,
          79.2,
          79,
          78.1,
          79.2,
          78.9,
          78.9,
          78,
          78.6,
          77.7,
          78,
          78.3,
          77.5,
          77.6
         ],
         "yaxis": "y"
        },
        {
         "hovertemplate": "Country=Croatia<br>Adult Mortality=%{x}<br>Life expectancy =%{y}<extra></extra>",
         "legendgroup": "Croatia",
         "marker": {
          "color": "#636efa",
          "symbol": "circle"
         },
         "mode": "markers",
         "name": "Croatia",
         "showlegend": true,
         "type": "scattergl",
         "x": [
          95,
          97,
          97,
          14,
          14,
          16,
          19,
          116,
          114,
          113,
          116,
          114,
          122,
          124,
          126,
          127
         ],
         "xaxis": "x",
         "y": [
          78,
          77.8,
          77.7,
          77.1,
          77,
          76.6,
          76.3,
          76,
          75.8,
          75.9,
          75.2,
          75.4,
          74.7,
          74.8,
          74.9,
          74.7
         ],
         "yaxis": "y"
        },
        {
         "hovertemplate": "Country=Cuba<br>Adult Mortality=%{x}<br>Life expectancy =%{y}<extra></extra>",
         "legendgroup": "Cuba",
         "marker": {
          "color": "#EF553B",
          "symbol": "circle"
         },
         "mode": "markers",
         "name": "Cuba",
         "showlegend": true,
         "type": "scattergl",
         "x": [
          92,
          93,
          96,
          96,
          92,
          98,
          11,
          12,
          14,
          14,
          19,
          17,
          18,
          19,
          115,
          115
         ],
         "xaxis": "x",
         "y": [
          79.1,
          79,
          78.7,
          78.7,
          78.8,
          78,
          78.1,
          77.9,
          78.1,
          78,
          77.2,
          77.3,
          77.4,
          77.7,
          76.7,
          76.9
         ],
         "yaxis": "y"
        },
        {
         "hovertemplate": "Country=Cyprus<br>Adult Mortality=%{x}<br>Life expectancy =%{y}<extra></extra>",
         "legendgroup": "Cyprus",
         "marker": {
          "color": "#00cc96",
          "symbol": "circle"
         },
         "mode": "markers",
         "name": "Cyprus",
         "showlegend": true,
         "type": "scattergl",
         "x": [
          52,
          53,
          54,
          56,
          57,
          59,
          6,
          62,
          63,
          64,
          65,
          65,
          66,
          68,
          69,
          7
         ],
         "xaxis": "x",
         "y": [
          85,
          83,
          81,
          80,
          79.7,
          79.5,
          79.3,
          79.1,
          78.9,
          78.8,
          78.7,
          78.6,
          78.5,
          78.4,
          78.2,
          78.1
         ],
         "yaxis": "y"
        },
        {
         "hovertemplate": "Country=Czechia<br>Adult Mortality=%{x}<br>Life expectancy =%{y}<extra></extra>",
         "legendgroup": "Czechia",
         "marker": {
          "color": "#ab63fa",
          "symbol": "circle"
         },
         "mode": "markers",
         "name": "Czechia",
         "showlegend": true,
         "type": "scattergl",
         "x": [
          86,
          88,
          9,
          93,
          97,
          99,
          12,
          16,
          17,
          19,
          114,
          116,
          122,
          12,
          123,
          126
         ],
         "xaxis": "x",
         "y": [
          78.8,
          78.6,
          78.2,
          78,
          77.8,
          77.5,
          77.1,
          77,
          76.8,
          76.5,
          75.9,
          75.8,
          75.2,
          75.3,
          75.1,
          74.7
         ],
         "yaxis": "y"
        },
        {
         "hovertemplate": "Country=Democratic People's Republic of Korea<br>Adult Mortality=%{x}<br>Life expectancy =%{y}<extra></extra>",
         "legendgroup": "Democratic People's Republic of Korea",
         "marker": {
          "color": "#FFA15A",
          "symbol": "circle"
         },
         "mode": "markers",
         "name": "Democratic People's Republic of Korea",
         "showlegend": true,
         "type": "scattergl",
         "x": [
          139,
          142,
          146,
          149,
          153,
          157,
          161,
          164,
          166,
          165,
          165,
          165,
          165,
          167,
          177,
          192
         ],
         "xaxis": "x",
         "y": [
          76,
          73,
          71,
          69.8,
          69.4,
          69,
          68.7,
          68.6,
          68.5,
          68.5,
          68.5,
          68.4,
          68.1,
          67.6,
          66.6,
          65.4
         ],
         "yaxis": "y"
        },
        {
         "hovertemplate": "Country=Democratic Republic of the Congo<br>Adult Mortality=%{x}<br>Life expectancy =%{y}<extra></extra>",
         "legendgroup": "Democratic Republic of the Congo",
         "marker": {
          "color": "#19d3f3",
          "symbol": "circle"
         },
         "mode": "markers",
         "name": "Democratic Republic of the Congo",
         "showlegend": true,
         "type": "scattergl",
         "x": [
          258,
          266,
          272,
          277,
          278,
          283,
          292,
          295,
          299,
          36,
          314,
          323,
          332,
          341,
          34,
          346
         ],
         "xaxis": "x",
         "y": [
          59.8,
          59.3,
          58.8,
          58.3,
          57.9,
          57.4,
          56.7,
          56.3,
          55.7,
          55,
          54.3,
          53.5,
          52.8,
          52.1,
          51.8,
          51.3
         ],
         "yaxis": "y"
        },
        {
         "hovertemplate": "Country=Denmark<br>Adult Mortality=%{x}<br>Life expectancy =%{y}<extra></extra>",
         "legendgroup": "Denmark",
         "marker": {
          "color": "#FF6692",
          "symbol": "circle"
         },
         "mode": "markers",
         "name": "Denmark",
         "showlegend": true,
         "type": "scattergl",
         "x": [
          71,
          73,
          75,
          76,
          79,
          84,
          86,
          88,
          93,
          93,
          92,
          98,
          11,
          14,
          12,
          12
         ],
         "xaxis": "x",
         "y": [
          86,
          84,
          81,
          80,
          79.7,
          79.2,
          78.9,
          78.8,
          78.4,
          78.1,
          78.1,
          77.7,
          77.3,
          77,
          77,
          76.9
         ],
         "yaxis": "y"
        },
        {
         "hovertemplate": "Country=Djibouti<br>Adult Mortality=%{x}<br>Life expectancy =%{y}<extra></extra>",
         "legendgroup": "Djibouti",
         "marker": {
          "color": "#B6E880",
          "symbol": "circle"
         },
         "mode": "markers",
         "name": "Djibouti",
         "showlegend": true,
         "type": "scattergl",
         "x": [
          241,
          252,
          256,
          263,
          268,
          273,
          279,
          289,
          296,
          39,
          318,
          326,
          325,
          322,
          323,
          325
         ],
         "xaxis": "x",
         "y": [
          63.5,
          63,
          62.7,
          62.2,
          61.8,
          61.3,
          69,
          62,
          59.8,
          59.1,
          58.6,
          58.1,
          58,
          57.9,
          57.7,
          57.4
         ],
         "yaxis": "y"
        },
        {
         "hovertemplate": "Country=Dominican Republic<br>Adult Mortality=%{x}<br>Life expectancy =%{y}<extra></extra>",
         "legendgroup": "Dominican Republic",
         "marker": {
          "color": "#FF97FF",
          "symbol": "circle"
         },
         "mode": "markers",
         "name": "Dominican Republic",
         "showlegend": true,
         "type": "scattergl",
         "x": [
          152,
          154,
          157,
          174,
          16,
          166,
          157,
          161,
          164,
          178,
          28,
          214,
          22,
          189,
          188,
          176
         ],
         "xaxis": "x",
         "y": [
          73.9,
          73.6,
          73.4,
          72.1,
          73.1,
          72.7,
          73.6,
          73.3,
          72.9,
          72.3,
          69.7,
          69.3,
          73,
          71.4,
          71.2,
          72
         ],
         "yaxis": "y"
        },
        {
         "hovertemplate": "Country=Ecuador<br>Adult Mortality=%{x}<br>Life expectancy =%{y}<extra></extra>",
         "legendgroup": "Ecuador",
         "marker": {
          "color": "#FECB52",
          "symbol": "circle"
         },
         "mode": "markers",
         "name": "Ecuador",
         "showlegend": true,
         "type": "scattergl",
         "x": [
          118,
          121,
          121,
          127,
          131,
          134,
          137,
          139,
          14,
          144,
          151,
          148,
          151,
          157,
          158,
          163
         ],
         "xaxis": "x",
         "y": [
          76.2,
          76,
          76,
          75.5,
          75.3,
          75,
          75.1,
          74.6,
          74.7,
          74.4,
          74.2,
          74.4,
          74.4,
          73.6,
          73.4,
          72.8
         ],
         "yaxis": "y"
        },
        {
         "hovertemplate": "Country=Egypt<br>Adult Mortality=%{x}<br>Life expectancy =%{y}<extra></extra>",
         "legendgroup": "Egypt",
         "marker": {
          "color": "#636efa",
          "symbol": "circle"
         },
         "mode": "markers",
         "name": "Egypt",
         "showlegend": true,
         "type": "scattergl",
         "x": [
          159,
          161,
          159,
          165,
          168,
          173,
          174,
          172,
          171,
          175,
          174,
          176,
          178,
          177,
          177,
          171
         ],
         "xaxis": "x",
         "y": [
          79,
          78,
          79,
          72,
          74,
          70,
          69.9,
          69.8,
          69.7,
          69.5,
          69.4,
          69,
          68.6,
          68.7,
          68.6,
          68.8
         ],
         "yaxis": "y"
        },
        {
         "hovertemplate": "Country=El Salvador<br>Adult Mortality=%{x}<br>Life expectancy =%{y}<extra></extra>",
         "legendgroup": "El Salvador",
         "marker": {
          "color": "#EF553B",
          "symbol": "circle"
         },
         "mode": "markers",
         "name": "El Salvador",
         "showlegend": true,
         "type": "scattergl",
         "x": [
          178,
          181,
          184,
          181,
          197,
          191,
          23,
          194,
          23,
          211,
          213,
          215,
          29,
          24,
          219,
          218
         ],
         "xaxis": "x",
         "y": [
          73.5,
          73.3,
          73,
          73,
          72,
          72,
          71.4,
          71.7,
          71.2,
          75,
          71,
          70,
          69.9,
          73,
          68.9,
          69
         ],
         "yaxis": "y"
        },
        {
         "hovertemplate": "Country=Equatorial Guinea<br>Adult Mortality=%{x}<br>Life expectancy =%{y}<extra></extra>",
         "legendgroup": "Equatorial Guinea",
         "marker": {
          "color": "#00cc96",
          "symbol": "circle"
         },
         "mode": "markers",
         "name": "Equatorial Guinea",
         "showlegend": true,
         "type": "scattergl",
         "x": [
          32,
          32,
          327,
          337,
          344,
          339,
          34,
          338,
          339,
          337,
          337,
          336,
          334,
          334,
          334,
          336
         ],
         "xaxis": "x",
         "y": [
          58.2,
          57.9,
          57.4,
          56.7,
          56.2,
          56.1,
          55.7,
          55.4,
          55,
          54.8,
          54.4,
          54.1,
          53.8,
          53.5,
          53.1,
          52.7
         ],
         "yaxis": "y"
        },
        {
         "hovertemplate": "Country=Eritrea<br>Adult Mortality=%{x}<br>Life expectancy =%{y}<extra></extra>",
         "legendgroup": "Eritrea",
         "marker": {
          "color": "#ab63fa",
          "symbol": "circle"
         },
         "mode": "markers",
         "name": "Eritrea",
         "showlegend": true,
         "type": "scattergl",
         "x": [
          255,
          261,
          266,
          274,
          286,
          298,
          311,
          322,
          329,
          336,
          34,
          342,
          343,
          343,
          345,
          593
         ],
         "xaxis": "x",
         "y": [
          64.7,
          64.4,
          64,
          63.6,
          62.9,
          62.1,
          61.4,
          67,
          62,
          59.7,
          59.4,
          59.1,
          58.8,
          58.5,
          58.1,
          45.3
         ],
         "yaxis": "y"
        },
        {
         "hovertemplate": "Country=Estonia<br>Adult Mortality=%{x}<br>Life expectancy =%{y}<extra></extra>",
         "legendgroup": "Estonia",
         "marker": {
          "color": "#FFA15A",
          "symbol": "circle"
         },
         "mode": "markers",
         "name": "Estonia",
         "showlegend": true,
         "type": "scattergl",
         "x": [
          119,
          122,
          127,
          135,
          138,
          137,
          156,
          167,
          189,
          188,
          189,
          195,
          199,
          211,
          225,
          218
         ],
         "xaxis": "x",
         "y": [
          77.6,
          77.3,
          76.9,
          76.3,
          76.1,
          75.6,
          74.9,
          74.2,
          73,
          73,
          72.8,
          72.3,
          71.9,
          71.2,
          78,
          78
         ],
         "yaxis": "y"
        },
        {
         "hovertemplate": "Country=Ethiopia<br>Adult Mortality=%{x}<br>Life expectancy =%{y}<extra></extra>",
         "legendgroup": "Ethiopia",
         "marker": {
          "color": "#19d3f3",
          "symbol": "circle"
         },
         "mode": "markers",
         "name": "Ethiopia",
         "showlegend": true,
         "type": "scattergl",
         "x": [
          225,
          234,
          237,
          241,
          249,
          261,
          274,
          289,
          39,
          328,
          343,
          354,
          363,
          369,
          372,
          391
         ],
         "xaxis": "x",
         "y": [
          64.8,
          64.2,
          63.7,
          63.3,
          62.6,
          61.8,
          68,
          59.8,
          58.5,
          57.2,
          56,
          55,
          54,
          53.2,
          52.5,
          51.2
         ],
         "yaxis": "y"
        },
        {
         "hovertemplate": "Country=Fiji<br>Adult Mortality=%{x}<br>Life expectancy =%{y}<extra></extra>",
         "legendgroup": "Fiji",
         "marker": {
          "color": "#FF6692",
          "symbol": "circle"
         },
         "mode": "markers",
         "name": "Fiji",
         "showlegend": true,
         "type": "scattergl",
         "x": [
          188,
          19,
          192,
          195,
          197,
          2,
          23,
          26,
          29,
          211,
          214,
          218,
          22,
          22,
          221,
          221
         ],
         "xaxis": "x",
         "y": [
          69.9,
          69.7,
          69.6,
          69.4,
          69.2,
          69.1,
          68.9,
          68.7,
          68.6,
          68.5,
          68.3,
          68.1,
          68,
          67.9,
          67.8,
          67.7
         ],
         "yaxis": "y"
        },
        {
         "hovertemplate": "Country=Finland<br>Adult Mortality=%{x}<br>Life expectancy =%{y}<extra></extra>",
         "legendgroup": "Finland",
         "marker": {
          "color": "#B6E880",
          "symbol": "circle"
         },
         "mode": "markers",
         "name": "Finland",
         "showlegend": true,
         "type": "scattergl",
         "x": [
          76,
          78,
          79,
          82,
          86,
          89,
          91,
          94,
          96,
          96,
          11,
          12,
          98,
          98,
          1,
          15
         ],
         "xaxis": "x",
         "y": [
          81.1,
          89,
          87,
          84,
          83,
          79.9,
          79.7,
          79.6,
          79.3,
          79.2,
          78.9,
          78.7,
          78.4,
          78.1,
          78,
          77.5
         ],
         "yaxis": "y"
        },
        {
         "hovertemplate": "Country=France<br>Adult Mortality=%{x}<br>Life expectancy =%{y}<extra></extra>",
         "legendgroup": "France",
         "marker": {
          "color": "#FF97FF",
          "symbol": "circle"
         },
         "mode": "markers",
         "name": "France",
         "showlegend": true,
         "type": "scattergl",
         "x": [
          78,
          79,
          81,
          83,
          83,
          86,
          88,
          88,
          89,
          92,
          93,
          94,
          99,
          11,
          13,
          13
         ],
         "xaxis": "x",
         "y": [
          82.4,
          82.2,
          82,
          81.5,
          81.7,
          81.3,
          81.1,
          89,
          89,
          86,
          81,
          82,
          79.3,
          79.2,
          79,
          78.8
         ],
         "yaxis": "y"
        },
        {
         "hovertemplate": "Country=Gabon<br>Adult Mortality=%{x}<br>Life expectancy =%{y}<extra></extra>",
         "legendgroup": "Gabon",
         "marker": {
          "color": "#FECB52",
          "symbol": "circle"
         },
         "mode": "markers",
         "name": "Gabon",
         "showlegend": true,
         "type": "scattergl",
         "x": [
          229,
          237,
          255,
          276,
          289,
          294,
          31,
          298,
          291,
          288,
          37,
          322,
          32,
          315,
          37,
          296
         ],
         "xaxis": "x",
         "y": [
          66,
          65.5,
          64.6,
          63.5,
          62.8,
          62.3,
          61.7,
          61.6,
          61.6,
          61.4,
          65,
          59.7,
          59.7,
          59.7,
          59.8,
          61
         ],
         "yaxis": "y"
        },
        {
         "hovertemplate": "Country=Gambia<br>Adult Mortality=%{x}<br>Life expectancy =%{y}<extra></extra>",
         "legendgroup": "Gambia",
         "marker": {
          "color": "#636efa",
          "symbol": "circle"
         },
         "mode": "markers",
         "name": "Gambia",
         "showlegend": true,
         "type": "scattergl",
         "x": [
          262,
          266,
          266,
          269,
          277,
          284,
          286,
          287,
          288,
          288,
          294,
          296,
          297,
          298,
          3,
          33
         ],
         "xaxis": "x",
         "y": [
          61.1,
          68,
          66,
          62,
          59.8,
          59.3,
          59,
          58.7,
          58.5,
          58.2,
          57.7,
          57.3,
          57,
          56.6,
          56.3,
          55.9
         ],
         "yaxis": "y"
        },
        {
         "hovertemplate": "Country=Georgia<br>Adult Mortality=%{x}<br>Life expectancy =%{y}<extra></extra>",
         "legendgroup": "Georgia",
         "marker": {
          "color": "#EF553B",
          "symbol": "circle"
         },
         "mode": "markers",
         "name": "Georgia",
         "showlegend": true,
         "type": "scattergl",
         "x": [
          129,
          125,
          128,
          13,
          127,
          132,
          133,
          128,
          12,
          126,
          128,
          134,
          132,
          142,
          121,
          129
         ],
         "xaxis": "x",
         "y": [
          74.4,
          74.5,
          74.5,
          74.2,
          73.9,
          73.8,
          73.2,
          73.9,
          74.4,
          73.9,
          73.9,
          72.3,
          72.7,
          71.7,
          73,
          71.8
         ],
         "yaxis": "y"
        },
        {
         "hovertemplate": "Country=Germany<br>Adult Mortality=%{x}<br>Life expectancy =%{y}<extra></extra>",
         "legendgroup": "Germany",
         "marker": {
          "color": "#00cc96",
          "symbol": "circle"
         },
         "mode": "markers",
         "name": "Germany",
         "showlegend": true,
         "type": "scattergl",
         "x": [
          68,
          69,
          71,
          71,
          74,
          76,
          79,
          8,
          82,
          84,
          85,
          86,
          9,
          91,
          92,
          95
         ],
         "xaxis": "x",
         "y": [
          81,
          89,
          86,
          86,
          85,
          81,
          80,
          79.9,
          79.8,
          79.6,
          79.2,
          79.1,
          78.5,
          78.4,
          78.3,
          78
         ],
         "yaxis": "y"
        },
        {
         "hovertemplate": "Country=Ghana<br>Adult Mortality=%{x}<br>Life expectancy =%{y}<extra></extra>",
         "legendgroup": "Ghana",
         "marker": {
          "color": "#ab63fa",
          "symbol": "circle"
         },
         "mode": "markers",
         "name": "Ghana",
         "showlegend": true,
         "type": "scattergl",
         "x": [
          249,
          253,
          254,
          257,
          263,
          267,
          271,
          275,
          28,
          288,
          296,
          34,
          38,
          31,
          39,
          38
         ],
         "xaxis": "x",
         "y": [
          62.4,
          62.1,
          61.9,
          61.6,
          61.2,
          69,
          66,
          63,
          59.9,
          59.4,
          58.9,
          58.3,
          57.9,
          57.6,
          57.4,
          57.2
         ],
         "yaxis": "y"
        },
        {
         "hovertemplate": "Country=Greece<br>Adult Mortality=%{x}<br>Life expectancy =%{y}<extra></extra>",
         "legendgroup": "Greece",
         "marker": {
          "color": "#FFA15A",
          "symbol": "circle"
         },
         "mode": "markers",
         "name": "Greece",
         "showlegend": true,
         "type": "scattergl",
         "x": [
          72,
          73,
          74,
          76,
          76,
          76,
          78,
          77,
          8,
          77,
          81,
          81,
          81,
          81,
          83,
          84
         ],
         "xaxis": "x",
         "y": [
          81,
          88,
          86,
          84,
          85,
          83,
          80,
          79.9,
          79.4,
          79.7,
          79.3,
          79.2,
          79.1,
          79,
          78.7,
          78.2
         ],
         "yaxis": "y"
        },
        {
         "hovertemplate": "Country=Grenada<br>Adult Mortality=%{x}<br>Life expectancy =%{y}<extra></extra>",
         "legendgroup": "Grenada",
         "marker": {
          "color": "#19d3f3",
          "symbol": "circle"
         },
         "mode": "markers",
         "name": "Grenada",
         "showlegend": true,
         "type": "scattergl",
         "x": [
          142,
          143,
          144,
          146,
          15,
          154,
          158,
          162,
          164,
          167,
          169,
          187,
          173,
          176,
          178,
          182
         ],
         "xaxis": "x",
         "y": [
          73.6,
          73.5,
          73.3,
          73.1,
          72.9,
          72.6,
          72.4,
          72.1,
          71.9,
          71.7,
          71.5,
          73,
          71.1,
          79,
          77,
          74
         ],
         "yaxis": "y"
        },
        {
         "hovertemplate": "Country=Guatemala<br>Adult Mortality=%{x}<br>Life expectancy =%{y}<extra></extra>",
         "legendgroup": "Guatemala",
         "marker": {
          "color": "#FF6692",
          "symbol": "circle"
         },
         "mode": "markers",
         "name": "Guatemala",
         "showlegend": true,
         "type": "scattergl",
         "x": [
          186,
          187,
          189,
          189,
          193,
          196,
          198,
          19,
          192,
          24,
          28,
          21,
          24,
          21,
          211,
          221
         ],
         "xaxis": "x",
         "y": [
          71.9,
          71.7,
          71.4,
          71.3,
          71.1,
          77,
          76,
          79,
          75,
          69.7,
          69.2,
          69.6,
          69.4,
          69.3,
          68.4,
          67.7
         ],
         "yaxis": "y"
        },
        {
         "hovertemplate": "Country=Guinea<br>Adult Mortality=%{x}<br>Life expectancy =%{y}<extra></extra>",
         "legendgroup": "Guinea",
         "marker": {
          "color": "#B6E880",
          "symbol": "circle"
         },
         "mode": "markers",
         "name": "Guinea",
         "showlegend": true,
         "type": "scattergl",
         "x": [
          284,
          299,
          284,
          288,
          29,
          291,
          297,
          33,
          36,
          317,
          327,
          334,
          338,
          337,
          336,
          328
         ],
         "xaxis": "x",
         "y": [
          59,
          58.1,
          58.8,
          58.4,
          58.1,
          57.8,
          57.3,
          56.8,
          56.4,
          55.6,
          54.7,
          54,
          53.3,
          52.9,
          52.5,
          52.5
         ],
         "yaxis": "y"
        },
        {
         "hovertemplate": "Country=Guinea-Bissau<br>Adult Mortality=%{x}<br>Life expectancy =%{y}<extra></extra>",
         "legendgroup": "Guinea-Bissau",
         "marker": {
          "color": "#FF97FF",
          "symbol": "circle"
         },
         "mode": "markers",
         "name": "Guinea-Bissau",
         "showlegend": true,
         "type": "scattergl",
         "x": [
          275,
          282,
          279,
          285,
          289,
          287,
          288,
          297,
          32,
          36,
          37,
          38,
          38,
          35,
          32,
          3
         ],
         "xaxis": "x",
         "y": [
          58.9,
          58.4,
          58.1,
          57.6,
          57.1,
          56.7,
          56.3,
          55.6,
          55,
          54.4,
          53.9,
          53.5,
          53,
          52.8,
          52.5,
          52.1
         ],
         "yaxis": "y"
        },
        {
         "hovertemplate": "Country=Guyana<br>Adult Mortality=%{x}<br>Life expectancy =%{y}<extra></extra>",
         "legendgroup": "Guyana",
         "marker": {
          "color": "#FECB52",
          "symbol": "circle"
         },
         "mode": "markers",
         "name": "Guyana",
         "showlegend": true,
         "type": "scattergl",
         "x": [
          215,
          217,
          218,
          22,
          229,
          221,
          218,
          218,
          232,
          24,
          238,
          237,
          237,
          244,
          247,
          246
         ],
         "xaxis": "x",
         "y": [
          66.2,
          66,
          65.9,
          65.8,
          65.6,
          65.9,
          66.1,
          66.3,
          65.7,
          65.2,
          65,
          65.1,
          65.3,
          65.3,
          65.4,
          65.4
         ],
         "yaxis": "y"
        },
        {
         "hovertemplate": "Country=Haiti<br>Adult Mortality=%{x}<br>Life expectancy =%{y}<extra></extra>",
         "legendgroup": "Haiti",
         "marker": {
          "color": "#636efa",
          "symbol": "circle"
         },
         "mode": "markers",
         "name": "Haiti",
         "showlegend": true,
         "type": "scattergl",
         "x": [
          24,
          245,
          253,
          259,
          259,
          682,
          251,
          259,
          266,
          28,
          29,
          32,
          3,
          33,
          35,
          35
         ],
         "xaxis": "x",
         "y": [
          63.5,
          63.1,
          62.7,
          62.3,
          62.3,
          36.3,
          62.5,
          62.1,
          61.8,
          61.1,
          65,
          58.7,
          59.7,
          59.3,
          58.9,
          58.6
         ],
         "yaxis": "y"
        },
        {
         "hovertemplate": "Country=Honduras<br>Adult Mortality=%{x}<br>Life expectancy =%{y}<extra></extra>",
         "legendgroup": "Honduras",
         "marker": {
          "color": "#EF553B",
          "symbol": "circle"
         },
         "mode": "markers",
         "name": "Honduras",
         "showlegend": true,
         "type": "scattergl",
         "x": [
          147,
          149,
          15,
          151,
          153,
          156,
          157,
          159,
          16,
          161,
          163,
          165,
          166,
          169,
          171,
          174
         ],
         "xaxis": "x",
         "y": [
          74.6,
          74.5,
          74.3,
          74.1,
          73.9,
          73.6,
          73.4,
          73.2,
          73,
          72.8,
          72.5,
          72.2,
          71.9,
          71.6,
          71.3,
          71
         ],
         "yaxis": "y"
        },
        {
         "hovertemplate": "Country=Hungary<br>Adult Mortality=%{x}<br>Life expectancy =%{y}<extra></extra>",
         "legendgroup": "Hungary",
         "marker": {
          "color": "#00cc96",
          "symbol": "circle"
         },
         "mode": "markers",
         "name": "Hungary",
         "showlegend": true,
         "type": "scattergl",
         "x": [
          134,
          137,
          139,
          146,
          15,
          156,
          162,
          165,
          176,
          177,
          182,
          18,
          184,
          184,
          185,
          193
         ],
         "xaxis": "x",
         "y": [
          75.8,
          75.6,
          75.5,
          75,
          74.8,
          74.5,
          74.2,
          74.1,
          73.5,
          73.4,
          72.9,
          72.9,
          72.5,
          72.5,
          72.3,
          71.7
         ],
         "yaxis": "y"
        },
        {
         "hovertemplate": "Country=Iceland<br>Adult Mortality=%{x}<br>Life expectancy =%{y}<extra></extra>",
         "legendgroup": "Iceland",
         "marker": {
          "color": "#ab63fa",
          "symbol": "circle"
         },
         "mode": "markers",
         "name": "Iceland",
         "showlegend": true,
         "type": "scattergl",
         "x": [
          49,
          49,
          5,
          5,
          51,
          53,
          55,
          58,
          59,
          61,
          62,
          65,
          65,
          7,
          72,
          74
         ],
         "xaxis": "x",
         "y": [
          82.7,
          82.5,
          82.4,
          82.5,
          82.1,
          81.8,
          81.6,
          81.4,
          81.3,
          81.1,
          81,
          88,
          87,
          84,
          80,
          79.7
         ],
         "yaxis": "y"
        },
        {
         "hovertemplate": "Country=India<br>Adult Mortality=%{x}<br>Life expectancy =%{y}<extra></extra>",
         "legendgroup": "India",
         "marker": {
          "color": "#FFA15A",
          "symbol": "circle"
         },
         "mode": "markers",
         "name": "India",
         "showlegend": true,
         "type": "scattergl",
         "x": [
          181,
          184,
          187,
          19,
          193,
          196,
          2,
          23,
          26,
          28,
          211,
          214,
          216,
          219,
          222,
          224
         ],
         "xaxis": "x",
         "y": [
          68.3,
          68,
          67.6,
          67.3,
          66.8,
          66.4,
          66,
          65.5,
          65.2,
          64.8,
          64.4,
          64,
          63.7,
          63.3,
          62.9,
          62.5
         ],
         "yaxis": "y"
        },
        {
         "hovertemplate": "Country=Indonesia<br>Adult Mortality=%{x}<br>Life expectancy =%{y}<extra></extra>",
         "legendgroup": "Indonesia",
         "marker": {
          "color": "#19d3f3",
          "symbol": "circle"
         },
         "mode": "markers",
         "name": "Indonesia",
         "showlegend": true,
         "type": "scattergl",
         "x": [
          176,
          179,
          181,
          183,
          185,
          187,
          189,
          189,
          19,
          191,
          19,
          213,
          189,
          189,
          188,
          188
         ],
         "xaxis": "x",
         "y": [
          69.1,
          68.9,
          68.7,
          68.5,
          68.3,
          68.1,
          67.9,
          67.7,
          67.5,
          67.3,
          67.2,
          65.3,
          66.9,
          66.7,
          66.5,
          66.3
         ],
         "yaxis": "y"
        },
        {
         "hovertemplate": "Country=Iran (Islamic Republic of)<br>Adult Mortality=%{x}<br>Life expectancy =%{y}<extra></extra>",
         "legendgroup": "Iran (Islamic Republic of)",
         "marker": {
          "color": "#FF6692",
          "symbol": "circle"
         },
         "mode": "markers",
         "name": "Iran (Islamic Republic of)",
         "showlegend": true,
         "type": "scattergl",
         "x": [
          83,
          83,
          83,
          85,
          93,
          16,
          122,
          135,
          138,
          139,
          139,
          139,
          154,
          142,
          146,
          15
         ],
         "xaxis": "x",
         "y": [
          75.5,
          75.4,
          75.3,
          75.1,
          74.7,
          74.1,
          73.3,
          72.7,
          72.4,
          72.2,
          72,
          71.8,
          75,
          71.2,
          78,
          73
         ],
         "yaxis": "y"
        },
        {
         "hovertemplate": "Country=Iraq<br>Adult Mortality=%{x}<br>Life expectancy =%{y}<extra></extra>",
         "legendgroup": "Iraq",
         "marker": {
          "color": "#B6E880",
          "symbol": "circle"
         },
         "mode": "markers",
         "name": "Iraq",
         "showlegend": true,
         "type": "scattergl",
         "x": [
          182,
          199,
          17,
          147,
          144,
          145,
          148,
          167,
          227,
          249,
          29,
          21,
          213,
          14,
          142,
          144
         ],
         "xaxis": "x",
         "y": [
          68.9,
          67.9,
          69.5,
          76,
          77,
          76,
          74,
          69.3,
          65.9,
          64.7,
          66.8,
          67.2,
          66.5,
          74,
          72,
          70
         ],
         "yaxis": "y"
        },
        {
         "hovertemplate": "Country=Ireland<br>Adult Mortality=%{x}<br>Life expectancy =%{y}<extra></extra>",
         "legendgroup": "Ireland",
         "marker": {
          "color": "#FF97FF",
          "symbol": "circle"
         },
         "mode": "markers",
         "name": "Ireland",
         "showlegend": true,
         "type": "scattergl",
         "x": [
          64,
          66,
          67,
          69,
          7,
          68,
          77,
          75,
          75,
          78,
          78,
          82,
          82,
          88,
          89,
          94
         ],
         "xaxis": "x",
         "y": [
          81.4,
          81.2,
          81,
          85,
          84,
          86,
          79.7,
          79.8,
          79.5,
          79,
          78.7,
          78.3,
          78,
          77.4,
          77,
          76.4
         ],
         "yaxis": "y"
        },
        {
         "hovertemplate": "Country=Israel<br>Adult Mortality=%{x}<br>Life expectancy =%{y}<extra></extra>",
         "legendgroup": "Israel",
         "marker": {
          "color": "#FECB52",
          "symbol": "circle"
         },
         "mode": "markers",
         "name": "Israel",
         "showlegend": true,
         "type": "scattergl",
         "x": [
          58,
          6,
          61,
          6,
          61,
          61,
          63,
          65,
          68,
          68,
          71,
          69,
          71,
          74,
          74,
          76
         ],
         "xaxis": "x",
         "y": [
          82.5,
          82.2,
          82.1,
          81.8,
          81.8,
          81.7,
          81.5,
          81,
          84,
          84,
          80,
          81,
          79.7,
          79.3,
          79.3,
          78.9
         ],
         "yaxis": "y"
        },
        {
         "hovertemplate": "Country=Italy<br>Adult Mortality=%{x}<br>Life expectancy =%{y}<extra></extra>",
         "legendgroup": "Italy",
         "marker": {
          "color": "#636efa",
          "symbol": "circle"
         },
         "mode": "markers",
         "name": "Italy",
         "showlegend": true,
         "type": "scattergl",
         "x": [
          56,
          57,
          58,
          6,
          6,
          6,
          61,
          61,
          63,
          65,
          66,
          66,
          72,
          72,
          75,
          77
         ],
         "xaxis": "x",
         "y": [
          82.7,
          82.5,
          82.3,
          82,
          82,
          81.8,
          81.6,
          81.5,
          81.3,
          81.2,
          88,
          89,
          79.9,
          80,
          79.8,
          79.4
         ],
         "yaxis": "y"
        },
        {
         "hovertemplate": "Country=Jamaica<br>Adult Mortality=%{x}<br>Life expectancy =%{y}<extra></extra>",
         "legendgroup": "Jamaica",
         "marker": {
          "color": "#EF553B",
          "symbol": "circle"
         },
         "mode": "markers",
         "name": "Jamaica",
         "showlegend": true,
         "type": "scattergl",
         "x": [
          125,
          133,
          136,
          138,
          139,
          138,
          142,
          145,
          148,
          15,
          161,
          165,
          166,
          167,
          171,
          171
         ],
         "xaxis": "x",
         "y": [
          76.2,
          75.8,
          75.6,
          75.3,
          75.2,
          75,
          74.7,
          74.5,
          74.2,
          74,
          73.5,
          73.3,
          73.1,
          73,
          72.7,
          72.6
         ],
         "yaxis": "y"
        },
        {
         "hovertemplate": "Country=Japan<br>Adult Mortality=%{x}<br>Life expectancy =%{y}<extra></extra>",
         "legendgroup": "Japan",
         "marker": {
          "color": "#00cc96",
          "symbol": "circle"
         },
         "mode": "markers",
         "name": "Japan",
         "showlegend": true,
         "type": "scattergl",
         "x": [
          55,
          57,
          56,
          58,
          64,
          62,
          64,
          66,
          67,
          68,
          69,
          68,
          7,
          7,
          72,
          74
         ],
         "xaxis": "x",
         "y": [
          83.7,
          83.5,
          83.5,
          83.3,
          82.5,
          83,
          83,
          82.7,
          82.6,
          82.4,
          82,
          82.1,
          81.9,
          81.8,
          81.5,
          81.1
         ],
         "yaxis": "y"
        },
        {
         "hovertemplate": "Country=Jordan<br>Adult Mortality=%{x}<br>Life expectancy =%{y}<extra></extra>",
         "legendgroup": "Jordan",
         "marker": {
          "color": "#ab63fa",
          "symbol": "circle"
         },
         "mode": "markers",
         "name": "Jordan",
         "showlegend": true,
         "type": "scattergl",
         "x": [
          112,
          113,
          114,
          115,
          116,
          117,
          118,
          119,
          12,
          121,
          127,
          125,
          127,
          129,
          131,
          133
         ],
         "xaxis": "x",
         "y": [
          74.1,
          74,
          73.9,
          73.7,
          73.6,
          73.4,
          73.3,
          73.1,
          73,
          72.8,
          72.4,
          72.5,
          72.3,
          72.1,
          71.9,
          71.7
         ],
         "yaxis": "y"
        },
        {
         "hovertemplate": "Country=Kazakhstan<br>Adult Mortality=%{x}<br>Life expectancy =%{y}<extra></extra>",
         "legendgroup": "Kazakhstan",
         "marker": {
          "color": "#FFA15A",
          "symbol": "circle"
         },
         "mode": "markers",
         "name": "Kazakhstan",
         "showlegend": true,
         "type": "scattergl",
         "x": [
          198,
          22,
          28,
          214,
          224,
          236,
          235,
          258,
          288,
          295,
          294,
          287,
          282,
          276,
          284,
          292
         ],
         "xaxis": "x",
         "y": [
          72,
          69.9,
          69.5,
          69.1,
          68.5,
          67.8,
          67.8,
          66.6,
          65.3,
          65,
          64.6,
          64.7,
          64.4,
          64.7,
          64.4,
          63.9
         ],
         "yaxis": "y"
        },
        {
         "hovertemplate": "Country=Kenya<br>Adult Mortality=%{x}<br>Life expectancy =%{y}<extra></extra>",
         "legendgroup": "Kenya",
         "marker": {
          "color": "#19d3f3",
          "symbol": "circle"
         },
         "mode": "markers",
         "name": "Kenya",
         "showlegend": true,
         "type": "scattergl",
         "x": [
          249,
          255,
          258,
          263,
          278,
          294,
          317,
          339,
          356,
          388,
          412,
          432,
          437,
          437,
          434,
          428
         ],
         "xaxis": "x",
         "y": [
          63.4,
          62.9,
          62.6,
          62.1,
          61.2,
          63,
          59.1,
          57.9,
          56.8,
          55.3,
          54.1,
          53,
          52.4,
          52.1,
          51.9,
          51.9
         ],
         "yaxis": "y"
        },
        {
         "hovertemplate": "Country=Kiribati<br>Adult Mortality=%{x}<br>Life expectancy =%{y}<extra></extra>",
         "legendgroup": "Kiribati",
         "marker": {
          "color": "#FF6692",
          "symbol": "circle"
         },
         "mode": "markers",
         "name": "Kiribati",
         "showlegend": true,
         "type": "scattergl",
         "x": [
          198,
          2,
          22,
          24,
          26,
          27,
          28,
          21,
          211,
          212,
          213,
          214,
          215,
          217,
          219,
          222
         ],
         "xaxis": "x",
         "y": [
          66.3,
          66.1,
          65.8,
          65.7,
          65.5,
          65.3,
          65.2,
          65.1,
          65,
          65,
          64.9,
          64.8,
          64.7,
          64.6,
          64.3,
          64.1
         ],
         "yaxis": "y"
        },
        {
         "hovertemplate": "Country=Kuwait<br>Adult Mortality=%{x}<br>Life expectancy =%{y}<extra></extra>",
         "legendgroup": "Kuwait",
         "marker": {
          "color": "#B6E880",
          "symbol": "circle"
         },
         "mode": "markers",
         "name": "Kuwait",
         "showlegend": true,
         "type": "scattergl",
         "x": [
          81,
          82,
          83,
          84,
          85,
          86,
          87,
          88,
          89,
          89,
          9,
          91,
          93,
          94,
          95,
          96
         ],
         "xaxis": "x",
         "y": [
          74.7,
          74.6,
          74.5,
          74.3,
          74.2,
          74,
          73.9,
          73.8,
          73.7,
          73.6,
          73.6,
          73.5,
          73.4,
          73.3,
          73.2,
          73.2
         ],
         "yaxis": "y"
        },
        {
         "hovertemplate": "Country=Kyrgyzstan<br>Adult Mortality=%{x}<br>Life expectancy =%{y}<extra></extra>",
         "legendgroup": "Kyrgyzstan",
         "marker": {
          "color": "#FF97FF",
          "symbol": "circle"
         },
         "mode": "markers",
         "name": "Kyrgyzstan",
         "showlegend": true,
         "type": "scattergl",
         "x": [
          166,
          17,
          174,
          18,
          188,
          199,
          21,
          217,
          229,
          234,
          224,
          218,
          217,
          215,
          217,
          225
         ],
         "xaxis": "x",
         "y": [
          71.1,
          78,
          77,
          69.9,
          69.4,
          68.8,
          68.5,
          67.6,
          67.2,
          66.7,
          66.9,
          67.1,
          66.6,
          66.7,
          67.2,
          66.6
         ],
         "yaxis": "y"
        },
        {
         "hovertemplate": "Country=Lao People's Democratic Republic<br>Adult Mortality=%{x}<br>Life expectancy =%{y}<extra></extra>",
         "legendgroup": "Lao People's Democratic Republic",
         "marker": {
          "color": "#FECB52",
          "symbol": "circle"
         },
         "mode": "markers",
         "name": "Lao People's Democratic Republic",
         "showlegend": true,
         "type": "scattergl",
         "x": [
          194,
          199,
          23,
          28,
          213,
          218,
          223,
          228,
          234,
          24,
          246,
          252,
          259,
          265,
          271,
          278
         ],
         "xaxis": "x",
         "y": [
          65.7,
          65.3,
          64.9,
          64.4,
          64,
          63.6,
          63.1,
          62.6,
          62.1,
          61.5,
          61,
          64,
          59.8,
          59.3,
          58.7,
          58.1
         ],
         "yaxis": "y"
        },
        {
         "hovertemplate": "Country=Latvia<br>Adult Mortality=%{x}<br>Life expectancy =%{y}<extra></extra>",
         "legendgroup": "Latvia",
         "marker": {
          "color": "#636efa",
          "symbol": "circle"
         },
         "mode": "markers",
         "name": "Latvia",
         "showlegend": true,
         "type": "scattergl",
         "x": [
          153,
          156,
          161,
          163,
          169,
          18,
          184,
          199,
          221,
          229,
          216,
          26,
          29,
          219,
          228,
          218
         ],
         "xaxis": "x",
         "y": [
          74.6,
          74.4,
          74.1,
          73.8,
          73.6,
          72.8,
          72.6,
          71.9,
          78,
          75,
          76,
          71,
          78,
          73,
          69.9,
          71
         ],
         "yaxis": "y"
        },
        {
         "hovertemplate": "Country=Lebanon<br>Adult Mortality=%{x}<br>Life expectancy =%{y}<extra></extra>",
         "legendgroup": "Lebanon",
         "marker": {
          "color": "#EF553B",
          "symbol": "circle"
         },
         "mode": "markers",
         "name": "Lebanon",
         "showlegend": true,
         "type": "scattergl",
         "x": [
          98,
          99,
          97,
          93,
          93,
          94,
          95,
          98,
          98,
          1,
          11,
          13,
          15,
          17,
          11,
          112
         ],
         "xaxis": "x",
         "y": [
          74.9,
          74.8,
          74.9,
          75,
          75,
          74.9,
          74.7,
          74.5,
          74.4,
          74.1,
          73.9,
          73.7,
          73.5,
          73.2,
          73,
          72.7
         ],
         "yaxis": "y"
        },
        {
         "hovertemplate": "Country=Lesotho<br>Adult Mortality=%{x}<br>Life expectancy =%{y}<extra></extra>",
         "legendgroup": "Lesotho",
         "marker": {
          "color": "#00cc96",
          "symbol": "circle"
         },
         "mode": "markers",
         "name": "Lesotho",
         "showlegend": true,
         "type": "scattergl",
         "x": [
          484,
          522,
          518,
          513,
          52,
          527,
          566,
          592,
          633,
          654,
          675,
          666,
          648,
          622,
          586,
          543
         ],
         "xaxis": "x",
         "y": [
          53.7,
          52.1,
          52.1,
          52.2,
          52.3,
          51.1,
          49.4,
          47.8,
          46.2,
          45.3,
          44.5,
          44.8,
          45.5,
          46.4,
          47.8,
          49.3
         ],
         "yaxis": "y"
        },
        {
         "hovertemplate": "Country=Liberia<br>Adult Mortality=%{x}<br>Life expectancy =%{y}<extra></extra>",
         "legendgroup": "Liberia",
         "marker": {
          "color": "#ab63fa",
          "symbol": "circle"
         },
         "mode": "markers",
         "name": "Liberia",
         "showlegend": true,
         "type": "scattergl",
         "x": [
          259,
          329,
          258,
          261,
          266,
          272,
          277,
          281,
          286,
          32,
          316,
          329,
          42,
          371,
          333,
          39
         ],
         "xaxis": "x",
         "y": [
          61.4,
          58.1,
          61.1,
          67,
          62,
          59.7,
          59.2,
          58.6,
          57.9,
          56.7,
          55.3,
          54,
          50,
          56,
          51.5,
          51.9
         ],
         "yaxis": "y"
        },
        {
         "hovertemplate": "Country=Libya<br>Adult Mortality=%{x}<br>Life expectancy =%{y}<extra></extra>",
         "legendgroup": "Libya",
         "marker": {
          "color": "#FFA15A",
          "symbol": "circle"
         },
         "mode": "markers",
         "name": "Libya",
         "showlegend": true,
         "type": "scattergl",
         "x": [
          138,
          143,
          134,
          133,
          161,
          132,
          132,
          132,
          132,
          134,
          138,
          141,
          144,
          146,
          147,
          148
         ],
         "xaxis": "x",
         "y": [
          72.7,
          72.4,
          72.9,
          72.9,
          71.3,
          72.8,
          72.7,
          72.6,
          72.5,
          72.2,
          71.9,
          71.5,
          71.3,
          71.1,
          71,
          78
         ],
         "yaxis": "y"
        },
        {
         "hovertemplate": "Country=Lithuania<br>Adult Mortality=%{x}<br>Life expectancy =%{y}<extra></extra>",
         "legendgroup": "Lithuania",
         "marker": {
          "color": "#19d3f3",
          "symbol": "circle"
         },
         "mode": "markers",
         "name": "Lithuania",
         "showlegend": true,
         "type": "scattergl",
         "x": [
          165,
          169,
          178,
          176,
          18,
          188,
          192,
          224,
          24,
          229,
          222,
          24,
          22,
          22,
          21,
          2
         ],
         "xaxis": "x",
         "y": [
          73.6,
          73.4,
          73,
          73,
          72.8,
          72.4,
          72.2,
          71.1,
          72,
          76,
          78,
          71.6,
          71.6,
          71.4,
          71.2,
          71.6
         ],
         "yaxis": "y"
        },
        {
         "hovertemplate": "Country=Luxembourg<br>Adult Mortality=%{x}<br>Life expectancy =%{y}<extra></extra>",
         "legendgroup": "Luxembourg",
         "marker": {
          "color": "#FF6692",
          "symbol": "circle"
         },
         "mode": "markers",
         "name": "Luxembourg",
         "showlegend": true,
         "type": "scattergl",
         "x": [
          63,
          65,
          68,
          7,
          72,
          73,
          76,
          8,
          82,
          85,
          9,
          92,
          92,
          95,
          96,
          98
         ],
         "xaxis": "x",
         "y": [
          82,
          81.7,
          81.4,
          81.1,
          88,
          86,
          83,
          80,
          79.7,
          79.4,
          78.8,
          78.7,
          78.6,
          78.3,
          78,
          77.8
         ],
         "yaxis": "y"
        },
        {
         "hovertemplate": "Country=Madagascar<br>Adult Mortality=%{x}<br>Life expectancy =%{y}<extra></extra>",
         "legendgroup": "Madagascar",
         "marker": {
          "color": "#B6E880",
          "symbol": "circle"
         },
         "mode": "markers",
         "name": "Madagascar",
         "showlegend": true,
         "type": "scattergl",
         "x": [
          22,
          225,
          23,
          235,
          241,
          248,
          254,
          259,
          261,
          263,
          265,
          267,
          268,
          271,
          276,
          283
         ],
         "xaxis": "x",
         "y": [
          65.5,
          65.1,
          64.7,
          64.3,
          63.8,
          63.3,
          62.8,
          62.3,
          61.9,
          61.4,
          69,
          64,
          59.9,
          59.3,
          58.7,
          57.9
         ],
         "yaxis": "y"
        },
        {
         "hovertemplate": "Country=Malawi<br>Adult Mortality=%{x}<br>Life expectancy =%{y}<extra></extra>",
         "legendgroup": "Malawi",
         "marker": {
          "color": "#FF97FF",
          "symbol": "circle"
         },
         "mode": "markers",
         "name": "Malawi",
         "showlegend": true,
         "type": "scattergl",
         "x": [
          365,
          377,
          394,
          42,
          441,
          462,
          491,
          525,
          559,
          587,
          66,
          615,
          613,
          67,
          599,
          588
         ],
         "xaxis": "x",
         "y": [
          58.3,
          57.6,
          56.7,
          55.3,
          54.1,
          52.9,
          51.5,
          50,
          48.5,
          47.1,
          46,
          45.1,
          44.6,
          44,
          43.5,
          43.1
         ],
         "yaxis": "y"
        },
        {
         "hovertemplate": "Country=Malaysia<br>Adult Mortality=%{x}<br>Life expectancy =%{y}<extra></extra>",
         "legendgroup": "Malaysia",
         "marker": {
          "color": "#FECB52",
          "symbol": "circle"
         },
         "mode": "markers",
         "name": "Malaysia",
         "showlegend": true,
         "type": "scattergl",
         "x": [
          123,
          126,
          128,
          129,
          13,
          131,
          131,
          132,
          133,
          134,
          135,
          137,
          138,
          14,
          144,
          149
         ],
         "xaxis": "x",
         "y": [
          75,
          74.8,
          74.6,
          74.5,
          74.3,
          74.1,
          74,
          73.8,
          73.7,
          73.6,
          73.4,
          73.2,
          73.1,
          72.9,
          72.7,
          72.4
         ],
         "yaxis": "y"
        },
        {
         "hovertemplate": "Country=Maldives<br>Adult Mortality=%{x}<br>Life expectancy =%{y}<extra></extra>",
         "legendgroup": "Maldives",
         "marker": {
          "color": "#636efa",
          "symbol": "circle"
         },
         "mode": "markers",
         "name": "Maldives",
         "showlegend": true,
         "type": "scattergl",
         "x": [
          61,
          62,
          64,
          65,
          67,
          73,
          75,
          81,
          82,
          88,
          93,
          16,
          112,
          124,
          129,
          139
         ],
         "xaxis": "x",
         "y": [
          78.5,
          78.2,
          77.9,
          77.6,
          77.3,
          76.7,
          76.3,
          75.9,
          75.4,
          75,
          74.3,
          73.4,
          72.7,
          71.8,
          78,
          69.6
         ],
         "yaxis": "y"
        },
        {
         "hovertemplate": "Country=Mali<br>Adult Mortality=%{x}<br>Life expectancy =%{y}<extra></extra>",
         "legendgroup": "Mali",
         "marker": {
          "color": "#EF553B",
          "symbol": "circle"
         },
         "mode": "markers",
         "name": "Mali",
         "showlegend": true,
         "type": "scattergl",
         "x": [
          266,
          272,
          275,
          27,
          271,
          273,
          276,
          278,
          282,
          288,
          29,
          296,
          299,
          31,
          34,
          37
         ],
         "xaxis": "x",
         "y": [
          58.2,
          57.8,
          57.3,
          57.2,
          56.8,
          56.5,
          56,
          55.5,
          55,
          54.3,
          53.6,
          52.8,
          52,
          51.2,
          55,
          49.8
         ],
         "yaxis": "y"
        },
        {
         "hovertemplate": "Country=Malta<br>Adult Mortality=%{x}<br>Life expectancy =%{y}<extra></extra>",
         "legendgroup": "Malta",
         "marker": {
          "color": "#00cc96",
          "symbol": "circle"
         },
         "mode": "markers",
         "name": "Malta",
         "showlegend": true,
         "type": "scattergl",
         "x": [
          54,
          55,
          57,
          58,
          59,
          62,
          63,
          64,
          65,
          66,
          67,
          69,
          71,
          75,
          79,
          8
         ],
         "xaxis": "x",
         "y": [
          81.7,
          81.4,
          81.1,
          81,
          87,
          83,
          82,
          80,
          79.6,
          79.3,
          79,
          78.7,
          78.5,
          78.2,
          77.8,
          77.5
         ],
         "yaxis": "y"
        },
        {
         "hovertemplate": "Country=Mauritania<br>Adult Mortality=%{x}<br>Life expectancy =%{y}<extra></extra>",
         "legendgroup": "Mauritania",
         "marker": {
          "color": "#ab63fa",
          "symbol": "circle"
         },
         "mode": "markers",
         "name": "Mauritania",
         "showlegend": true,
         "type": "scattergl",
         "x": [
          25,
          26,
          28,
          29,
          212,
          214,
          215,
          217,
          219,
          221,
          223,
          224,
          226,
          228,
          229,
          23
         ],
         "xaxis": "x",
         "y": [
          63.1,
          63,
          62.7,
          62.5,
          62.2,
          62,
          61.7,
          61.4,
          61.2,
          69,
          66,
          64,
          63,
          62,
          61,
          60
         ],
         "yaxis": "y"
        },
        {
         "hovertemplate": "Country=Mauritius<br>Adult Mortality=%{x}<br>Life expectancy =%{y}<extra></extra>",
         "legendgroup": "Mauritius",
         "marker": {
          "color": "#FFA15A",
          "symbol": "circle"
         },
         "mode": "markers",
         "name": "Mauritius",
         "showlegend": true,
         "type": "scattergl",
         "x": [
          146,
          148,
          147,
          154,
          158,
          163,
          166,
          166,
          161,
          165,
          168,
          168,
          174,
          179,
          177,
          177
         ],
         "xaxis": "x",
         "y": [
          74.6,
          74.2,
          74.1,
          73.9,
          73.6,
          73.3,
          72.8,
          72.7,
          72.9,
          71.8,
          72.1,
          71.9,
          71.5,
          71.5,
          71.5,
          71
         ],
         "yaxis": "y"
        },
        {
         "hovertemplate": "Country=Mexico<br>Adult Mortality=%{x}<br>Life expectancy =%{y}<extra></extra>",
         "legendgroup": "Mexico",
         "marker": {
          "color": "#19d3f3",
          "symbol": "circle"
         },
         "mode": "markers",
         "name": "Mexico",
         "showlegend": true,
         "type": "scattergl",
         "x": [
          122,
          122,
          12,
          123,
          124,
          127,
          13,
          127,
          123,
          125,
          126,
          124,
          127,
          127,
          126,
          129
         ],
         "xaxis": "x",
         "y": [
          76.7,
          76.6,
          76.6,
          76.3,
          76.1,
          75.6,
          75.7,
          75.6,
          76,
          75.8,
          75.3,
          75.4,
          75,
          75,
          75,
          74.8
         ],
         "yaxis": "y"
        },
        {
         "hovertemplate": "Country=Micronesia (Federated States of)<br>Adult Mortality=%{x}<br>Life expectancy =%{y}<extra></extra>",
         "legendgroup": "Micronesia (Federated States of)",
         "marker": {
          "color": "#FF6692",
          "symbol": "circle"
         },
         "mode": "markers",
         "name": "Micronesia (Federated States of)",
         "showlegend": true,
         "type": "scattergl",
         "x": [
          166,
          164,
          166,
          168,
          169,
          171,
          172,
          174,
          175,
          176,
          178,
          179,
          18,
          21,
          183,
          185
         ],
         "xaxis": "x",
         "y": [
          69.4,
          69.4,
          69.2,
          69,
          68.9,
          68.7,
          68.5,
          68.4,
          68.2,
          68,
          67.9,
          67.7,
          67.5,
          66.2,
          67.2,
          67
         ],
         "yaxis": "y"
        },
        {
         "hovertemplate": "Country=Mongolia<br>Adult Mortality=%{x}<br>Life expectancy =%{y}<extra></extra>",
         "legendgroup": "Mongolia",
         "marker": {
          "color": "#B6E880",
          "symbol": "circle"
         },
         "mode": "markers",
         "name": "Mongolia",
         "showlegend": true,
         "type": "scattergl",
         "x": [
          222,
          225,
          227,
          231,
          235,
          25,
          235,
          225,
          26,
          271,
          274,
          284,
          271,
          263,
          266,
          274
         ],
         "xaxis": "x",
         "y": [
          68.8,
          68.4,
          68.1,
          67.8,
          67.3,
          66.3,
          66.9,
          67.4,
          65.9,
          65,
          64.5,
          64,
          64,
          63.8,
          63.2,
          62.8
         ],
         "yaxis": "y"
        },
        {
         "hovertemplate": "Country=Montenegro<br>Adult Mortality=%{x}<br>Life expectancy =%{y}<extra></extra>",
         "legendgroup": "Montenegro",
         "marker": {
          "color": "#FF97FF",
          "symbol": "circle"
         },
         "mode": "markers",
         "name": "Montenegro",
         "showlegend": true,
         "type": "scattergl",
         "x": [
          16,
          17,
          19,
          11,
          113,
          115,
          117,
          121,
          125,
          13,
          133,
          134,
          134,
          136,
          136,
          144
         ],
         "xaxis": "x",
         "y": [
          76.1,
          75.9,
          75.8,
          75.6,
          75.4,
          75.3,
          75,
          74.6,
          74.2,
          73.8,
          73.6,
          73.5,
          73.5,
          73.4,
          73.3,
          73
         ],
         "yaxis": "y"
        },
        {
         "hovertemplate": "Country=Morocco<br>Adult Mortality=%{x}<br>Life expectancy =%{y}<extra></extra>",
         "legendgroup": "Morocco",
         "marker": {
          "color": "#FECB52",
          "symbol": "circle"
         },
         "mode": "markers",
         "name": "Morocco",
         "showlegend": true,
         "type": "scattergl",
         "x": [
          95,
          96,
          97,
          99,
          14,
          11,
          116,
          123,
          128,
          133,
          137,
          142,
          146,
          15,
          155,
          16
         ],
         "xaxis": "x",
         "y": [
          74.3,
          74.1,
          73.9,
          73.6,
          73.3,
          72.8,
          72.3,
          71.8,
          71.4,
          71,
          77,
          72,
          69.9,
          69.5,
          69,
          68.6
         ],
         "yaxis": "y"
        },
        {
         "hovertemplate": "Country=Mozambique<br>Adult Mortality=%{x}<br>Life expectancy =%{y}<extra></extra>",
         "legendgroup": "Mozambique",
         "marker": {
          "color": "#636efa",
          "symbol": "circle"
         },
         "mode": "markers",
         "name": "Mozambique",
         "showlegend": true,
         "type": "scattergl",
         "x": [
          355,
          375,
          46,
          48,
          47,
          47,
          4,
          45,
          425,
          434,
          434,
          429,
          424,
          416,
          48,
          43
         ],
         "xaxis": "x",
         "y": [
          57.6,
          56.7,
          55.3,
          54.8,
          54.3,
          54,
          53.8,
          53.2,
          52.1,
          51.2,
          58,
          54,
          51,
          49.8,
          49.5,
          49
         ],
         "yaxis": "y"
        },
        {
         "hovertemplate": "Country=Myanmar<br>Adult Mortality=%{x}<br>Life expectancy =%{y}<extra></extra>",
         "legendgroup": "Myanmar",
         "marker": {
          "color": "#EF553B",
          "symbol": "circle"
         },
         "mode": "markers",
         "name": "Myanmar",
         "showlegend": true,
         "type": "scattergl",
         "x": [
          199,
          21,
          22,
          25,
          27,
          29,
          211,
          296,
          217,
          22,
          224,
          228,
          231,
          235,
          239,
          243
         ],
         "xaxis": "x",
         "y": [
          66.6,
          66.4,
          66.2,
          65.9,
          65.6,
          65.4,
          65.2,
          59.2,
          64.5,
          64.2,
          63.9,
          63.5,
          63.2,
          62.8,
          62.5,
          62.1
         ],
         "yaxis": "y"
        },
        {
         "hovertemplate": "Country=Namibia<br>Adult Mortality=%{x}<br>Life expectancy =%{y}<extra></extra>",
         "legendgroup": "Namibia",
         "marker": {
          "color": "#00cc96",
          "symbol": "circle"
         },
         "mode": "markers",
         "name": "Namibia",
         "showlegend": true,
         "type": "scattergl",
         "x": [
          248,
          242,
          232,
          232,
          268,
          299,
          36,
          317,
          356,
          431,
          477,
          483,
          471,
          452,
          426,
          41
         ],
         "xaxis": "x",
         "y": [
          65.8,
          65.9,
          66.1,
          65.8,
          64.3,
          63,
          62.4,
          61.7,
          60,
          57,
          55.1,
          54.7,
          55,
          55.7,
          56.5,
          57.4
         ],
         "yaxis": "y"
        },
        {
         "hovertemplate": "Country=Nepal<br>Adult Mortality=%{x}<br>Life expectancy =%{y}<extra></extra>",
         "legendgroup": "Nepal",
         "marker": {
          "color": "#ab63fa",
          "symbol": "circle"
         },
         "mode": "markers",
         "name": "Nepal",
         "showlegend": true,
         "type": "scattergl",
         "x": [
          165,
          158,
          162,
          167,
          172,
          178,
          183,
          189,
          194,
          21,
          28,
          218,
          22,
          238,
          23,
          238
         ],
         "xaxis": "x",
         "y": [
          69.2,
          69.6,
          69.3,
          68.9,
          68.4,
          68,
          67.5,
          67,
          66.6,
          66,
          65.4,
          64.7,
          64.3,
          63.1,
          63.2,
          62.5
         ],
         "yaxis": "y"
        },
        {
         "hovertemplate": "Country=Netherlands<br>Adult Mortality=%{x}<br>Life expectancy =%{y}<extra></extra>",
         "legendgroup": "Netherlands",
         "marker": {
          "color": "#FFA15A",
          "symbol": "circle"
         },
         "mode": "markers",
         "name": "Netherlands",
         "showlegend": true,
         "type": "scattergl",
         "x": [
          57,
          58,
          6,
          62,
          63,
          64,
          65,
          68,
          68,
          71,
          72,
          77,
          8,
          81,
          82,
          84
         ],
         "xaxis": "x",
         "y": [
          81.9,
          81.7,
          81.4,
          81.1,
          81.1,
          88,
          86,
          83,
          82,
          79.8,
          79.4,
          79.2,
          78.7,
          78.4,
          78.3,
          78.1
         ],
         "yaxis": "y"
        },
        {
         "hovertemplate": "Country=New Zealand<br>Adult Mortality=%{x}<br>Life expectancy =%{y}<extra></extra>",
         "legendgroup": "New Zealand",
         "marker": {
          "color": "#19d3f3",
          "symbol": "circle"
         },
         "mode": "markers",
         "name": "New Zealand",
         "showlegend": true,
         "type": "scattergl",
         "x": [
          66,
          67,
          69,
          7,
          72,
          71,
          73,
          75,
          76,
          76,
          78,
          79,
          82,
          83,
          83,
          87
         ],
         "xaxis": "x",
         "y": [
          81.6,
          81.5,
          81.3,
          81.1,
          86,
          89,
          85,
          81,
          81,
          79.9,
          79.9,
          79.2,
          79.1,
          78.7,
          78.5,
          78.6
         ],
         "yaxis": "y"
        },
        {
         "hovertemplate": "Country=Nicaragua<br>Adult Mortality=%{x}<br>Life expectancy =%{y}<extra></extra>",
         "legendgroup": "Nicaragua",
         "marker": {
          "color": "#FF6692",
          "symbol": "circle"
         },
         "mode": "markers",
         "name": "Nicaragua",
         "showlegend": true,
         "type": "scattergl",
         "x": [
          145,
          148,
          157,
          157,
          147,
          154,
          163,
          169,
          173,
          17,
          194,
          194,
          198,
          197,
          193,
          192
         ],
         "xaxis": "x",
         "y": [
          74.8,
          74.5,
          73.9,
          73.9,
          74.5,
          73.2,
          73.2,
          72.5,
          72.5,
          73,
          71.2,
          71,
          76,
          75,
          73,
          73
         ],
         "yaxis": "y"
        },
        {
         "hovertemplate": "Country=Niger<br>Adult Mortality=%{x}<br>Life expectancy =%{y}<extra></extra>",
         "legendgroup": "Niger",
         "marker": {
          "color": "#B6E880",
          "symbol": "circle"
         },
         "mode": "markers",
         "name": "Niger",
         "showlegend": true,
         "type": "scattergl",
         "x": [
          22,
          223,
          227,
          232,
          241,
          252,
          263,
          272,
          276,
          277,
          278,
          279,
          28,
          282,
          283,
          284
         ],
         "xaxis": "x",
         "y": [
          61.8,
          61.4,
          69,
          63,
          59.4,
          58.2,
          57.1,
          56,
          55.2,
          54.5,
          53.7,
          52.9,
          52.1,
          51.4,
          56,
          50
         ],
         "yaxis": "y"
        },
        {
         "hovertemplate": "Country=Nigeria<br>Adult Mortality=%{x}<br>Life expectancy =%{y}<extra></extra>",
         "legendgroup": "Nigeria",
         "marker": {
          "color": "#FF97FF",
          "symbol": "circle"
         },
         "mode": "markers",
         "name": "Nigeria",
         "showlegend": true,
         "type": "scattergl",
         "x": [
          344,
          362,
          367,
          374,
          375,
          374,
          376,
          386,
          388,
          396,
          4,
          47,
          41,
          49,
          48,
          45
         ],
         "xaxis": "x",
         "y": [
          54.5,
          53.6,
          53.2,
          52.7,
          52.3,
          52,
          51.6,
          59,
          55,
          49.8,
          49.2,
          48.5,
          48.1,
          47.7,
          47.4,
          47.1
         ],
         "yaxis": "y"
        },
        {
         "hovertemplate": "Country=Norway<br>Adult Mortality=%{x}<br>Life expectancy =%{y}<extra></extra>",
         "legendgroup": "Norway",
         "marker": {
          "color": "#FECB52",
          "symbol": "circle"
         },
         "mode": "markers",
         "name": "Norway",
         "showlegend": true,
         "type": "scattergl",
         "x": [
          59,
          61,
          62,
          61,
          67,
          66,
          67,
          67,
          67,
          7,
          73,
          77,
          78,
          81,
          82,
          85
         ],
         "xaxis": "x",
         "y": [
          81.8,
          81.6,
          81.5,
          81.3,
          81.1,
          81,
          89,
          86,
          85,
          84,
          81,
          79.8,
          79.4,
          78.9,
          78.8,
          78.5
         ],
         "yaxis": "y"
        },
        {
         "hovertemplate": "Country=Oman<br>Adult Mortality=%{x}<br>Life expectancy =%{y}<extra></extra>",
         "legendgroup": "Oman",
         "marker": {
          "color": "#636efa",
          "symbol": "circle"
         },
         "mode": "markers",
         "name": "Oman",
         "showlegend": true,
         "type": "scattergl",
         "x": [
          99,
          11,
          12,
          14,
          15,
          16,
          18,
          19,
          113,
          115,
          118,
          122,
          127,
          13,
          134,
          138
         ],
         "xaxis": "x",
         "y": [
          76.6,
          76.4,
          76.2,
          76,
          75.8,
          75.6,
          75.4,
          75.2,
          74.9,
          74.7,
          74.3,
          74,
          73.6,
          73.3,
          72.9,
          72.6
         ],
         "yaxis": "y"
        },
        {
         "hovertemplate": "Country=Pakistan<br>Adult Mortality=%{x}<br>Life expectancy =%{y}<extra></extra>",
         "legendgroup": "Pakistan",
         "marker": {
          "color": "#EF553B",
          "symbol": "circle"
         },
         "mode": "markers",
         "name": "Pakistan",
         "showlegend": true,
         "type": "scattergl",
         "x": [
          161,
          162,
          163,
          165,
          167,
          172,
          175,
          177,
          178,
          179,
          2,
          183,
          185,
          187,
          189,
          19
         ],
         "xaxis": "x",
         "y": [
          66.4,
          66.2,
          66,
          65.7,
          65.5,
          65.1,
          64.8,
          64.6,
          64.4,
          64.2,
          62.9,
          63.7,
          63.5,
          63.2,
          63,
          62.8
         ],
         "yaxis": "y"
        },
        {
         "hovertemplate": "Country=Panama<br>Adult Mortality=%{x}<br>Life expectancy =%{y}<extra></extra>",
         "legendgroup": "Panama",
         "marker": {
          "color": "#00cc96",
          "symbol": "circle"
         },
         "mode": "markers",
         "name": "Panama",
         "showlegend": true,
         "type": "scattergl",
         "x": [
          118,
          119,
          118,
          12,
          121,
          122,
          127,
          127,
          124,
          125,
          122,
          123,
          126,
          125,
          124,
          121
         ],
         "xaxis": "x",
         "y": [
          77.8,
          77.6,
          77.5,
          77.2,
          77.3,
          76.5,
          76.8,
          76.5,
          76.4,
          76.2,
          75.8,
          75.8,
          75.5,
          75.7,
          75.5,
          75.7
         ],
         "yaxis": "y"
        },
        {
         "hovertemplate": "Country=Papua New Guinea<br>Adult Mortality=%{x}<br>Life expectancy =%{y}<extra></extra>",
         "legendgroup": "Papua New Guinea",
         "marker": {
          "color": "#ab63fa",
          "symbol": "circle"
         },
         "mode": "markers",
         "name": "Papua New Guinea",
         "showlegend": true,
         "type": "scattergl",
         "x": [
          275,
          278,
          281,
          284,
          285,
          286,
          288,
          29,
          295,
          299,
          37,
          314,
          321,
          327,
          331,
          335
         ],
         "xaxis": "x",
         "y": [
          62.9,
          62.7,
          62.4,
          62.2,
          62,
          61.8,
          61.6,
          61.4,
          61.1,
          68,
          64,
          59.9,
          59.6,
          59.3,
          59.1,
          58.9
         ],
         "yaxis": "y"
        },
        {
         "hovertemplate": "Country=Paraguay<br>Adult Mortality=%{x}<br>Life expectancy =%{y}<extra></extra>",
         "legendgroup": "Paraguay",
         "marker": {
          "color": "#FFA15A",
          "symbol": "circle"
         },
         "mode": "markers",
         "name": "Paraguay",
         "showlegend": true,
         "type": "scattergl",
         "x": [
          146,
          147,
          148,
          148,
          15,
          152,
          155,
          157,
          159,
          161,
          163,
          165,
          166,
          168,
          17,
          172
         ],
         "xaxis": "x",
         "y": [
          74,
          73.9,
          73.8,
          73.6,
          73.4,
          73.2,
          73,
          72.7,
          72.5,
          72.3,
          72.1,
          71.9,
          71.7,
          71.5,
          71.2,
          79
         ],
         "yaxis": "y"
        },
        {
         "hovertemplate": "Country=Peru<br>Adult Mortality=%{x}<br>Life expectancy =%{y}<extra></extra>",
         "legendgroup": "Peru",
         "marker": {
          "color": "#19d3f3",
          "symbol": "circle"
         },
         "mode": "markers",
         "name": "Peru",
         "showlegend": true,
         "type": "scattergl",
         "x": [
          123,
          125,
          125,
          129,
          133,
          14,
          14,
          138,
          133,
          134,
          148,
          151,
          152,
          144,
          142,
          154
         ],
         "xaxis": "x",
         "y": [
          75.5,
          75.3,
          75.3,
          74.9,
          74.5,
          73.7,
          73.8,
          73.9,
          74,
          74.2,
          72.8,
          72.2,
          72.1,
          72.6,
          72.4,
          71.4
         ],
         "yaxis": "y"
        },
        {
         "hovertemplate": "Country=Philippines<br>Adult Mortality=%{x}<br>Life expectancy =%{y}<extra></extra>",
         "legendgroup": "Philippines",
         "marker": {
          "color": "#FF6692",
          "symbol": "circle"
         },
         "mode": "markers",
         "name": "Philippines",
         "showlegend": true,
         "type": "scattergl",
         "x": [
          211,
          214,
          219,
          217,
          218,
          218,
          219,
          217,
          216,
          219,
          223,
          218,
          217,
          221,
          221,
          219
         ],
         "xaxis": "x",
         "y": [
          68.5,
          68.4,
          68.1,
          68.1,
          68,
          67.9,
          68,
          67.5,
          67.5,
          67.3,
          67,
          67.3,
          67.2,
          66.8,
          66.8,
          66.8
         ],
         "yaxis": "y"
        },
        {
         "hovertemplate": "Country=Poland<br>Adult Mortality=%{x}<br>Life expectancy =%{y}<extra></extra>",
         "legendgroup": "Poland",
         "marker": {
          "color": "#B6E880",
          "symbol": "circle"
         },
         "mode": "markers",
         "name": "Poland",
         "showlegend": true,
         "type": "scattergl",
         "x": [
          117,
          12,
          12,
          125,
          128,
          13,
          136,
          14,
          144,
          144,
          144,
          143,
          142,
          145,
          149,
          153
         ],
         "xaxis": "x",
         "y": [
          77.5,
          77.3,
          77.1,
          76.8,
          76.7,
          76.3,
          75.7,
          75.5,
          75.3,
          75.2,
          75,
          74.9,
          74.7,
          74.5,
          74.2,
          73.7
         ],
         "yaxis": "y"
        },
        {
         "hovertemplate": "Country=Portugal<br>Adult Mortality=%{x}<br>Life expectancy =%{y}<extra></extra>",
         "legendgroup": "Portugal",
         "marker": {
          "color": "#FF97FF",
          "symbol": "circle"
         },
         "mode": "markers",
         "name": "Portugal",
         "showlegend": true,
         "type": "scattergl",
         "x": [
          76,
          78,
          79,
          81,
          85,
          88,
          9,
          92,
          94,
          96,
          11,
          99,
          15,
          17,
          11,
          11
         ],
         "xaxis": "x",
         "y": [
          81.1,
          89,
          86,
          83,
          82,
          79.6,
          79.3,
          79,
          78.7,
          78.5,
          77.7,
          78,
          77.3,
          77.2,
          76.9,
          76.6
         ],
         "yaxis": "y"
        },
        {
         "hovertemplate": "Country=Qatar<br>Adult Mortality=%{x}<br>Life expectancy =%{y}<extra></extra>",
         "legendgroup": "Qatar",
         "marker": {
          "color": "#FECB52",
          "symbol": "circle"
         },
         "mode": "markers",
         "name": "Qatar",
         "showlegend": true,
         "type": "scattergl",
         "x": [
          68,
          69,
          7,
          72,
          74,
          76,
          79,
          82,
          83,
          83,
          84,
          84,
          85,
          85,
          87,
          88
         ],
         "xaxis": "x",
         "y": [
          78.2,
          78.1,
          77.9,
          77.8,
          77.5,
          77.3,
          77,
          76.8,
          76.7,
          76.6,
          76.6,
          76.6,
          76.5,
          76.4,
          76.3,
          76.2
         ],
         "yaxis": "y"
        },
        {
         "hovertemplate": "Country=Republic of Korea<br>Adult Mortality=%{x}<br>Life expectancy =%{y}<extra></extra>",
         "legendgroup": "Republic of Korea",
         "marker": {
          "color": "#636efa",
          "symbol": "circle"
         },
         "mode": "markers",
         "name": "Republic of Korea",
         "showlegend": true,
         "type": "scattergl",
         "x": [
          64,
          66,
          68,
          69,
          72,
          74,
          75,
          75,
          77,
          79,
          84,
          89,
          95,
          99,
          17,
          116
         ],
         "xaxis": "x",
         "y": [
          82.3,
          82,
          81.7,
          81.2,
          81.1,
          87,
          86,
          83,
          79.8,
          79.4,
          78.7,
          78.2,
          77.6,
          77.1,
          76.7,
          76
         ],
         "yaxis": "y"
        },
        {
         "hovertemplate": "Country=Republic of Moldova<br>Adult Mortality=%{x}<br>Life expectancy =%{y}<extra></extra>",
         "legendgroup": "Republic of Moldova",
         "marker": {
          "color": "#EF553B",
          "symbol": "circle"
         },
         "mode": "markers",
         "name": "Republic of Moldova",
         "showlegend": true,
         "type": "scattergl",
         "x": [
          157,
          162,
          163,
          175,
          177,
          219,
          218,
          228,
          237,
          242,
          248,
          225,
          226,
          225,
          228,
          235
         ],
         "xaxis": "x",
         "y": [
          72.1,
          71.8,
          71.7,
          79,
          77,
          68.8,
          69,
          68.9,
          68.3,
          68,
          67.3,
          68,
          67.6,
          67.5,
          67.6,
          67.1
         ],
         "yaxis": "y"
        },
        {
         "hovertemplate": "Country=Romania<br>Adult Mortality=%{x}<br>Life expectancy =%{y}<extra></extra>",
         "legendgroup": "Romania",
         "marker": {
          "color": "#00cc96",
          "symbol": "circle"
         },
         "mode": "markers",
         "name": "Romania",
         "showlegend": true,
         "type": "scattergl",
         "x": [
          133,
          135,
          138,
          138,
          139,
          153,
          158,
          159,
          154,
          157,
          162,
          165,
          174,
          178,
          179,
          175
         ],
         "xaxis": "x",
         "y": [
          75,
          74.8,
          74.6,
          74.4,
          74.3,
          73.4,
          73.1,
          73.1,
          72.9,
          72.5,
          71.9,
          71.7,
          71.1,
          77,
          78,
          77
         ],
         "yaxis": "y"
        },
        {
         "hovertemplate": "Country=Russian Federation<br>Adult Mortality=%{x}<br>Life expectancy =%{y}<extra></extra>",
         "legendgroup": "Russian Federation",
         "marker": {
          "color": "#ab63fa",
          "symbol": "circle"
         },
         "mode": "markers",
         "name": "Russian Federation",
         "showlegend": true,
         "type": "scattergl",
         "x": [
          222,
          225,
          229,
          237,
          242,
          256,
          261,
          278,
          282,
          3,
          327,
          321,
          322,
          313,
          38,
          37
         ],
         "xaxis": "x",
         "y": [
          75,
          73,
          70,
          69.6,
          69.4,
          68.4,
          68.2,
          67.5,
          67.3,
          66.4,
          65,
          64.9,
          64.6,
          64.8,
          65.1,
          65
         ],
         "yaxis": "y"
        },
        {
         "hovertemplate": "Country=Rwanda<br>Adult Mortality=%{x}<br>Life expectancy =%{y}<extra></extra>",
         "legendgroup": "Rwanda",
         "marker": {
          "color": "#FFA15A",
          "symbol": "circle"
         },
         "mode": "markers",
         "name": "Rwanda",
         "showlegend": true,
         "type": "scattergl",
         "x": [
          227,
          23,
          233,
          239,
          247,
          26,
          288,
          282,
          295,
          328,
          37,
          397,
          48,
          415,
          438,
          426
         ],
         "xaxis": "x",
         "y": [
          66.1,
          65.7,
          65.2,
          64.6,
          63.8,
          62.8,
          61,
          68,
          59.6,
          57.6,
          55.3,
          53.4,
          52,
          57,
          48.6,
          48.3
         ],
         "yaxis": "y"
        },
        {
         "hovertemplate": "Country=Saint Lucia<br>Adult Mortality=%{x}<br>Life expectancy =%{y}<extra></extra>",
         "legendgroup": "Saint Lucia",
         "marker": {
          "color": "#19d3f3",
          "symbol": "circle"
         },
         "mode": "markers",
         "name": "Saint Lucia",
         "showlegend": true,
         "type": "scattergl",
         "x": [
          138,
          139,
          141,
          142,
          143,
          147,
          147,
          149,
          151,
          155,
          16,
          166,
          171,
          174,
          178,
          183
         ],
         "xaxis": "x",
         "y": [
          75.2,
          75,
          74.8,
          74.7,
          74.6,
          74.2,
          74.3,
          74.1,
          73.9,
          73.5,
          73.1,
          72.6,
          72.2,
          72,
          71.8,
          71.6
         ],
         "yaxis": "y"
        },
        {
         "hovertemplate": "Country=Saint Vincent and the Grenadines<br>Adult Mortality=%{x}<br>Life expectancy =%{y}<extra></extra>",
         "legendgroup": "Saint Vincent and the Grenadines",
         "marker": {
          "color": "#FF6692",
          "symbol": "circle"
         },
         "mode": "markers",
         "name": "Saint Vincent and the Grenadines",
         "showlegend": true,
         "type": "scattergl",
         "x": [
          156,
          157,
          161,
          159,
          16,
          162,
          165,
          167,
          17,
          173,
          177,
          181,
          184,
          186,
          186,
          186
         ],
         "xaxis": "x",
         "y": [
          73.2,
          73.1,
          72.7,
          72.8,
          72.7,
          72.5,
          72.3,
          72.1,
          71.9,
          71.7,
          71.4,
          71.2,
          71,
          79,
          79,
          79
         ],
         "yaxis": "y"
        },
        {
         "hovertemplate": "Country=Samoa<br>Adult Mortality=%{x}<br>Life expectancy =%{y}<extra></extra>",
         "legendgroup": "Samoa",
         "marker": {
          "color": "#B6E880",
          "symbol": "circle"
         },
         "mode": "markers",
         "name": "Samoa",
         "showlegend": true,
         "type": "scattergl",
         "x": [
          125,
          128,
          131,
          136,
          139,
          144,
          172,
          146,
          149,
          153,
          16,
          162,
          169,
          174,
          175,
          18
         ],
         "xaxis": "x",
         "y": [
          74,
          73.8,
          73.6,
          73.2,
          73,
          72.6,
          76,
          72.5,
          72.2,
          72,
          71.6,
          71.4,
          79,
          76,
          75,
          72
         ],
         "yaxis": "y"
        },
        {
         "hovertemplate": "Country=Sao Tome and Principe<br>Adult Mortality=%{x}<br>Life expectancy =%{y}<extra></extra>",
         "legendgroup": "Sao Tome and Principe",
         "marker": {
          "color": "#FF97FF",
          "symbol": "circle"
         },
         "mode": "markers",
         "name": "Sao Tome and Principe",
         "showlegend": true,
         "type": "scattergl",
         "x": [
          19,
          191,
          192,
          194,
          198,
          24,
          21,
          215,
          217,
          22,
          222,
          224,
          225,
          226,
          225,
          224
         ],
         "xaxis": "x",
         "y": [
          67.5,
          67.3,
          67.1,
          66.9,
          66.6,
          66.2,
          65.8,
          65.4,
          65.1,
          64.7,
          64.3,
          63.8,
          63.4,
          63.1,
          62.8,
          62.6
         ],
         "yaxis": "y"
        },
        {
         "hovertemplate": "Country=Saudi Arabia<br>Adult Mortality=%{x}<br>Life expectancy =%{y}<extra></extra>",
         "legendgroup": "Saudi Arabia",
         "marker": {
          "color": "#FECB52",
          "symbol": "circle"
         },
         "mode": "markers",
         "name": "Saudi Arabia",
         "showlegend": true,
         "type": "scattergl",
         "x": [
          88,
          88,
          89,
          9,
          92,
          94,
          97,
          98,
          99,
          1,
          11,
          12,
          13,
          15,
          17,
          11
         ],
         "xaxis": "x",
         "y": [
          74.5,
          74.4,
          74.3,
          74.1,
          73.9,
          73.7,
          73.4,
          73.3,
          73.2,
          73.2,
          73.1,
          73.1,
          73,
          72.9,
          72.8,
          72.6
         ],
         "yaxis": "y"
        },
        {
         "hovertemplate": "Country=Senegal<br>Adult Mortality=%{x}<br>Life expectancy =%{y}<extra></extra>",
         "legendgroup": "Senegal",
         "marker": {
          "color": "#636efa",
          "symbol": "circle"
         },
         "mode": "markers",
         "name": "Senegal",
         "showlegend": true,
         "type": "scattergl",
         "x": [
          188,
          192,
          196,
          2,
          26,
          212,
          219,
          225,
          23,
          236,
          242,
          247,
          251,
          252,
          251,
          25
         ],
         "xaxis": "x",
         "y": [
          66.7,
          66.4,
          66,
          65.6,
          64.9,
          64.3,
          63.5,
          62.8,
          62.1,
          61.3,
          65,
          59.7,
          59,
          58.4,
          57.9,
          57.5
         ],
         "yaxis": "y"
        },
        {
         "hovertemplate": "Country=Serbia<br>Adult Mortality=%{x}<br>Life expectancy =%{y}<extra></extra>",
         "legendgroup": "Serbia",
         "marker": {
          "color": "#EF553B",
          "symbol": "circle"
         },
         "mode": "markers",
         "name": "Serbia",
         "showlegend": true,
         "type": "scattergl",
         "x": [
          121,
          123,
          122,
          126,
          127,
          128,
          131,
          132,
          132,
          133,
          135,
          134,
          134,
          133,
          135,
          141
         ],
         "xaxis": "x",
         "y": [
          75.6,
          75.4,
          75.3,
          74.9,
          74.6,
          74.4,
          74.1,
          74,
          73.8,
          73.6,
          73,
          73,
          73,
          72.9,
          73.1,
          72.6
         ],
         "yaxis": "y"
        },
        {
         "hovertemplate": "Country=Seychelles<br>Adult Mortality=%{x}<br>Life expectancy =%{y}<extra></extra>",
         "legendgroup": "Seychelles",
         "marker": {
          "color": "#00cc96",
          "symbol": "circle"
         },
         "mode": "markers",
         "name": "Seychelles",
         "showlegend": true,
         "type": "scattergl",
         "x": [
          168,
          17,
          172,
          174,
          177,
          18,
          182,
          184,
          185,
          185,
          185,
          186,
          185,
          186,
          187,
          188
         ],
         "xaxis": "x",
         "y": [
          73.2,
          73,
          72.9,
          72.7,
          72.6,
          72.4,
          72.3,
          72.2,
          72.2,
          72.2,
          72.2,
          72.1,
          72.1,
          72.1,
          72,
          71.8
         ],
         "yaxis": "y"
        },
        {
         "hovertemplate": "Country=Sierra Leone<br>Adult Mortality=%{x}<br>Life expectancy =%{y}<extra></extra>",
         "legendgroup": "Sierra Leone",
         "marker": {
          "color": "#ab63fa",
          "symbol": "circle"
         },
         "mode": "markers",
         "name": "Sierra Leone",
         "showlegend": true,
         "type": "scattergl",
         "x": [
          413,
          463,
          47,
          411,
          418,
          424,
          433,
          441,
          45,
          464,
          48,
          496,
          57,
          513,
          519,
          533
         ],
         "xaxis": "x",
         "y": [
          51,
          48.1,
          54,
          49.7,
          48.9,
          48.1,
          47.1,
          46.2,
          45.3,
          44.3,
          43.3,
          42.3,
          41.5,
          48,
          41,
          39
         ],
         "yaxis": "y"
        },
        {
         "hovertemplate": "Country=Singapore<br>Adult Mortality=%{x}<br>Life expectancy =%{y}<extra></extra>",
         "legendgroup": "Singapore",
         "marker": {
          "color": "#FFA15A",
          "symbol": "circle"
         },
         "mode": "markers",
         "name": "Singapore",
         "showlegend": true,
         "type": "scattergl",
         "x": [
          55,
          56,
          57,
          59,
          6,
          61,
          62,
          64,
          65,
          66,
          69,
          71,
          73,
          74,
          76,
          78
         ],
         "xaxis": "x",
         "y": [
          83.1,
          82.9,
          82.7,
          82.5,
          82.2,
          82,
          81.7,
          81.4,
          81.1,
          87,
          82,
          79.7,
          79.3,
          79,
          78.7,
          78.3
         ],
         "yaxis": "y"
        },
        {
         "hovertemplate": "Country=Slovakia<br>Adult Mortality=%{x}<br>Life expectancy =%{y}<extra></extra>",
         "legendgroup": "Slovakia",
         "marker": {
          "color": "#19d3f3",
          "symbol": "circle"
         },
         "mode": "markers",
         "name": "Slovakia",
         "showlegend": true,
         "type": "scattergl",
         "x": [
          19,
          113,
          114,
          118,
          122,
          124,
          131,
          136,
          14,
          138,
          141,
          138,
          144,
          145,
          145,
          147
         ],
         "xaxis": "x",
         "y": [
          76.7,
          76.4,
          76.1,
          75.8,
          75.6,
          75.1,
          75,
          74.7,
          74.4,
          74.3,
          74,
          74.1,
          73.8,
          73.7,
          73.3,
          73
         ],
         "yaxis": "y"
        },
        {
         "hovertemplate": "Country=Slovenia<br>Adult Mortality=%{x}<br>Life expectancy =%{y}<extra></extra>",
         "legendgroup": "Slovenia",
         "marker": {
          "color": "#FF6692",
          "symbol": "circle"
         },
         "mode": "markers",
         "name": "Slovenia",
         "showlegend": true,
         "type": "scattergl",
         "x": [
          74,
          76,
          78,
          81,
          84,
          87,
          9,
          96,
          12,
          17,
          14,
          113,
          119,
          117,
          124,
          122
         ],
         "xaxis": "x",
         "y": [
          88,
          87,
          85,
          82,
          79.8,
          79.5,
          79.1,
          78.9,
          78.3,
          78.1,
          77.5,
          77.2,
          76.5,
          76.6,
          76.2,
          76
         ],
         "yaxis": "y"
        },
        {
         "hovertemplate": "Country=Solomon Islands<br>Adult Mortality=%{x}<br>Life expectancy =%{y}<extra></extra>",
         "legendgroup": "Solomon Islands",
         "marker": {
          "color": "#B6E880",
          "symbol": "circle"
         },
         "mode": "markers",
         "name": "Solomon Islands",
         "showlegend": true,
         "type": "scattergl",
         "x": [
          177,
          183,
          182,
          184,
          186,
          188,
          192,
          193,
          2,
          2,
          24,
          29,
          215,
          22,
          227,
          235
         ],
         "xaxis": "x",
         "y": [
          69.2,
          68.8,
          68.8,
          68.7,
          68.5,
          68.3,
          68.1,
          68,
          67.6,
          67.6,
          67.4,
          67.1,
          66.8,
          66.5,
          66.2,
          65.8
         ],
         "yaxis": "y"
        },
        {
         "hovertemplate": "Country=Somalia<br>Adult Mortality=%{x}<br>Life expectancy =%{y}<extra></extra>",
         "legendgroup": "Somalia",
         "marker": {
          "color": "#FF97FF",
          "symbol": "circle"
         },
         "mode": "markers",
         "name": "Somalia",
         "showlegend": true,
         "type": "scattergl",
         "x": [
          312,
          321,
          318,
          336,
          329,
          336,
          335,
          336,
          34,
          337,
          334,
          341,
          344,
          348,
          352,
          355
         ],
         "xaxis": "x",
         "y": [
          55,
          54.3,
          54.2,
          53.1,
          53.1,
          52.4,
          52.2,
          51.9,
          51.5,
          51.5,
          51.6,
          51.2,
          51.1,
          58,
          57,
          55
         ],
         "yaxis": "y"
        },
        {
         "hovertemplate": "Country=South Africa<br>Adult Mortality=%{x}<br>Life expectancy =%{y}<extra></extra>",
         "legendgroup": "South Africa",
         "marker": {
          "color": "#FECB52",
          "symbol": "circle"
         },
         "mode": "markers",
         "name": "South Africa",
         "showlegend": true,
         "type": "scattergl",
         "x": [
          328,
          347,
          371,
          48,
          413,
          428,
          449,
          473,
          486,
          496,
          498,
          497,
          485,
          459,
          429,
          397
         ],
         "xaxis": "x",
         "y": [
          62.9,
          62,
          69,
          59.2,
          58.9,
          58,
          56.5,
          55.3,
          54.5,
          54,
          53.8,
          53.7,
          54,
          54.9,
          56,
          57.3
         ],
         "yaxis": "y"
        },
        {
         "hovertemplate": "Country=South Sudan<br>Adult Mortality=%{x}<br>Life expectancy =%{y}<extra></extra>",
         "legendgroup": "South Sudan",
         "marker": {
          "color": "#636efa",
          "symbol": "circle"
         },
         "mode": "markers",
         "name": "South Sudan",
         "showlegend": true,
         "type": "scattergl",
         "x": [
          332,
          343,
          345,
          347,
          355,
          359,
          369,
          377,
          381,
          383,
          383,
          383,
          383,
          382,
          381,
          38
         ],
         "xaxis": "x",
         "y": [
          57.3,
          56.6,
          56.4,
          56,
          55.4,
          55,
          54.3,
          53.6,
          53.1,
          52.5,
          51.9,
          51.4,
          58,
          52,
          49.6,
          48.9
         ],
         "yaxis": "y"
        },
        {
         "hovertemplate": "Country=Spain<br>Adult Mortality=%{x}<br>Life expectancy =%{y}<extra></extra>",
         "legendgroup": "Spain",
         "marker": {
          "color": "#EF553B",
          "symbol": "circle"
         },
         "mode": "markers",
         "name": "Spain",
         "showlegend": true,
         "type": "scattergl",
         "x": [
          56,
          58,
          6,
          61,
          63,
          64,
          66,
          7,
          72,
          73,
          77,
          79,
          83,
          83,
          84,
          86
         ],
         "xaxis": "x",
         "y": [
          82.8,
          82.6,
          82.4,
          82,
          82.1,
          81.9,
          81.6,
          81.3,
          89,
          88,
          81,
          81,
          79.4,
          79.5,
          79.4,
          79.1
         ],
         "yaxis": "y"
        },
        {
         "hovertemplate": "Country=Sri Lanka<br>Adult Mortality=%{x}<br>Life expectancy =%{y}<extra></extra>",
         "legendgroup": "Sri Lanka",
         "marker": {
          "color": "#00cc96",
          "symbol": "circle"
         },
         "mode": "markers",
         "name": "Sri Lanka",
         "showlegend": true,
         "type": "scattergl",
         "x": [
          138,
          141,
          142,
          143,
          141,
          138,
          183,
          172,
          146,
          145,
          138,
          197,
          146,
          149,
          16,
          175
         ],
         "xaxis": "x",
         "y": [
          74.9,
          74.7,
          74.6,
          74.5,
          74.5,
          74.5,
          71.8,
          72.3,
          73.7,
          73.8,
          74.2,
          69.1,
          73.9,
          73.7,
          72.7,
          71.5
         ],
         "yaxis": "y"
        },
        {
         "hovertemplate": "Country=Sudan<br>Adult Mortality=%{x}<br>Life expectancy =%{y}<extra></extra>",
         "legendgroup": "Sudan",
         "marker": {
          "color": "#ab63fa",
          "symbol": "circle"
         },
         "mode": "markers",
         "name": "Sudan",
         "showlegend": true,
         "type": "scattergl",
         "x": [
          225,
          229,
          232,
          235,
          241,
          243,
          248,
          251,
          254,
          26,
          261,
          278,
          278,
          277,
          283,
          284
         ],
         "xaxis": "x",
         "y": [
          64.1,
          63.8,
          63.5,
          63.2,
          62.7,
          62.5,
          62,
          61.8,
          61.4,
          61,
          67,
          59.7,
          59.6,
          59.4,
          58.9,
          58.6
         ],
         "yaxis": "y"
        },
        {
         "hovertemplate": "Country=Suriname<br>Adult Mortality=%{x}<br>Life expectancy =%{y}<extra></extra>",
         "legendgroup": "Suriname",
         "marker": {
          "color": "#FFA15A",
          "symbol": "circle"
         },
         "mode": "markers",
         "name": "Suriname",
         "showlegend": true,
         "type": "scattergl",
         "x": [
          176,
          178,
          179,
          178,
          187,
          19,
          196,
          196,
          22,
          199,
          25,
          214,
          223,
          221,
          219,
          224
         ],
         "xaxis": "x",
         "y": [
          71.6,
          71.4,
          71.2,
          71.3,
          76,
          73,
          70,
          69.8,
          69.5,
          69.3,
          68.9,
          68.3,
          68,
          67.9,
          67.7,
          67.4
         ],
         "yaxis": "y"
        },
        {
         "hovertemplate": "Country=Swaziland<br>Adult Mortality=%{x}<br>Life expectancy =%{y}<extra></extra>",
         "legendgroup": "Swaziland",
         "marker": {
          "color": "#19d3f3",
          "symbol": "circle"
         },
         "mode": "markers",
         "name": "Swaziland",
         "showlegend": true,
         "type": "scattergl",
         "x": [
          373,
          382,
          393,
          412,
          438,
          459,
          46,
          477,
          51,
          564,
          63,
          69,
          6,
          587,
          568,
          536
         ],
         "xaxis": "x",
         "y": [
          58.9,
          58.4,
          57.6,
          56.5,
          55,
          53.6,
          52.6,
          51.4,
          50,
          47.8,
          46,
          45.6,
          45.9,
          46.4,
          47.1,
          48.4
         ],
         "yaxis": "y"
        },
        {
         "hovertemplate": "Country=Sweden<br>Adult Mortality=%{x}<br>Life expectancy =%{y}<extra></extra>",
         "legendgroup": "Sweden",
         "marker": {
          "color": "#FF6692",
          "symbol": "circle"
         },
         "mode": "markers",
         "name": "Sweden",
         "showlegend": true,
         "type": "scattergl",
         "x": [
          53,
          54,
          57,
          57,
          58,
          58,
          62,
          62,
          63,
          64,
          66,
          7,
          69,
          71,
          73,
          73
         ],
         "xaxis": "x",
         "y": [
          82.4,
          82.3,
          81.9,
          81.7,
          81.7,
          81.5,
          81.4,
          81.1,
          89,
          88,
          85,
          83,
          82,
          79.9,
          79.8,
          79.6
         ],
         "yaxis": "y"
        },
        {
         "hovertemplate": "Country=Switzerland<br>Adult Mortality=%{x}<br>Life expectancy =%{y}<extra></extra>",
         "legendgroup": "Switzerland",
         "marker": {
          "color": "#B6E880",
          "symbol": "circle"
         },
         "mode": "markers",
         "name": "Switzerland",
         "showlegend": true,
         "type": "scattergl",
         "x": [
          49,
          51,
          52,
          54,
          55,
          57,
          6,
          6,
          63,
          65,
          66,
          69,
          72,
          74,
          75,
          78
         ],
         "xaxis": "x",
         "y": [
          83.4,
          83.2,
          83,
          82.7,
          82.6,
          82.3,
          82.1,
          82,
          81.7,
          81.5,
          81.1,
          81,
          85,
          84,
          82,
          79.7
         ],
         "yaxis": "y"
        },
        {
         "hovertemplate": "Country=Syrian Arab Republic<br>Adult Mortality=%{x}<br>Life expectancy =%{y}<extra></extra>",
         "legendgroup": "Syrian Arab Republic",
         "marker": {
          "color": "#FF97FF",
          "symbol": "circle"
         },
         "mode": "markers",
         "name": "Syrian Arab Republic",
         "showlegend": true,
         "type": "scattergl",
         "x": [
          293,
          294,
          37,
          32,
          163,
          127,
          124,
          122,
          121,
          123,
          127,
          131,
          134,
          135,
          135,
          136
         ],
         "xaxis": "x",
         "y": [
          64.5,
          64.4,
          63.6,
          62.8,
          71.7,
          73.7,
          73.8,
          73.8,
          73.8,
          73.7,
          73.5,
          73.2,
          73,
          72.8,
          72.7,
          72.6
         ],
         "yaxis": "y"
        },
        {
         "hovertemplate": "Country=Tajikistan<br>Adult Mortality=%{x}<br>Life expectancy =%{y}<extra></extra>",
         "legendgroup": "Tajikistan",
         "marker": {
          "color": "#FECB52",
          "symbol": "circle"
         },
         "mode": "markers",
         "name": "Tajikistan",
         "showlegend": true,
         "type": "scattergl",
         "x": [
          161,
          162,
          163,
          164,
          166,
          171,
          174,
          178,
          181,
          183,
          194,
          177,
          182,
          193,
          194,
          198
         ],
         "xaxis": "x",
         "y": [
          69.7,
          69.6,
          69.3,
          68.8,
          68.1,
          67.3,
          66.7,
          66.4,
          66.1,
          65.9,
          65.5,
          65.9,
          65.2,
          64.3,
          64,
          63.7
         ],
         "yaxis": "y"
        },
        {
         "hovertemplate": "Country=Thailand<br>Adult Mortality=%{x}<br>Life expectancy =%{y}<extra></extra>",
         "legendgroup": "Thailand",
         "marker": {
          "color": "#636efa",
          "symbol": "circle"
         },
         "mode": "markers",
         "name": "Thailand",
         "showlegend": true,
         "type": "scattergl",
         "x": [
          148,
          152,
          153,
          154,
          155,
          158,
          16,
          162,
          165,
          168,
          177,
          189,
          189,
          192,
          194,
          194
         ],
         "xaxis": "x",
         "y": [
          74.9,
          74.6,
          74.5,
          74.3,
          74.1,
          73.9,
          73.7,
          73.5,
          73.3,
          73,
          72.5,
          71.6,
          71.7,
          71.4,
          71.2,
          71.1
         ],
         "yaxis": "y"
        },
        {
         "hovertemplate": "Country=The former Yugoslav republic of Macedonia<br>Adult Mortality=%{x}<br>Life expectancy =%{y}<extra></extra>",
         "legendgroup": "The former Yugoslav republic of Macedonia",
         "marker": {
          "color": "#EF553B",
          "symbol": "circle"
         },
         "mode": "markers",
         "name": "The former Yugoslav republic of Macedonia",
         "showlegend": true,
         "type": "scattergl",
         "x": [
          12,
          12,
          14,
          15,
          17,
          18,
          111,
          111,
          12,
          122,
          12,
          12,
          126,
          128,
          126,
          125
         ],
         "xaxis": "x",
         "y": [
          75.7,
          75.5,
          75.3,
          75.1,
          74.9,
          74.7,
          74.4,
          74.2,
          73.5,
          73.7,
          73.6,
          73.5,
          73.2,
          72.8,
          73.1,
          72.6
         ],
         "yaxis": "y"
        },
        {
         "hovertemplate": "Country=Timor-Leste<br>Adult Mortality=%{x}<br>Life expectancy =%{y}<extra></extra>",
         "legendgroup": "Timor-Leste",
         "marker": {
          "color": "#00cc96",
          "symbol": "circle"
         },
         "mode": "markers",
         "name": "Timor-Leste",
         "showlegend": true,
         "type": "scattergl",
         "x": [
          152,
          155,
          158,
          159,
          161,
          163,
          165,
          168,
          173,
          186,
          26,
          229,
          25,
          261,
          269,
          276
         ],
         "xaxis": "x",
         "y": [
          68.3,
          68,
          67.7,
          67.4,
          67.2,
          66.9,
          66.6,
          66.2,
          65.8,
          64.9,
          63.7,
          62.3,
          61,
          62,
          59.4,
          58.7
         ],
         "yaxis": "y"
        },
        {
         "hovertemplate": "Country=Togo<br>Adult Mortality=%{x}<br>Life expectancy =%{y}<extra></extra>",
         "legendgroup": "Togo",
         "marker": {
          "color": "#ab63fa",
          "symbol": "circle"
         },
         "mode": "markers",
         "name": "Togo",
         "showlegend": true,
         "type": "scattergl",
         "x": [
          287,
          285,
          287,
          294,
          34,
          323,
          336,
          344,
          344,
          345,
          357,
          355,
          355,
          351,
          345,
          339
         ],
         "xaxis": "x",
         "y": [
          59.9,
          59.7,
          59.4,
          58.9,
          58.3,
          57.4,
          56.7,
          56.2,
          55.9,
          55.7,
          55,
          54.9,
          54.7,
          54.7,
          54.6,
          54.6
         ],
         "yaxis": "y"
        },
        {
         "hovertemplate": "Country=Tonga<br>Adult Mortality=%{x}<br>Life expectancy =%{y}<extra></extra>",
         "legendgroup": "Tonga",
         "marker": {
          "color": "#FFA15A",
          "symbol": "circle"
         },
         "mode": "markers",
         "name": "Tonga",
         "showlegend": true,
         "type": "scattergl",
         "x": [
          133,
          135,
          137,
          138,
          14,
          142,
          147,
          145,
          146,
          148,
          15,
          151,
          153,
          155,
          157,
          158
         ],
         "xaxis": "x",
         "y": [
          73.5,
          73.3,
          73.2,
          73,
          72.9,
          72.8,
          72.5,
          72.6,
          72.5,
          72.4,
          72.3,
          72.2,
          72,
          71.9,
          71.8,
          71.6
         ],
         "yaxis": "y"
        },
        {
         "hovertemplate": "Country=Trinidad and Tobago<br>Adult Mortality=%{x}<br>Life expectancy =%{y}<extra></extra>",
         "legendgroup": "Trinidad and Tobago",
         "marker": {
          "color": "#19d3f3",
          "symbol": "circle"
         },
         "mode": "markers",
         "name": "Trinidad and Tobago",
         "showlegend": true,
         "type": "scattergl",
         "x": [
          17,
          171,
          172,
          174,
          176,
          179,
          183,
          185,
          187,
          188,
          189,
          19,
          191,
          192,
          194,
          197
         ],
         "xaxis": "x",
         "y": [
          71.2,
          71.1,
          71,
          78,
          76,
          74,
          71,
          69.9,
          69.7,
          69.6,
          69.5,
          69.4,
          69.3,
          69.2,
          69.1,
          69.1
         ],
         "yaxis": "y"
        },
        {
         "hovertemplate": "Country=Tunisia<br>Adult Mortality=%{x}<br>Life expectancy =%{y}<extra></extra>",
         "legendgroup": "Tunisia",
         "marker": {
          "color": "#FF6692",
          "symbol": "circle"
         },
         "mode": "markers",
         "name": "Tunisia",
         "showlegend": true,
         "type": "scattergl",
         "x": [
          1,
          12,
          13,
          13,
          13,
          12,
          12,
          12,
          12,
          12,
          14,
          15,
          17,
          19,
          11,
          112
         ],
         "xaxis": "x",
         "y": [
          75.3,
          75.1,
          74.9,
          74.9,
          74.8,
          74.8,
          74.7,
          74.7,
          74.6,
          74.4,
          74.2,
          74,
          73.7,
          73.5,
          73.2,
          72.9
         ],
         "yaxis": "y"
        },
        {
         "hovertemplate": "Country=Turkey<br>Adult Mortality=%{x}<br>Life expectancy =%{y}<extra></extra>",
         "legendgroup": "Turkey",
         "marker": {
          "color": "#B6E880",
          "symbol": "circle"
         },
         "mode": "markers",
         "name": "Turkey",
         "showlegend": true,
         "type": "scattergl",
         "x": [
          16,
          17,
          19,
          112,
          114,
          116,
          118,
          121,
          124,
          126,
          129,
          132,
          135,
          138,
          14,
          143
         ],
         "xaxis": "x",
         "y": [
          75.8,
          75.5,
          75.2,
          74.8,
          74.5,
          74.2,
          73.9,
          73.5,
          73.2,
          72.8,
          72.4,
          72,
          71.6,
          71.2,
          78,
          74
         ],
         "yaxis": "y"
        },
        {
         "hovertemplate": "Country=Turkmenistan<br>Adult Mortality=%{x}<br>Life expectancy =%{y}<extra></extra>",
         "legendgroup": "Turkmenistan",
         "marker": {
          "color": "#FF97FF",
          "symbol": "circle"
         },
         "mode": "markers",
         "name": "Turkmenistan",
         "showlegend": true,
         "type": "scattergl",
         "x": [
          215,
          217,
          228,
          22,
          217,
          211,
          215,
          235,
          241,
          245,
          248,
          238,
          231,
          229,
          221,
          224
         ],
         "xaxis": "x",
         "y": [
          66.3,
          66,
          65.4,
          65.6,
          65.6,
          65.8,
          65.6,
          64.5,
          64.1,
          63.7,
          63.3,
          63.5,
          63.4,
          63.3,
          64,
          63.8
         ],
         "yaxis": "y"
        },
        {
         "hovertemplate": "Country=Uganda<br>Adult Mortality=%{x}<br>Life expectancy =%{y}<extra></extra>",
         "legendgroup": "Uganda",
         "marker": {
          "color": "#FECB52",
          "symbol": "circle"
         },
         "mode": "markers",
         "name": "Uganda",
         "showlegend": true,
         "type": "scattergl",
         "x": [
          291,
          38,
          325,
          339,
          347,
          362,
          378,
          41,
          41,
          41,
          446,
          485,
          53,
          523,
          539,
          554
         ],
         "xaxis": "x",
         "y": [
          62.3,
          61.5,
          67,
          60,
          59.3,
          58.4,
          57.5,
          56.3,
          55.5,
          54.9,
          53.2,
          51.3,
          51,
          48.8,
          47.7,
          46.6
         ],
         "yaxis": "y"
        },
        {
         "hovertemplate": "Country=Ukraine<br>Adult Mortality=%{x}<br>Life expectancy =%{y}<extra></extra>",
         "legendgroup": "Ukraine",
         "marker": {
          "color": "#636efa",
          "symbol": "circle"
         },
         "mode": "markers",
         "name": "Ukraine",
         "showlegend": true,
         "type": "scattergl",
         "x": [
          195,
          23,
          198,
          25,
          24,
          212,
          231,
          273,
          277,
          267,
          278,
          267,
          256,
          256,
          253,
          257
         ],
         "xaxis": "x",
         "y": [
          71.3,
          78,
          71,
          77,
          75,
          69.8,
          69.2,
          67.7,
          67.5,
          67.7,
          67,
          67.4,
          67.6,
          67.6,
          67.7,
          67.5
         ],
         "yaxis": "y"
        },
        {
         "hovertemplate": "Country=United Arab Emirates<br>Adult Mortality=%{x}<br>Life expectancy =%{y}<extra></extra>",
         "legendgroup": "United Arab Emirates",
         "marker": {
          "color": "#EF553B",
          "symbol": "circle"
         },
         "mode": "markers",
         "name": "United Arab Emirates",
         "showlegend": true,
         "type": "scattergl",
         "x": [
          75,
          77,
          78,
          8,
          81,
          82,
          84,
          85,
          87,
          89,
          92,
          95,
          98,
          11,
          14,
          17
         ],
         "xaxis": "x",
         "y": [
          77.1,
          76.9,
          76.7,
          76.5,
          76.3,
          76.2,
          76,
          75.8,
          75.6,
          75.4,
          75.3,
          75.1,
          74.9,
          74.7,
          74.5,
          74.2
         ],
         "yaxis": "y"
        },
        {
         "hovertemplate": "Country=United Kingdom of Great Britain and Northern Ireland<br>Adult Mortality=%{x}<br>Life expectancy =%{y}<extra></extra>",
         "legendgroup": "United Kingdom of Great Britain and Northern Ireland",
         "marker": {
          "color": "#00cc96",
          "symbol": "circle"
         },
         "mode": "markers",
         "name": "United Kingdom of Great Britain and Northern Ireland",
         "showlegend": true,
         "type": "scattergl",
         "x": [
          69,
          71,
          72,
          72,
          74,
          77,
          78,
          8,
          8,
          82,
          82,
          83,
          86,
          87,
          88,
          89
         ],
         "xaxis": "x",
         "y": [
          81.2,
          81,
          87,
          86,
          86,
          82,
          81,
          79.6,
          79.5,
          79.3,
          79,
          78.8,
          78.3,
          78.2,
          78,
          77.8
         ],
         "yaxis": "y"
        },
        {
         "hovertemplate": "Country=United Republic of Tanzania<br>Adult Mortality=%{x}<br>Life expectancy =%{y}<extra></extra>",
         "legendgroup": "United Republic of Tanzania",
         "marker": {
          "color": "#ab63fa",
          "symbol": "circle"
         },
         "mode": "markers",
         "name": "United Republic of Tanzania",
         "showlegend": true,
         "type": "scattergl",
         "x": [
          279,
          34,
          323,
          348,
          348,
          36,
          368,
          376,
          411,
          437,
          449,
          454,
          459,
          46,
          46,
          457
         ],
         "xaxis": "x",
         "y": [
          61.8,
          67,
          59.7,
          58.6,
          58.3,
          57.5,
          56.9,
          56.2,
          54.5,
          53.1,
          52.2,
          51.5,
          58,
          52,
          49.6,
          49.2
         ],
         "yaxis": "y"
        },
        {
         "hovertemplate": "Country=United States of America<br>Adult Mortality=%{x}<br>Life expectancy =%{y}<extra></extra>",
         "legendgroup": "United States of America",
         "marker": {
          "color": "#FFA15A",
          "symbol": "circle"
         },
         "mode": "markers",
         "name": "United States of America",
         "showlegend": true,
         "type": "scattergl",
         "x": [
          13,
          14,
          16,
          16,
          16,
          15,
          18,
          18,
          11,
          113,
          112,
          111,
          114,
          115,
          115,
          114
         ],
         "xaxis": "x",
         "y": [
          79.3,
          79.1,
          78.9,
          78.8,
          78.7,
          78.7,
          78.5,
          78.2,
          78.1,
          77.8,
          77.5,
          77.5,
          77.2,
          77,
          76.9,
          76.8
         ],
         "yaxis": "y"
        },
        {
         "hovertemplate": "Country=Uruguay<br>Adult Mortality=%{x}<br>Life expectancy =%{y}<extra></extra>",
         "legendgroup": "Uruguay",
         "marker": {
          "color": "#19d3f3",
          "symbol": "circle"
         },
         "mode": "markers",
         "name": "Uruguay",
         "showlegend": true,
         "type": "scattergl",
         "x": [
          116,
          117,
          117,
          118,
          111,
          118,
          118,
          119,
          124,
          117,
          123,
          122,
          121,
          124,
          123,
          131
         ],
         "xaxis": "x",
         "y": [
          77,
          76.8,
          76.8,
          76.5,
          77,
          76.3,
          76.6,
          76.4,
          75.4,
          76.2,
          75.7,
          75.4,
          75.4,
          75.4,
          75.2,
          75.1
         ],
         "yaxis": "y"
        },
        {
         "hovertemplate": "Country=Uzbekistan<br>Adult Mortality=%{x}<br>Life expectancy =%{y}<extra></extra>",
         "legendgroup": "Uzbekistan",
         "marker": {
          "color": "#FF6692",
          "symbol": "circle"
         },
         "mode": "markers",
         "name": "Uzbekistan",
         "showlegend": true,
         "type": "scattergl",
         "x": [
          184,
          184,
          185,
          184,
          183,
          183,
          183,
          184,
          184,
          185,
          192,
          183,
          183,
          186,
          185,
          189
         ],
         "xaxis": "x",
         "y": [
          69.4,
          69.2,
          69.1,
          68.8,
          68.5,
          68.3,
          68,
          67.9,
          67.8,
          67.6,
          67.3,
          67.8,
          67.2,
          67.1,
          67.4,
          67.1
         ],
         "yaxis": "y"
        },
        {
         "hovertemplate": "Country=Vanuatu<br>Adult Mortality=%{x}<br>Life expectancy =%{y}<extra></extra>",
         "legendgroup": "Vanuatu",
         "marker": {
          "color": "#B6E880",
          "symbol": "circle"
         },
         "mode": "markers",
         "name": "Vanuatu",
         "showlegend": true,
         "type": "scattergl",
         "x": [
          13,
          134,
          135,
          138,
          141,
          145,
          149,
          153,
          157,
          161,
          165,
          169,
          173,
          176,
          179,
          18
         ],
         "xaxis": "x",
         "y": [
          72,
          71.7,
          71.6,
          71.4,
          71.2,
          71,
          78,
          75,
          73,
          71,
          69.9,
          69.6,
          69.4,
          69.3,
          69.1,
          69
         ],
         "yaxis": "y"
        },
        {
         "hovertemplate": "Country=Venezuela (Bolivarian Republic of)<br>Adult Mortality=%{x}<br>Life expectancy =%{y}<extra></extra>",
         "legendgroup": "Venezuela (Bolivarian Republic of)",
         "marker": {
          "color": "#FF97FF",
          "symbol": "circle"
         },
         "mode": "markers",
         "name": "Venezuela (Bolivarian Republic of)",
         "showlegend": true,
         "type": "scattergl",
         "x": [
          157,
          158,
          159,
          161,
          158,
          158,
          166,
          168,
          165,
          163,
          158,
          161,
          172,
          167,
          169,
          168
         ],
         "xaxis": "x",
         "y": [
          74.1,
          73.9,
          73.8,
          73.7,
          73.8,
          73.7,
          73.6,
          73.2,
          73.4,
          73.6,
          73.6,
          73.3,
          72.4,
          73.1,
          72.5,
          72.5
         ],
         "yaxis": "y"
        },
        {
         "hovertemplate": "Country=Viet Nam<br>Adult Mortality=%{x}<br>Life expectancy =%{y}<extra></extra>",
         "legendgroup": "Viet Nam",
         "marker": {
          "color": "#FECB52",
          "symbol": "circle"
         },
         "mode": "markers",
         "name": "Viet Nam",
         "showlegend": true,
         "type": "scattergl",
         "x": [
          127,
          128,
          129,
          13,
          131,
          133,
          134,
          135,
          136,
          136,
          136,
          136,
          137,
          137,
          138,
          139
         ],
         "xaxis": "x",
         "y": [
          76,
          75.9,
          75.7,
          75.6,
          75.4,
          75.2,
          75,
          74.9,
          74.7,
          74.6,
          74.4,
          74.2,
          74,
          73.8,
          73.6,
          73.4
         ],
         "yaxis": "y"
        },
        {
         "hovertemplate": "Country=Yemen<br>Adult Mortality=%{x}<br>Life expectancy =%{y}<extra></extra>",
         "legendgroup": "Yemen",
         "marker": {
          "color": "#636efa",
          "symbol": "circle"
         },
         "mode": "markers",
         "name": "Yemen",
         "showlegend": true,
         "type": "scattergl",
         "x": [
          224,
          228,
          226,
          236,
          234,
          233,
          235,
          238,
          24,
          242,
          245,
          247,
          249,
          25,
          251,
          252
         ],
         "xaxis": "x",
         "y": [
          65.7,
          65.4,
          65.4,
          64.7,
          64.6,
          64.4,
          64.1,
          63.8,
          63.4,
          63,
          62.6,
          62.2,
          61.9,
          61.5,
          61.1,
          68
         ],
         "yaxis": "y"
        },
        {
         "hovertemplate": "Country=Zambia<br>Adult Mortality=%{x}<br>Life expectancy =%{y}<extra></extra>",
         "legendgroup": "Zambia",
         "marker": {
          "color": "#EF553B",
          "symbol": "circle"
         },
         "mode": "markers",
         "name": "Zambia",
         "showlegend": true,
         "type": "scattergl",
         "x": [
          33,
          314,
          328,
          349,
          366,
          363,
          368,
          45,
          487,
          526,
          554,
          578,
          64,
          69,
          611,
          614
         ],
         "xaxis": "x",
         "y": [
          61.8,
          61.1,
          63,
          59.2,
          58.2,
          58,
          57.4,
          55.7,
          52.6,
          58,
          49.3,
          47.9,
          46.4,
          45.5,
          44.6,
          43.8
         ],
         "yaxis": "y"
        },
        {
         "hovertemplate": "Country=Zimbabwe<br>Adult Mortality=%{x}<br>Life expectancy =%{y}<extra></extra>",
         "legendgroup": "Zimbabwe",
         "marker": {
          "color": "#00cc96",
          "symbol": "circle"
         },
         "mode": "markers",
         "name": "Zimbabwe",
         "showlegend": true,
         "type": "scattergl",
         "x": [
          336,
          371,
          399,
          429,
          464,
          527,
          587,
          632,
          67,
          7,
          717,
          723,
          715,
          73,
          686,
          665
         ],
         "xaxis": "x",
         "y": [
          67,
          59.2,
          58,
          56.6,
          54.9,
          52.4,
          50,
          48.2,
          46.6,
          45.4,
          44.6,
          44.3,
          44.5,
          44.8,
          45.3,
          46
         ],
         "yaxis": "y"
        }
       ],
       "layout": {
        "legend": {
         "title": {
          "text": "Country"
         },
         "tracegroupgap": 0
        },
        "margin": {
         "t": 60
        },
        "template": {
         "data": {
          "bar": [
           {
            "error_x": {
             "color": "#2a3f5f"
            },
            "error_y": {
             "color": "#2a3f5f"
            },
            "marker": {
             "line": {
              "color": "#E5ECF6",
              "width": 0.5
             },
             "pattern": {
              "fillmode": "overlay",
              "size": 10,
              "solidity": 0.2
             }
            },
            "type": "bar"
           }
          ],
          "barpolar": [
           {
            "marker": {
             "line": {
              "color": "#E5ECF6",
              "width": 0.5
             },
             "pattern": {
              "fillmode": "overlay",
              "size": 10,
              "solidity": 0.2
             }
            },
            "type": "barpolar"
           }
          ],
          "carpet": [
           {
            "aaxis": {
             "endlinecolor": "#2a3f5f",
             "gridcolor": "white",
             "linecolor": "white",
             "minorgridcolor": "white",
             "startlinecolor": "#2a3f5f"
            },
            "baxis": {
             "endlinecolor": "#2a3f5f",
             "gridcolor": "white",
             "linecolor": "white",
             "minorgridcolor": "white",
             "startlinecolor": "#2a3f5f"
            },
            "type": "carpet"
           }
          ],
          "choropleth": [
           {
            "colorbar": {
             "outlinewidth": 0,
             "ticks": ""
            },
            "type": "choropleth"
           }
          ],
          "contour": [
           {
            "colorbar": {
             "outlinewidth": 0,
             "ticks": ""
            },
            "colorscale": [
             [
              0,
              "#0d0887"
             ],
             [
              0.1111111111111111,
              "#46039f"
             ],
             [
              0.2222222222222222,
              "#7201a8"
             ],
             [
              0.3333333333333333,
              "#9c179e"
             ],
             [
              0.4444444444444444,
              "#bd3786"
             ],
             [
              0.5555555555555556,
              "#d8576b"
             ],
             [
              0.6666666666666666,
              "#ed7953"
             ],
             [
              0.7777777777777778,
              "#fb9f3a"
             ],
             [
              0.8888888888888888,
              "#fdca26"
             ],
             [
              1,
              "#f0f921"
             ]
            ],
            "type": "contour"
           }
          ],
          "contourcarpet": [
           {
            "colorbar": {
             "outlinewidth": 0,
             "ticks": ""
            },
            "type": "contourcarpet"
           }
          ],
          "heatmap": [
           {
            "colorbar": {
             "outlinewidth": 0,
             "ticks": ""
            },
            "colorscale": [
             [
              0,
              "#0d0887"
             ],
             [
              0.1111111111111111,
              "#46039f"
             ],
             [
              0.2222222222222222,
              "#7201a8"
             ],
             [
              0.3333333333333333,
              "#9c179e"
             ],
             [
              0.4444444444444444,
              "#bd3786"
             ],
             [
              0.5555555555555556,
              "#d8576b"
             ],
             [
              0.6666666666666666,
              "#ed7953"
             ],
             [
              0.7777777777777778,
              "#fb9f3a"
             ],
             [
              0.8888888888888888,
              "#fdca26"
             ],
             [
              1,
              "#f0f921"
             ]
            ],
            "type": "heatmap"
           }
          ],
          "heatmapgl": [
           {
            "colorbar": {
             "outlinewidth": 0,
             "ticks": ""
            },
            "colorscale": [
             [
              0,
              "#0d0887"
             ],
             [
              0.1111111111111111,
              "#46039f"
             ],
             [
              0.2222222222222222,
              "#7201a8"
             ],
             [
              0.3333333333333333,
              "#9c179e"
             ],
             [
              0.4444444444444444,
              "#bd3786"
             ],
             [
              0.5555555555555556,
              "#d8576b"
             ],
             [
              0.6666666666666666,
              "#ed7953"
             ],
             [
              0.7777777777777778,
              "#fb9f3a"
             ],
             [
              0.8888888888888888,
              "#fdca26"
             ],
             [
              1,
              "#f0f921"
             ]
            ],
            "type": "heatmapgl"
           }
          ],
          "histogram": [
           {
            "marker": {
             "pattern": {
              "fillmode": "overlay",
              "size": 10,
              "solidity": 0.2
             }
            },
            "type": "histogram"
           }
          ],
          "histogram2d": [
           {
            "colorbar": {
             "outlinewidth": 0,
             "ticks": ""
            },
            "colorscale": [
             [
              0,
              "#0d0887"
             ],
             [
              0.1111111111111111,
              "#46039f"
             ],
             [
              0.2222222222222222,
              "#7201a8"
             ],
             [
              0.3333333333333333,
              "#9c179e"
             ],
             [
              0.4444444444444444,
              "#bd3786"
             ],
             [
              0.5555555555555556,
              "#d8576b"
             ],
             [
              0.6666666666666666,
              "#ed7953"
             ],
             [
              0.7777777777777778,
              "#fb9f3a"
             ],
             [
              0.8888888888888888,
              "#fdca26"
             ],
             [
              1,
              "#f0f921"
             ]
            ],
            "type": "histogram2d"
           }
          ],
          "histogram2dcontour": [
           {
            "colorbar": {
             "outlinewidth": 0,
             "ticks": ""
            },
            "colorscale": [
             [
              0,
              "#0d0887"
             ],
             [
              0.1111111111111111,
              "#46039f"
             ],
             [
              0.2222222222222222,
              "#7201a8"
             ],
             [
              0.3333333333333333,
              "#9c179e"
             ],
             [
              0.4444444444444444,
              "#bd3786"
             ],
             [
              0.5555555555555556,
              "#d8576b"
             ],
             [
              0.6666666666666666,
              "#ed7953"
             ],
             [
              0.7777777777777778,
              "#fb9f3a"
             ],
             [
              0.8888888888888888,
              "#fdca26"
             ],
             [
              1,
              "#f0f921"
             ]
            ],
            "type": "histogram2dcontour"
           }
          ],
          "mesh3d": [
           {
            "colorbar": {
             "outlinewidth": 0,
             "ticks": ""
            },
            "type": "mesh3d"
           }
          ],
          "parcoords": [
           {
            "line": {
             "colorbar": {
              "outlinewidth": 0,
              "ticks": ""
             }
            },
            "type": "parcoords"
           }
          ],
          "pie": [
           {
            "automargin": true,
            "type": "pie"
           }
          ],
          "scatter": [
           {
            "fillpattern": {
             "fillmode": "overlay",
             "size": 10,
             "solidity": 0.2
            },
            "type": "scatter"
           }
          ],
          "scatter3d": [
           {
            "line": {
             "colorbar": {
              "outlinewidth": 0,
              "ticks": ""
             }
            },
            "marker": {
             "colorbar": {
              "outlinewidth": 0,
              "ticks": ""
             }
            },
            "type": "scatter3d"
           }
          ],
          "scattercarpet": [
           {
            "marker": {
             "colorbar": {
              "outlinewidth": 0,
              "ticks": ""
             }
            },
            "type": "scattercarpet"
           }
          ],
          "scattergeo": [
           {
            "marker": {
             "colorbar": {
              "outlinewidth": 0,
              "ticks": ""
             }
            },
            "type": "scattergeo"
           }
          ],
          "scattergl": [
           {
            "marker": {
             "colorbar": {
              "outlinewidth": 0,
              "ticks": ""
             }
            },
            "type": "scattergl"
           }
          ],
          "scattermapbox": [
           {
            "marker": {
             "colorbar": {
              "outlinewidth": 0,
              "ticks": ""
             }
            },
            "type": "scattermapbox"
           }
          ],
          "scatterpolar": [
           {
            "marker": {
             "colorbar": {
              "outlinewidth": 0,
              "ticks": ""
             }
            },
            "type": "scatterpolar"
           }
          ],
          "scatterpolargl": [
           {
            "marker": {
             "colorbar": {
              "outlinewidth": 0,
              "ticks": ""
             }
            },
            "type": "scatterpolargl"
           }
          ],
          "scatterternary": [
           {
            "marker": {
             "colorbar": {
              "outlinewidth": 0,
              "ticks": ""
             }
            },
            "type": "scatterternary"
           }
          ],
          "surface": [
           {
            "colorbar": {
             "outlinewidth": 0,
             "ticks": ""
            },
            "colorscale": [
             [
              0,
              "#0d0887"
             ],
             [
              0.1111111111111111,
              "#46039f"
             ],
             [
              0.2222222222222222,
              "#7201a8"
             ],
             [
              0.3333333333333333,
              "#9c179e"
             ],
             [
              0.4444444444444444,
              "#bd3786"
             ],
             [
              0.5555555555555556,
              "#d8576b"
             ],
             [
              0.6666666666666666,
              "#ed7953"
             ],
             [
              0.7777777777777778,
              "#fb9f3a"
             ],
             [
              0.8888888888888888,
              "#fdca26"
             ],
             [
              1,
              "#f0f921"
             ]
            ],
            "type": "surface"
           }
          ],
          "table": [
           {
            "cells": {
             "fill": {
              "color": "#EBF0F8"
             },
             "line": {
              "color": "white"
             }
            },
            "header": {
             "fill": {
              "color": "#C8D4E3"
             },
             "line": {
              "color": "white"
             }
            },
            "type": "table"
           }
          ]
         },
         "layout": {
          "annotationdefaults": {
           "arrowcolor": "#2a3f5f",
           "arrowhead": 0,
           "arrowwidth": 1
          },
          "autotypenumbers": "strict",
          "coloraxis": {
           "colorbar": {
            "outlinewidth": 0,
            "ticks": ""
           }
          },
          "colorscale": {
           "diverging": [
            [
             0,
             "#8e0152"
            ],
            [
             0.1,
             "#c51b7d"
            ],
            [
             0.2,
             "#de77ae"
            ],
            [
             0.3,
             "#f1b6da"
            ],
            [
             0.4,
             "#fde0ef"
            ],
            [
             0.5,
             "#f7f7f7"
            ],
            [
             0.6,
             "#e6f5d0"
            ],
            [
             0.7,
             "#b8e186"
            ],
            [
             0.8,
             "#7fbc41"
            ],
            [
             0.9,
             "#4d9221"
            ],
            [
             1,
             "#276419"
            ]
           ],
           "sequential": [
            [
             0,
             "#0d0887"
            ],
            [
             0.1111111111111111,
             "#46039f"
            ],
            [
             0.2222222222222222,
             "#7201a8"
            ],
            [
             0.3333333333333333,
             "#9c179e"
            ],
            [
             0.4444444444444444,
             "#bd3786"
            ],
            [
             0.5555555555555556,
             "#d8576b"
            ],
            [
             0.6666666666666666,
             "#ed7953"
            ],
            [
             0.7777777777777778,
             "#fb9f3a"
            ],
            [
             0.8888888888888888,
             "#fdca26"
            ],
            [
             1,
             "#f0f921"
            ]
           ],
           "sequentialminus": [
            [
             0,
             "#0d0887"
            ],
            [
             0.1111111111111111,
             "#46039f"
            ],
            [
             0.2222222222222222,
             "#7201a8"
            ],
            [
             0.3333333333333333,
             "#9c179e"
            ],
            [
             0.4444444444444444,
             "#bd3786"
            ],
            [
             0.5555555555555556,
             "#d8576b"
            ],
            [
             0.6666666666666666,
             "#ed7953"
            ],
            [
             0.7777777777777778,
             "#fb9f3a"
            ],
            [
             0.8888888888888888,
             "#fdca26"
            ],
            [
             1,
             "#f0f921"
            ]
           ]
          },
          "colorway": [
           "#636efa",
           "#EF553B",
           "#00cc96",
           "#ab63fa",
           "#FFA15A",
           "#19d3f3",
           "#FF6692",
           "#B6E880",
           "#FF97FF",
           "#FECB52"
          ],
          "font": {
           "color": "#2a3f5f"
          },
          "geo": {
           "bgcolor": "white",
           "lakecolor": "white",
           "landcolor": "#E5ECF6",
           "showlakes": true,
           "showland": true,
           "subunitcolor": "white"
          },
          "hoverlabel": {
           "align": "left"
          },
          "hovermode": "closest",
          "mapbox": {
           "style": "light"
          },
          "paper_bgcolor": "white",
          "plot_bgcolor": "#E5ECF6",
          "polar": {
           "angularaxis": {
            "gridcolor": "white",
            "linecolor": "white",
            "ticks": ""
           },
           "bgcolor": "#E5ECF6",
           "radialaxis": {
            "gridcolor": "white",
            "linecolor": "white",
            "ticks": ""
           }
          },
          "scene": {
           "xaxis": {
            "backgroundcolor": "#E5ECF6",
            "gridcolor": "white",
            "gridwidth": 2,
            "linecolor": "white",
            "showbackground": true,
            "ticks": "",
            "zerolinecolor": "white"
           },
           "yaxis": {
            "backgroundcolor": "#E5ECF6",
            "gridcolor": "white",
            "gridwidth": 2,
            "linecolor": "white",
            "showbackground": true,
            "ticks": "",
            "zerolinecolor": "white"
           },
           "zaxis": {
            "backgroundcolor": "#E5ECF6",
            "gridcolor": "white",
            "gridwidth": 2,
            "linecolor": "white",
            "showbackground": true,
            "ticks": "",
            "zerolinecolor": "white"
           }
          },
          "shapedefaults": {
           "line": {
            "color": "#2a3f5f"
           }
          },
          "ternary": {
           "aaxis": {
            "gridcolor": "white",
            "linecolor": "white",
            "ticks": ""
           },
           "baxis": {
            "gridcolor": "white",
            "linecolor": "white",
            "ticks": ""
           },
           "bgcolor": "#E5ECF6",
           "caxis": {
            "gridcolor": "white",
            "linecolor": "white",
            "ticks": ""
           }
          },
          "title": {
           "x": 0.05
          },
          "xaxis": {
           "automargin": true,
           "gridcolor": "white",
           "linecolor": "white",
           "ticks": "",
           "title": {
            "standoff": 15
           },
           "zerolinecolor": "white",
           "zerolinewidth": 2
          },
          "yaxis": {
           "automargin": true,
           "gridcolor": "white",
           "linecolor": "white",
           "ticks": "",
           "title": {
            "standoff": 15
           },
           "zerolinecolor": "white",
           "zerolinewidth": 2
          }
         }
        },
        "xaxis": {
         "anchor": "y",
         "domain": [
          0,
          1
         ],
         "title": {
          "text": "Adult Mortality"
         }
        },
        "yaxis": {
         "anchor": "x",
         "domain": [
          0,
          1
         ],
         "title": {
          "text": "Life expectancy "
         }
        }
       }
      }
     },
     "metadata": {},
     "output_type": "display_data"
    }
   ],
   "source": [
    "px.scatter(df, x='Adult Mortality', y='Life expectancy ', color='Country')"
   ]
  },
  {
   "cell_type": "markdown",
   "metadata": {},
   "source": [
    "If we play a bit with this data it seems like Adult mortality is sometimes wrongly reported as divided by 10 or 100...\n",
    "\n",
    "We will not focus on data correctness not, and instead we will analyze a linear regression model."
   ]
  },
  {
   "cell_type": "markdown",
   "metadata": {},
   "source": [
    "### Anscombe's quartet\n",
    "\n",
    "The famous example that shows why it's hard to asses datasets solely on numbers is the Anscombe's quartet:\n",
    "\n"
   ]
  },
  {
   "cell_type": "code",
   "execution_count": 27,
   "metadata": {},
   "outputs": [
    {
     "data": {
      "image/png": "[encoded data removed]",
      "text/plain": [
       "<Figure size 432x432 with 4 Axes>"
      ]
     },
     "metadata": {
      "needs_background": "light"
     },
     "output_type": "display_data"
    }
   ],
   "source": [
    "#| code-fold: true\n",
    "# Source: https://matplotlib.org/stable/gallery/specialty_plots/anscombe.html\n",
    "x = [10, 8, 13, 9, 11, 14, 6, 4, 12, 7, 5]\n",
    "y1 = [8.04, 6.95, 7.58, 8.81, 8.33, 9.96, 7.24, 4.26, 10.84, 4.82, 5.68]\n",
    "y2 = [9.14, 8.14, 8.74, 8.77, 9.26, 8.10, 6.13, 3.10, 9.13, 7.26, 4.74]\n",
    "y3 = [7.46, 6.77, 12.74, 7.11, 7.81, 8.84, 6.08, 5.39, 8.15, 6.42, 5.73]\n",
    "x4 = [8, 8, 8, 8, 8, 8, 8, 19, 8, 8, 8]\n",
    "y4 = [6.58, 5.76, 7.71, 8.84, 8.47, 7.04, 5.25, 12.50, 5.56, 7.91, 6.89]\n",
    "\n",
    "datasets = {\n",
    "    'I': (x, y1),\n",
    "    'II': (x, y2),\n",
    "    'III': (x, y3),\n",
    "    'IV': (x4, y4)\n",
    "}\n",
    "\n",
    "fig, axs = plt.subplots(2, 2, sharex=True, sharey=True, figsize=(6, 6),\n",
    "                        gridspec_kw={'wspace': 0.08, 'hspace': 0.08})\n",
    "axs[0, 0].set(xlim=(0, 20), ylim=(2, 14))\n",
    "axs[0, 0].set(xticks=(0, 10, 20), yticks=(4, 8, 12))\n",
    "\n",
    "for ax, (label, (x, y)) in zip(axs.flat, datasets.items()):\n",
    "    ax.text(0.1, 0.9, label, fontsize=20, transform=ax.transAxes, va='top')\n",
    "    ax.tick_params(direction='in', top=True, right=True)\n",
    "    ax.plot(x, y, 'o')\n",
    "\n",
    "    # linear regression\n",
    "    p1, p0 = np.polyfit(x, y, deg=1)  # slope, intercept\n",
    "    ax.axline(xy1=(0, p0), slope=p1, color='r', lw=2)\n",
    "\n",
    "    # add text box for the statistics\n",
    "    stats = (f'$\\\\mu$ = {np.mean(y):.2f}\\n'\n",
    "             f'$\\\\sigma$ = {np.std(y):.2f}\\n'\n",
    "             f'$r$ = {np.corrcoef(x, y)[0][1]:.2f}')\n",
    "    bbox = dict(boxstyle='round', fc='blanchedalmond', ec='orange', alpha=0.5)\n",
    "    ax.text(0.95, 0.07, stats, fontsize=9, bbox=bbox,\n",
    "            transform=ax.transAxes, horizontalalignment='right')\n",
    "\n",
    "plt.show()"
   ]
  },
  {
   "cell_type": "markdown",
   "metadata": {},
   "source": [
    "Those 4 datasets have the same mean, variance, correlation even though they are clearly different.\n",
    "\n",
    "Now let's come back to the linear regression."
   ]
  },
  {
   "cell_type": "markdown",
   "metadata": {},
   "source": [
    "### Linear regression\n",
    "\n",
    "This is a fundamental model for machine learning.\n",
    "\n",
    "![](images/regression.png)\n",
    "\n",
    "\n",
    "For example given those 4 red points we are looking for the best fit of the line.\n",
    "Linear regression will minimize the _least squares_ error:\n",
    "\n",
    "$$\n",
    "(ax_1 + b - y_1)^2 + (ax_2 + b - y_2)^2 + (ax_3 + b - y_3)^2 + (ax_4 + b - y_4)^2 \n",
    "$$\n",
    "\n",
    "It is the sum of squares of distance between the predicted value $(ax_i + b)$ and the known $y_i$. \n",
    "We can also write it like:\n",
    "\n",
    "$$\n",
    "C(a,b;x) = \\sum_{i=1}^N (a x_i + b - y_i)^2\n",
    "$$\n",
    "\n",
    "We can change $a$ and $b$ to generate different lines.\n",
    "Linear regression algorithm finds $a$ and $b$ is the optimal in terms of $C$, i.e., it minimizes this sum.\n",
    "There is no better $a$ and $b$ in terms of cost $C$ then those found by the linear regression (it doesn't mean that this model is the best in general)."
   ]
  },
  {
   "cell_type": "code",
   "execution_count": 28,
   "metadata": {},
   "outputs": [
    {
     "data": {
      "text/plain": [
       "(array([1.4]), 3.5000000000000013)"
      ]
     },
     "execution_count": 28,
     "metadata": {},
     "output_type": "execute_result"
    }
   ],
   "source": [
    "x = np.array([1, 2, 3, 4]).reshape((-1, 1))\n",
    "y = np.array([6, 5, 7, 10])\n",
    "reg = LinearRegression()\n",
    "reg.fit(x, y)\n",
    "reg.coef_, reg.intercept_"
   ]
  },
  {
   "cell_type": "markdown",
   "metadata": {},
   "source": [
    "We see that the model fitted to the above points is:\n",
    "\n",
    "$$\n",
    "y = 1.4 x + 3.5\n",
    "$$\n",
    "\n",
    "We can easily say for example that value for $0$ is $3.5$, and value for $10$ is $17.5$.\n",
    "Increasing $x$ by $1$, increases $y$ by $1.4$.\n",
    "It's very useful that linear regression is such easy in interpretation.\n",
    "\n",
    "Now let's fit and analyze model for life expectancy using sklearn one more time.\n",
    "We will stick to using only one column for a while."
   ]
  },
  {
   "cell_type": "code",
   "execution_count": 30,
   "metadata": {},
   "outputs": [
    {
     "name": "stdout",
     "output_type": "stream",
     "text": [
      "Model on one variable\n",
      "Model MSE: 47.196378315450985\n",
      "Model RMSE: 6.869962031587291\n",
      "Model MAD: 4.764597082341191\n"
     ]
    }
   ],
   "source": [
    "X_mortality = df[['Adult Mortality']]\n",
    "y_expectancy = df['Life expectancy ']\n",
    "\n",
    "X_train, X_test, y_train, y_test = train_test_split(X_mortality, y_expectancy, random_state=42)\n",
    "model = LinearRegression()\n",
    "model.fit(X_train, y_train)\n",
    "y_pred = model.predict(X_test)\n",
    "\n",
    "print(\"Model on one variable\")\n",
    "print(f\"Model MSE: {mean_squared_error(y_test, y_pred)}\")\n",
    "print(f\"Model RMSE: {np.sqrt(mean_squared_error(y_test, y_pred))}\")\n",
    "print(f\"Model MAD: {mean_absolute_error(y_test, y_pred)}\")"
   ]
  },
  {
   "cell_type": "markdown",
   "metadata": {},
   "source": [
    "The model is obviously worse, but let's look at it's parameters."
   ]
  },
  {
   "cell_type": "code",
   "execution_count": 31,
   "metadata": {},
   "outputs": [
    {
     "data": {
      "text/plain": [
       "(78.20257100829083, array([-0.05402412]))"
      ]
     },
     "execution_count": 31,
     "metadata": {},
     "output_type": "execute_result"
    }
   ],
   "source": [
    "model.intercept_, model.coef_"
   ]
  },
  {
   "cell_type": "markdown",
   "metadata": {},
   "source": [
    "This means that the fitted relationship can be described by equation:\n",
    "\n",
    "$$\n",
    "y = -0.054 x + 78.203\n",
    "$$"
   ]
  },
  {
   "cell_type": "code",
   "execution_count": 32,
   "metadata": {},
   "outputs": [],
   "source": [
    "import matplotlib.pyplot as plt"
   ]
  },
  {
   "cell_type": "code",
   "execution_count": 33,
   "metadata": {},
   "outputs": [],
   "source": [
    "def fitted_function(x):\n",
    "    return model.coef_ * x + model.intercept_\n",
    "\n",
    "x1 = 0\n",
    "x2 = 700\n",
    "y1 = fitted_function(x1)\n",
    "y2 = fitted_function(x2)"
   ]
  },
  {
   "cell_type": "code",
   "execution_count": 34,
   "metadata": {},
   "outputs": [
    {
     "data": {
      "text/plain": [
       "<matplotlib.legend.Legend at 0x1ab5e378fd0>"
      ]
     },
     "execution_count": 34,
     "metadata": {},
     "output_type": "execute_result"
    },
    {
     "data": {
      "image/png": "[encoded data removed]",
      "text/plain": [
       "<Figure size 432x288 with 1 Axes>"
      ]
     },
     "metadata": {
      "needs_background": "light"
     },
     "output_type": "display_data"
    }
   ],
   "source": [
    "plt.plot(X_mortality, y_expectancy, '.', label=\"Data points\")\n",
    "plt.plot([x1, x2], [y1, y2], label=\"Fitted function\")\n",
    "plt.legend()"
   ]
  },
  {
   "cell_type": "markdown",
   "metadata": {},
   "source": [
    "Well, it works!\n",
    "\n",
    "Now we can see that we've done exactly what `model.predict()` suppose to do.\n",
    "We can check if that's true."
   ]
  },
  {
   "cell_type": "code",
   "execution_count": 35,
   "metadata": {},
   "outputs": [
    {
     "data": {
      "text/plain": [
       "(array([78.20257101]), array([40.38568536]))"
      ]
     },
     "execution_count": 35,
     "metadata": {},
     "output_type": "execute_result"
    }
   ],
   "source": [
    "y1, y2"
   ]
  },
  {
   "cell_type": "code",
   "execution_count": 36,
   "metadata": {},
   "outputs": [
    {
     "name": "stderr",
     "output_type": "stream",
     "text": [
      "c:\\Users\\01149762\\Anaconda3\\envs\\daftacademy-ds\\lib\\site-packages\\sklearn\\base.py:450: UserWarning:\n",
      "\n",
      "X does not have valid feature names, but LinearRegression was fitted with feature names\n",
      "\n"
     ]
    },
    {
     "data": {
      "text/plain": [
       "array([78.20257101, 40.38568536])"
      ]
     },
     "execution_count": 36,
     "metadata": {},
     "output_type": "execute_result"
    }
   ],
   "source": [
    "model.predict(np.array([x1, x2]).reshape(-1, 1))"
   ]
  },
  {
   "cell_type": "markdown",
   "metadata": {},
   "source": [
    "Finally let's come back to the model on all features and analyze it's coefficients."
   ]
  },
  {
   "cell_type": "code",
   "execution_count": 38,
   "metadata": {},
   "outputs": [
    {
     "data": {
      "text/html": [
       "<style>#sk-container-id-2 {color: black;background-color: white;}#sk-container-id-2 pre{padding: 0;}#sk-container-id-2 div.sk-toggleable {background-color: white;}#sk-container-id-2 label.sk-toggleable__label {cursor: pointer;display: block;width: 100%;margin-bottom: 0;padding: 0.3em;box-sizing: border-box;text-align: center;}#sk-container-id-2 label.sk-toggleable__label-arrow:before {content: \"▸\";float: left;margin-right: 0.25em;color: #696969;}#sk-container-id-2 label.sk-toggleable__label-arrow:hover:before {color: black;}#sk-container-id-2 div.sk-estimator:hover label.sk-toggleable__label-arrow:before {color: black;}#sk-container-id-2 div.sk-toggleable__content {max-height: 0;max-width: 0;overflow: hidden;text-align: left;background-color: #f0f8ff;}#sk-container-id-2 div.sk-toggleable__content pre {margin: 0.2em;color: black;border-radius: 0.25em;background-color: #f0f8ff;}#sk-container-id-2 input.sk-toggleable__control:checked~div.sk-toggleable__content {max-height: 200px;max-width: 100%;overflow: auto;}#sk-container-id-2 input.sk-toggleable__control:checked~label.sk-toggleable__label-arrow:before {content: \"▾\";}#sk-container-id-2 div.sk-estimator input.sk-toggleable__control:checked~label.sk-toggleable__label {background-color: #d4ebff;}#sk-container-id-2 div.sk-label input.sk-toggleable__control:checked~label.sk-toggleable__label {background-color: #d4ebff;}#sk-container-id-2 input.sk-hidden--visually {border: 0;clip: rect(1px 1px 1px 1px);clip: rect(1px, 1px, 1px, 1px);height: 1px;margin: -1px;overflow: hidden;padding: 0;position: absolute;width: 1px;}#sk-container-id-2 div.sk-estimator {font-family: monospace;background-color: #f0f8ff;border: 1px dotted black;border-radius: 0.25em;box-sizing: border-box;margin-bottom: 0.5em;}#sk-container-id-2 div.sk-estimator:hover {background-color: #d4ebff;}#sk-container-id-2 div.sk-parallel-item::after {content: \"\";width: 100%;border-bottom: 1px solid gray;flex-grow: 1;}#sk-container-id-2 div.sk-label:hover label.sk-toggleable__label {background-color: #d4ebff;}#sk-container-id-2 div.sk-serial::before {content: \"\";position: absolute;border-left: 1px solid gray;box-sizing: border-box;top: 0;bottom: 0;left: 50%;z-index: 0;}#sk-container-id-2 div.sk-serial {display: flex;flex-direction: column;align-items: center;background-color: white;padding-right: 0.2em;padding-left: 0.2em;position: relative;}#sk-container-id-2 div.sk-item {position: relative;z-index: 1;}#sk-container-id-2 div.sk-parallel {display: flex;align-items: stretch;justify-content: center;background-color: white;position: relative;}#sk-container-id-2 div.sk-item::before, #sk-container-id-2 div.sk-parallel-item::before {content: \"\";position: absolute;border-left: 1px solid gray;box-sizing: border-box;top: 0;bottom: 0;left: 50%;z-index: -1;}#sk-container-id-2 div.sk-parallel-item {display: flex;flex-direction: column;z-index: 1;position: relative;background-color: white;}#sk-container-id-2 div.sk-parallel-item:first-child::after {align-self: flex-end;width: 50%;}#sk-container-id-2 div.sk-parallel-item:last-child::after {align-self: flex-start;width: 50%;}#sk-container-id-2 div.sk-parallel-item:only-child::after {width: 0;}#sk-container-id-2 div.sk-dashed-wrapped {border: 1px dashed gray;margin: 0 0.4em 0.5em 0.4em;box-sizing: border-box;padding-bottom: 0.4em;background-color: white;}#sk-container-id-2 div.sk-label label {font-family: monospace;font-weight: bold;display: inline-block;line-height: 1.2em;}#sk-container-id-2 div.sk-label-container {text-align: center;}#sk-container-id-2 div.sk-container {/* jupyter's `normalize.less` sets `[hidden] { display: none; }` but bootstrap.min.css set `[hidden] { display: none !important; }` so we also need the `!important` here to be able to override the default hidden behavior on the sphinx rendered scikit-learn.org. See: https://github.com/scikit-learn/scikit-learn/issues/21755 */display: inline-block !important;position: relative;}#sk-container-id-2 div.sk-text-repr-fallback {display: none;}</style><div id=\"sk-container-id-2\" class=\"sk-top-container\"><div class=\"sk-text-repr-fallback\"><pre>LinearRegression()</pre><b>In a Jupyter environment, please rerun this cell to show the HTML representation or trust the notebook. <br />On GitHub, the HTML representation is unable to render, please try loading this page with nbviewer.org.</b></div><div class=\"sk-container\" hidden><div class=\"sk-item\"><div class=\"sk-estimator sk-toggleable\"><input class=\"sk-toggleable__control sk-hidden--visually\" id=\"sk-estimator-id-2\" type=\"checkbox\" checked><label for=\"sk-estimator-id-2\" class=\"sk-toggleable__label sk-toggleable__label-arrow\">LinearRegression</label><div class=\"sk-toggleable__content\"><pre>LinearRegression()</pre></div></div></div></div></div>"
      ],
      "text/plain": [
       "LinearRegression()"
      ]
     },
     "execution_count": 38,
     "metadata": {},
     "output_type": "execute_result"
    }
   ],
   "source": [
    "df2 = df.dropna().drop(columns=[\"Country\", \"Status\"])\n",
    "\n",
    "X = df2.drop(columns=['Life expectancy '])\n",
    "y = df2['Life expectancy ']\n",
    "X_train, X_test, y_train, y_test = train_test_split(X, y, random_state=42)\n",
    "\n",
    "model = LinearRegression()\n",
    "model.fit(X_train, y_train)"
   ]
  },
  {
   "cell_type": "markdown",
   "metadata": {},
   "source": [
    "We can collect all coefficients in a single table:"
   ]
  },
  {
   "cell_type": "code",
   "execution_count": 39,
   "metadata": {},
   "outputs": [
    {
     "data": {
      "text/plain": [
       "Year                              -1.099243e-01\n",
       "Adult Mortality                   -1.649304e-02\n",
       "infant deaths                      9.230016e-02\n",
       "Alcohol                           -1.366391e-01\n",
       "percentage expenditure             4.265777e-04\n",
       "Hepatitis B                       -5.419741e-03\n",
       "Measles                           -1.302753e-05\n",
       " BMI                               2.252844e-02\n",
       "under-five deaths                 -6.888427e-02\n",
       "Polio                              5.871620e-03\n",
       "Total expenditure                  1.220344e-01\n",
       "Diphtheria                         1.511306e-02\n",
       " HIV/AIDS                         -4.370409e-01\n",
       "GDP                               -1.144866e-06\n",
       "Population                        -1.484163e-10\n",
       " thinness  1-19 years             -3.625005e-02\n",
       " thinness 5-9 years               -5.842498e-02\n",
       "Income composition of resources    9.268621e+00\n",
       "Schooling                          1.046039e+00\n",
       "Intercept                          2.730100e+02\n",
       "dtype: float64"
      ]
     },
     "execution_count": 39,
     "metadata": {},
     "output_type": "execute_result"
    }
   ],
   "source": [
    "s = pd.Series(model.coef_, X.columns)\n",
    "s['Intercept'] = model.intercept_\n",
    "s"
   ]
  },
  {
   "cell_type": "markdown",
   "metadata": {},
   "source": [
    "Multidimensional example is much harder to imagine than 2D but think about this way:\n",
    "\n",
    "$$\n",
    "y = x_{Year} \\cdot c_{Year} + x_{Adult Mortality} \\cdot c_{Adult Mortality} + ... + x_{Schooling} \\cdot y_{Schooling} + intercept\n",
    "$$\n",
    "\n",
    "Now everything should make sense.\n",
    "We can experiment a bit with the model, let's dig out the 2014 data on Poland."
   ]
  },
  {
   "cell_type": "code",
   "execution_count": 40,
   "metadata": {},
   "outputs": [
    {
     "data": {
      "text/html": [
       "<div>\n",
       "<style scoped>\n",
       "    .dataframe tbody tr th:only-of-type {\n",
       "        vertical-align: middle;\n",
       "    }\n",
       "\n",
       "    .dataframe tbody tr th {\n",
       "        vertical-align: top;\n",
       "    }\n",
       "\n",
       "    .dataframe thead th {\n",
       "        text-align: right;\n",
       "    }\n",
       "</style>\n",
       "<table border=\"1\" class=\"dataframe\">\n",
       "  <thead>\n",
       "    <tr style=\"text-align: right;\">\n",
       "      <th></th>\n",
       "      <th>Country</th>\n",
       "      <th>Year</th>\n",
       "      <th>Status</th>\n",
       "      <th>Life expectancy</th>\n",
       "      <th>Adult Mortality</th>\n",
       "      <th>infant deaths</th>\n",
       "      <th>Alcohol</th>\n",
       "      <th>percentage expenditure</th>\n",
       "      <th>Hepatitis B</th>\n",
       "      <th>Measles</th>\n",
       "      <th>...</th>\n",
       "      <th>Polio</th>\n",
       "      <th>Total expenditure</th>\n",
       "      <th>Diphtheria</th>\n",
       "      <th>HIV/AIDS</th>\n",
       "      <th>GDP</th>\n",
       "      <th>Population</th>\n",
       "      <th>thinness  1-19 years</th>\n",
       "      <th>thinness 5-9 years</th>\n",
       "      <th>Income composition of resources</th>\n",
       "      <th>Schooling</th>\n",
       "    </tr>\n",
       "  </thead>\n",
       "  <tbody>\n",
       "    <tr>\n",
       "      <th>0</th>\n",
       "      <td>Poland</td>\n",
       "      <td>2014</td>\n",
       "      <td>Developed</td>\n",
       "      <td>77.3</td>\n",
       "      <td>12.0</td>\n",
       "      <td>2</td>\n",
       "      <td>10.71</td>\n",
       "      <td>243.808475</td>\n",
       "      <td>96.0</td>\n",
       "      <td>0</td>\n",
       "      <td>...</td>\n",
       "      <td>94.0</td>\n",
       "      <td>6.35</td>\n",
       "      <td>98.0</td>\n",
       "      <td>0.1</td>\n",
       "      <td>14341.675</td>\n",
       "      <td>3811735.0</td>\n",
       "      <td>1.9</td>\n",
       "      <td>2.1</td>\n",
       "      <td>0.85</td>\n",
       "      <td>16.4</td>\n",
       "    </tr>\n",
       "  </tbody>\n",
       "</table>\n",
       "<p>1 rows × 22 columns</p>\n",
       "</div>"
      ],
      "text/plain": [
       "  Country  Year     Status  Life expectancy   Adult Mortality  infant deaths  \\\n",
       "0  Poland  2014  Developed              77.3             12.0              2   \n",
       "\n",
       "   Alcohol  percentage expenditure  Hepatitis B  Measles   ...  Polio  \\\n",
       "0    10.71              243.808475         96.0         0  ...   94.0   \n",
       "\n",
       "   Total expenditure  Diphtheria    HIV/AIDS        GDP  Population  \\\n",
       "0               6.35         98.0        0.1  14341.675   3811735.0   \n",
       "\n",
       "    thinness  1-19 years   thinness 5-9 years  \\\n",
       "0                    1.9                  2.1   \n",
       "\n",
       "   Income composition of resources  Schooling  \n",
       "0                             0.85       16.4  \n",
       "\n",
       "[1 rows x 22 columns]"
      ]
     },
     "execution_count": 40,
     "metadata": {},
     "output_type": "execute_result"
    }
   ],
   "source": [
    "x_p = df.query(\"Country == 'Poland' and Year == 2014\").reset_index(drop=True)\n",
    "x_p"
   ]
  },
  {
   "cell_type": "markdown",
   "metadata": {},
   "source": [
    "And ask for prediction."
   ]
  },
  {
   "cell_type": "code",
   "execution_count": 42,
   "metadata": {},
   "outputs": [
    {
     "data": {
      "text/plain": [
       "array([78.55722584])"
      ]
     },
     "execution_count": 42,
     "metadata": {},
     "output_type": "execute_result"
    }
   ],
   "source": [
    "y_p1 = model.predict(x_p.drop(columns=['Country', 'Life expectancy ', 'Status']))\n",
    "y_p1"
   ]
  },
  {
   "cell_type": "markdown",
   "metadata": {},
   "source": [
    "Ok, so the model predicted life expectancy of 78.56 years.\n",
    "What would happen to models prediction if we magically percentage of people infected by HIV/AIDS by 5 percentage points."
   ]
  },
  {
   "cell_type": "code",
   "execution_count": 46,
   "metadata": {},
   "outputs": [],
   "source": [
    "x_p2 = x_p.copy()\n",
    "x_p2.loc[0, ' HIV/AIDS'] += 5"
   ]
  },
  {
   "cell_type": "code",
   "execution_count": 47,
   "metadata": {},
   "outputs": [
    {
     "data": {
      "text/plain": [
       "array([76.37202153])"
      ]
     },
     "execution_count": 47,
     "metadata": {},
     "output_type": "execute_result"
    }
   ],
   "source": [
    "y_p2 = model.predict(x_p2.drop(columns=['Country', 'Life expectancy ', 'Status']))\n",
    "y_p2"
   ]
  },
  {
   "cell_type": "markdown",
   "metadata": {},
   "source": [
    "Well, it dropped by over 2 years."
   ]
  },
  {
   "cell_type": "code",
   "execution_count": 48,
   "metadata": {},
   "outputs": [
    {
     "data": {
      "text/plain": [
       "array([-2.18520431])"
      ]
     },
     "execution_count": 48,
     "metadata": {},
     "output_type": "execute_result"
    }
   ],
   "source": [
    "y_p2 - y_p1"
   ]
  },
  {
   "cell_type": "markdown",
   "metadata": {},
   "source": [
    "Since we know it's a linear regression model we didn't have to make this prediction.\n",
    "Coefficients are all we need!"
   ]
  },
  {
   "cell_type": "code",
   "execution_count": 50,
   "metadata": {},
   "outputs": [
    {
     "data": {
      "text/plain": [
       "-2.185204309630287"
      ]
     },
     "execution_count": 50,
     "metadata": {},
     "output_type": "execute_result"
    }
   ],
   "source": [
    "5 * (s[' HIV/AIDS'])"
   ]
  },
  {
   "cell_type": "code",
   "execution_count": 51,
   "metadata": {},
   "outputs": [
    {
     "data": {
      "text/plain": [
       "array([76.37202153])"
      ]
     },
     "execution_count": 51,
     "metadata": {},
     "output_type": "execute_result"
    }
   ],
   "source": [
    "y_p1 + 5 * (s[' HIV/AIDS'])"
   ]
  },
  {
   "cell_type": "markdown",
   "metadata": {},
   "source": [
    "## Other machine learning algorithms\n",
    "\n",
    "The `scikit-learn` library is full of ML models that can be explored in [the documentation](https://scikit-learn.org/stable/).\n",
    "Bellow I show some other methods that could be use to model the Life expectancy."
   ]
  },
  {
   "cell_type": "code",
   "execution_count": 52,
   "metadata": {},
   "outputs": [],
   "source": [
    "from sklearn.svm import NuSVR\n",
    "from sklearn.tree import DecisionTreeRegressor"
   ]
  },
  {
   "cell_type": "code",
   "execution_count": 53,
   "metadata": {},
   "outputs": [
    {
     "name": "stdout",
     "output_type": "stream",
     "text": [
      "Model on one variable\n",
      "Model1 RMSE: 3.6765073404532327\n",
      "Model2 RMSE: 8.600016260194172\n",
      "Model3 RMSE: 2.753294306817122\n"
     ]
    }
   ],
   "source": [
    "\n",
    "model1 = LinearRegression()\n",
    "model1.fit(X_train, y_train)\n",
    "\n",
    "model2 = NuSVR()\n",
    "model2.fit(X_train, y_train)\n",
    "\n",
    "model3 = DecisionTreeRegressor()\n",
    "model3.fit(X_train, y_train)\n",
    "\n",
    "y_pred1 = model1.predict(X_test)\n",
    "y_pred2 = model2.predict(X_test)\n",
    "y_pred3 = model3.predict(X_test)\n",
    "\n",
    "print(\"Model on one variable\")\n",
    "print(f\"Model1 RMSE: {np.sqrt(mean_squared_error(y_test, y_pred1))}\")\n",
    "print(f\"Model2 RMSE: {np.sqrt(mean_squared_error(y_test, y_pred2))}\")\n",
    "print(f\"Model3 RMSE: {np.sqrt(mean_squared_error(y_test, y_pred3))}\")\n"
   ]
  },
  {
   "cell_type": "markdown",
   "metadata": {},
   "source": [
    "As we can see, some models might perform much better on much worse then the linear regression **in case of this problem**."
   ]
  }
 ],
 "metadata": {
  "interpreter": {
   "hash": "2b56681616f27f202e060e59de23dd05ac914dc6b3a6ae9be14abcccd2a677e8"
  },
  "kernelspec": {
   "display_name": "Python 3.10.4 ('daftacademy-ds')",
   "language": "python",
   "name": "python3"
  },
  "language_info": {
   "codemirror_mode": {
    "name": "ipython",
    "version": 3
   },
   "file_extension": ".py",
   "mimetype": "text/x-python",
   "name": "python",
   "nbconvert_exporter": "python",
   "pygments_lexer": "ipython3",
   "version": "3.10.4"
  },
  "orig_nbformat": 4
 },
 "nbformat": 4,
 "nbformat_minor": 2
}
